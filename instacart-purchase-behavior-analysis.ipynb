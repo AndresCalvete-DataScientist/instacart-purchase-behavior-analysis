{
 "cells": [
  {
   "cell_type": "markdown",
   "id": "3Xg_RQfnafXz",
   "metadata": {
    "id": "3Xg_RQfnafXz"
   },
   "source": [
    "# Análisis de comportamiento de compra en Instacart"
   ]
  },
  {
   "cell_type": "markdown",
   "id": "7e5a7e37",
   "metadata": {},
   "source": [
    "# Contenido <a id='back'></a>\n",
    "\n",
    "* [Introducción](#intro)\n",
    "* [Etapa 1. Descripción de los datos](#data_review)\n",
    "* [Etapa 2. Preprocesamiento de datos](#data_preprocess)\n",
    "    * [2.1 Corrección en el tipo de datos](#data_correct)\n",
    "        * [2.1.1. Corrección al dataframe df_instacart](#data_correct_insta)\n",
    "        * [2.1.2. Corrección al dataframe df_products](#data_correct_prod)\n",
    "    * [2.2 Valores ausentes](#data_missing)\n",
    "        * [2.2.1. Valores ausentes en df_instacart](#data_miss_insta)\n",
    "        * [2.2.2. Valores ausentes en df_products](#data_miss_prod)\n",
    "        * [2.2.3. Valores ausentes en df_orders](#data_miss_ord)\n",
    "    * [2.3 Valores duplicados](#data_dup)\n",
    "        * [2.3.1. Duplicados en df_instacart](#data_dup_insta)\n",
    "        * [2.3.2. Duplicados en df_products](#data_dup_prod)\n",
    "        * [2.3.3. Duplicados en df_departments](#data_dup_dep)\n",
    "        * [2.3.4. Duplicados en df_aisles](#data_dup_ais)\n",
    "        * [2.3.5. Duplicados en df_orders](#data_dup_ord)\n",
    "    * [2.4 Observaciones](#data_preprocessing_conclusions)\n",
    "* [Etapa 3. Análisis de los datos](#data_analysis)\n",
    "* [Conclusiones](#end)"
   ]
  },
  {
   "cell_type": "markdown",
   "id": "mhIvmmkW414q",
   "metadata": {
    "id": "mhIvmmkW414q"
   },
   "source": [
    "## Introducción <a id='intro'></a>\n",
    "\n",
    "Instacart es una plataforma de entregas de comestibles donde la clientela puede registrar un pedido y hacer que se lo entreguen, similar a Uber Eats y Door Dash.\n",
    "El conjunto de datos presentó modificaciones del original, ya que se introdujeron valores ausentes y duplicados por error del sistema.\n",
    "\n",
    "Hay cinco tablas en el conjunto de datos que se utilizarán para hacer el preprocesamiento de datos y el análisis exploratorio. A continuación se muestra un diccionario de datos que enumera las columnas de cada tabla y describe los datos que contiene."
   ]
  },
  {
   "cell_type": "markdown",
   "id": "3MbyzpOQZ5Or",
   "metadata": {
    "id": "3MbyzpOQZ5Or"
   },
   "source": [
    "## Diccionario de datos\n",
    "\n",
    "- `instacart_orders.csv`: cada fila corresponde a un pedido en la aplicación Instacart.\n",
    "    - `'order_id'`: número de ID que identifica de manera única cada pedido.\n",
    "    - `'user_id'`: número de ID que identifica de manera única la cuenta de cada cliente.\n",
    "    - `'order_number'`: el número de veces que este cliente ha hecho un pedido.\n",
    "    - `'order_dow'`: día de la semana en que se hizo el pedido (0 si es domingo).\n",
    "    - `'order_hour_of_day'`: hora del día en que se hizo el pedido.\n",
    "    - `'days_since_prior_order'`: número de días transcurridos desde que este cliente hizo su pedido anterior.\n",
    "- `products.csv`: cada fila corresponde a un producto único que pueden comprar los clientes.\n",
    "    - `'product_id'`: número ID que identifica de manera única cada producto.\n",
    "    - `'product_name'`: nombre del producto.\n",
    "    - `'aisle_id'`: número ID que identifica de manera única cada categoría de pasillo de víveres.\n",
    "    - `'department_id'`: número ID que identifica de manera única cada departamento de víveres.\n",
    "- `order_products.csv`: cada fila corresponde a un artículo pedido en un pedido.\n",
    "    - `'order_id'`: número de ID que identifica de manera única cada pedido.\n",
    "    - `'product_id'`: número ID que identifica de manera única cada producto.\n",
    "    - `'add_to_cart_order'`: el orden secuencial en el que se añadió cada artículo en el carrito.\n",
    "    - `'reordered'`: 0 si el cliente nunca ha pedido este producto antes, 1 si lo ha pedido.\n",
    "- `aisles.csv`\n",
    "    - `'aisle_id'`: número ID que identifica de manera única cada categoría de pasillo de víveres.\n",
    "    - `'aisle'`: nombre del pasillo.\n",
    "- `departments.csv`\n",
    "    - `'department_id'`: número ID que identifica de manera única cada departamento de víveres.\n",
    "    - `'department'`: nombre del departamento."
   ]
  },
  {
   "cell_type": "markdown",
   "id": "n3Ha_cNSZ8lK",
   "metadata": {
    "id": "n3Ha_cNSZ8lK"
   },
   "source": [
    "## Etapa 1. Descripción de los datos <a id='data_review'></a>"
   ]
  },
  {
   "cell_type": "markdown",
   "id": "OmlQPLlyaAfR",
   "metadata": {
    "id": "OmlQPLlyaAfR"
   },
   "source": [
    "Lo primero será importar `pandas` para poder leer los archivos CSV. Una vez leamos los archivos, revisaremos si la importación de los datos se realizó correctamente o si requerimos ajustes como cambiar el parámetro que detecta los separadores del CSV.\n",
    "\n",
    "Adicionalmente, importaremos `numpy` y `matplotlib.pyplot` para realizar operaciones matemáticas y graficar los resultados de nuestro análisis."
   ]
  },
  {
   "cell_type": "code",
   "execution_count": 1,
   "id": "fbf1adab",
   "metadata": {
    "id": "fbf1adab",
    "trusted": false
   },
   "outputs": [],
   "source": [
    "# importar librerías\n",
    "import pandas as pd\n",
    "import numpy as np\n",
    "import matplotlib.pyplot as plt"
   ]
  },
  {
   "cell_type": "code",
   "execution_count": 2,
   "id": "ad36396d",
   "metadata": {
    "id": "ad36396d",
    "trusted": false
   },
   "outputs": [],
   "source": [
    "# leer conjuntos de datos en los DataFrames\n",
    "df_instacart = pd.read_csv('/datasets/instacart_orders.csv')\n",
    "df_products = pd.read_csv('/datasets/products.csv')\n",
    "df_orders = pd.read_csv('/datasets/order_products.csv')\n",
    "df_aisles = pd.read_csv('/datasets/aisles.csv')\n",
    "df_departments = pd.read_csv('/datasets/departments.csv')"
   ]
  },
  {
   "cell_type": "code",
   "execution_count": 3,
   "id": "ad6a1efa",
   "metadata": {
    "id": "ad6a1efa",
    "trusted": false
   },
   "outputs": [
    {
     "name": "stdout",
     "output_type": "stream",
     "text": [
      "<class 'pandas.core.frame.DataFrame'>\n",
      "RangeIndex: 478967 entries, 0 to 478966\n",
      "Data columns (total 1 columns):\n",
      " #   Column                                                                            Non-Null Count   Dtype \n",
      "---  ------                                                                            --------------   ----- \n",
      " 0   order_id;user_id;order_number;order_dow;order_hour_of_day;days_since_prior_order  478967 non-null  object\n",
      "dtypes: object(1)\n",
      "memory usage: 3.7+ MB\n"
     ]
    }
   ],
   "source": [
    "# mostrar información del DataFrame df_instacart\n",
    "df_instacart.info(show_counts=True)"
   ]
  },
  {
   "cell_type": "code",
   "execution_count": 4,
   "id": "5130e05e",
   "metadata": {
    "id": "5130e05e",
    "trusted": false
   },
   "outputs": [
    {
     "name": "stdout",
     "output_type": "stream",
     "text": [
      "<class 'pandas.core.frame.DataFrame'>\n",
      "RangeIndex: 49694 entries, 0 to 49693\n",
      "Data columns (total 1 columns):\n",
      " #   Column                                          Non-Null Count  Dtype \n",
      "---  ------                                          --------------  ----- \n",
      " 0   product_id;product_name;aisle_id;department_id  49694 non-null  object\n",
      "dtypes: object(1)\n",
      "memory usage: 388.4+ KB\n"
     ]
    }
   ],
   "source": [
    "# mostrar información del DataFrame df_products\n",
    "df_products.info()"
   ]
  },
  {
   "cell_type": "code",
   "execution_count": 5,
   "id": "d8370c05",
   "metadata": {
    "id": "d8370c05",
    "trusted": false
   },
   "outputs": [
    {
     "name": "stdout",
     "output_type": "stream",
     "text": [
      "<class 'pandas.core.frame.DataFrame'>\n",
      "RangeIndex: 4545007 entries, 0 to 4545006\n",
      "Data columns (total 1 columns):\n",
      " #   Column                                           Non-Null Count    Dtype \n",
      "---  ------                                           --------------    ----- \n",
      " 0   order_id;product_id;add_to_cart_order;reordered  4545007 non-null  object\n",
      "dtypes: object(1)\n",
      "memory usage: 34.7+ MB\n"
     ]
    }
   ],
   "source": [
    "# mostrar información del DataFrame df_orders\n",
    "df_orders.info(show_counts=True) # Usamos show_counts en True para mostrar el conteo de datos no nulos."
   ]
  },
  {
   "cell_type": "code",
   "execution_count": 6,
   "id": "59e2090f",
   "metadata": {
    "id": "59e2090f",
    "trusted": false
   },
   "outputs": [
    {
     "name": "stdout",
     "output_type": "stream",
     "text": [
      "<class 'pandas.core.frame.DataFrame'>\n",
      "RangeIndex: 134 entries, 0 to 133\n",
      "Data columns (total 1 columns):\n",
      " #   Column          Non-Null Count  Dtype \n",
      "---  ------          --------------  ----- \n",
      " 0   aisle_id;aisle  134 non-null    object\n",
      "dtypes: object(1)\n",
      "memory usage: 1.2+ KB\n"
     ]
    }
   ],
   "source": [
    "# mostrar información del DataFrame df_aisles\n",
    "df_aisles.info()"
   ]
  },
  {
   "cell_type": "code",
   "execution_count": 7,
   "id": "6fc81694",
   "metadata": {
    "id": "6fc81694",
    "trusted": false
   },
   "outputs": [
    {
     "name": "stdout",
     "output_type": "stream",
     "text": [
      "<class 'pandas.core.frame.DataFrame'>\n",
      "RangeIndex: 21 entries, 0 to 20\n",
      "Data columns (total 1 columns):\n",
      " #   Column                    Non-Null Count  Dtype \n",
      "---  ------                    --------------  ----- \n",
      " 0   department_id;department  21 non-null     object\n",
      "dtypes: object(1)\n",
      "memory usage: 296.0+ bytes\n"
     ]
    }
   ],
   "source": [
    "# mostrar información del DataFrame df_departments\n",
    "df_departments.info()"
   ]
  },
  {
   "cell_type": "markdown",
   "id": "edda4651",
   "metadata": {},
   "source": [
    "Observando la información de cada dataframe notamos que los separadores que usan son el punto y coma (;) por tanto, reimportaremos usando dicho separador y volveremos a analizar la información."
   ]
  },
  {
   "cell_type": "code",
   "execution_count": 8,
   "id": "9c639898",
   "metadata": {
    "trusted": false
   },
   "outputs": [],
   "source": [
    "# volver a leer conjuntos de datos en los DataFrames con el separador correcto\n",
    "df_instacart = pd.read_csv('/datasets/instacart_orders.csv', sep=';')\n",
    "df_products = pd.read_csv('/datasets/products.csv', sep=';')\n",
    "df_orders = pd.read_csv('/datasets/order_products.csv', sep=';')\n",
    "df_aisles = pd.read_csv('/datasets/aisles.csv', sep=';')\n",
    "df_departments = pd.read_csv('/datasets/departments.csv', sep=';')"
   ]
  },
  {
   "cell_type": "code",
   "execution_count": 9,
   "id": "833614d9",
   "metadata": {
    "trusted": false
   },
   "outputs": [
    {
     "name": "stdout",
     "output_type": "stream",
     "text": [
      "<class 'pandas.core.frame.DataFrame'>\n",
      "RangeIndex: 478967 entries, 0 to 478966\n",
      "Data columns (total 6 columns):\n",
      " #   Column                  Non-Null Count   Dtype  \n",
      "---  ------                  --------------   -----  \n",
      " 0   order_id                478967 non-null  int64  \n",
      " 1   user_id                 478967 non-null  int64  \n",
      " 2   order_number            478967 non-null  int64  \n",
      " 3   order_dow               478967 non-null  int64  \n",
      " 4   order_hour_of_day       478967 non-null  int64  \n",
      " 5   days_since_prior_order  450148 non-null  float64\n",
      "dtypes: float64(1), int64(5)\n",
      "memory usage: 21.9 MB\n"
     ]
    }
   ],
   "source": [
    "# mostrar información del DataFrame df_instacart\n",
    "df_instacart.info()"
   ]
  },
  {
   "cell_type": "code",
   "execution_count": 10,
   "id": "bc2630e5",
   "metadata": {
    "trusted": false
   },
   "outputs": [
    {
     "data": {
      "text/html": [
       "<div>\n",
       "<style scoped>\n",
       "    .dataframe tbody tr th:only-of-type {\n",
       "        vertical-align: middle;\n",
       "    }\n",
       "\n",
       "    .dataframe tbody tr th {\n",
       "        vertical-align: top;\n",
       "    }\n",
       "\n",
       "    .dataframe thead th {\n",
       "        text-align: right;\n",
       "    }\n",
       "</style>\n",
       "<table border=\"1\" class=\"dataframe\">\n",
       "  <thead>\n",
       "    <tr style=\"text-align: right;\">\n",
       "      <th></th>\n",
       "      <th>order_id</th>\n",
       "      <th>user_id</th>\n",
       "      <th>order_number</th>\n",
       "      <th>order_dow</th>\n",
       "      <th>order_hour_of_day</th>\n",
       "      <th>days_since_prior_order</th>\n",
       "    </tr>\n",
       "  </thead>\n",
       "  <tbody>\n",
       "    <tr>\n",
       "      <th>0</th>\n",
       "      <td>1515936</td>\n",
       "      <td>183418</td>\n",
       "      <td>11</td>\n",
       "      <td>6</td>\n",
       "      <td>13</td>\n",
       "      <td>30.0</td>\n",
       "    </tr>\n",
       "    <tr>\n",
       "      <th>1</th>\n",
       "      <td>1690866</td>\n",
       "      <td>163593</td>\n",
       "      <td>5</td>\n",
       "      <td>5</td>\n",
       "      <td>12</td>\n",
       "      <td>9.0</td>\n",
       "    </tr>\n",
       "    <tr>\n",
       "      <th>2</th>\n",
       "      <td>1454967</td>\n",
       "      <td>39980</td>\n",
       "      <td>4</td>\n",
       "      <td>5</td>\n",
       "      <td>19</td>\n",
       "      <td>2.0</td>\n",
       "    </tr>\n",
       "    <tr>\n",
       "      <th>3</th>\n",
       "      <td>1768857</td>\n",
       "      <td>82516</td>\n",
       "      <td>56</td>\n",
       "      <td>0</td>\n",
       "      <td>20</td>\n",
       "      <td>10.0</td>\n",
       "    </tr>\n",
       "    <tr>\n",
       "      <th>4</th>\n",
       "      <td>3007858</td>\n",
       "      <td>196724</td>\n",
       "      <td>2</td>\n",
       "      <td>4</td>\n",
       "      <td>12</td>\n",
       "      <td>17.0</td>\n",
       "    </tr>\n",
       "  </tbody>\n",
       "</table>\n",
       "</div>"
      ],
      "text/plain": [
       "   order_id  user_id  order_number  order_dow  order_hour_of_day  \\\n",
       "0   1515936   183418            11          6                 13   \n",
       "1   1690866   163593             5          5                 12   \n",
       "2   1454967    39980             4          5                 19   \n",
       "3   1768857    82516            56          0                 20   \n",
       "4   3007858   196724             2          4                 12   \n",
       "\n",
       "   days_since_prior_order  \n",
       "0                    30.0  \n",
       "1                     9.0  \n",
       "2                     2.0  \n",
       "3                    10.0  \n",
       "4                    17.0  "
      ]
     },
     "execution_count": 10,
     "metadata": {},
     "output_type": "execute_result"
    }
   ],
   "source": [
    "# mostrar las primeras filas del dataframe df_instacart\n",
    "df_instacart.head()"
   ]
  },
  {
   "cell_type": "code",
   "execution_count": 11,
   "id": "04df68a1",
   "metadata": {
    "trusted": false
   },
   "outputs": [
    {
     "name": "stdout",
     "output_type": "stream",
     "text": [
      "<class 'pandas.core.frame.DataFrame'>\n",
      "RangeIndex: 49694 entries, 0 to 49693\n",
      "Data columns (total 4 columns):\n",
      " #   Column         Non-Null Count  Dtype \n",
      "---  ------         --------------  ----- \n",
      " 0   product_id     49694 non-null  int64 \n",
      " 1   product_name   48436 non-null  object\n",
      " 2   aisle_id       49694 non-null  int64 \n",
      " 3   department_id  49694 non-null  int64 \n",
      "dtypes: int64(3), object(1)\n",
      "memory usage: 1.5+ MB\n"
     ]
    }
   ],
   "source": [
    "# mostrar información del DataFrame df_products\n",
    "df_products.info()"
   ]
  },
  {
   "cell_type": "code",
   "execution_count": 12,
   "id": "33ead6ea",
   "metadata": {
    "trusted": false
   },
   "outputs": [
    {
     "data": {
      "text/html": [
       "<div>\n",
       "<style scoped>\n",
       "    .dataframe tbody tr th:only-of-type {\n",
       "        vertical-align: middle;\n",
       "    }\n",
       "\n",
       "    .dataframe tbody tr th {\n",
       "        vertical-align: top;\n",
       "    }\n",
       "\n",
       "    .dataframe thead th {\n",
       "        text-align: right;\n",
       "    }\n",
       "</style>\n",
       "<table border=\"1\" class=\"dataframe\">\n",
       "  <thead>\n",
       "    <tr style=\"text-align: right;\">\n",
       "      <th></th>\n",
       "      <th>product_id</th>\n",
       "      <th>product_name</th>\n",
       "      <th>aisle_id</th>\n",
       "      <th>department_id</th>\n",
       "    </tr>\n",
       "  </thead>\n",
       "  <tbody>\n",
       "    <tr>\n",
       "      <th>0</th>\n",
       "      <td>1</td>\n",
       "      <td>Chocolate Sandwich Cookies</td>\n",
       "      <td>61</td>\n",
       "      <td>19</td>\n",
       "    </tr>\n",
       "    <tr>\n",
       "      <th>1</th>\n",
       "      <td>2</td>\n",
       "      <td>All-Seasons Salt</td>\n",
       "      <td>104</td>\n",
       "      <td>13</td>\n",
       "    </tr>\n",
       "    <tr>\n",
       "      <th>2</th>\n",
       "      <td>3</td>\n",
       "      <td>Robust Golden Unsweetened Oolong Tea</td>\n",
       "      <td>94</td>\n",
       "      <td>7</td>\n",
       "    </tr>\n",
       "    <tr>\n",
       "      <th>3</th>\n",
       "      <td>4</td>\n",
       "      <td>Smart Ones Classic Favorites Mini Rigatoni Wit...</td>\n",
       "      <td>38</td>\n",
       "      <td>1</td>\n",
       "    </tr>\n",
       "    <tr>\n",
       "      <th>4</th>\n",
       "      <td>5</td>\n",
       "      <td>Green Chile Anytime Sauce</td>\n",
       "      <td>5</td>\n",
       "      <td>13</td>\n",
       "    </tr>\n",
       "  </tbody>\n",
       "</table>\n",
       "</div>"
      ],
      "text/plain": [
       "   product_id                                       product_name  aisle_id  \\\n",
       "0           1                         Chocolate Sandwich Cookies        61   \n",
       "1           2                                   All-Seasons Salt       104   \n",
       "2           3               Robust Golden Unsweetened Oolong Tea        94   \n",
       "3           4  Smart Ones Classic Favorites Mini Rigatoni Wit...        38   \n",
       "4           5                          Green Chile Anytime Sauce         5   \n",
       "\n",
       "   department_id  \n",
       "0             19  \n",
       "1             13  \n",
       "2              7  \n",
       "3              1  \n",
       "4             13  "
      ]
     },
     "execution_count": 12,
     "metadata": {},
     "output_type": "execute_result"
    }
   ],
   "source": [
    "# mostrar las primeras filas del dataframe df_products\n",
    "df_products.head()"
   ]
  },
  {
   "cell_type": "code",
   "execution_count": 13,
   "id": "2eda15d5",
   "metadata": {
    "trusted": false
   },
   "outputs": [
    {
     "name": "stdout",
     "output_type": "stream",
     "text": [
      "<class 'pandas.core.frame.DataFrame'>\n",
      "RangeIndex: 4545007 entries, 0 to 4545006\n",
      "Data columns (total 4 columns):\n",
      " #   Column             Non-Null Count    Dtype  \n",
      "---  ------             --------------    -----  \n",
      " 0   order_id           4545007 non-null  int64  \n",
      " 1   product_id         4545007 non-null  int64  \n",
      " 2   add_to_cart_order  4544171 non-null  float64\n",
      " 3   reordered          4545007 non-null  int64  \n",
      "dtypes: float64(1), int64(3)\n",
      "memory usage: 138.7 MB\n"
     ]
    }
   ],
   "source": [
    "# mostrar información del DataFrame df_orders\n",
    "df_orders.info(show_counts=True) # Usamos show_counts en True para mostrar el conteo de datos no nulos."
   ]
  },
  {
   "cell_type": "code",
   "execution_count": 14,
   "id": "57aa38ae",
   "metadata": {
    "trusted": false
   },
   "outputs": [
    {
     "data": {
      "text/html": [
       "<div>\n",
       "<style scoped>\n",
       "    .dataframe tbody tr th:only-of-type {\n",
       "        vertical-align: middle;\n",
       "    }\n",
       "\n",
       "    .dataframe tbody tr th {\n",
       "        vertical-align: top;\n",
       "    }\n",
       "\n",
       "    .dataframe thead th {\n",
       "        text-align: right;\n",
       "    }\n",
       "</style>\n",
       "<table border=\"1\" class=\"dataframe\">\n",
       "  <thead>\n",
       "    <tr style=\"text-align: right;\">\n",
       "      <th></th>\n",
       "      <th>order_id</th>\n",
       "      <th>product_id</th>\n",
       "      <th>add_to_cart_order</th>\n",
       "      <th>reordered</th>\n",
       "    </tr>\n",
       "  </thead>\n",
       "  <tbody>\n",
       "    <tr>\n",
       "      <th>0</th>\n",
       "      <td>2141543</td>\n",
       "      <td>11440</td>\n",
       "      <td>17.0</td>\n",
       "      <td>0</td>\n",
       "    </tr>\n",
       "    <tr>\n",
       "      <th>1</th>\n",
       "      <td>567889</td>\n",
       "      <td>1560</td>\n",
       "      <td>1.0</td>\n",
       "      <td>1</td>\n",
       "    </tr>\n",
       "    <tr>\n",
       "      <th>2</th>\n",
       "      <td>2261212</td>\n",
       "      <td>26683</td>\n",
       "      <td>1.0</td>\n",
       "      <td>1</td>\n",
       "    </tr>\n",
       "    <tr>\n",
       "      <th>3</th>\n",
       "      <td>491251</td>\n",
       "      <td>8670</td>\n",
       "      <td>35.0</td>\n",
       "      <td>1</td>\n",
       "    </tr>\n",
       "    <tr>\n",
       "      <th>4</th>\n",
       "      <td>2571142</td>\n",
       "      <td>1940</td>\n",
       "      <td>5.0</td>\n",
       "      <td>1</td>\n",
       "    </tr>\n",
       "  </tbody>\n",
       "</table>\n",
       "</div>"
      ],
      "text/plain": [
       "   order_id  product_id  add_to_cart_order  reordered\n",
       "0   2141543       11440               17.0          0\n",
       "1    567889        1560                1.0          1\n",
       "2   2261212       26683                1.0          1\n",
       "3    491251        8670               35.0          1\n",
       "4   2571142        1940                5.0          1"
      ]
     },
     "execution_count": 14,
     "metadata": {},
     "output_type": "execute_result"
    }
   ],
   "source": [
    "# mostrar las primeras filas del dataframe df_orders\n",
    "df_orders.head()"
   ]
  },
  {
   "cell_type": "code",
   "execution_count": 15,
   "id": "3566a95f",
   "metadata": {
    "trusted": false
   },
   "outputs": [
    {
     "name": "stdout",
     "output_type": "stream",
     "text": [
      "<class 'pandas.core.frame.DataFrame'>\n",
      "RangeIndex: 134 entries, 0 to 133\n",
      "Data columns (total 2 columns):\n",
      " #   Column    Non-Null Count  Dtype \n",
      "---  ------    --------------  ----- \n",
      " 0   aisle_id  134 non-null    int64 \n",
      " 1   aisle     134 non-null    object\n",
      "dtypes: int64(1), object(1)\n",
      "memory usage: 2.2+ KB\n"
     ]
    }
   ],
   "source": [
    "# mostrar información del DataFrame df_aisles\n",
    "df_aisles.info()"
   ]
  },
  {
   "cell_type": "code",
   "execution_count": 16,
   "id": "1ee4aed8",
   "metadata": {
    "trusted": false
   },
   "outputs": [
    {
     "data": {
      "text/html": [
       "<div>\n",
       "<style scoped>\n",
       "    .dataframe tbody tr th:only-of-type {\n",
       "        vertical-align: middle;\n",
       "    }\n",
       "\n",
       "    .dataframe tbody tr th {\n",
       "        vertical-align: top;\n",
       "    }\n",
       "\n",
       "    .dataframe thead th {\n",
       "        text-align: right;\n",
       "    }\n",
       "</style>\n",
       "<table border=\"1\" class=\"dataframe\">\n",
       "  <thead>\n",
       "    <tr style=\"text-align: right;\">\n",
       "      <th></th>\n",
       "      <th>aisle_id</th>\n",
       "      <th>aisle</th>\n",
       "    </tr>\n",
       "  </thead>\n",
       "  <tbody>\n",
       "    <tr>\n",
       "      <th>0</th>\n",
       "      <td>1</td>\n",
       "      <td>prepared soups salads</td>\n",
       "    </tr>\n",
       "    <tr>\n",
       "      <th>1</th>\n",
       "      <td>2</td>\n",
       "      <td>specialty cheeses</td>\n",
       "    </tr>\n",
       "    <tr>\n",
       "      <th>2</th>\n",
       "      <td>3</td>\n",
       "      <td>energy granola bars</td>\n",
       "    </tr>\n",
       "    <tr>\n",
       "      <th>3</th>\n",
       "      <td>4</td>\n",
       "      <td>instant foods</td>\n",
       "    </tr>\n",
       "    <tr>\n",
       "      <th>4</th>\n",
       "      <td>5</td>\n",
       "      <td>marinades meat preparation</td>\n",
       "    </tr>\n",
       "  </tbody>\n",
       "</table>\n",
       "</div>"
      ],
      "text/plain": [
       "   aisle_id                       aisle\n",
       "0         1       prepared soups salads\n",
       "1         2           specialty cheeses\n",
       "2         3         energy granola bars\n",
       "3         4               instant foods\n",
       "4         5  marinades meat preparation"
      ]
     },
     "execution_count": 16,
     "metadata": {},
     "output_type": "execute_result"
    }
   ],
   "source": [
    "# mostrar las primeras filas del dataframe df_aisles\n",
    "df_aisles.head()"
   ]
  },
  {
   "cell_type": "code",
   "execution_count": 17,
   "id": "1190a524",
   "metadata": {
    "trusted": false
   },
   "outputs": [
    {
     "name": "stdout",
     "output_type": "stream",
     "text": [
      "<class 'pandas.core.frame.DataFrame'>\n",
      "RangeIndex: 21 entries, 0 to 20\n",
      "Data columns (total 2 columns):\n",
      " #   Column         Non-Null Count  Dtype \n",
      "---  ------         --------------  ----- \n",
      " 0   department_id  21 non-null     int64 \n",
      " 1   department     21 non-null     object\n",
      "dtypes: int64(1), object(1)\n",
      "memory usage: 464.0+ bytes\n"
     ]
    }
   ],
   "source": [
    "# mostrar información del DataFrame df_departments\n",
    "df_departments.info()"
   ]
  },
  {
   "cell_type": "code",
   "execution_count": 18,
   "id": "570be8c2",
   "metadata": {
    "trusted": false
   },
   "outputs": [
    {
     "data": {
      "text/html": [
       "<div>\n",
       "<style scoped>\n",
       "    .dataframe tbody tr th:only-of-type {\n",
       "        vertical-align: middle;\n",
       "    }\n",
       "\n",
       "    .dataframe tbody tr th {\n",
       "        vertical-align: top;\n",
       "    }\n",
       "\n",
       "    .dataframe thead th {\n",
       "        text-align: right;\n",
       "    }\n",
       "</style>\n",
       "<table border=\"1\" class=\"dataframe\">\n",
       "  <thead>\n",
       "    <tr style=\"text-align: right;\">\n",
       "      <th></th>\n",
       "      <th>department_id</th>\n",
       "      <th>department</th>\n",
       "    </tr>\n",
       "  </thead>\n",
       "  <tbody>\n",
       "    <tr>\n",
       "      <th>0</th>\n",
       "      <td>1</td>\n",
       "      <td>frozen</td>\n",
       "    </tr>\n",
       "    <tr>\n",
       "      <th>1</th>\n",
       "      <td>2</td>\n",
       "      <td>other</td>\n",
       "    </tr>\n",
       "    <tr>\n",
       "      <th>2</th>\n",
       "      <td>3</td>\n",
       "      <td>bakery</td>\n",
       "    </tr>\n",
       "    <tr>\n",
       "      <th>3</th>\n",
       "      <td>4</td>\n",
       "      <td>produce</td>\n",
       "    </tr>\n",
       "    <tr>\n",
       "      <th>4</th>\n",
       "      <td>5</td>\n",
       "      <td>alcohol</td>\n",
       "    </tr>\n",
       "  </tbody>\n",
       "</table>\n",
       "</div>"
      ],
      "text/plain": [
       "   department_id department\n",
       "0              1     frozen\n",
       "1              2      other\n",
       "2              3     bakery\n",
       "3              4    produce\n",
       "4              5    alcohol"
      ]
     },
     "execution_count": 18,
     "metadata": {},
     "output_type": "execute_result"
    }
   ],
   "source": [
    "# mostrar las primeras filas del dataframe df_departments\n",
    "df_departments.head()"
   ]
  },
  {
   "cell_type": "markdown",
   "id": "t75BD19oaR5f",
   "metadata": {
    "id": "t75BD19oaR5f"
   },
   "source": [
    "Ahora podemos observar las primeras características de los datos, en donde concluimos que tendremos que hacer algunos pre procesos antes de iniciar los análisis:\n",
    "\n",
    "- Los dataframes 'df_instacart', 'df_products' y 'df_orders' tienen columnas con valores nulos que deberemos tratar.\n",
    "- Algunas columnas están manejando tipos de datos incorrectos, como es el caso de 'days_since_prior_order' en el dataframe 'df_instacart' y 'add_to_cart_order' en el dataframe 'df_orders'."
   ]
  },
  {
   "cell_type": "markdown",
   "id": "8RJHqxVmaVsF",
   "metadata": {
    "id": "8RJHqxVmaVsF"
   },
   "source": [
    "# Etapa 2. Preprocesamiento de los datos <a id='data_preprocess'></a>\n",
    "\n",
    "El preprocesamiento de los datos se aproximará de la siguiente manera:\n",
    "\n",
    "- Se verificará y corregirá los tipos de datos.\n",
    "- Se identificarán y completarán los valores ausentes.\n",
    "- Se identificarán y eliminarán los valores duplicados."
   ]
  },
  {
   "cell_type": "markdown",
   "id": "73559cbb",
   "metadata": {},
   "source": [
    "### 2.1. Corrección en el tipo de datos. <a id='data_correct'></a>"
   ]
  },
  {
   "cell_type": "markdown",
   "id": "43d44528",
   "metadata": {},
   "source": [
    "#### 2.1.1. Corrección al dataframe df_instacart. <a id='data_correct_insta'></a>"
   ]
  },
  {
   "cell_type": "markdown",
   "id": "f106f138",
   "metadata": {},
   "source": [
    "Iniciaremos corrigiendo 'days_since_prior_order' en el dataframe 'df_instacart' del tipo float al tipo int."
   ]
  },
  {
   "cell_type": "code",
   "execution_count": 19,
   "id": "6c8c216a",
   "metadata": {
    "scrolled": true,
    "trusted": false
   },
   "outputs": [
    {
     "data": {
      "text/plain": [
       "array([30.,  9.,  2., 10., 17., 15., 22.,  4.,  8.,  3., 12., 11.,  7.,\n",
       "        1.,  5.,  6., 14., nan, 20., 16., 24., 23., 27., 13.,  0., 28.,\n",
       "       21., 25., 19., 18., 29., 26.])"
      ]
     },
     "execution_count": 19,
     "metadata": {},
     "output_type": "execute_result"
    }
   ],
   "source": [
    "# Revisamos que no hallan valores inusuales o que varien al cambiar el tipo.\n",
    "df_instacart['days_since_prior_order'].unique()"
   ]
  },
  {
   "cell_type": "markdown",
   "id": "45ea0308",
   "metadata": {},
   "source": [
    "El único valor inusual es `nan` que nos muestra que hay valores ausentes; posteriormente trataremos con estos."
   ]
  },
  {
   "cell_type": "code",
   "execution_count": 20,
   "id": "60094fec",
   "metadata": {
    "trusted": false
   },
   "outputs": [
    {
     "data": {
      "text/html": [
       "<div>\n",
       "<style scoped>\n",
       "    .dataframe tbody tr th:only-of-type {\n",
       "        vertical-align: middle;\n",
       "    }\n",
       "\n",
       "    .dataframe tbody tr th {\n",
       "        vertical-align: top;\n",
       "    }\n",
       "\n",
       "    .dataframe thead th {\n",
       "        text-align: right;\n",
       "    }\n",
       "</style>\n",
       "<table border=\"1\" class=\"dataframe\">\n",
       "  <thead>\n",
       "    <tr style=\"text-align: right;\">\n",
       "      <th></th>\n",
       "      <th>order_id</th>\n",
       "      <th>user_id</th>\n",
       "      <th>order_number</th>\n",
       "      <th>order_dow</th>\n",
       "      <th>order_hour_of_day</th>\n",
       "      <th>days_since_prior_order</th>\n",
       "      <th>days_since_prior_order_new</th>\n",
       "    </tr>\n",
       "  </thead>\n",
       "  <tbody>\n",
       "    <tr>\n",
       "      <th>0</th>\n",
       "      <td>1515936</td>\n",
       "      <td>183418</td>\n",
       "      <td>11</td>\n",
       "      <td>6</td>\n",
       "      <td>13</td>\n",
       "      <td>30.0</td>\n",
       "      <td>30</td>\n",
       "    </tr>\n",
       "    <tr>\n",
       "      <th>1</th>\n",
       "      <td>1690866</td>\n",
       "      <td>163593</td>\n",
       "      <td>5</td>\n",
       "      <td>5</td>\n",
       "      <td>12</td>\n",
       "      <td>9.0</td>\n",
       "      <td>9</td>\n",
       "    </tr>\n",
       "    <tr>\n",
       "      <th>2</th>\n",
       "      <td>1454967</td>\n",
       "      <td>39980</td>\n",
       "      <td>4</td>\n",
       "      <td>5</td>\n",
       "      <td>19</td>\n",
       "      <td>2.0</td>\n",
       "      <td>2</td>\n",
       "    </tr>\n",
       "    <tr>\n",
       "      <th>3</th>\n",
       "      <td>1768857</td>\n",
       "      <td>82516</td>\n",
       "      <td>56</td>\n",
       "      <td>0</td>\n",
       "      <td>20</td>\n",
       "      <td>10.0</td>\n",
       "      <td>10</td>\n",
       "    </tr>\n",
       "    <tr>\n",
       "      <th>4</th>\n",
       "      <td>3007858</td>\n",
       "      <td>196724</td>\n",
       "      <td>2</td>\n",
       "      <td>4</td>\n",
       "      <td>12</td>\n",
       "      <td>17.0</td>\n",
       "      <td>17</td>\n",
       "    </tr>\n",
       "  </tbody>\n",
       "</table>\n",
       "</div>"
      ],
      "text/plain": [
       "   order_id  user_id  order_number  order_dow  order_hour_of_day  \\\n",
       "0   1515936   183418            11          6                 13   \n",
       "1   1690866   163593             5          5                 12   \n",
       "2   1454967    39980             4          5                 19   \n",
       "3   1768857    82516            56          0                 20   \n",
       "4   3007858   196724             2          4                 12   \n",
       "\n",
       "   days_since_prior_order  days_since_prior_order_new  \n",
       "0                    30.0                          30  \n",
       "1                     9.0                           9  \n",
       "2                     2.0                           2  \n",
       "3                    10.0                          10  \n",
       "4                    17.0                          17  "
      ]
     },
     "execution_count": 20,
     "metadata": {},
     "output_type": "execute_result"
    }
   ],
   "source": [
    "# Realizamos el cambio de tipo a 'Int64' sobre una nueva columna y revisamos que los valores sean coherentes.\n",
    "df_instacart['days_since_prior_order_new'] = df_instacart[\"days_since_prior_order\"].astype('Int64')\n",
    "df_instacart.head()"
   ]
  },
  {
   "cell_type": "markdown",
   "id": "9d3d4d42",
   "metadata": {},
   "source": [
    "Podemos ver en las primeras filas que el cambio de tipo se realizó; sin embargo, debemos asegurarnos de que ningún valor sea diferente al original. Para ello, compararemos los valores originales con los nuevos y traeremos con un filtro aquellos valores que sean diferentes."
   ]
  },
  {
   "cell_type": "code",
   "execution_count": 21,
   "id": "d4e76f64",
   "metadata": {
    "trusted": false
   },
   "outputs": [
    {
     "data": {
      "text/html": [
       "<div>\n",
       "<style scoped>\n",
       "    .dataframe tbody tr th:only-of-type {\n",
       "        vertical-align: middle;\n",
       "    }\n",
       "\n",
       "    .dataframe tbody tr th {\n",
       "        vertical-align: top;\n",
       "    }\n",
       "\n",
       "    .dataframe thead th {\n",
       "        text-align: right;\n",
       "    }\n",
       "</style>\n",
       "<table border=\"1\" class=\"dataframe\">\n",
       "  <thead>\n",
       "    <tr style=\"text-align: right;\">\n",
       "      <th></th>\n",
       "      <th>order_id</th>\n",
       "      <th>user_id</th>\n",
       "      <th>order_number</th>\n",
       "      <th>order_dow</th>\n",
       "      <th>order_hour_of_day</th>\n",
       "      <th>days_since_prior_order</th>\n",
       "      <th>days_since_prior_order_new</th>\n",
       "    </tr>\n",
       "  </thead>\n",
       "  <tbody>\n",
       "  </tbody>\n",
       "</table>\n",
       "</div>"
      ],
      "text/plain": [
       "Empty DataFrame\n",
       "Columns: [order_id, user_id, order_number, order_dow, order_hour_of_day, days_since_prior_order, days_since_prior_order_new]\n",
       "Index: []"
      ]
     },
     "execution_count": 21,
     "metadata": {},
     "output_type": "execute_result"
    }
   ],
   "source": [
    "# Nos aseguramos que ningun valor en el cambio de tipo halla sido afectado o sea diferente al original.\n",
    "df_instacart[df_instacart['days_since_prior_order_new'] != df_instacart['days_since_prior_order']]"
   ]
  },
  {
   "cell_type": "markdown",
   "id": "dd11f46f",
   "metadata": {},
   "source": [
    "Al tener como resultado un dataframe vacío, nos hemos asegurado de que los valores no han sufrido ningún cambio; ahora reemplazaremos los valores antiguos por los nuevos y nos desharemos de la columna que creamos."
   ]
  },
  {
   "cell_type": "code",
   "execution_count": 22,
   "id": "8b5b04a3",
   "metadata": {
    "trusted": false
   },
   "outputs": [
    {
     "data": {
      "text/html": [
       "<div>\n",
       "<style scoped>\n",
       "    .dataframe tbody tr th:only-of-type {\n",
       "        vertical-align: middle;\n",
       "    }\n",
       "\n",
       "    .dataframe tbody tr th {\n",
       "        vertical-align: top;\n",
       "    }\n",
       "\n",
       "    .dataframe thead th {\n",
       "        text-align: right;\n",
       "    }\n",
       "</style>\n",
       "<table border=\"1\" class=\"dataframe\">\n",
       "  <thead>\n",
       "    <tr style=\"text-align: right;\">\n",
       "      <th></th>\n",
       "      <th>order_id</th>\n",
       "      <th>user_id</th>\n",
       "      <th>order_number</th>\n",
       "      <th>order_dow</th>\n",
       "      <th>order_hour_of_day</th>\n",
       "      <th>days_since_prior_order</th>\n",
       "    </tr>\n",
       "  </thead>\n",
       "  <tbody>\n",
       "    <tr>\n",
       "      <th>0</th>\n",
       "      <td>1515936</td>\n",
       "      <td>183418</td>\n",
       "      <td>11</td>\n",
       "      <td>6</td>\n",
       "      <td>13</td>\n",
       "      <td>30</td>\n",
       "    </tr>\n",
       "    <tr>\n",
       "      <th>1</th>\n",
       "      <td>1690866</td>\n",
       "      <td>163593</td>\n",
       "      <td>5</td>\n",
       "      <td>5</td>\n",
       "      <td>12</td>\n",
       "      <td>9</td>\n",
       "    </tr>\n",
       "    <tr>\n",
       "      <th>2</th>\n",
       "      <td>1454967</td>\n",
       "      <td>39980</td>\n",
       "      <td>4</td>\n",
       "      <td>5</td>\n",
       "      <td>19</td>\n",
       "      <td>2</td>\n",
       "    </tr>\n",
       "    <tr>\n",
       "      <th>3</th>\n",
       "      <td>1768857</td>\n",
       "      <td>82516</td>\n",
       "      <td>56</td>\n",
       "      <td>0</td>\n",
       "      <td>20</td>\n",
       "      <td>10</td>\n",
       "    </tr>\n",
       "    <tr>\n",
       "      <th>4</th>\n",
       "      <td>3007858</td>\n",
       "      <td>196724</td>\n",
       "      <td>2</td>\n",
       "      <td>4</td>\n",
       "      <td>12</td>\n",
       "      <td>17</td>\n",
       "    </tr>\n",
       "  </tbody>\n",
       "</table>\n",
       "</div>"
      ],
      "text/plain": [
       "   order_id  user_id  order_number  order_dow  order_hour_of_day  \\\n",
       "0   1515936   183418            11          6                 13   \n",
       "1   1690866   163593             5          5                 12   \n",
       "2   1454967    39980             4          5                 19   \n",
       "3   1768857    82516            56          0                 20   \n",
       "4   3007858   196724             2          4                 12   \n",
       "\n",
       "   days_since_prior_order  \n",
       "0                      30  \n",
       "1                       9  \n",
       "2                       2  \n",
       "3                      10  \n",
       "4                      17  "
      ]
     },
     "execution_count": 22,
     "metadata": {},
     "output_type": "execute_result"
    }
   ],
   "source": [
    "# Hacemos la reasignación de valores con el tipo de datos correcto y eliminamos la columna 'days_since_prior_order_new'.\n",
    "df_instacart['days_since_prior_order'] = df_instacart['days_since_prior_order_new']\n",
    "df_instacart.drop(labels='days_since_prior_order_new' , axis=1, inplace=True)\n",
    "df_instacart.head()"
   ]
  },
  {
   "cell_type": "code",
   "execution_count": 23,
   "id": "58bb0dec",
   "metadata": {
    "trusted": false
   },
   "outputs": [
    {
     "data": {
      "text/plain": [
       "Int64Dtype()"
      ]
     },
     "execution_count": 23,
     "metadata": {},
     "output_type": "execute_result"
    }
   ],
   "source": [
    "# Confirmamos que el nuevo tipo de la columna es int.\n",
    "df_instacart['days_since_prior_order'].dtype"
   ]
  },
  {
   "cell_type": "markdown",
   "id": "caefb67e",
   "metadata": {},
   "source": [
    "#### 2.1.2. Correción al dataframe df_orders. <a id='data_correct_prod'></a>"
   ]
  },
  {
   "cell_type": "markdown",
   "id": "7e2194f0",
   "metadata": {},
   "source": [
    "Vamos a recorrer los mismos pasos del numeral anterior, ya que la conversión también se trata de un tipo float a int con presencia de valores ausentes, como observamos en la lectura de los datos. Recordemos que la columna que trataremos es 'add_to_cart_order'."
   ]
  },
  {
   "cell_type": "code",
   "execution_count": 24,
   "id": "b4bc2b94",
   "metadata": {
    "scrolled": true,
    "trusted": false
   },
   "outputs": [
    {
     "data": {
      "text/plain": [
       "array([17.,  1., 35.,  5.,  4., 10., 14.,  2., 28.,  3., 16.,  8.,  7.,\n",
       "        6.,  9., 15., 22., 49., 19., 13., 11., 12., 18., 24., 23., 45.,\n",
       "       30., 31., 29., 21., 38., 20., 57., 58., 26., 25., 39., 34., 40.,\n",
       "       27., nan, 43., 33., 42., 50., 32., 36., 37., 61., 46., 56., 41.,\n",
       "       44., 55., 54., 47., 63., 48., 60., 62., 53., 59., 52., 51., 64.])"
      ]
     },
     "execution_count": 24,
     "metadata": {},
     "output_type": "execute_result"
    }
   ],
   "source": [
    "# Revisamos que no hallan valores inusuales o que varien al cambiar el tipo.\n",
    "df_orders['add_to_cart_order'].unique()"
   ]
  },
  {
   "cell_type": "code",
   "execution_count": 25,
   "id": "a201ad5b",
   "metadata": {
    "trusted": false
   },
   "outputs": [
    {
     "data": {
      "text/html": [
       "<div>\n",
       "<style scoped>\n",
       "    .dataframe tbody tr th:only-of-type {\n",
       "        vertical-align: middle;\n",
       "    }\n",
       "\n",
       "    .dataframe tbody tr th {\n",
       "        vertical-align: top;\n",
       "    }\n",
       "\n",
       "    .dataframe thead th {\n",
       "        text-align: right;\n",
       "    }\n",
       "</style>\n",
       "<table border=\"1\" class=\"dataframe\">\n",
       "  <thead>\n",
       "    <tr style=\"text-align: right;\">\n",
       "      <th></th>\n",
       "      <th>order_id</th>\n",
       "      <th>product_id</th>\n",
       "      <th>add_to_cart_order</th>\n",
       "      <th>reordered</th>\n",
       "      <th>add_to_cart_order_new</th>\n",
       "    </tr>\n",
       "  </thead>\n",
       "  <tbody>\n",
       "    <tr>\n",
       "      <th>0</th>\n",
       "      <td>2141543</td>\n",
       "      <td>11440</td>\n",
       "      <td>17.0</td>\n",
       "      <td>0</td>\n",
       "      <td>17</td>\n",
       "    </tr>\n",
       "    <tr>\n",
       "      <th>1</th>\n",
       "      <td>567889</td>\n",
       "      <td>1560</td>\n",
       "      <td>1.0</td>\n",
       "      <td>1</td>\n",
       "      <td>1</td>\n",
       "    </tr>\n",
       "    <tr>\n",
       "      <th>2</th>\n",
       "      <td>2261212</td>\n",
       "      <td>26683</td>\n",
       "      <td>1.0</td>\n",
       "      <td>1</td>\n",
       "      <td>1</td>\n",
       "    </tr>\n",
       "    <tr>\n",
       "      <th>3</th>\n",
       "      <td>491251</td>\n",
       "      <td>8670</td>\n",
       "      <td>35.0</td>\n",
       "      <td>1</td>\n",
       "      <td>35</td>\n",
       "    </tr>\n",
       "    <tr>\n",
       "      <th>4</th>\n",
       "      <td>2571142</td>\n",
       "      <td>1940</td>\n",
       "      <td>5.0</td>\n",
       "      <td>1</td>\n",
       "      <td>5</td>\n",
       "    </tr>\n",
       "  </tbody>\n",
       "</table>\n",
       "</div>"
      ],
      "text/plain": [
       "   order_id  product_id  add_to_cart_order  reordered  add_to_cart_order_new\n",
       "0   2141543       11440               17.0          0                     17\n",
       "1    567889        1560                1.0          1                      1\n",
       "2   2261212       26683                1.0          1                      1\n",
       "3    491251        8670               35.0          1                     35\n",
       "4   2571142        1940                5.0          1                      5"
      ]
     },
     "execution_count": 25,
     "metadata": {},
     "output_type": "execute_result"
    }
   ],
   "source": [
    "# Realizamos el cambio de tipo a 'Int64' sobre una nueva columna y revisamos que los valores sean coherentes.\n",
    "df_orders['add_to_cart_order_new'] = df_orders['add_to_cart_order'].astype('Int64')\n",
    "df_orders.head()"
   ]
  },
  {
   "cell_type": "code",
   "execution_count": 26,
   "id": "a7a14c6d",
   "metadata": {
    "trusted": false
   },
   "outputs": [
    {
     "data": {
      "text/html": [
       "<div>\n",
       "<style scoped>\n",
       "    .dataframe tbody tr th:only-of-type {\n",
       "        vertical-align: middle;\n",
       "    }\n",
       "\n",
       "    .dataframe tbody tr th {\n",
       "        vertical-align: top;\n",
       "    }\n",
       "\n",
       "    .dataframe thead th {\n",
       "        text-align: right;\n",
       "    }\n",
       "</style>\n",
       "<table border=\"1\" class=\"dataframe\">\n",
       "  <thead>\n",
       "    <tr style=\"text-align: right;\">\n",
       "      <th></th>\n",
       "      <th>order_id</th>\n",
       "      <th>product_id</th>\n",
       "      <th>add_to_cart_order</th>\n",
       "      <th>reordered</th>\n",
       "      <th>add_to_cart_order_new</th>\n",
       "    </tr>\n",
       "  </thead>\n",
       "  <tbody>\n",
       "  </tbody>\n",
       "</table>\n",
       "</div>"
      ],
      "text/plain": [
       "Empty DataFrame\n",
       "Columns: [order_id, product_id, add_to_cart_order, reordered, add_to_cart_order_new]\n",
       "Index: []"
      ]
     },
     "execution_count": 26,
     "metadata": {},
     "output_type": "execute_result"
    }
   ],
   "source": [
    "# Nos aseguramos que ningun valor en el cambio de tipo halla sido afectado o sea diferente al original.\n",
    "df_orders[df_orders['add_to_cart_order_new'] != df_orders['add_to_cart_order']]"
   ]
  },
  {
   "cell_type": "code",
   "execution_count": 27,
   "id": "17789d41",
   "metadata": {
    "trusted": false
   },
   "outputs": [
    {
     "data": {
      "text/html": [
       "<div>\n",
       "<style scoped>\n",
       "    .dataframe tbody tr th:only-of-type {\n",
       "        vertical-align: middle;\n",
       "    }\n",
       "\n",
       "    .dataframe tbody tr th {\n",
       "        vertical-align: top;\n",
       "    }\n",
       "\n",
       "    .dataframe thead th {\n",
       "        text-align: right;\n",
       "    }\n",
       "</style>\n",
       "<table border=\"1\" class=\"dataframe\">\n",
       "  <thead>\n",
       "    <tr style=\"text-align: right;\">\n",
       "      <th></th>\n",
       "      <th>order_id</th>\n",
       "      <th>product_id</th>\n",
       "      <th>add_to_cart_order</th>\n",
       "      <th>reordered</th>\n",
       "    </tr>\n",
       "  </thead>\n",
       "  <tbody>\n",
       "    <tr>\n",
       "      <th>0</th>\n",
       "      <td>2141543</td>\n",
       "      <td>11440</td>\n",
       "      <td>17</td>\n",
       "      <td>0</td>\n",
       "    </tr>\n",
       "    <tr>\n",
       "      <th>1</th>\n",
       "      <td>567889</td>\n",
       "      <td>1560</td>\n",
       "      <td>1</td>\n",
       "      <td>1</td>\n",
       "    </tr>\n",
       "    <tr>\n",
       "      <th>2</th>\n",
       "      <td>2261212</td>\n",
       "      <td>26683</td>\n",
       "      <td>1</td>\n",
       "      <td>1</td>\n",
       "    </tr>\n",
       "    <tr>\n",
       "      <th>3</th>\n",
       "      <td>491251</td>\n",
       "      <td>8670</td>\n",
       "      <td>35</td>\n",
       "      <td>1</td>\n",
       "    </tr>\n",
       "    <tr>\n",
       "      <th>4</th>\n",
       "      <td>2571142</td>\n",
       "      <td>1940</td>\n",
       "      <td>5</td>\n",
       "      <td>1</td>\n",
       "    </tr>\n",
       "  </tbody>\n",
       "</table>\n",
       "</div>"
      ],
      "text/plain": [
       "   order_id  product_id  add_to_cart_order  reordered\n",
       "0   2141543       11440                 17          0\n",
       "1    567889        1560                  1          1\n",
       "2   2261212       26683                  1          1\n",
       "3    491251        8670                 35          1\n",
       "4   2571142        1940                  5          1"
      ]
     },
     "execution_count": 27,
     "metadata": {},
     "output_type": "execute_result"
    }
   ],
   "source": [
    "# Hacemos la reasignación de valores con el tipo de datos correcto y eliminamos la columna 'add_to_cart_order_new'.\n",
    "df_orders['add_to_cart_order'] = df_orders['add_to_cart_order_new']\n",
    "df_orders.drop(labels='add_to_cart_order_new' , axis=1, inplace=True)\n",
    "df_orders.head()"
   ]
  },
  {
   "cell_type": "code",
   "execution_count": 28,
   "id": "8668e4f8",
   "metadata": {
    "trusted": false
   },
   "outputs": [
    {
     "data": {
      "text/plain": [
       "Int64Dtype()"
      ]
     },
     "execution_count": 28,
     "metadata": {},
     "output_type": "execute_result"
    }
   ],
   "source": [
    "# Confirmamos que el nuevo tipo de la columna es int.\n",
    "df_orders['add_to_cart_order'].dtype"
   ]
  },
  {
   "cell_type": "markdown",
   "id": "5032a031",
   "metadata": {},
   "source": [
    "### 2.2. Valores ausentes. <a id='data_missing'></a>"
   ]
  },
  {
   "cell_type": "markdown",
   "id": "acdf65f8",
   "metadata": {},
   "source": [
    "#### 2.2.1. Valores ausentes en df_instacart. <a id='data_miss_insta'></a>"
   ]
  },
  {
   "cell_type": "markdown",
   "id": "006b8fb1",
   "metadata": {},
   "source": [
    "El dataframe 'df_instacart' tiene una columna con valores ausentes (days_since_prior_order); echemos un vistazo más profundo a dicha columna:"
   ]
  },
  {
   "cell_type": "code",
   "execution_count": 29,
   "id": "a4fd8f2c",
   "metadata": {
    "trusted": false
   },
   "outputs": [
    {
     "data": {
      "text/plain": [
       "count    450148.000000\n",
       "mean         11.101751\n",
       "std           9.189975\n",
       "min           0.000000\n",
       "25%           4.000000\n",
       "50%           7.000000\n",
       "75%          15.000000\n",
       "max          30.000000\n",
       "Name: days_since_prior_order, dtype: float64"
      ]
     },
     "execution_count": 29,
     "metadata": {},
     "output_type": "execute_result"
    }
   ],
   "source": [
    "# Observamos los valores descriptivos de la columna para obtener más información.\n",
    "df_instacart['days_since_prior_order'].describe()"
   ]
  },
  {
   "cell_type": "markdown",
   "id": "ae093045",
   "metadata": {},
   "source": [
    "Parece que cuenta con información coherente, como por ejemplo su valor mínimo, que es 0, implicando que no han pasado días entre el último pedido del cliente y también hay un máximo de 30 días para esta columna. Exploremos los valores ausentes en el dataframe:"
   ]
  },
  {
   "cell_type": "code",
   "execution_count": 30,
   "id": "106118f2",
   "metadata": {
    "scrolled": false,
    "trusted": false
   },
   "outputs": [
    {
     "data": {
      "text/html": [
       "<div>\n",
       "<style scoped>\n",
       "    .dataframe tbody tr th:only-of-type {\n",
       "        vertical-align: middle;\n",
       "    }\n",
       "\n",
       "    .dataframe tbody tr th {\n",
       "        vertical-align: top;\n",
       "    }\n",
       "\n",
       "    .dataframe thead th {\n",
       "        text-align: right;\n",
       "    }\n",
       "</style>\n",
       "<table border=\"1\" class=\"dataframe\">\n",
       "  <thead>\n",
       "    <tr style=\"text-align: right;\">\n",
       "      <th></th>\n",
       "      <th>order_id</th>\n",
       "      <th>user_id</th>\n",
       "      <th>order_number</th>\n",
       "      <th>order_dow</th>\n",
       "      <th>order_hour_of_day</th>\n",
       "      <th>days_since_prior_order</th>\n",
       "    </tr>\n",
       "  </thead>\n",
       "  <tbody>\n",
       "    <tr>\n",
       "      <th>28</th>\n",
       "      <td>133707</td>\n",
       "      <td>182261</td>\n",
       "      <td>1</td>\n",
       "      <td>3</td>\n",
       "      <td>10</td>\n",
       "      <td>&lt;NA&gt;</td>\n",
       "    </tr>\n",
       "    <tr>\n",
       "      <th>96</th>\n",
       "      <td>787445</td>\n",
       "      <td>25685</td>\n",
       "      <td>1</td>\n",
       "      <td>6</td>\n",
       "      <td>18</td>\n",
       "      <td>&lt;NA&gt;</td>\n",
       "    </tr>\n",
       "    <tr>\n",
       "      <th>100</th>\n",
       "      <td>294410</td>\n",
       "      <td>111449</td>\n",
       "      <td>1</td>\n",
       "      <td>0</td>\n",
       "      <td>19</td>\n",
       "      <td>&lt;NA&gt;</td>\n",
       "    </tr>\n",
       "    <tr>\n",
       "      <th>103</th>\n",
       "      <td>2869915</td>\n",
       "      <td>123958</td>\n",
       "      <td>1</td>\n",
       "      <td>4</td>\n",
       "      <td>16</td>\n",
       "      <td>&lt;NA&gt;</td>\n",
       "    </tr>\n",
       "    <tr>\n",
       "      <th>104</th>\n",
       "      <td>2521921</td>\n",
       "      <td>42286</td>\n",
       "      <td>1</td>\n",
       "      <td>3</td>\n",
       "      <td>18</td>\n",
       "      <td>&lt;NA&gt;</td>\n",
       "    </tr>\n",
       "    <tr>\n",
       "      <th>...</th>\n",
       "      <td>...</td>\n",
       "      <td>...</td>\n",
       "      <td>...</td>\n",
       "      <td>...</td>\n",
       "      <td>...</td>\n",
       "      <td>...</td>\n",
       "    </tr>\n",
       "    <tr>\n",
       "      <th>478895</th>\n",
       "      <td>2589657</td>\n",
       "      <td>205028</td>\n",
       "      <td>1</td>\n",
       "      <td>0</td>\n",
       "      <td>16</td>\n",
       "      <td>&lt;NA&gt;</td>\n",
       "    </tr>\n",
       "    <tr>\n",
       "      <th>478896</th>\n",
       "      <td>2222353</td>\n",
       "      <td>141211</td>\n",
       "      <td>1</td>\n",
       "      <td>2</td>\n",
       "      <td>13</td>\n",
       "      <td>&lt;NA&gt;</td>\n",
       "    </tr>\n",
       "    <tr>\n",
       "      <th>478922</th>\n",
       "      <td>2272807</td>\n",
       "      <td>204154</td>\n",
       "      <td>1</td>\n",
       "      <td>1</td>\n",
       "      <td>15</td>\n",
       "      <td>&lt;NA&gt;</td>\n",
       "    </tr>\n",
       "    <tr>\n",
       "      <th>478926</th>\n",
       "      <td>2499542</td>\n",
       "      <td>68810</td>\n",
       "      <td>1</td>\n",
       "      <td>4</td>\n",
       "      <td>19</td>\n",
       "      <td>&lt;NA&gt;</td>\n",
       "    </tr>\n",
       "    <tr>\n",
       "      <th>478945</th>\n",
       "      <td>1387033</td>\n",
       "      <td>22496</td>\n",
       "      <td>1</td>\n",
       "      <td>5</td>\n",
       "      <td>14</td>\n",
       "      <td>&lt;NA&gt;</td>\n",
       "    </tr>\n",
       "  </tbody>\n",
       "</table>\n",
       "<p>28819 rows × 6 columns</p>\n",
       "</div>"
      ],
      "text/plain": [
       "        order_id  user_id  order_number  order_dow  order_hour_of_day  \\\n",
       "28        133707   182261             1          3                 10   \n",
       "96        787445    25685             1          6                 18   \n",
       "100       294410   111449             1          0                 19   \n",
       "103      2869915   123958             1          4                 16   \n",
       "104      2521921    42286             1          3                 18   \n",
       "...          ...      ...           ...        ...                ...   \n",
       "478895   2589657   205028             1          0                 16   \n",
       "478896   2222353   141211             1          2                 13   \n",
       "478922   2272807   204154             1          1                 15   \n",
       "478926   2499542    68810             1          4                 19   \n",
       "478945   1387033    22496             1          5                 14   \n",
       "\n",
       "        days_since_prior_order  \n",
       "28                        <NA>  \n",
       "96                        <NA>  \n",
       "100                       <NA>  \n",
       "103                       <NA>  \n",
       "104                       <NA>  \n",
       "...                        ...  \n",
       "478895                    <NA>  \n",
       "478896                    <NA>  \n",
       "478922                    <NA>  \n",
       "478926                    <NA>  \n",
       "478945                    <NA>  \n",
       "\n",
       "[28819 rows x 6 columns]"
      ]
     },
     "execution_count": 30,
     "metadata": {},
     "output_type": "execute_result"
    }
   ],
   "source": [
    "# Filtramos unicamente las filas con valores ausentes de este dataframe.\n",
    "df_instacart_nulls = df_instacart[df_instacart['days_since_prior_order'].isna()]\n",
    "df_instacart_nulls"
   ]
  },
  {
   "cell_type": "markdown",
   "id": "4dcf41ac",
   "metadata": {},
   "source": [
    "Parece ser que a simple vista podemos detectar un patrón en la columna 'order_number' de todas las filas con valores nulos y es que se trata de las primeras órdenes de cada cliente. Es muy probable que esa sea la razón de que la columna 'days_since_prior_order' tenga valores nulos. Confirmemos la hipótesis mirando todos los valores de 'order_number' en el dataframe de valores nulos."
   ]
  },
  {
   "cell_type": "code",
   "execution_count": 31,
   "id": "762b7012",
   "metadata": {
    "trusted": false
   },
   "outputs": [
    {
     "data": {
      "text/plain": [
       "array([1])"
      ]
     },
     "execution_count": 31,
     "metadata": {},
     "output_type": "execute_result"
    }
   ],
   "source": [
    "# Revisamos cuantos valores existen en 'order_number' para el dataframe de valores nulos.\n",
    "df_instacart_nulls['order_number'].unique()"
   ]
  },
  {
   "cell_type": "markdown",
   "id": "4cba72ec",
   "metadata": {},
   "source": [
    "¡Hemos confirmado nuestra hipótesis!\n",
    "\n",
    "Esto significa que lo mejor es dejar estos datos como nulos, ya que si los reemplazamos por 0, podríamos brindar información incorrecta debido a que hay un significado para valores 0 en esta columna (pedidos realizados el mismo día que el pedido anterior). Además, si reemplazamos por 0 este valor, también podríamos afectar los valores de tendencia central y otras estadísticas con información incorrecta.\n",
    "\n",
    "Al mantener los valores nulos hemos realizado una gestión de los mismos."
   ]
  },
  {
   "cell_type": "markdown",
   "id": "1beb7bb3",
   "metadata": {},
   "source": [
    "#### 2.2.2. Valores ausentes en df_products. <a id='data_miss_prod'></a>"
   ]
  },
  {
   "cell_type": "markdown",
   "id": "3b34a5d4",
   "metadata": {},
   "source": [
    "El dataframe 'df_products' tiene una columna con valores ausentes (product_name); echemos un vistazo más profundo a dicha columna:"
   ]
  },
  {
   "cell_type": "code",
   "execution_count": 32,
   "id": "96ce0c24",
   "metadata": {
    "trusted": false
   },
   "outputs": [
    {
     "data": {
      "text/plain": [
       "count                                        48436\n",
       "unique                                       48436\n",
       "top       Smart Start Original Antioxidants Cereal\n",
       "freq                                             1\n",
       "Name: product_name, dtype: object"
      ]
     },
     "execution_count": 32,
     "metadata": {},
     "output_type": "execute_result"
    }
   ],
   "source": [
    "# Observamos los valores descriptivos de la columna para obtener más información.\n",
    "df_products['product_name'].describe()"
   ]
  },
  {
   "cell_type": "markdown",
   "id": "7f7ee2a5",
   "metadata": {},
   "source": [
    "Por ahora no hay información relevante que nos dé pista alguna de los valores nulos. Veamos si en un dataframe solo de los valores nulos podemos observar algún patrón."
   ]
  },
  {
   "cell_type": "code",
   "execution_count": 33,
   "id": "fb94716f",
   "metadata": {
    "scrolled": false,
    "trusted": false
   },
   "outputs": [
    {
     "data": {
      "text/html": [
       "<div>\n",
       "<style scoped>\n",
       "    .dataframe tbody tr th:only-of-type {\n",
       "        vertical-align: middle;\n",
       "    }\n",
       "\n",
       "    .dataframe tbody tr th {\n",
       "        vertical-align: top;\n",
       "    }\n",
       "\n",
       "    .dataframe thead th {\n",
       "        text-align: right;\n",
       "    }\n",
       "</style>\n",
       "<table border=\"1\" class=\"dataframe\">\n",
       "  <thead>\n",
       "    <tr style=\"text-align: right;\">\n",
       "      <th></th>\n",
       "      <th>product_id</th>\n",
       "      <th>product_name</th>\n",
       "      <th>aisle_id</th>\n",
       "      <th>department_id</th>\n",
       "    </tr>\n",
       "  </thead>\n",
       "  <tbody>\n",
       "    <tr>\n",
       "      <th>37</th>\n",
       "      <td>38</td>\n",
       "      <td>NaN</td>\n",
       "      <td>100</td>\n",
       "      <td>21</td>\n",
       "    </tr>\n",
       "    <tr>\n",
       "      <th>71</th>\n",
       "      <td>72</td>\n",
       "      <td>NaN</td>\n",
       "      <td>100</td>\n",
       "      <td>21</td>\n",
       "    </tr>\n",
       "    <tr>\n",
       "      <th>109</th>\n",
       "      <td>110</td>\n",
       "      <td>NaN</td>\n",
       "      <td>100</td>\n",
       "      <td>21</td>\n",
       "    </tr>\n",
       "    <tr>\n",
       "      <th>296</th>\n",
       "      <td>297</td>\n",
       "      <td>NaN</td>\n",
       "      <td>100</td>\n",
       "      <td>21</td>\n",
       "    </tr>\n",
       "    <tr>\n",
       "      <th>416</th>\n",
       "      <td>417</td>\n",
       "      <td>NaN</td>\n",
       "      <td>100</td>\n",
       "      <td>21</td>\n",
       "    </tr>\n",
       "    <tr>\n",
       "      <th>...</th>\n",
       "      <td>...</td>\n",
       "      <td>...</td>\n",
       "      <td>...</td>\n",
       "      <td>...</td>\n",
       "    </tr>\n",
       "    <tr>\n",
       "      <th>49552</th>\n",
       "      <td>49553</td>\n",
       "      <td>NaN</td>\n",
       "      <td>100</td>\n",
       "      <td>21</td>\n",
       "    </tr>\n",
       "    <tr>\n",
       "      <th>49574</th>\n",
       "      <td>49575</td>\n",
       "      <td>NaN</td>\n",
       "      <td>100</td>\n",
       "      <td>21</td>\n",
       "    </tr>\n",
       "    <tr>\n",
       "      <th>49640</th>\n",
       "      <td>49641</td>\n",
       "      <td>NaN</td>\n",
       "      <td>100</td>\n",
       "      <td>21</td>\n",
       "    </tr>\n",
       "    <tr>\n",
       "      <th>49663</th>\n",
       "      <td>49664</td>\n",
       "      <td>NaN</td>\n",
       "      <td>100</td>\n",
       "      <td>21</td>\n",
       "    </tr>\n",
       "    <tr>\n",
       "      <th>49668</th>\n",
       "      <td>49669</td>\n",
       "      <td>NaN</td>\n",
       "      <td>100</td>\n",
       "      <td>21</td>\n",
       "    </tr>\n",
       "  </tbody>\n",
       "</table>\n",
       "<p>1258 rows × 4 columns</p>\n",
       "</div>"
      ],
      "text/plain": [
       "       product_id product_name  aisle_id  department_id\n",
       "37             38          NaN       100             21\n",
       "71             72          NaN       100             21\n",
       "109           110          NaN       100             21\n",
       "296           297          NaN       100             21\n",
       "416           417          NaN       100             21\n",
       "...           ...          ...       ...            ...\n",
       "49552       49553          NaN       100             21\n",
       "49574       49575          NaN       100             21\n",
       "49640       49641          NaN       100             21\n",
       "49663       49664          NaN       100             21\n",
       "49668       49669          NaN       100             21\n",
       "\n",
       "[1258 rows x 4 columns]"
      ]
     },
     "execution_count": 33,
     "metadata": {},
     "output_type": "execute_result"
    }
   ],
   "source": [
    "# Filtramos unicamente las filas con valores ausentes de este dataframe.\n",
    "df_products_nulls = df_products[df_products['product_name'].isna()]\n",
    "df_products_nulls"
   ]
  },
  {
   "cell_type": "markdown",
   "id": "ac2fcf49",
   "metadata": {},
   "source": [
    "Aquí sí podemos observar un patrón claro, al parecer, todos los valores nulos corresponden al aisle_id = 100 y al department_id = 21. Confirmemos nuevamente esta hipótesis y exploremos en los data frames df_aissles y df_products a qué corresponden dichos ids."
   ]
  },
  {
   "cell_type": "code",
   "execution_count": 34,
   "id": "b1a6fddf",
   "metadata": {
    "trusted": false
   },
   "outputs": [
    {
     "name": "stdout",
     "output_type": "stream",
     "text": [
      "[100]\n",
      "[21]\n"
     ]
    }
   ],
   "source": [
    "# Confirmemos la hipotesis anterior.\n",
    "print(df_products_nulls['aisle_id'].unique())\n",
    "print(df_products_nulls['department_id'].unique())"
   ]
  },
  {
   "cell_type": "markdown",
   "id": "21e14162",
   "metadata": {},
   "source": [
    "Hemos confirmado que solo existen dichos valores en los valores nulos, ahora investiguemos a qué aisle y department corresponden."
   ]
  },
  {
   "cell_type": "code",
   "execution_count": 35,
   "id": "43027128",
   "metadata": {
    "trusted": false
   },
   "outputs": [
    {
     "data": {
      "text/html": [
       "<div>\n",
       "<style scoped>\n",
       "    .dataframe tbody tr th:only-of-type {\n",
       "        vertical-align: middle;\n",
       "    }\n",
       "\n",
       "    .dataframe tbody tr th {\n",
       "        vertical-align: top;\n",
       "    }\n",
       "\n",
       "    .dataframe thead th {\n",
       "        text-align: right;\n",
       "    }\n",
       "</style>\n",
       "<table border=\"1\" class=\"dataframe\">\n",
       "  <thead>\n",
       "    <tr style=\"text-align: right;\">\n",
       "      <th></th>\n",
       "      <th>aisle_id</th>\n",
       "      <th>aisle</th>\n",
       "    </tr>\n",
       "  </thead>\n",
       "  <tbody>\n",
       "    <tr>\n",
       "      <th>99</th>\n",
       "      <td>100</td>\n",
       "      <td>missing</td>\n",
       "    </tr>\n",
       "  </tbody>\n",
       "</table>\n",
       "</div>"
      ],
      "text/plain": [
       "    aisle_id    aisle\n",
       "99       100  missing"
      ]
     },
     "execution_count": 35,
     "metadata": {},
     "output_type": "execute_result"
    }
   ],
   "source": [
    "# Mostramos el aisle de id 100.\n",
    "df_aisles[df_aisles['aisle_id'] == 100]"
   ]
  },
  {
   "cell_type": "code",
   "execution_count": 36,
   "id": "6df06315",
   "metadata": {
    "trusted": false
   },
   "outputs": [
    {
     "data": {
      "text/html": [
       "<div>\n",
       "<style scoped>\n",
       "    .dataframe tbody tr th:only-of-type {\n",
       "        vertical-align: middle;\n",
       "    }\n",
       "\n",
       "    .dataframe tbody tr th {\n",
       "        vertical-align: top;\n",
       "    }\n",
       "\n",
       "    .dataframe thead th {\n",
       "        text-align: right;\n",
       "    }\n",
       "</style>\n",
       "<table border=\"1\" class=\"dataframe\">\n",
       "  <thead>\n",
       "    <tr style=\"text-align: right;\">\n",
       "      <th></th>\n",
       "      <th>department_id</th>\n",
       "      <th>department</th>\n",
       "    </tr>\n",
       "  </thead>\n",
       "  <tbody>\n",
       "    <tr>\n",
       "      <th>20</th>\n",
       "      <td>21</td>\n",
       "      <td>missing</td>\n",
       "    </tr>\n",
       "  </tbody>\n",
       "</table>\n",
       "</div>"
      ],
      "text/plain": [
       "    department_id department\n",
       "20             21    missing"
      ]
     },
     "execution_count": 36,
     "metadata": {},
     "output_type": "execute_result"
    }
   ],
   "source": [
    "# Mostramos el department de id 21.\n",
    "df_departments[df_departments['department_id'] == 21]"
   ]
  },
  {
   "cell_type": "markdown",
   "id": "31bcdf69",
   "metadata": {},
   "source": [
    "Al parecer corresponden a la categoría missing en ambos campos. Como última exploración revisemos si las órdenes de dichos productos nos pueden dar más información."
   ]
  },
  {
   "cell_type": "code",
   "execution_count": 37,
   "id": "352ca8a9",
   "metadata": {
    "trusted": false
   },
   "outputs": [
    {
     "data": {
      "text/html": [
       "<div>\n",
       "<style scoped>\n",
       "    .dataframe tbody tr th:only-of-type {\n",
       "        vertical-align: middle;\n",
       "    }\n",
       "\n",
       "    .dataframe tbody tr th {\n",
       "        vertical-align: top;\n",
       "    }\n",
       "\n",
       "    .dataframe thead th {\n",
       "        text-align: right;\n",
       "    }\n",
       "</style>\n",
       "<table border=\"1\" class=\"dataframe\">\n",
       "  <thead>\n",
       "    <tr style=\"text-align: right;\">\n",
       "      <th></th>\n",
       "      <th>order_id</th>\n",
       "      <th>product_id</th>\n",
       "      <th>add_to_cart_order</th>\n",
       "      <th>reordered</th>\n",
       "    </tr>\n",
       "  </thead>\n",
       "  <tbody>\n",
       "    <tr>\n",
       "      <th>294</th>\n",
       "      <td>3021784</td>\n",
       "      <td>7035</td>\n",
       "      <td>8</td>\n",
       "      <td>0</td>\n",
       "    </tr>\n",
       "    <tr>\n",
       "      <th>927</th>\n",
       "      <td>2666296</td>\n",
       "      <td>30563</td>\n",
       "      <td>17</td>\n",
       "      <td>0</td>\n",
       "    </tr>\n",
       "    <tr>\n",
       "      <th>1182</th>\n",
       "      <td>305489</td>\n",
       "      <td>39414</td>\n",
       "      <td>17</td>\n",
       "      <td>0</td>\n",
       "    </tr>\n",
       "    <tr>\n",
       "      <th>2488</th>\n",
       "      <td>1024440</td>\n",
       "      <td>27767</td>\n",
       "      <td>7</td>\n",
       "      <td>1</td>\n",
       "    </tr>\n",
       "    <tr>\n",
       "      <th>2878</th>\n",
       "      <td>1395530</td>\n",
       "      <td>10319</td>\n",
       "      <td>8</td>\n",
       "      <td>0</td>\n",
       "    </tr>\n",
       "    <tr>\n",
       "      <th>...</th>\n",
       "      <td>...</td>\n",
       "      <td>...</td>\n",
       "      <td>...</td>\n",
       "      <td>...</td>\n",
       "    </tr>\n",
       "    <tr>\n",
       "      <th>4541011</th>\n",
       "      <td>1658209</td>\n",
       "      <td>10690</td>\n",
       "      <td>13</td>\n",
       "      <td>0</td>\n",
       "    </tr>\n",
       "    <tr>\n",
       "      <th>4543090</th>\n",
       "      <td>968372</td>\n",
       "      <td>12421</td>\n",
       "      <td>15</td>\n",
       "      <td>0</td>\n",
       "    </tr>\n",
       "    <tr>\n",
       "      <th>4543177</th>\n",
       "      <td>61885</td>\n",
       "      <td>35918</td>\n",
       "      <td>2</td>\n",
       "      <td>0</td>\n",
       "    </tr>\n",
       "    <tr>\n",
       "      <th>4543751</th>\n",
       "      <td>102783</td>\n",
       "      <td>9659</td>\n",
       "      <td>5</td>\n",
       "      <td>0</td>\n",
       "    </tr>\n",
       "    <tr>\n",
       "      <th>4544932</th>\n",
       "      <td>3357942</td>\n",
       "      <td>18164</td>\n",
       "      <td>3</td>\n",
       "      <td>0</td>\n",
       "    </tr>\n",
       "  </tbody>\n",
       "</table>\n",
       "<p>9547 rows × 4 columns</p>\n",
       "</div>"
      ],
      "text/plain": [
       "         order_id  product_id  add_to_cart_order  reordered\n",
       "294       3021784        7035                  8          0\n",
       "927       2666296       30563                 17          0\n",
       "1182       305489       39414                 17          0\n",
       "2488      1024440       27767                  7          1\n",
       "2878      1395530       10319                  8          0\n",
       "...           ...         ...                ...        ...\n",
       "4541011   1658209       10690                 13          0\n",
       "4543090    968372       12421                 15          0\n",
       "4543177     61885       35918                  2          0\n",
       "4543751    102783        9659                  5          0\n",
       "4544932   3357942       18164                  3          0\n",
       "\n",
       "[9547 rows x 4 columns]"
      ]
     },
     "execution_count": 37,
     "metadata": {},
     "output_type": "execute_result"
    }
   ],
   "source": [
    "# Filtrando el dataframe de ordenes por todos aquellos ids de productos que se encuentren en el dataframe de valores nulos.\n",
    "df_orders.query(\"product_id in @df_products_nulls['product_id']\")"
   ]
  },
  {
   "cell_type": "markdown",
   "id": "22e1b942",
   "metadata": {},
   "source": [
    "Al parecer, todos estos productos son órdenes reales y con información relevante, por lo que no podemos descartarlos. La mejor solución es reasignar estos productos con el nombre 'missing', tal y como sucedía con el aisle y el department, de esta forma informamos que no tenemos los datos del nombre y mantenemos aun el resto de información de sus rows, la cual es relevante."
   ]
  },
  {
   "cell_type": "code",
   "execution_count": 38,
   "id": "209c0595",
   "metadata": {
    "trusted": false
   },
   "outputs": [
    {
     "data": {
      "text/plain": [
       "product_id       0\n",
       "product_name     0\n",
       "aisle_id         0\n",
       "department_id    0\n",
       "dtype: int64"
      ]
     },
     "execution_count": 38,
     "metadata": {},
     "output_type": "execute_result"
    }
   ],
   "source": [
    "# Reemplazando los valores ausentes por 'missing' y comprobando que ya no hay valores ausentes.\n",
    "df_products['product_name'].fillna('missing', inplace=True)\n",
    "df_products.isna().sum()"
   ]
  },
  {
   "cell_type": "markdown",
   "id": "f3545ee8",
   "metadata": {},
   "source": [
    "#### 2.2.3. Valores ausentes en df_orders. <a id='data_miss_ord'></a>"
   ]
  },
  {
   "cell_type": "markdown",
   "id": "3cf4c181",
   "metadata": {},
   "source": [
    "El dataframe 'df_orders' tiene una columna con valores ausentes (add_to_cart_order), echemos un vistazo más profundo a dicha columna:"
   ]
  },
  {
   "cell_type": "code",
   "execution_count": 39,
   "id": "61efade9",
   "metadata": {
    "trusted": false
   },
   "outputs": [
    {
     "data": {
      "text/plain": [
       "count    4.544171e+06\n",
       "mean     8.351669e+00\n",
       "std      7.080368e+00\n",
       "min      1.000000e+00\n",
       "25%      3.000000e+00\n",
       "50%      6.000000e+00\n",
       "75%      1.100000e+01\n",
       "max      6.400000e+01\n",
       "Name: add_to_cart_order, dtype: float64"
      ]
     },
     "execution_count": 39,
     "metadata": {},
     "output_type": "execute_result"
    }
   ],
   "source": [
    "# Observamos los valores descriptivos de la columna para obtener más información.\n",
    "df_orders['add_to_cart_order'].describe()"
   ]
  },
  {
   "cell_type": "markdown",
   "id": "244c28eb",
   "metadata": {},
   "source": [
    "De la descripción podemos observar que el valor mínimo de la columna es 1. Esto tiene sentido, ya que esta columna nos indica la ordenación en la que los productos de una orden se agregaron al carrito y ordinalmente 1 es el valor más bajo que podemos tener, significando que ese elemento fue el primero de la lista del carrito.\n",
    "\n",
    "También podemos ver que el valor máximo de la columna es 64. Indaguemos un poco más en las columnas con valores nulos..."
   ]
  },
  {
   "cell_type": "code",
   "execution_count": 40,
   "id": "16055efb",
   "metadata": {
    "trusted": false
   },
   "outputs": [
    {
     "data": {
      "text/html": [
       "<div>\n",
       "<style scoped>\n",
       "    .dataframe tbody tr th:only-of-type {\n",
       "        vertical-align: middle;\n",
       "    }\n",
       "\n",
       "    .dataframe tbody tr th {\n",
       "        vertical-align: top;\n",
       "    }\n",
       "\n",
       "    .dataframe thead th {\n",
       "        text-align: right;\n",
       "    }\n",
       "</style>\n",
       "<table border=\"1\" class=\"dataframe\">\n",
       "  <thead>\n",
       "    <tr style=\"text-align: right;\">\n",
       "      <th></th>\n",
       "      <th>order_id</th>\n",
       "      <th>product_id</th>\n",
       "      <th>add_to_cart_order</th>\n",
       "      <th>reordered</th>\n",
       "    </tr>\n",
       "  </thead>\n",
       "  <tbody>\n",
       "    <tr>\n",
       "      <th>737</th>\n",
       "      <td>2449164</td>\n",
       "      <td>5068</td>\n",
       "      <td>&lt;NA&gt;</td>\n",
       "      <td>0</td>\n",
       "    </tr>\n",
       "    <tr>\n",
       "      <th>9926</th>\n",
       "      <td>1968313</td>\n",
       "      <td>43867</td>\n",
       "      <td>&lt;NA&gt;</td>\n",
       "      <td>0</td>\n",
       "    </tr>\n",
       "    <tr>\n",
       "      <th>14394</th>\n",
       "      <td>2926893</td>\n",
       "      <td>11688</td>\n",
       "      <td>&lt;NA&gt;</td>\n",
       "      <td>0</td>\n",
       "    </tr>\n",
       "    <tr>\n",
       "      <th>16418</th>\n",
       "      <td>1717990</td>\n",
       "      <td>4142</td>\n",
       "      <td>&lt;NA&gt;</td>\n",
       "      <td>0</td>\n",
       "    </tr>\n",
       "    <tr>\n",
       "      <th>30114</th>\n",
       "      <td>1959075</td>\n",
       "      <td>42828</td>\n",
       "      <td>&lt;NA&gt;</td>\n",
       "      <td>1</td>\n",
       "    </tr>\n",
       "    <tr>\n",
       "      <th>...</th>\n",
       "      <td>...</td>\n",
       "      <td>...</td>\n",
       "      <td>...</td>\n",
       "      <td>...</td>\n",
       "    </tr>\n",
       "    <tr>\n",
       "      <th>4505662</th>\n",
       "      <td>1800005</td>\n",
       "      <td>7411</td>\n",
       "      <td>&lt;NA&gt;</td>\n",
       "      <td>0</td>\n",
       "    </tr>\n",
       "    <tr>\n",
       "      <th>4511400</th>\n",
       "      <td>1633337</td>\n",
       "      <td>260</td>\n",
       "      <td>&lt;NA&gt;</td>\n",
       "      <td>0</td>\n",
       "    </tr>\n",
       "    <tr>\n",
       "      <th>4517562</th>\n",
       "      <td>404157</td>\n",
       "      <td>9517</td>\n",
       "      <td>&lt;NA&gt;</td>\n",
       "      <td>0</td>\n",
       "    </tr>\n",
       "    <tr>\n",
       "      <th>4534112</th>\n",
       "      <td>1673227</td>\n",
       "      <td>17835</td>\n",
       "      <td>&lt;NA&gt;</td>\n",
       "      <td>0</td>\n",
       "    </tr>\n",
       "    <tr>\n",
       "      <th>4535739</th>\n",
       "      <td>1832957</td>\n",
       "      <td>17949</td>\n",
       "      <td>&lt;NA&gt;</td>\n",
       "      <td>1</td>\n",
       "    </tr>\n",
       "  </tbody>\n",
       "</table>\n",
       "<p>836 rows × 4 columns</p>\n",
       "</div>"
      ],
      "text/plain": [
       "         order_id  product_id  add_to_cart_order  reordered\n",
       "737       2449164        5068               <NA>          0\n",
       "9926      1968313       43867               <NA>          0\n",
       "14394     2926893       11688               <NA>          0\n",
       "16418     1717990        4142               <NA>          0\n",
       "30114     1959075       42828               <NA>          1\n",
       "...           ...         ...                ...        ...\n",
       "4505662   1800005        7411               <NA>          0\n",
       "4511400   1633337         260               <NA>          0\n",
       "4517562    404157        9517               <NA>          0\n",
       "4534112   1673227       17835               <NA>          0\n",
       "4535739   1832957       17949               <NA>          1\n",
       "\n",
       "[836 rows x 4 columns]"
      ]
     },
     "execution_count": 40,
     "metadata": {},
     "output_type": "execute_result"
    }
   ],
   "source": [
    "# Filtramos unicamente las filas con valores ausentes de este dataframe.\n",
    "df_orders_nulls = df_orders[df_orders['add_to_cart_order'].isna()]\n",
    "df_orders_nulls"
   ]
  },
  {
   "cell_type": "markdown",
   "id": "23318ba0",
   "metadata": {},
   "source": [
    "Al momento la tabla no nos muestra algo relevante para plantear una hipótesis. ¿Qué pasa si analizamos todos los productos de cada order_id en la tabla de valores nulos?"
   ]
  },
  {
   "cell_type": "code",
   "execution_count": 41,
   "id": "22a125a9",
   "metadata": {
    "trusted": false
   },
   "outputs": [
    {
     "data": {
      "text/html": [
       "<div>\n",
       "<style scoped>\n",
       "    .dataframe tbody tr th:only-of-type {\n",
       "        vertical-align: middle;\n",
       "    }\n",
       "\n",
       "    .dataframe tbody tr th {\n",
       "        vertical-align: top;\n",
       "    }\n",
       "\n",
       "    .dataframe thead th {\n",
       "        text-align: right;\n",
       "    }\n",
       "</style>\n",
       "<table border=\"1\" class=\"dataframe\">\n",
       "  <thead>\n",
       "    <tr style=\"text-align: right;\">\n",
       "      <th></th>\n",
       "      <th>order_id</th>\n",
       "      <th>product_id</th>\n",
       "      <th>add_to_cart_order</th>\n",
       "      <th>reordered</th>\n",
       "    </tr>\n",
       "  </thead>\n",
       "  <tbody>\n",
       "    <tr>\n",
       "      <th>4414174</th>\n",
       "      <td>9310</td>\n",
       "      <td>37838</td>\n",
       "      <td>35</td>\n",
       "      <td>0</td>\n",
       "    </tr>\n",
       "    <tr>\n",
       "      <th>3680648</th>\n",
       "      <td>9310</td>\n",
       "      <td>47209</td>\n",
       "      <td>24</td>\n",
       "      <td>0</td>\n",
       "    </tr>\n",
       "    <tr>\n",
       "      <th>4342158</th>\n",
       "      <td>9310</td>\n",
       "      <td>35782</td>\n",
       "      <td>9</td>\n",
       "      <td>1</td>\n",
       "    </tr>\n",
       "    <tr>\n",
       "      <th>4432234</th>\n",
       "      <td>9310</td>\n",
       "      <td>21332</td>\n",
       "      <td>64</td>\n",
       "      <td>0</td>\n",
       "    </tr>\n",
       "    <tr>\n",
       "      <th>3318138</th>\n",
       "      <td>9310</td>\n",
       "      <td>16290</td>\n",
       "      <td>32</td>\n",
       "      <td>0</td>\n",
       "    </tr>\n",
       "    <tr>\n",
       "      <th>...</th>\n",
       "      <td>...</td>\n",
       "      <td>...</td>\n",
       "      <td>...</td>\n",
       "      <td>...</td>\n",
       "    </tr>\n",
       "    <tr>\n",
       "      <th>245717</th>\n",
       "      <td>3383594</td>\n",
       "      <td>5315</td>\n",
       "      <td>29</td>\n",
       "      <td>0</td>\n",
       "    </tr>\n",
       "    <tr>\n",
       "      <th>3741871</th>\n",
       "      <td>3383594</td>\n",
       "      <td>11616</td>\n",
       "      <td>41</td>\n",
       "      <td>0</td>\n",
       "    </tr>\n",
       "    <tr>\n",
       "      <th>869133</th>\n",
       "      <td>3383594</td>\n",
       "      <td>35921</td>\n",
       "      <td>39</td>\n",
       "      <td>0</td>\n",
       "    </tr>\n",
       "    <tr>\n",
       "      <th>2875349</th>\n",
       "      <td>3383594</td>\n",
       "      <td>16975</td>\n",
       "      <td>14</td>\n",
       "      <td>0</td>\n",
       "    </tr>\n",
       "    <tr>\n",
       "      <th>2843427</th>\n",
       "      <td>3383594</td>\n",
       "      <td>43014</td>\n",
       "      <td>32</td>\n",
       "      <td>1</td>\n",
       "    </tr>\n",
       "  </tbody>\n",
       "</table>\n",
       "<p>5316 rows × 4 columns</p>\n",
       "</div>"
      ],
      "text/plain": [
       "         order_id  product_id  add_to_cart_order  reordered\n",
       "4414174      9310       37838                 35          0\n",
       "3680648      9310       47209                 24          0\n",
       "4342158      9310       35782                  9          1\n",
       "4432234      9310       21332                 64          0\n",
       "3318138      9310       16290                 32          0\n",
       "...           ...         ...                ...        ...\n",
       "245717    3383594        5315                 29          0\n",
       "3741871   3383594       11616                 41          0\n",
       "869133    3383594       35921                 39          0\n",
       "2875349   3383594       16975                 14          0\n",
       "2843427   3383594       43014                 32          1\n",
       "\n",
       "[5316 rows x 4 columns]"
      ]
     },
     "execution_count": 41,
     "metadata": {},
     "output_type": "execute_result"
    }
   ],
   "source": [
    "# Revisando los ids de las ordenes con valores nulos en la tabla de ordenes.\n",
    "orders_with_nulls = df_orders.query(\"order_id in @df_orders_nulls['order_id']\")\n",
    "\n",
    "# La revision se ordena por 'order id' para analizar las ordenes mas facilmente.\n",
    "orders_with_nulls.sort_values('order_id')"
   ]
  },
  {
   "cell_type": "code",
   "execution_count": 42,
   "id": "aa1a3c20",
   "metadata": {
    "trusted": false
   },
   "outputs": [
    {
     "data": {
      "text/html": [
       "<div>\n",
       "<style scoped>\n",
       "    .dataframe tbody tr th:only-of-type {\n",
       "        vertical-align: middle;\n",
       "    }\n",
       "\n",
       "    .dataframe tbody tr th {\n",
       "        vertical-align: top;\n",
       "    }\n",
       "\n",
       "    .dataframe thead th {\n",
       "        text-align: right;\n",
       "    }\n",
       "</style>\n",
       "<table border=\"1\" class=\"dataframe\">\n",
       "  <thead>\n",
       "    <tr style=\"text-align: right;\">\n",
       "      <th></th>\n",
       "      <th>order_id</th>\n",
       "      <th>product_id</th>\n",
       "      <th>add_to_cart_order</th>\n",
       "      <th>reordered</th>\n",
       "    </tr>\n",
       "  </thead>\n",
       "  <tbody>\n",
       "    <tr>\n",
       "      <th>4520124</th>\n",
       "      <td>9310</td>\n",
       "      <td>32578</td>\n",
       "      <td>1</td>\n",
       "      <td>1</td>\n",
       "    </tr>\n",
       "    <tr>\n",
       "      <th>2160215</th>\n",
       "      <td>9310</td>\n",
       "      <td>20082</td>\n",
       "      <td>2</td>\n",
       "      <td>1</td>\n",
       "    </tr>\n",
       "    <tr>\n",
       "      <th>3148360</th>\n",
       "      <td>9310</td>\n",
       "      <td>27966</td>\n",
       "      <td>3</td>\n",
       "      <td>1</td>\n",
       "    </tr>\n",
       "    <tr>\n",
       "      <th>1806792</th>\n",
       "      <td>9310</td>\n",
       "      <td>18523</td>\n",
       "      <td>4</td>\n",
       "      <td>1</td>\n",
       "    </tr>\n",
       "    <tr>\n",
       "      <th>990652</th>\n",
       "      <td>9310</td>\n",
       "      <td>42828</td>\n",
       "      <td>5</td>\n",
       "      <td>0</td>\n",
       "    </tr>\n",
       "    <tr>\n",
       "      <th>...</th>\n",
       "      <td>...</td>\n",
       "      <td>...</td>\n",
       "      <td>...</td>\n",
       "      <td>...</td>\n",
       "    </tr>\n",
       "    <tr>\n",
       "      <th>1038616</th>\n",
       "      <td>3383594</td>\n",
       "      <td>15424</td>\n",
       "      <td>&lt;NA&gt;</td>\n",
       "      <td>1</td>\n",
       "    </tr>\n",
       "    <tr>\n",
       "      <th>1537276</th>\n",
       "      <td>3383594</td>\n",
       "      <td>15076</td>\n",
       "      <td>&lt;NA&gt;</td>\n",
       "      <td>0</td>\n",
       "    </tr>\n",
       "    <tr>\n",
       "      <th>2772397</th>\n",
       "      <td>3383594</td>\n",
       "      <td>46710</td>\n",
       "      <td>&lt;NA&gt;</td>\n",
       "      <td>0</td>\n",
       "    </tr>\n",
       "    <tr>\n",
       "      <th>3760909</th>\n",
       "      <td>3383594</td>\n",
       "      <td>63</td>\n",
       "      <td>&lt;NA&gt;</td>\n",
       "      <td>0</td>\n",
       "    </tr>\n",
       "    <tr>\n",
       "      <th>3784932</th>\n",
       "      <td>3383594</td>\n",
       "      <td>49144</td>\n",
       "      <td>&lt;NA&gt;</td>\n",
       "      <td>1</td>\n",
       "    </tr>\n",
       "  </tbody>\n",
       "</table>\n",
       "<p>5316 rows × 4 columns</p>\n",
       "</div>"
      ],
      "text/plain": [
       "         order_id  product_id  add_to_cart_order  reordered\n",
       "4520124      9310       32578                  1          1\n",
       "2160215      9310       20082                  2          1\n",
       "3148360      9310       27966                  3          1\n",
       "1806792      9310       18523                  4          1\n",
       "990652       9310       42828                  5          0\n",
       "...           ...         ...                ...        ...\n",
       "1038616   3383594       15424               <NA>          1\n",
       "1537276   3383594       15076               <NA>          0\n",
       "2772397   3383594       46710               <NA>          0\n",
       "3760909   3383594          63               <NA>          0\n",
       "3784932   3383594       49144               <NA>          1\n",
       "\n",
       "[5316 rows x 4 columns]"
      ]
     },
     "execution_count": 42,
     "metadata": {},
     "output_type": "execute_result"
    }
   ],
   "source": [
    "# Relizamos otra exploracion ordenando simultanemaente por order id y add to cart order.\n",
    "sorted_order_nulls = orders_with_nulls.sort_values(['order_id', 'add_to_cart_order'])\n",
    "sorted_order_nulls"
   ]
  },
  {
   "cell_type": "code",
   "execution_count": 43,
   "id": "85e2054f",
   "metadata": {
    "trusted": false
   },
   "outputs": [
    {
     "data": {
      "text/html": [
       "<div>\n",
       "<style scoped>\n",
       "    .dataframe tbody tr th:only-of-type {\n",
       "        vertical-align: middle;\n",
       "    }\n",
       "\n",
       "    .dataframe tbody tr th {\n",
       "        vertical-align: top;\n",
       "    }\n",
       "\n",
       "    .dataframe thead th {\n",
       "        text-align: right;\n",
       "    }\n",
       "</style>\n",
       "<table border=\"1\" class=\"dataframe\">\n",
       "  <thead>\n",
       "    <tr style=\"text-align: right;\">\n",
       "      <th></th>\n",
       "      <th>order_id</th>\n",
       "      <th>product_id</th>\n",
       "      <th>add_to_cart_order</th>\n",
       "      <th>reordered</th>\n",
       "    </tr>\n",
       "  </thead>\n",
       "  <tbody>\n",
       "  </tbody>\n",
       "</table>\n",
       "</div>"
      ],
      "text/plain": [
       "Empty DataFrame\n",
       "Columns: [order_id, product_id, add_to_cart_order, reordered]\n",
       "Index: []"
      ]
     },
     "execution_count": 43,
     "metadata": {},
     "output_type": "execute_result"
    }
   ],
   "source": [
    "# Revisamos a profundidad la primera orden de nuestro filtro.\n",
    "sorted_order_nulls[sorted_order_nulls['order_id'] == 18782]"
   ]
  },
  {
   "cell_type": "code",
   "execution_count": 44,
   "id": "0bbd28d4",
   "metadata": {
    "trusted": false
   },
   "outputs": [
    {
     "data": {
      "text/html": [
       "<div>\n",
       "<style scoped>\n",
       "    .dataframe tbody tr th:only-of-type {\n",
       "        vertical-align: middle;\n",
       "    }\n",
       "\n",
       "    .dataframe tbody tr th {\n",
       "        vertical-align: top;\n",
       "    }\n",
       "\n",
       "    .dataframe thead th {\n",
       "        text-align: right;\n",
       "    }\n",
       "</style>\n",
       "<table border=\"1\" class=\"dataframe\">\n",
       "  <thead>\n",
       "    <tr style=\"text-align: right;\">\n",
       "      <th></th>\n",
       "      <th>order_id</th>\n",
       "      <th>product_id</th>\n",
       "      <th>add_to_cart_order</th>\n",
       "      <th>reordered</th>\n",
       "    </tr>\n",
       "  </thead>\n",
       "  <tbody>\n",
       "    <tr>\n",
       "      <th>2531790</th>\n",
       "      <td>3383594</td>\n",
       "      <td>19645</td>\n",
       "      <td>1</td>\n",
       "      <td>0</td>\n",
       "    </tr>\n",
       "    <tr>\n",
       "      <th>1880235</th>\n",
       "      <td>3383594</td>\n",
       "      <td>2525</td>\n",
       "      <td>2</td>\n",
       "      <td>0</td>\n",
       "    </tr>\n",
       "    <tr>\n",
       "      <th>1640026</th>\n",
       "      <td>3383594</td>\n",
       "      <td>25146</td>\n",
       "      <td>3</td>\n",
       "      <td>1</td>\n",
       "    </tr>\n",
       "    <tr>\n",
       "      <th>2124274</th>\n",
       "      <td>3383594</td>\n",
       "      <td>48697</td>\n",
       "      <td>4</td>\n",
       "      <td>0</td>\n",
       "    </tr>\n",
       "    <tr>\n",
       "      <th>2992211</th>\n",
       "      <td>3383594</td>\n",
       "      <td>27360</td>\n",
       "      <td>5</td>\n",
       "      <td>1</td>\n",
       "    </tr>\n",
       "    <tr>\n",
       "      <th>...</th>\n",
       "      <td>...</td>\n",
       "      <td>...</td>\n",
       "      <td>...</td>\n",
       "      <td>...</td>\n",
       "    </tr>\n",
       "    <tr>\n",
       "      <th>1038616</th>\n",
       "      <td>3383594</td>\n",
       "      <td>15424</td>\n",
       "      <td>&lt;NA&gt;</td>\n",
       "      <td>1</td>\n",
       "    </tr>\n",
       "    <tr>\n",
       "      <th>1537276</th>\n",
       "      <td>3383594</td>\n",
       "      <td>15076</td>\n",
       "      <td>&lt;NA&gt;</td>\n",
       "      <td>0</td>\n",
       "    </tr>\n",
       "    <tr>\n",
       "      <th>2772397</th>\n",
       "      <td>3383594</td>\n",
       "      <td>46710</td>\n",
       "      <td>&lt;NA&gt;</td>\n",
       "      <td>0</td>\n",
       "    </tr>\n",
       "    <tr>\n",
       "      <th>3760909</th>\n",
       "      <td>3383594</td>\n",
       "      <td>63</td>\n",
       "      <td>&lt;NA&gt;</td>\n",
       "      <td>0</td>\n",
       "    </tr>\n",
       "    <tr>\n",
       "      <th>3784932</th>\n",
       "      <td>3383594</td>\n",
       "      <td>49144</td>\n",
       "      <td>&lt;NA&gt;</td>\n",
       "      <td>1</td>\n",
       "    </tr>\n",
       "  </tbody>\n",
       "</table>\n",
       "<p>69 rows × 4 columns</p>\n",
       "</div>"
      ],
      "text/plain": [
       "         order_id  product_id  add_to_cart_order  reordered\n",
       "2531790   3383594       19645                  1          0\n",
       "1880235   3383594        2525                  2          0\n",
       "1640026   3383594       25146                  3          1\n",
       "2124274   3383594       48697                  4          0\n",
       "2992211   3383594       27360                  5          1\n",
       "...           ...         ...                ...        ...\n",
       "1038616   3383594       15424               <NA>          1\n",
       "1537276   3383594       15076               <NA>          0\n",
       "2772397   3383594       46710               <NA>          0\n",
       "3760909   3383594          63               <NA>          0\n",
       "3784932   3383594       49144               <NA>          1\n",
       "\n",
       "[69 rows x 4 columns]"
      ]
     },
     "execution_count": 44,
     "metadata": {},
     "output_type": "execute_result"
    }
   ],
   "source": [
    "# Exploramos tambien la ultima para poder lanzar una hipostesis.\n",
    "sorted_order_nulls[sorted_order_nulls['order_id'] == 3383594]"
   ]
  },
  {
   "cell_type": "markdown",
   "id": "923772d9",
   "metadata": {},
   "source": [
    "Al parecer hemos hallado algo interesante al organizar los datos por order id y por add to cart order, podemos observar que a partir del elemento 64 añadido al carrito iniciamos a tener valores nulos en nuestros datos. Esto puede deberse ya sea a un error o a una limitación de la máquina o el código que registra las adiciones al carrito. Podemos solucionarlo fácilmente al agregar aleatoriamente los números restantes de los elementos en cada pedido, pero primero confirmemos que nuestra hipótesis es verdadera asegurándonos de que no hay valores mayores a 64 en los datos."
   ]
  },
  {
   "cell_type": "code",
   "execution_count": 45,
   "id": "0891760b",
   "metadata": {
    "trusted": false
   },
   "outputs": [
    {
     "data": {
      "text/plain": [
       "order_id\n",
       "9310       64\n",
       "61355      64\n",
       "102236     64\n",
       "129627     64\n",
       "165801     64\n",
       "           ..\n",
       "2999801    64\n",
       "3125735    64\n",
       "3308010    64\n",
       "3347453    64\n",
       "3383594    64\n",
       "Name: add_to_cart_order, Length: 70, dtype: Int64"
      ]
     },
     "execution_count": 45,
     "metadata": {},
     "output_type": "execute_result"
    }
   ],
   "source": [
    "# Verificando la hipotesis para cada orden con valores nulos.\n",
    "orders_with_nulls.groupby('order_id')['add_to_cart_order'].max()"
   ]
  },
  {
   "cell_type": "markdown",
   "id": "aaab1c3f",
   "metadata": {},
   "source": [
    "Hemos confirmado nuestra hipótesis; ahora corregimos este problema haciendo uso de funciones y bucles."
   ]
  },
  {
   "cell_type": "code",
   "execution_count": 46,
   "id": "496f7443",
   "metadata": {
    "trusted": false
   },
   "outputs": [],
   "source": [
    "# Funcion para reemplazar los valores nulos en cada numero de orden.\n",
    "def complete_cart_orders(order):\n",
    "    filtered_df = df_orders[df_orders['order_id'] == order] #Filtramos los valores por numero de orden.\n",
    "    new_vals = np.arange(65, len(filtered_df)+1) # Generamos una lista con los valores faltantes usando la longuitud del df filtrado.\n",
    "    df_orders.loc[(df_orders['order_id'] == order) & (df_orders['add_to_cart_order'].isna()), 'add_to_cart_order'] = new_vals # Reemplazamos los valores en nuestro dataframe."
   ]
  },
  {
   "cell_type": "code",
   "execution_count": 47,
   "id": "9f4213d3",
   "metadata": {
    "trusted": false
   },
   "outputs": [],
   "source": [
    "# Usamos la funcion en cada orden con valores nulos.\n",
    "for order in orders_with_nulls['order_id'].unique():\n",
    "    complete_cart_orders(order)"
   ]
  },
  {
   "cell_type": "code",
   "execution_count": 48,
   "id": "28144a7b",
   "metadata": {
    "trusted": false
   },
   "outputs": [
    {
     "data": {
      "text/plain": [
       "0"
      ]
     },
     "execution_count": 48,
     "metadata": {},
     "output_type": "execute_result"
    }
   ],
   "source": [
    "# Verificamos la existencia de valores nulos nuevamente.\n",
    "df_orders['add_to_cart_order'].isna().sum()"
   ]
  },
  {
   "cell_type": "markdown",
   "id": "c88b9ac6",
   "metadata": {},
   "source": [
    "Hemos completado nuestra hazaña de gestionar nuestros datos ausentes, para terminar, observemos la lista de una de las órdenes que tenía valores ausentes para confirmar que la información sea coherente."
   ]
  },
  {
   "cell_type": "code",
   "execution_count": 49,
   "id": "3a5c0a74",
   "metadata": {
    "trusted": false
   },
   "outputs": [
    {
     "data": {
      "text/html": [
       "<div>\n",
       "<style scoped>\n",
       "    .dataframe tbody tr th:only-of-type {\n",
       "        vertical-align: middle;\n",
       "    }\n",
       "\n",
       "    .dataframe tbody tr th {\n",
       "        vertical-align: top;\n",
       "    }\n",
       "\n",
       "    .dataframe thead th {\n",
       "        text-align: right;\n",
       "    }\n",
       "</style>\n",
       "<table border=\"1\" class=\"dataframe\">\n",
       "  <thead>\n",
       "    <tr style=\"text-align: right;\">\n",
       "      <th></th>\n",
       "      <th>order_id</th>\n",
       "      <th>product_id</th>\n",
       "      <th>add_to_cart_order</th>\n",
       "      <th>reordered</th>\n",
       "    </tr>\n",
       "  </thead>\n",
       "  <tbody>\n",
       "    <tr>\n",
       "      <th>1498989</th>\n",
       "      <td>2094761</td>\n",
       "      <td>22122</td>\n",
       "      <td>1</td>\n",
       "      <td>1</td>\n",
       "    </tr>\n",
       "    <tr>\n",
       "      <th>2053743</th>\n",
       "      <td>2094761</td>\n",
       "      <td>24852</td>\n",
       "      <td>2</td>\n",
       "      <td>1</td>\n",
       "    </tr>\n",
       "    <tr>\n",
       "      <th>2848403</th>\n",
       "      <td>2094761</td>\n",
       "      <td>5114</td>\n",
       "      <td>3</td>\n",
       "      <td>1</td>\n",
       "    </tr>\n",
       "    <tr>\n",
       "      <th>2923329</th>\n",
       "      <td>2094761</td>\n",
       "      <td>11009</td>\n",
       "      <td>4</td>\n",
       "      <td>1</td>\n",
       "    </tr>\n",
       "    <tr>\n",
       "      <th>650429</th>\n",
       "      <td>2094761</td>\n",
       "      <td>3055</td>\n",
       "      <td>5</td>\n",
       "      <td>1</td>\n",
       "    </tr>\n",
       "    <tr>\n",
       "      <th>...</th>\n",
       "      <td>...</td>\n",
       "      <td>...</td>\n",
       "      <td>...</td>\n",
       "      <td>...</td>\n",
       "    </tr>\n",
       "    <tr>\n",
       "      <th>1420876</th>\n",
       "      <td>2094761</td>\n",
       "      <td>47862</td>\n",
       "      <td>69</td>\n",
       "      <td>0</td>\n",
       "    </tr>\n",
       "    <tr>\n",
       "      <th>1967051</th>\n",
       "      <td>2094761</td>\n",
       "      <td>1099</td>\n",
       "      <td>70</td>\n",
       "      <td>0</td>\n",
       "    </tr>\n",
       "    <tr>\n",
       "      <th>2175085</th>\n",
       "      <td>2094761</td>\n",
       "      <td>49227</td>\n",
       "      <td>71</td>\n",
       "      <td>0</td>\n",
       "    </tr>\n",
       "    <tr>\n",
       "      <th>2846497</th>\n",
       "      <td>2094761</td>\n",
       "      <td>5112</td>\n",
       "      <td>72</td>\n",
       "      <td>1</td>\n",
       "    </tr>\n",
       "    <tr>\n",
       "      <th>3300473</th>\n",
       "      <td>2094761</td>\n",
       "      <td>41259</td>\n",
       "      <td>73</td>\n",
       "      <td>0</td>\n",
       "    </tr>\n",
       "  </tbody>\n",
       "</table>\n",
       "<p>73 rows × 4 columns</p>\n",
       "</div>"
      ],
      "text/plain": [
       "         order_id  product_id  add_to_cart_order  reordered\n",
       "1498989   2094761       22122                  1          1\n",
       "2053743   2094761       24852                  2          1\n",
       "2848403   2094761        5114                  3          1\n",
       "2923329   2094761       11009                  4          1\n",
       "650429    2094761        3055                  5          1\n",
       "...           ...         ...                ...        ...\n",
       "1420876   2094761       47862                 69          0\n",
       "1967051   2094761        1099                 70          0\n",
       "2175085   2094761       49227                 71          0\n",
       "2846497   2094761        5112                 72          1\n",
       "3300473   2094761       41259                 73          0\n",
       "\n",
       "[73 rows x 4 columns]"
      ]
     },
     "execution_count": 49,
     "metadata": {},
     "output_type": "execute_result"
    }
   ],
   "source": [
    "# Verificamos una orden que poseia valores nulos para corroborar como fue su relleno de datos. \n",
    "df_orders[df_orders['order_id'] == 2094761].sort_values('add_to_cart_order')"
   ]
  },
  {
   "cell_type": "markdown",
   "id": "07357848-dc64-4156-9cc3-01ff4365226d",
   "metadata": {
    "id": "07357848-dc64-4156-9cc3-01ff4365226d"
   },
   "source": [
    "## 2.3. Valores duplicados. <a id='data_dup'></a>"
   ]
  },
  {
   "cell_type": "markdown",
   "id": "f179f0a9",
   "metadata": {
    "id": "f179f0a9"
   },
   "source": [
    "### 2.3.1. Valores duplicados en df_instacart. <a id='data_dup_insta'></a>"
   ]
  },
  {
   "cell_type": "markdown",
   "id": "603bef56",
   "metadata": {},
   "source": [
    "Vamos a continuar con la limpieza revisando si hay duplicados en los dataframes. Iniciemos con revisar el df_instacart."
   ]
  },
  {
   "cell_type": "code",
   "execution_count": 50,
   "id": "b99297a5-405a-463d-8535-9adc3da4ad74",
   "metadata": {
    "id": "b99297a5-405a-463d-8535-9adc3da4ad74",
    "trusted": false
   },
   "outputs": [
    {
     "data": {
      "text/html": [
       "<div>\n",
       "<style scoped>\n",
       "    .dataframe tbody tr th:only-of-type {\n",
       "        vertical-align: middle;\n",
       "    }\n",
       "\n",
       "    .dataframe tbody tr th {\n",
       "        vertical-align: top;\n",
       "    }\n",
       "\n",
       "    .dataframe thead th {\n",
       "        text-align: right;\n",
       "    }\n",
       "</style>\n",
       "<table border=\"1\" class=\"dataframe\">\n",
       "  <thead>\n",
       "    <tr style=\"text-align: right;\">\n",
       "      <th></th>\n",
       "      <th>order_id</th>\n",
       "      <th>user_id</th>\n",
       "      <th>order_number</th>\n",
       "      <th>order_dow</th>\n",
       "      <th>order_hour_of_day</th>\n",
       "      <th>days_since_prior_order</th>\n",
       "    </tr>\n",
       "  </thead>\n",
       "  <tbody>\n",
       "    <tr>\n",
       "      <th>354993</th>\n",
       "      <td>391768</td>\n",
       "      <td>57671</td>\n",
       "      <td>19</td>\n",
       "      <td>3</td>\n",
       "      <td>2</td>\n",
       "      <td>10</td>\n",
       "    </tr>\n",
       "    <tr>\n",
       "      <th>371905</th>\n",
       "      <td>391768</td>\n",
       "      <td>57671</td>\n",
       "      <td>19</td>\n",
       "      <td>3</td>\n",
       "      <td>2</td>\n",
       "      <td>10</td>\n",
       "    </tr>\n",
       "    <tr>\n",
       "      <th>119251</th>\n",
       "      <td>408114</td>\n",
       "      <td>68324</td>\n",
       "      <td>4</td>\n",
       "      <td>3</td>\n",
       "      <td>2</td>\n",
       "      <td>18</td>\n",
       "    </tr>\n",
       "    <tr>\n",
       "      <th>321100</th>\n",
       "      <td>408114</td>\n",
       "      <td>68324</td>\n",
       "      <td>4</td>\n",
       "      <td>3</td>\n",
       "      <td>2</td>\n",
       "      <td>18</td>\n",
       "    </tr>\n",
       "    <tr>\n",
       "      <th>394347</th>\n",
       "      <td>467134</td>\n",
       "      <td>63189</td>\n",
       "      <td>21</td>\n",
       "      <td>3</td>\n",
       "      <td>2</td>\n",
       "      <td>2</td>\n",
       "    </tr>\n",
       "    <tr>\n",
       "      <th>250626</th>\n",
       "      <td>467134</td>\n",
       "      <td>63189</td>\n",
       "      <td>21</td>\n",
       "      <td>3</td>\n",
       "      <td>2</td>\n",
       "      <td>2</td>\n",
       "    </tr>\n",
       "    <tr>\n",
       "      <th>99462</th>\n",
       "      <td>794638</td>\n",
       "      <td>50898</td>\n",
       "      <td>24</td>\n",
       "      <td>3</td>\n",
       "      <td>2</td>\n",
       "      <td>2</td>\n",
       "    </tr>\n",
       "    <tr>\n",
       "      <th>145574</th>\n",
       "      <td>794638</td>\n",
       "      <td>50898</td>\n",
       "      <td>24</td>\n",
       "      <td>3</td>\n",
       "      <td>2</td>\n",
       "      <td>2</td>\n",
       "    </tr>\n",
       "    <tr>\n",
       "      <th>311713</th>\n",
       "      <td>1021560</td>\n",
       "      <td>53767</td>\n",
       "      <td>3</td>\n",
       "      <td>3</td>\n",
       "      <td>2</td>\n",
       "      <td>9</td>\n",
       "    </tr>\n",
       "    <tr>\n",
       "      <th>242618</th>\n",
       "      <td>1021560</td>\n",
       "      <td>53767</td>\n",
       "      <td>3</td>\n",
       "      <td>3</td>\n",
       "      <td>2</td>\n",
       "      <td>9</td>\n",
       "    </tr>\n",
       "    <tr>\n",
       "      <th>164581</th>\n",
       "      <td>1112182</td>\n",
       "      <td>202304</td>\n",
       "      <td>84</td>\n",
       "      <td>3</td>\n",
       "      <td>2</td>\n",
       "      <td>6</td>\n",
       "    </tr>\n",
       "    <tr>\n",
       "      <th>273805</th>\n",
       "      <td>1112182</td>\n",
       "      <td>202304</td>\n",
       "      <td>84</td>\n",
       "      <td>3</td>\n",
       "      <td>2</td>\n",
       "      <td>6</td>\n",
       "    </tr>\n",
       "    <tr>\n",
       "      <th>314427</th>\n",
       "      <td>1286742</td>\n",
       "      <td>183220</td>\n",
       "      <td>48</td>\n",
       "      <td>3</td>\n",
       "      <td>2</td>\n",
       "      <td>4</td>\n",
       "    </tr>\n",
       "    <tr>\n",
       "      <th>411408</th>\n",
       "      <td>1286742</td>\n",
       "      <td>183220</td>\n",
       "      <td>48</td>\n",
       "      <td>3</td>\n",
       "      <td>2</td>\n",
       "      <td>4</td>\n",
       "    </tr>\n",
       "    <tr>\n",
       "      <th>266232</th>\n",
       "      <td>1782114</td>\n",
       "      <td>106752</td>\n",
       "      <td>1</td>\n",
       "      <td>3</td>\n",
       "      <td>2</td>\n",
       "      <td>&lt;NA&gt;</td>\n",
       "    </tr>\n",
       "    <tr>\n",
       "      <th>200059</th>\n",
       "      <td>1782114</td>\n",
       "      <td>106752</td>\n",
       "      <td>1</td>\n",
       "      <td>3</td>\n",
       "      <td>2</td>\n",
       "      <td>&lt;NA&gt;</td>\n",
       "    </tr>\n",
       "    <tr>\n",
       "      <th>230807</th>\n",
       "      <td>1918001</td>\n",
       "      <td>188546</td>\n",
       "      <td>14</td>\n",
       "      <td>3</td>\n",
       "      <td>2</td>\n",
       "      <td>16</td>\n",
       "    </tr>\n",
       "    <tr>\n",
       "      <th>30371</th>\n",
       "      <td>1918001</td>\n",
       "      <td>188546</td>\n",
       "      <td>14</td>\n",
       "      <td>3</td>\n",
       "      <td>2</td>\n",
       "      <td>16</td>\n",
       "    </tr>\n",
       "    <tr>\n",
       "      <th>257934</th>\n",
       "      <td>1919531</td>\n",
       "      <td>191501</td>\n",
       "      <td>32</td>\n",
       "      <td>3</td>\n",
       "      <td>2</td>\n",
       "      <td>7</td>\n",
       "    </tr>\n",
       "    <tr>\n",
       "      <th>323900</th>\n",
       "      <td>1919531</td>\n",
       "      <td>191501</td>\n",
       "      <td>32</td>\n",
       "      <td>3</td>\n",
       "      <td>2</td>\n",
       "      <td>7</td>\n",
       "    </tr>\n",
       "    <tr>\n",
       "      <th>441599</th>\n",
       "      <td>2125197</td>\n",
       "      <td>14050</td>\n",
       "      <td>48</td>\n",
       "      <td>3</td>\n",
       "      <td>2</td>\n",
       "      <td>3</td>\n",
       "    </tr>\n",
       "    <tr>\n",
       "      <th>204042</th>\n",
       "      <td>2125197</td>\n",
       "      <td>14050</td>\n",
       "      <td>48</td>\n",
       "      <td>3</td>\n",
       "      <td>2</td>\n",
       "      <td>3</td>\n",
       "    </tr>\n",
       "    <tr>\n",
       "      <th>223105</th>\n",
       "      <td>2160484</td>\n",
       "      <td>107525</td>\n",
       "      <td>16</td>\n",
       "      <td>3</td>\n",
       "      <td>2</td>\n",
       "      <td>30</td>\n",
       "    </tr>\n",
       "    <tr>\n",
       "      <th>215294</th>\n",
       "      <td>2160484</td>\n",
       "      <td>107525</td>\n",
       "      <td>16</td>\n",
       "      <td>3</td>\n",
       "      <td>2</td>\n",
       "      <td>30</td>\n",
       "    </tr>\n",
       "    <tr>\n",
       "      <th>324868</th>\n",
       "      <td>2232988</td>\n",
       "      <td>82565</td>\n",
       "      <td>1</td>\n",
       "      <td>3</td>\n",
       "      <td>2</td>\n",
       "      <td>&lt;NA&gt;</td>\n",
       "    </tr>\n",
       "    <tr>\n",
       "      <th>345917</th>\n",
       "      <td>2232988</td>\n",
       "      <td>82565</td>\n",
       "      <td>1</td>\n",
       "      <td>3</td>\n",
       "      <td>2</td>\n",
       "      <td>&lt;NA&gt;</td>\n",
       "    </tr>\n",
       "    <tr>\n",
       "      <th>415163</th>\n",
       "      <td>2282673</td>\n",
       "      <td>86751</td>\n",
       "      <td>49</td>\n",
       "      <td>3</td>\n",
       "      <td>2</td>\n",
       "      <td>2</td>\n",
       "    </tr>\n",
       "    <tr>\n",
       "      <th>259636</th>\n",
       "      <td>2282673</td>\n",
       "      <td>86751</td>\n",
       "      <td>49</td>\n",
       "      <td>3</td>\n",
       "      <td>2</td>\n",
       "      <td>2</td>\n",
       "    </tr>\n",
       "    <tr>\n",
       "      <th>142258</th>\n",
       "      <td>2845099</td>\n",
       "      <td>31189</td>\n",
       "      <td>11</td>\n",
       "      <td>3</td>\n",
       "      <td>2</td>\n",
       "      <td>7</td>\n",
       "    </tr>\n",
       "    <tr>\n",
       "      <th>284038</th>\n",
       "      <td>2845099</td>\n",
       "      <td>31189</td>\n",
       "      <td>11</td>\n",
       "      <td>3</td>\n",
       "      <td>2</td>\n",
       "      <td>7</td>\n",
       "    </tr>\n",
       "  </tbody>\n",
       "</table>\n",
       "</div>"
      ],
      "text/plain": [
       "        order_id  user_id  order_number  order_dow  order_hour_of_day  \\\n",
       "354993    391768    57671            19          3                  2   \n",
       "371905    391768    57671            19          3                  2   \n",
       "119251    408114    68324             4          3                  2   \n",
       "321100    408114    68324             4          3                  2   \n",
       "394347    467134    63189            21          3                  2   \n",
       "250626    467134    63189            21          3                  2   \n",
       "99462     794638    50898            24          3                  2   \n",
       "145574    794638    50898            24          3                  2   \n",
       "311713   1021560    53767             3          3                  2   \n",
       "242618   1021560    53767             3          3                  2   \n",
       "164581   1112182   202304            84          3                  2   \n",
       "273805   1112182   202304            84          3                  2   \n",
       "314427   1286742   183220            48          3                  2   \n",
       "411408   1286742   183220            48          3                  2   \n",
       "266232   1782114   106752             1          3                  2   \n",
       "200059   1782114   106752             1          3                  2   \n",
       "230807   1918001   188546            14          3                  2   \n",
       "30371    1918001   188546            14          3                  2   \n",
       "257934   1919531   191501            32          3                  2   \n",
       "323900   1919531   191501            32          3                  2   \n",
       "441599   2125197    14050            48          3                  2   \n",
       "204042   2125197    14050            48          3                  2   \n",
       "223105   2160484   107525            16          3                  2   \n",
       "215294   2160484   107525            16          3                  2   \n",
       "324868   2232988    82565             1          3                  2   \n",
       "345917   2232988    82565             1          3                  2   \n",
       "415163   2282673    86751            49          3                  2   \n",
       "259636   2282673    86751            49          3                  2   \n",
       "142258   2845099    31189            11          3                  2   \n",
       "284038   2845099    31189            11          3                  2   \n",
       "\n",
       "        days_since_prior_order  \n",
       "354993                      10  \n",
       "371905                      10  \n",
       "119251                      18  \n",
       "321100                      18  \n",
       "394347                       2  \n",
       "250626                       2  \n",
       "99462                        2  \n",
       "145574                       2  \n",
       "311713                       9  \n",
       "242618                       9  \n",
       "164581                       6  \n",
       "273805                       6  \n",
       "314427                       4  \n",
       "411408                       4  \n",
       "266232                    <NA>  \n",
       "200059                    <NA>  \n",
       "230807                      16  \n",
       "30371                       16  \n",
       "257934                       7  \n",
       "323900                       7  \n",
       "441599                       3  \n",
       "204042                       3  \n",
       "223105                      30  \n",
       "215294                      30  \n",
       "324868                    <NA>  \n",
       "345917                    <NA>  \n",
       "415163                       2  \n",
       "259636                       2  \n",
       "142258                       7  \n",
       "284038                       7  "
      ]
     },
     "execution_count": 50,
     "metadata": {},
     "output_type": "execute_result"
    }
   ],
   "source": [
    "# Revisa si hay pedidos duplicados\n",
    "df_instacart[df_instacart.duplicated(keep=False)].sort_values('order_id')"
   ]
  },
  {
   "cell_type": "code",
   "execution_count": 52,
   "id": "480563c7",
   "metadata": {
    "id": "480563c7",
    "trusted": false
   },
   "outputs": [],
   "source": [
    "# Elimina los pedidos duplicados\n",
    "df_instacart.drop_duplicates(inplace=True)"
   ]
  },
  {
   "cell_type": "code",
   "execution_count": 53,
   "id": "0b2396a2",
   "metadata": {
    "id": "0b2396a2",
    "trusted": false
   },
   "outputs": [
    {
     "data": {
      "text/html": [
       "<div>\n",
       "<style scoped>\n",
       "    .dataframe tbody tr th:only-of-type {\n",
       "        vertical-align: middle;\n",
       "    }\n",
       "\n",
       "    .dataframe tbody tr th {\n",
       "        vertical-align: top;\n",
       "    }\n",
       "\n",
       "    .dataframe thead th {\n",
       "        text-align: right;\n",
       "    }\n",
       "</style>\n",
       "<table border=\"1\" class=\"dataframe\">\n",
       "  <thead>\n",
       "    <tr style=\"text-align: right;\">\n",
       "      <th></th>\n",
       "      <th>order_id</th>\n",
       "      <th>user_id</th>\n",
       "      <th>order_number</th>\n",
       "      <th>order_dow</th>\n",
       "      <th>order_hour_of_day</th>\n",
       "      <th>days_since_prior_order</th>\n",
       "    </tr>\n",
       "  </thead>\n",
       "  <tbody>\n",
       "  </tbody>\n",
       "</table>\n",
       "</div>"
      ],
      "text/plain": [
       "Empty DataFrame\n",
       "Columns: [order_id, user_id, order_number, order_dow, order_hour_of_day, days_since_prior_order]\n",
       "Index: []"
      ]
     },
     "execution_count": 53,
     "metadata": {},
     "output_type": "execute_result"
    }
   ],
   "source": [
    "# Vuelve a verificar si hay filas duplicadas\n",
    "df_instacart[df_instacart.duplicated(keep=False)]"
   ]
  },
  {
   "cell_type": "code",
   "execution_count": 54,
   "id": "f6113ef1",
   "metadata": {
    "id": "f6113ef1",
    "trusted": false
   },
   "outputs": [
    {
     "data": {
      "text/html": [
       "<div>\n",
       "<style scoped>\n",
       "    .dataframe tbody tr th:only-of-type {\n",
       "        vertical-align: middle;\n",
       "    }\n",
       "\n",
       "    .dataframe tbody tr th {\n",
       "        vertical-align: top;\n",
       "    }\n",
       "\n",
       "    .dataframe thead th {\n",
       "        text-align: right;\n",
       "    }\n",
       "</style>\n",
       "<table border=\"1\" class=\"dataframe\">\n",
       "  <thead>\n",
       "    <tr style=\"text-align: right;\">\n",
       "      <th></th>\n",
       "      <th>order_id</th>\n",
       "      <th>user_id</th>\n",
       "      <th>order_number</th>\n",
       "      <th>order_dow</th>\n",
       "      <th>order_hour_of_day</th>\n",
       "      <th>days_since_prior_order</th>\n",
       "    </tr>\n",
       "  </thead>\n",
       "  <tbody>\n",
       "  </tbody>\n",
       "</table>\n",
       "</div>"
      ],
      "text/plain": [
       "Empty DataFrame\n",
       "Columns: [order_id, user_id, order_number, order_dow, order_hour_of_day, days_since_prior_order]\n",
       "Index: []"
      ]
     },
     "execution_count": 54,
     "metadata": {},
     "output_type": "execute_result"
    }
   ],
   "source": [
    "# Vuelve a verificar si hay IDs duplicados de pedidos\n",
    "df_instacart[df_instacart['order_id'].duplicated()]"
   ]
  },
  {
   "cell_type": "markdown",
   "id": "5e8905ae",
   "metadata": {
    "id": "5e8905ae"
   },
   "source": [
    "Encontramos que existían algunos valores duplicados explícitos en nuestro dataframe, indagamos un poco alrededor de algunos patrones que observamos, pero no encontramos un problema mayor asociado a él, por tanto decidimos remover estos duplicados y continuar con nuestra limpieza."
   ]
  },
  {
   "cell_type": "markdown",
   "id": "45e6bc46",
   "metadata": {
    "id": "45e6bc46"
   },
   "source": [
    "### 2.3.2. Valores duplicados en df_products. <a id='data_dup_prod'></a>"
   ]
  },
  {
   "cell_type": "code",
   "execution_count": 57,
   "id": "5f526b5b-8175-46fa-a0fd-441767d50e64",
   "metadata": {
    "id": "5f526b5b-8175-46fa-a0fd-441767d50e64",
    "trusted": false
   },
   "outputs": [
    {
     "data": {
      "text/html": [
       "<div>\n",
       "<style scoped>\n",
       "    .dataframe tbody tr th:only-of-type {\n",
       "        vertical-align: middle;\n",
       "    }\n",
       "\n",
       "    .dataframe tbody tr th {\n",
       "        vertical-align: top;\n",
       "    }\n",
       "\n",
       "    .dataframe thead th {\n",
       "        text-align: right;\n",
       "    }\n",
       "</style>\n",
       "<table border=\"1\" class=\"dataframe\">\n",
       "  <thead>\n",
       "    <tr style=\"text-align: right;\">\n",
       "      <th></th>\n",
       "      <th>product_id</th>\n",
       "      <th>product_name</th>\n",
       "      <th>aisle_id</th>\n",
       "      <th>department_id</th>\n",
       "    </tr>\n",
       "  </thead>\n",
       "  <tbody>\n",
       "  </tbody>\n",
       "</table>\n",
       "</div>"
      ],
      "text/plain": [
       "Empty DataFrame\n",
       "Columns: [product_id, product_name, aisle_id, department_id]\n",
       "Index: []"
      ]
     },
     "execution_count": 57,
     "metadata": {},
     "output_type": "execute_result"
    }
   ],
   "source": [
    "# Verifica si hay filas totalmente duplicadas\n",
    "df_products[df_products.duplicated()]"
   ]
  },
  {
   "cell_type": "code",
   "execution_count": 58,
   "id": "88daa4f4",
   "metadata": {
    "id": "88daa4f4",
    "trusted": false
   },
   "outputs": [
    {
     "data": {
      "text/html": [
       "<div>\n",
       "<style scoped>\n",
       "    .dataframe tbody tr th:only-of-type {\n",
       "        vertical-align: middle;\n",
       "    }\n",
       "\n",
       "    .dataframe tbody tr th {\n",
       "        vertical-align: top;\n",
       "    }\n",
       "\n",
       "    .dataframe thead th {\n",
       "        text-align: right;\n",
       "    }\n",
       "</style>\n",
       "<table border=\"1\" class=\"dataframe\">\n",
       "  <thead>\n",
       "    <tr style=\"text-align: right;\">\n",
       "      <th></th>\n",
       "      <th>product_id</th>\n",
       "      <th>product_name</th>\n",
       "      <th>aisle_id</th>\n",
       "      <th>department_id</th>\n",
       "    </tr>\n",
       "  </thead>\n",
       "  <tbody>\n",
       "  </tbody>\n",
       "</table>\n",
       "</div>"
      ],
      "text/plain": [
       "Empty DataFrame\n",
       "Columns: [product_id, product_name, aisle_id, department_id]\n",
       "Index: []"
      ]
     },
     "execution_count": 58,
     "metadata": {},
     "output_type": "execute_result"
    }
   ],
   "source": [
    "# Verifica si hay IDs duplicadas de productos\n",
    "df_products[df_products['product_id'].duplicated()]"
   ]
  },
  {
   "cell_type": "code",
   "execution_count": null,
   "id": "c773f0bf",
   "metadata": {
    "id": "c773f0bf",
    "trusted": false
   },
   "outputs": [
    {
     "data": {
      "text/plain": [
       "0                               chocolate sandwich cookies\n",
       "1                                         all-seasons salt\n",
       "2                     robust golden unsweetened oolong tea\n",
       "3        smart ones classic favorites mini rigatoni wit...\n",
       "4                                green chile anytime sauce\n",
       "                               ...                        \n",
       "49689                        high performance energy drink\n",
       "49690                        original pancake & waffle mix\n",
       "49691      organic instant oatmeal light maple brown sugar\n",
       "49692                               spring water body wash\n",
       "49693                              burrito- steak & cheese\n",
       "Name: product_name, Length: 49694, dtype: object"
      ]
     },
     "execution_count": 59,
     "metadata": {},
     "output_type": "execute_result"
    }
   ],
   "source": [
    "# Verifica si hay nombres duplicados de productos \n",
    "# Se convierte los nombres a letras minúsculas para compararlos mejor\n",
    "df_products['product_name'] = df_products['product_name'].str.lower()\n",
    "df_products['product_name']"
   ]
  },
  {
   "cell_type": "code",
   "execution_count": null,
   "id": "01efd02e",
   "metadata": {
    "id": "01efd02e",
    "trusted": false
   },
   "outputs": [
    {
     "data": {
      "text/html": [
       "<div>\n",
       "<style scoped>\n",
       "    .dataframe tbody tr th:only-of-type {\n",
       "        vertical-align: middle;\n",
       "    }\n",
       "\n",
       "    .dataframe tbody tr th {\n",
       "        vertical-align: top;\n",
       "    }\n",
       "\n",
       "    .dataframe thead th {\n",
       "        text-align: right;\n",
       "    }\n",
       "</style>\n",
       "<table border=\"1\" class=\"dataframe\">\n",
       "  <thead>\n",
       "    <tr style=\"text-align: right;\">\n",
       "      <th></th>\n",
       "      <th>product_id</th>\n",
       "      <th>product_name</th>\n",
       "      <th>aisle_id</th>\n",
       "      <th>department_id</th>\n",
       "    </tr>\n",
       "  </thead>\n",
       "  <tbody>\n",
       "    <tr>\n",
       "      <th>23339</th>\n",
       "      <td>23340</td>\n",
       "      <td>18-in-1 hemp peppermint pure-castile soap</td>\n",
       "      <td>25</td>\n",
       "      <td>11</td>\n",
       "    </tr>\n",
       "    <tr>\n",
       "      <th>31844</th>\n",
       "      <td>31845</td>\n",
       "      <td>18-in-1 hemp peppermint pure-castile soap</td>\n",
       "      <td>25</td>\n",
       "      <td>11</td>\n",
       "    </tr>\n",
       "    <tr>\n",
       "      <th>19941</th>\n",
       "      <td>19942</td>\n",
       "      <td>aged balsamic vinegar of modena</td>\n",
       "      <td>19</td>\n",
       "      <td>13</td>\n",
       "    </tr>\n",
       "    <tr>\n",
       "      <th>13152</th>\n",
       "      <td>13153</td>\n",
       "      <td>aged balsamic vinegar of modena</td>\n",
       "      <td>19</td>\n",
       "      <td>13</td>\n",
       "    </tr>\n",
       "    <tr>\n",
       "      <th>24830</th>\n",
       "      <td>24831</td>\n",
       "      <td>albacore solid white tuna in water</td>\n",
       "      <td>95</td>\n",
       "      <td>15</td>\n",
       "    </tr>\n",
       "    <tr>\n",
       "      <th>...</th>\n",
       "      <td>...</td>\n",
       "      <td>...</td>\n",
       "      <td>...</td>\n",
       "      <td>...</td>\n",
       "    </tr>\n",
       "    <tr>\n",
       "      <th>46873</th>\n",
       "      <td>46874</td>\n",
       "      <td>vitamin d3 5000 iu</td>\n",
       "      <td>47</td>\n",
       "      <td>11</td>\n",
       "    </tr>\n",
       "    <tr>\n",
       "      <th>21366</th>\n",
       "      <td>21367</td>\n",
       "      <td>wild sardines in spring water</td>\n",
       "      <td>95</td>\n",
       "      <td>15</td>\n",
       "    </tr>\n",
       "    <tr>\n",
       "      <th>40093</th>\n",
       "      <td>40094</td>\n",
       "      <td>wild sardines in spring water</td>\n",
       "      <td>95</td>\n",
       "      <td>15</td>\n",
       "    </tr>\n",
       "    <tr>\n",
       "      <th>1826</th>\n",
       "      <td>1827</td>\n",
       "      <td>yams cut sweet potatoes in syrup</td>\n",
       "      <td>81</td>\n",
       "      <td>15</td>\n",
       "    </tr>\n",
       "    <tr>\n",
       "      <th>38260</th>\n",
       "      <td>38261</td>\n",
       "      <td>yams cut sweet potatoes in syrup</td>\n",
       "      <td>81</td>\n",
       "      <td>15</td>\n",
       "    </tr>\n",
       "  </tbody>\n",
       "</table>\n",
       "<p>207 rows × 4 columns</p>\n",
       "</div>"
      ],
      "text/plain": [
       "       product_id                               product_name  aisle_id  \\\n",
       "23339       23340  18-in-1 hemp peppermint pure-castile soap        25   \n",
       "31844       31845  18-in-1 hemp peppermint pure-castile soap        25   \n",
       "19941       19942            aged balsamic vinegar of modena        19   \n",
       "13152       13153            aged balsamic vinegar of modena        19   \n",
       "24830       24831         albacore solid white tuna in water        95   \n",
       "...           ...                                        ...       ...   \n",
       "46873       46874                         vitamin d3 5000 iu        47   \n",
       "21366       21367              wild sardines in spring water        95   \n",
       "40093       40094              wild sardines in spring water        95   \n",
       "1826         1827           yams cut sweet potatoes in syrup        81   \n",
       "38260       38261           yams cut sweet potatoes in syrup        81   \n",
       "\n",
       "       department_id  \n",
       "23339             11  \n",
       "31844             11  \n",
       "19941             13  \n",
       "13152             13  \n",
       "24830             15  \n",
       "...              ...  \n",
       "46873             11  \n",
       "21366             15  \n",
       "40093             15  \n",
       "1826              15  \n",
       "38260             15  \n",
       "\n",
       "[207 rows x 4 columns]"
      ]
     },
     "execution_count": 60,
     "metadata": {},
     "output_type": "execute_result"
    }
   ],
   "source": [
    "# Verifica si hay nombres duplicados de productos diferentes a 'missing'\n",
    "df_products[(df_products['product_name'].duplicated(keep=False)) & (df_products['product_name'] != 'missing')].sort_values('product_name')"
   ]
  },
  {
   "cell_type": "markdown",
   "id": "9da8d293",
   "metadata": {
    "id": "9da8d293"
   },
   "source": [
    "A pesar de haber encontrado algunos 'product_names' idénticos bajo el mismo pasillo ('aisle_id') y en el mismo departamento ('department-id'), mantienen diferentes 'product_id', lo que nos puede dar a entender que se pueden tratar de productos con alguna diferencia (marca, volumen, cantidad, etc.). Requeriríamos más información para determinar si son duplicados reales o no. Por esto mantendremos estos valores en nuestro dataframe."
   ]
  },
  {
   "cell_type": "markdown",
   "id": "60f30db1",
   "metadata": {
    "id": "60f30db1"
   },
   "source": [
    "### 2.3.3. Valores duplicados en df_departments. <a id='data_dup_dep'></a>"
   ]
  },
  {
   "cell_type": "code",
   "execution_count": 61,
   "id": "fb410ad4-0fbf-4b80-bb09-23fdea79afe3",
   "metadata": {
    "id": "fb410ad4-0fbf-4b80-bb09-23fdea79afe3",
    "trusted": false
   },
   "outputs": [
    {
     "data": {
      "text/html": [
       "<div>\n",
       "<style scoped>\n",
       "    .dataframe tbody tr th:only-of-type {\n",
       "        vertical-align: middle;\n",
       "    }\n",
       "\n",
       "    .dataframe tbody tr th {\n",
       "        vertical-align: top;\n",
       "    }\n",
       "\n",
       "    .dataframe thead th {\n",
       "        text-align: right;\n",
       "    }\n",
       "</style>\n",
       "<table border=\"1\" class=\"dataframe\">\n",
       "  <thead>\n",
       "    <tr style=\"text-align: right;\">\n",
       "      <th></th>\n",
       "      <th>department_id</th>\n",
       "      <th>department</th>\n",
       "    </tr>\n",
       "  </thead>\n",
       "  <tbody>\n",
       "  </tbody>\n",
       "</table>\n",
       "</div>"
      ],
      "text/plain": [
       "Empty DataFrame\n",
       "Columns: [department_id, department]\n",
       "Index: []"
      ]
     },
     "execution_count": 61,
     "metadata": {},
     "output_type": "execute_result"
    }
   ],
   "source": [
    "# Revisa si hay filas totalmente duplicadas\n",
    "df_departments[df_departments.duplicated()]"
   ]
  },
  {
   "cell_type": "code",
   "execution_count": 62,
   "id": "332b12bb",
   "metadata": {
    "id": "332b12bb",
    "trusted": false
   },
   "outputs": [
    {
     "data": {
      "text/html": [
       "<div>\n",
       "<style scoped>\n",
       "    .dataframe tbody tr th:only-of-type {\n",
       "        vertical-align: middle;\n",
       "    }\n",
       "\n",
       "    .dataframe tbody tr th {\n",
       "        vertical-align: top;\n",
       "    }\n",
       "\n",
       "    .dataframe thead th {\n",
       "        text-align: right;\n",
       "    }\n",
       "</style>\n",
       "<table border=\"1\" class=\"dataframe\">\n",
       "  <thead>\n",
       "    <tr style=\"text-align: right;\">\n",
       "      <th></th>\n",
       "      <th>department_id</th>\n",
       "      <th>department</th>\n",
       "    </tr>\n",
       "  </thead>\n",
       "  <tbody>\n",
       "  </tbody>\n",
       "</table>\n",
       "</div>"
      ],
      "text/plain": [
       "Empty DataFrame\n",
       "Columns: [department_id, department]\n",
       "Index: []"
      ]
     },
     "execution_count": 62,
     "metadata": {},
     "output_type": "execute_result"
    }
   ],
   "source": [
    "# Revisa si hay IDs duplicadas de productos\n",
    "df_departments[df_departments['department_id'].duplicated()]"
   ]
  },
  {
   "cell_type": "markdown",
   "id": "bd30d78e",
   "metadata": {
    "id": "bd30d78e"
   },
   "source": [
    "No tenemos duplicados de ningún tipo en este dataframe."
   ]
  },
  {
   "cell_type": "markdown",
   "id": "889349c1",
   "metadata": {
    "id": "889349c1"
   },
   "source": [
    "### 2.3.4. Valores duplicados en df_aisles. <a id='data_dup_ais'></a>"
   ]
  },
  {
   "cell_type": "code",
   "execution_count": 63,
   "id": "9da89fb9-4679-40f5-ad0d-c34df753a3f8",
   "metadata": {
    "id": "9da89fb9-4679-40f5-ad0d-c34df753a3f8",
    "trusted": false
   },
   "outputs": [
    {
     "data": {
      "text/html": [
       "<div>\n",
       "<style scoped>\n",
       "    .dataframe tbody tr th:only-of-type {\n",
       "        vertical-align: middle;\n",
       "    }\n",
       "\n",
       "    .dataframe tbody tr th {\n",
       "        vertical-align: top;\n",
       "    }\n",
       "\n",
       "    .dataframe thead th {\n",
       "        text-align: right;\n",
       "    }\n",
       "</style>\n",
       "<table border=\"1\" class=\"dataframe\">\n",
       "  <thead>\n",
       "    <tr style=\"text-align: right;\">\n",
       "      <th></th>\n",
       "      <th>aisle_id</th>\n",
       "      <th>aisle</th>\n",
       "    </tr>\n",
       "  </thead>\n",
       "  <tbody>\n",
       "  </tbody>\n",
       "</table>\n",
       "</div>"
      ],
      "text/plain": [
       "Empty DataFrame\n",
       "Columns: [aisle_id, aisle]\n",
       "Index: []"
      ]
     },
     "execution_count": 63,
     "metadata": {},
     "output_type": "execute_result"
    }
   ],
   "source": [
    "# Revisa si hay filas totalmente duplicadas\n",
    "df_aisles[df_aisles.duplicated()]"
   ]
  },
  {
   "cell_type": "code",
   "execution_count": 64,
   "id": "da7c2822",
   "metadata": {
    "id": "da7c2822",
    "trusted": false
   },
   "outputs": [
    {
     "data": {
      "text/html": [
       "<div>\n",
       "<style scoped>\n",
       "    .dataframe tbody tr th:only-of-type {\n",
       "        vertical-align: middle;\n",
       "    }\n",
       "\n",
       "    .dataframe tbody tr th {\n",
       "        vertical-align: top;\n",
       "    }\n",
       "\n",
       "    .dataframe thead th {\n",
       "        text-align: right;\n",
       "    }\n",
       "</style>\n",
       "<table border=\"1\" class=\"dataframe\">\n",
       "  <thead>\n",
       "    <tr style=\"text-align: right;\">\n",
       "      <th></th>\n",
       "      <th>aisle_id</th>\n",
       "      <th>aisle</th>\n",
       "    </tr>\n",
       "  </thead>\n",
       "  <tbody>\n",
       "  </tbody>\n",
       "</table>\n",
       "</div>"
      ],
      "text/plain": [
       "Empty DataFrame\n",
       "Columns: [aisle_id, aisle]\n",
       "Index: []"
      ]
     },
     "execution_count": 64,
     "metadata": {},
     "output_type": "execute_result"
    }
   ],
   "source": [
    "# Revisa si hay IDs duplicadas de productos\n",
    "df_aisles[df_aisles['aisle_id'].duplicated()]"
   ]
  },
  {
   "cell_type": "markdown",
   "id": "ac63826f",
   "metadata": {
    "id": "ac63826f"
   },
   "source": [
    "No tenemos duplicados de ningún tipo en este dataframe."
   ]
  },
  {
   "cell_type": "markdown",
   "id": "274cd06a",
   "metadata": {
    "id": "274cd06a"
   },
   "source": [
    "### 2.3.5. Valores duplicados en df_orders. <a id='data_dup_ord'></a>"
   ]
  },
  {
   "cell_type": "code",
   "execution_count": 65,
   "id": "52326689-84a8-4b8f-a881-7c68780f62c9",
   "metadata": {
    "id": "52326689-84a8-4b8f-a881-7c68780f62c9",
    "trusted": false
   },
   "outputs": [
    {
     "data": {
      "text/html": [
       "<div>\n",
       "<style scoped>\n",
       "    .dataframe tbody tr th:only-of-type {\n",
       "        vertical-align: middle;\n",
       "    }\n",
       "\n",
       "    .dataframe tbody tr th {\n",
       "        vertical-align: top;\n",
       "    }\n",
       "\n",
       "    .dataframe thead th {\n",
       "        text-align: right;\n",
       "    }\n",
       "</style>\n",
       "<table border=\"1\" class=\"dataframe\">\n",
       "  <thead>\n",
       "    <tr style=\"text-align: right;\">\n",
       "      <th></th>\n",
       "      <th>order_id</th>\n",
       "      <th>product_id</th>\n",
       "      <th>add_to_cart_order</th>\n",
       "      <th>reordered</th>\n",
       "    </tr>\n",
       "  </thead>\n",
       "  <tbody>\n",
       "  </tbody>\n",
       "</table>\n",
       "</div>"
      ],
      "text/plain": [
       "Empty DataFrame\n",
       "Columns: [order_id, product_id, add_to_cart_order, reordered]\n",
       "Index: []"
      ]
     },
     "execution_count": 65,
     "metadata": {},
     "output_type": "execute_result"
    }
   ],
   "source": [
    "# Revisa si hay filas totalmente duplicadas\n",
    "df_orders[df_orders.duplicated()]"
   ]
  },
  {
   "cell_type": "code",
   "execution_count": 66,
   "id": "7b861391",
   "metadata": {
    "id": "7b861391",
    "trusted": false
   },
   "outputs": [
    {
     "data": {
      "text/html": [
       "<div>\n",
       "<style scoped>\n",
       "    .dataframe tbody tr th:only-of-type {\n",
       "        vertical-align: middle;\n",
       "    }\n",
       "\n",
       "    .dataframe tbody tr th {\n",
       "        vertical-align: top;\n",
       "    }\n",
       "\n",
       "    .dataframe thead th {\n",
       "        text-align: right;\n",
       "    }\n",
       "</style>\n",
       "<table border=\"1\" class=\"dataframe\">\n",
       "  <thead>\n",
       "    <tr style=\"text-align: right;\">\n",
       "      <th></th>\n",
       "      <th>order_id</th>\n",
       "      <th>product_id</th>\n",
       "      <th>add_to_cart_order</th>\n",
       "      <th>reordered</th>\n",
       "    </tr>\n",
       "  </thead>\n",
       "  <tbody>\n",
       "  </tbody>\n",
       "</table>\n",
       "</div>"
      ],
      "text/plain": [
       "Empty DataFrame\n",
       "Columns: [order_id, product_id, add_to_cart_order, reordered]\n",
       "Index: []"
      ]
     },
     "execution_count": 66,
     "metadata": {},
     "output_type": "execute_result"
    }
   ],
   "source": [
    "# Vuelve a verificar si hay cualquier otro duplicado engañoso\n",
    "df_orders[df_orders.duplicated(subset=['order_id', 'product_id'], keep=False)].sort_values('order_id')"
   ]
  },
  {
   "cell_type": "markdown",
   "id": "0b890492",
   "metadata": {
    "id": "0b890492"
   },
   "source": [
    "En este dataframe es normal tener valores repetidos en la columna 'order_id', ya que representan los diferentes productos pedidos en una misma orden, cada uno en una fila diferente. Algo que no es común tal vez es tener un mismo producto dos veces en una misma orden, sin embargo, no presentamos esos casos en nuestro dataframe, por lo que estamos seguros de que ya no presentamos duplicados en nuestro dataframe."
   ]
  },
  {
   "cell_type": "markdown",
   "id": "RnplPFY1gSrb",
   "metadata": {
    "id": "RnplPFY1gSrb"
   },
   "source": [
    "## Observaciones <a id='data_preprocessing_conclusions'></a>\n",
    "\n",
    "Hemos completado el preprocesamiento y la limpieza de los datos. Encontramos algunos patrones que nos dieron pistas para tomar decisiones, en otros casos determinamos que requeríamos más información para tomar otras decisiones, así que optamos por no modificar dichos datos. Aun así, estamos listos para trabajar con nuestros datos y obtener más información de ellos en nuestro análisis."
   ]
  },
  {
   "cell_type": "markdown",
   "id": "UjrOIwTcz3ri",
   "metadata": {
    "id": "UjrOIwTcz3ri"
   },
   "source": [
    "# Etapa 3. Análisis de los datos. <a id='data_analysis'></a>\n",
    "\n",
    "Tenemos una serie de preguntas del departamento de marketing que nos gustaría responder con nuestros datos, para ello realizaremos un análisis exploratorio de los mismos."
   ]
  },
  {
   "cell_type": "markdown",
   "id": "turkish-kidney",
   "metadata": {
    "id": "turkish-kidney"
   },
   "source": [
    "### 3.1. ¿Los valores en las columnas `'order_hour_of_day'` y `'order_dow'` en la tabla orders son razonables? (es decir, `'order_hour_of_day'` oscile entre 0 y 23 y `'order_dow'` oscile entre 0 y 6)."
   ]
  },
  {
   "cell_type": "code",
   "execution_count": 67,
   "id": "growing-fruit",
   "metadata": {
    "id": "growing-fruit",
    "trusted": false
   },
   "outputs": [
    {
     "data": {
      "text/plain": [
       "[0,\n",
       " 1,\n",
       " 2,\n",
       " 3,\n",
       " 4,\n",
       " 5,\n",
       " 6,\n",
       " 7,\n",
       " 8,\n",
       " 9,\n",
       " 10,\n",
       " 11,\n",
       " 12,\n",
       " 13,\n",
       " 14,\n",
       " 15,\n",
       " 16,\n",
       " 17,\n",
       " 18,\n",
       " 19,\n",
       " 20,\n",
       " 21,\n",
       " 22,\n",
       " 23]"
      ]
     },
     "execution_count": 67,
     "metadata": {},
     "output_type": "execute_result"
    }
   ],
   "source": [
    "# Verificando los valores de las columnas 'order_hour_of_day'\n",
    "sorted(df_instacart['order_hour_of_day'].unique())"
   ]
  },
  {
   "cell_type": "code",
   "execution_count": 68,
   "id": "accessory-malaysia",
   "metadata": {
    "id": "accessory-malaysia",
    "trusted": false
   },
   "outputs": [
    {
     "data": {
      "text/plain": [
       "[0, 1, 2, 3, 4, 5, 6]"
      ]
     },
     "execution_count": 68,
     "metadata": {},
     "output_type": "execute_result"
    }
   ],
   "source": [
    "# Verificando los valores de las columnas 'order_dow'\n",
    "sorted(df_instacart['order_dow'].unique())"
   ]
  },
  {
   "cell_type": "markdown",
   "id": "hmR2GNQ6lCsX",
   "metadata": {
    "id": "hmR2GNQ6lCsX"
   },
   "source": [
    "Los valores para estas dos columnas son coherentes y razonables, como observamos."
   ]
  },
  {
   "cell_type": "markdown",
   "id": "a6743a70",
   "metadata": {
    "id": "a6743a70"
   },
   "source": [
    "### 3.2. Se requieré un gráfico que muestre el número de personas que hacen pedidos dependiendo de la hora del día."
   ]
  },
  {
   "cell_type": "markdown",
   "id": "c71d1825",
   "metadata": {},
   "source": [
    "Para la visualización de las gráficas lo realizaremos en base a un muestreo del 75% de los valores para facilitar la ejecución de gráficos en la memoria RAM."
   ]
  },
  {
   "cell_type": "code",
   "execution_count": null,
   "id": "a36cca27",
   "metadata": {
    "id": "a36cca27",
    "trusted": false
   },
   "outputs": [
    {
     "data": {
      "image/png": "[encoded data removed]",
      "text/plain": [
       "<Figure size 640x480 with 1 Axes>"
      ]
     },
     "metadata": {},
     "output_type": "display_data"
    }
   ],
   "source": [
    "# Visualización del numero de ordenes por día.\n",
    "df_sample = df_instacart.sample(int(len(df_instacart)*0.75), random_state=10) # Obtenemos la muestra del 75% de los datos.\n",
    "df_hour_of_day = df_sample.groupby('order_hour_of_day')['order_hour_of_day'].count() # Agrupamos los datos por la hora del día.\n",
    "hour_plot = df_hour_of_day.plot(title='Horas más concurridas de ordenes',\n",
    "                                xlabel='Hora del día (24h)',\n",
    "                                ylabel='Número de ordenes',\n",
    "                                xlim=[0,23],\n",
    "                                ylim=0,\n",
    "                                marker='o') # Graficamos el conteo de los valores agrupados en un diagrama de lineas.\n",
    "hour_plot.set_xticks(range(0, 24)) # Acomodamos los valores del eje x para que visualizemos todos los valores\n",
    "plt.grid() # Añadimos una cuadricula para hacer la visualización mas sencilla.\n",
    "plt.show()"
   ]
  },
  {
   "cell_type": "markdown",
   "id": "11270eed",
   "metadata": {
    "id": "11270eed"
   },
   "source": [
    "La visualización de horas más concurridas de órdenes nos muestra cómo a partir de las 7 de la mañana se disparan los pedidos, alcanzan un máximo entre las 10 am y las 4 pm y a partir de esa hora inician a descender paulatinamente. Concluyendo, entre 10 am y 4 pm se tiene la mayor cantidad de órdenes en un día."
   ]
  },
  {
   "cell_type": "markdown",
   "id": "documented-command",
   "metadata": {
    "id": "documented-command"
   },
   "source": [
    "### 3.3. Se requiere un gráfico que muestre qué día de la semana la gente hace sus compras."
   ]
  },
  {
   "cell_type": "code",
   "execution_count": 70,
   "id": "chief-digit",
   "metadata": {
    "id": "chief-digit",
    "trusted": false
   },
   "outputs": [
    {
     "data": {
      "image/png": "[encoded data removed]",
      "text/plain": [
       "<Figure size 640x480 with 1 Axes>"
      ]
     },
     "metadata": {},
     "output_type": "display_data"
    }
   ],
   "source": [
    "# Visualización del numero de ordenes por día de la semana.\n",
    "df_day = df_sample.groupby('order_dow')['order_dow'].count() # Agrupamos los datos por la día de la semana.\n",
    "day_plot = df_day.plot(title='Días de la semana con más ordenes',\n",
    "                                xlabel='Día de la semana',\n",
    "                                ylabel='Número de ordenes',\n",
    "                                xlim=[0, 6],\n",
    "                                ylim=0,\n",
    "                                marker='o',\n",
    "                                rot=45) # Graficamos el conteo de los valores agrupados en un diagrama de lineas.\n",
    "plt.xticks(ticks=range(0,7),labels=['Dom', 'Lun', 'Mar', 'Mie', 'Jue', 'Vie', 'Sab']) # Reajuste en las etiquetas del eje.\n",
    "plt.grid() # Añadimos una cuadricula para hacer la visualización mas sencilla.\n",
    "plt.show()"
   ]
  },
  {
   "cell_type": "markdown",
   "id": "dominant-lightning",
   "metadata": {
    "id": "dominant-lightning"
   },
   "source": [
    "Gracias a las visualizaciones podemos concluir que los dos días con más órdenes son el domingo y el lunes; el resto de días de la semana las órdenes disminuyen y se mantienen en un rango muy similar."
   ]
  },
  {
   "cell_type": "markdown",
   "id": "cutting-concert",
   "metadata": {
    "id": "cutting-concert"
   },
   "source": [
    "### 3.4. Se requiere un gráfico que muestre el tiempo que la gente espera hasta hacer su siguiente pedido."
   ]
  },
  {
   "cell_type": "code",
   "execution_count": 71,
   "id": "c231f523",
   "metadata": {
    "id": "c231f523",
    "trusted": false
   },
   "outputs": [
    {
     "data": {
      "image/png": "[encoded data removed]",
      "text/plain": [
       "<Figure size 640x480 with 1 Axes>"
      ]
     },
     "metadata": {},
     "output_type": "display_data"
    }
   ],
   "source": [
    "# Visualización del tiempo de espera entre ordenes.\n",
    "df_last_order = df_sample.groupby('days_since_prior_order')['days_since_prior_order'].count() # Agrupamos los datos por la día de la semana.\n",
    "last_order_plot = df_last_order.plot(title='Espera de los clientes para realizar un nuevo pedido',\n",
    "                                xlabel='Días transcurridos desde la última orden',\n",
    "                                ylabel='Número de ordenes',\n",
    "                                kind='bar',\n",
    "                                ylim=0) # Graficamos el conteo de los valores agrupados en un diagrama de lineas.\n",
    "plt.grid(axis='y') # Añadimos una cuadricula para hacer la visualización mas sencilla.\n",
    "plt.show()"
   ]
  },
  {
   "cell_type": "code",
   "execution_count": null,
   "id": "4afa04e0",
   "metadata": {
    "trusted": false
   },
   "outputs": [
    {
     "name": "stdout",
     "output_type": "stream",
     "text": [
      "1957 es el numero de clientes que espera 26 días para realizar su proximo pedido. Este es el numero de días de espera menos frecuente.\n",
      "38417 es el numero de clientes que espera 30 días para realizar su proximo pedido. Este es el numero de días de espera más frecuente.\n"
     ]
    }
   ],
   "source": [
    "# Cuales son los valores minimos y maximos?\n",
    "df_sorted = df_last_order.sort_values()\n",
    "min_val = df_sorted[df_sorted == df_sorted.min()]\n",
    "print(f'{min_val.iloc[0]} es el número de clientes que espera {min_val.index[0]} días para realizar su próximo pedido. Este es el número de días de espera menos frecuente.')\n",
    "\n",
    "max_val = df_sorted[df_sorted == df_sorted.max()]\n",
    "print(f'{max_val.iloc[0]} es el número de clientes que espera {max_val.index[0]} días para realizar su próximo pedido. Este es el número de días de espera más frecuente.')"
   ]
  },
  {
   "cell_type": "markdown",
   "id": "discrete-vertex",
   "metadata": {
    "id": "discrete-vertex"
   },
   "source": [
    "Podemos concluir que un gran grupo de clientes espera de entre 1 a 8 días para realizar su próximo pedido, sin embargo, el valor más frecuente se halla en la franja de 30 días. Observando los valores previos y que este es el valor máximo de los datos, podemos concluir también que este grupo no se refiere a clientes que esperan específicamente 30 días, es más bien el grupo de clientes que espera 30 o más días para realizar su próxima compra. Esta interpretación tendría más sentido en nuestro conjunto de datos, sin embargo, requiere una validación con el personal de recolección de datos para confirmar que esta interpretación es correcta."
   ]
  },
  {
   "cell_type": "markdown",
   "id": "tight-staff",
   "metadata": {
    "id": "tight-staff"
   },
   "source": [
    "### 3.5. ¿Existe alguna diferencia entre las distribuciones `'order_hour_of_day'` de los miércoles y los sábados?"
   ]
  },
  {
   "cell_type": "code",
   "execution_count": null,
   "id": "d89b8403",
   "metadata": {
    "id": "d89b8403",
    "trusted": false
   },
   "outputs": [
    {
     "data": {
      "image/png": "[encoded data removed]",
      "text/plain": [
       "<Figure size 640x480 with 1 Axes>"
      ]
     },
     "metadata": {},
     "output_type": "display_data"
    }
   ],
   "source": [
    "# Visualización de la diferencia entre las distribuciones 'order_hour_of_day'.\n",
    "df_day_of_order = df_sample[(df_sample['order_dow'] == 3) | (df_sample['order_dow'] == 6)] # Filtro para los Miercoles y Sabados.\n",
    "\n",
    "df_hour_of_day = df_day_of_order[['user_id', 'order_dow', 'order_hour_of_day']] # Seleccion solo de las columnas necesarias\n",
    "\n",
    "# Reformateo de los datos para prepararlos antes de la visualización.\n",
    "pt_hour_of_day = pd.pivot_table(df_hour_of_day, values='user_id', index='order_hour_of_day', columns='order_dow', aggfunc='count')\n",
    "\n",
    "last_order_plot = pt_hour_of_day.plot(title='Distribución de ordenes, Miercoles VS Sabados',\n",
    "                                xlabel='Hora del día',\n",
    "                                ylabel='Número de ordenes',\n",
    "                                kind='bar',\n",
    "                                ylim=0) # Graficamos el conteo de los valores agrupados en un diagrama de lineas.\n",
    "\n",
    "plt.grid(axis='y') # Añadimos una cuadricula para hacer la visualización mas sencilla.\n",
    "plt.legend(['Miercoles', 'Sabado']) # Ajuste en el nombre de las etiquetas.\n",
    "\n",
    "plt.show()"
   ]
  },
  {
   "cell_type": "markdown",
   "id": "charitable-congo",
   "metadata": {
    "id": "charitable-congo"
   },
   "source": [
    "Las distribuciones son muy similares para ambos días, sin embargo, podemos destacar una observación: al parecer los sábados alrededor del mediodía las órdenes son más frecuentes que los miércoles."
   ]
  },
  {
   "cell_type": "markdown",
   "id": "e3891143",
   "metadata": {
    "id": "e3891143"
   },
   "source": [
    "### 3.6. Se requiere una gráfica de la distribución para el número de órdenes que hacen los clientes (es decir, cuántos clientes hicieron solo 1 pedido, cuántos hicieron 2, cuántos 3, y así sucesivamente...)."
   ]
  },
  {
   "cell_type": "code",
   "execution_count": null,
   "id": "d8c26c23",
   "metadata": {
    "id": "d8c26c23",
    "trusted": false
   },
   "outputs": [
    {
     "data": {
      "image/png": "[encoded data removed]",
      "text/plain": [
       "<Figure size 640x480 with 1 Axes>"
      ]
     },
     "metadata": {},
     "output_type": "display_data"
    }
   ],
   "source": [
    "# Visualización de la distribucion de pedidos por cliente.\n",
    "df_user_orders = df_sample.groupby('user_id')['order_id'].nunique() # Contando el numero de ordenes por usuario.\n",
    "df_user_orders = pd.DataFrame(df_user_orders) # Creando un dataframe del resultado\n",
    "df_user_orders = df_user_orders.groupby('order_id')['order_id'].count() # Contando los usuarios por el numero de ordenes que realizaron.\n",
    "\n",
    "last_order_plot = df_user_orders.plot(title='Distribución según el número de ordenes que realizan los usuarios',\n",
    "                                xlabel='Número de ordenes',\n",
    "                                ylabel='Número de usuarios',\n",
    "                                kind='bar',\n",
    "                                ylim=0) # Graficamos el conteo de los valores agrupados en un diagrama de lineas.\n",
    "\n",
    "plt.grid(axis='y') # Añadimos una cuadricula para hacer la visualización mas sencilla.\n",
    "\n",
    "plt.show()"
   ]
  },
  {
   "cell_type": "markdown",
   "id": "d2eff7d5",
   "metadata": {
    "id": "d2eff7d5"
   },
   "source": [
    "Se puede apreciar que la mayor cantidad de usuarios se encuentra en un rango de órdenes entre 1 y 4. A medida que aumenta el número de órdenes, menor es el número de usuarios."
   ]
  },
  {
   "cell_type": "markdown",
   "id": "54a0319c",
   "metadata": {
    "id": "54a0319c"
   },
   "source": [
    "### 3.7. ¿Cuáles son los 20 principales productos que se piden con más frecuencia (identificación y nombre)?"
   ]
  },
  {
   "cell_type": "code",
   "execution_count": 75,
   "id": "exterior-arizona",
   "metadata": {
    "id": "exterior-arizona",
    "scrolled": true,
    "trusted": false
   },
   "outputs": [
    {
     "name": "stdout",
     "output_type": "stream",
     "text": [
      "Top 20 productos mas populares:\n",
      "\n",
      "                product_name  product_id  number of orders\n",
      "1                     banana       24852             49432\n",
      "2     bag of organic bananas       13176             40129\n",
      "3       organic strawberries       21137             27935\n",
      "4       organic baby spinach       21903             25370\n",
      "5       organic hass avocado       47209             22342\n",
      "6            organic avocado       47766             18516\n",
      "7                large lemon       47626             16078\n",
      "8               strawberries       16797             14981\n",
      "9         organic whole milk       27845             14702\n",
      "10                     limes       26209             14679\n",
      "11       organic raspberries       27966             14402\n",
      "12      organic yellow onion       22935             11877\n",
      "13            organic garlic       24964             11473\n",
      "14          organic zucchini       45007             10863\n",
      "15       organic blueberries       39275             10368\n",
      "16            cucumber kirby       49683             10318\n",
      "17        organic fuji apple       28204              9365\n",
      "18             organic lemon        5876              9170\n",
      "19  apple honeycrisp organic        8277              8998\n",
      "20    organic grape tomatoes       40706              8894\n"
     ]
    }
   ],
   "source": [
    "# Top 20 productos más populares.\n",
    "df_sample_orders = df_orders.sample(int(len(df_orders)*0.75)) # Obtenemos la muestra del 75% de los datos.\n",
    "\n",
    "# Contamos el numero de ordenes de cada producto.\n",
    "df_products_order = df_sample_orders.groupby('product_id')['order_id'].count()\n",
    "df_products_order.sort_values(ascending=False, inplace=True)\n",
    "\n",
    "#Seleccionamos los 20 mas populares\n",
    "top_20_products = df_products_order[0:20]\n",
    "\n",
    "# Organizamos un dataframe de resultados para el top \n",
    "top_20_list = []\n",
    "\n",
    "for i, product in top_20_products.items():\n",
    "    row = {'product_name': df_products.query('product_id == @i').iloc[0]['product_name'], 'product_id': i, 'number of orders': product}\n",
    "    top_20_list.append(row)\n",
    "    \n",
    "top_20_products = pd.DataFrame(top_20_list, index=range(1,21))\n",
    "    \n",
    "print('Top 20 productos mas populares:\\n')\n",
    "print(top_20_products)"
   ]
  },
  {
   "cell_type": "markdown",
   "id": "7df00f47",
   "metadata": {
    "id": "7df00f47"
   },
   "source": [
    "Podemos observar una gran cantidad de productos orgánicos en la lista, por lo que estos tienen gran popularidad en los usuarios, los bananos marcan una fuerte tendencia en las órdenes."
   ]
  },
  {
   "cell_type": "markdown",
   "id": "gross-theme",
   "metadata": {
    "id": "gross-theme"
   },
   "source": [
    "# 3.8. ¿Cuántos artículos suelen comprar las personas en un pedido? ¿Cómo es la distribución?"
   ]
  },
  {
   "cell_type": "code",
   "execution_count": null,
   "id": "virtual-punch",
   "metadata": {
    "id": "virtual-punch",
    "trusted": false
   },
   "outputs": [
    {
     "data": {
      "image/png": "[encoded data removed]",
      "text/plain": [
       "<Figure size 640x480 with 1 Axes>"
      ]
     },
     "metadata": {},
     "output_type": "display_data"
    }
   ],
   "source": [
    "# Articulos comprados por cada orden.\n",
    "products_by_orders = df_sample_orders.groupby('order_id')['product_id'].count() # Contando el numero de productos por orden.\n",
    "df_products_by_orders= pd.DataFrame(products_by_orders) # Creando un dataframe del resultado.\n",
    "df_products_by_orders = df_products_by_orders.groupby('product_id')['product_id'].count() # Contando las ordenes por el numero de productos que tienen.\n",
    "\n",
    "# Visualizamos unicamente las ordenes con menos de 40 productos.\n",
    "products_by_orders_plot = df_products_by_orders[0:40].plot(title='Distribución según el número de productos en cada orden',\n",
    "                                xlabel='Número de productos',\n",
    "                                ylabel='Número de ordenes',\n",
    "                                kind='bar',\n",
    "                                ylim=0) # Graficamos el conteo de los valores agrupados en un diagrama de lineas.\n",
    "\n",
    "plt.grid(axis='y') # Añadimos una cuadricula para hacer la visualización mas sencilla.\n",
    "\n",
    "plt.show()"
   ]
  },
  {
   "cell_type": "markdown",
   "id": "designed-mortality",
   "metadata": {
    "id": "designed-mortality"
   },
   "source": [
    "En este caso visualizamos únicamente las órdenes que tienen hasta 40 productos, ya que contienen la información más relevante y facilitan la visualización del gráfico. Podemos apreciar que la moda para la cantidad de productos por orden es 4, y que, a medida que aumenta el número de productos, menor es la cantidad de órdenes registradas. La mayor cantidad de órdenes se encuentra entre 1 y 10 productos, a partir de 10 productos, la cantidad de órdenes disminuye considerablemente."
   ]
  },
  {
   "cell_type": "markdown",
   "id": "5e6b5537",
   "metadata": {
    "id": "5e6b5537"
   },
   "source": [
    "### 3.9. ¿Cuáles son los 20 principales artículos que vuelven a pedirse con mayor frecuencia (nombres e IDs de los productos)?"
   ]
  },
  {
   "cell_type": "code",
   "execution_count": 77,
   "id": "9374e55a",
   "metadata": {
    "id": "9374e55a",
    "trusted": false
   },
   "outputs": [
    {
     "name": "stdout",
     "output_type": "stream",
     "text": [
      "Top 20 productos ordenados nuevamente mas populares:\n",
      "\n",
      "                product_name  product_id  number of orders\n",
      "1                     banana       24852             41783\n",
      "2     bag of organic bananas       13176             33478\n",
      "3       organic strawberries       21137             21601\n",
      "4       organic baby spinach       21903             19606\n",
      "5       organic hass avocado       47209             17762\n",
      "6            organic avocado       47766             14042\n",
      "7         organic whole milk       27845             12147\n",
      "8                large lemon       47626             11317\n",
      "9        organic raspberries       27966             11054\n",
      "10              strawberries       16797             10453\n",
      "11                     limes       26209              9908\n",
      "12      organic yellow onion       22935              8334\n",
      "13            organic garlic       24964              7782\n",
      "14          organic zucchini       45007              7497\n",
      "15            cucumber kirby       49683              7194\n",
      "16        organic fuji apple       28204              6709\n",
      "17  apple honeycrisp organic        8277              6631\n",
      "18       organic blueberries       39275              6546\n",
      "19       organic half & half       49235              6298\n",
      "20             organic lemon        5876              6294\n"
     ]
    }
   ],
   "source": [
    "# Top 20 articulos re ordenados con mayor frecuencia.\n",
    "products_reordered = df_sample_orders[df_sample_orders['reordered'] == 1] # Filtrando por productos que se volvieron a ordenar.\n",
    "\n",
    "# Contamos el numero de ordenes de cada producto.\n",
    "df_products_reordered = products_reordered.groupby('product_id')['order_id'].count()\n",
    "df_products_reordered.sort_values(ascending=False, inplace=True)\n",
    "\n",
    "#Seleccionamos los 20 mas populares\n",
    "top_20_products = df_products_reordered[0:20]\n",
    "\n",
    "# Organizamos un dataframe de resultados para el top \n",
    "top_20_list = []\n",
    "\n",
    "for i, product in top_20_products.items():\n",
    "    row = {'product_name': df_products.query('product_id == @i').iloc[0]['product_name'], 'product_id': i, 'number of orders': product}\n",
    "    top_20_list.append(row)\n",
    "    \n",
    "top_20_products = pd.DataFrame(top_20_list, index=range(1,21))\n",
    "    \n",
    "print('Top 20 productos ordenados nuevamente mas populares:\\n')\n",
    "print(top_20_products)"
   ]
  },
  {
   "cell_type": "markdown",
   "id": "80e70c74",
   "metadata": {
    "id": "80e70c74"
   },
   "source": [
    "Nuevamente, los productos orgánicos son los más populares en la lista, siendo las bananas quienes encabezan la lista de productos que se vuelven a ordenar con más frecuencia."
   ]
  },
  {
   "cell_type": "markdown",
   "id": "9d312b14",
   "metadata": {
    "id": "9d312b14"
   },
   "source": [
    "### 3.10. Para cada producto, ¿cuál es la tasa de repetición del pedido (número de repeticiones de pedido/total de pedidos)?"
   ]
  },
  {
   "cell_type": "code",
   "execution_count": 78,
   "id": "8ae9f4b1",
   "metadata": {
    "id": "8ae9f4b1",
    "trusted": false
   },
   "outputs": [
    {
     "data": {
      "text/html": [
       "<div>\n",
       "<style scoped>\n",
       "    .dataframe tbody tr th:only-of-type {\n",
       "        vertical-align: middle;\n",
       "    }\n",
       "\n",
       "    .dataframe tbody tr th {\n",
       "        vertical-align: top;\n",
       "    }\n",
       "\n",
       "    .dataframe thead th {\n",
       "        text-align: right;\n",
       "    }\n",
       "</style>\n",
       "<table border=\"1\" class=\"dataframe\">\n",
       "  <thead>\n",
       "    <tr style=\"text-align: right;\">\n",
       "      <th></th>\n",
       "      <th>order_id</th>\n",
       "      <th>order_id_reorder</th>\n",
       "      <th>reorder_ratio</th>\n",
       "    </tr>\n",
       "    <tr>\n",
       "      <th>product_id</th>\n",
       "      <th></th>\n",
       "      <th></th>\n",
       "      <th></th>\n",
       "    </tr>\n",
       "  </thead>\n",
       "  <tbody>\n",
       "    <tr>\n",
       "      <th>37955</th>\n",
       "      <td>4</td>\n",
       "      <td>4.0</td>\n",
       "      <td>1.0</td>\n",
       "    </tr>\n",
       "    <tr>\n",
       "      <th>48992</th>\n",
       "      <td>2</td>\n",
       "      <td>2.0</td>\n",
       "      <td>1.0</td>\n",
       "    </tr>\n",
       "    <tr>\n",
       "      <th>2560</th>\n",
       "      <td>1</td>\n",
       "      <td>1.0</td>\n",
       "      <td>1.0</td>\n",
       "    </tr>\n",
       "    <tr>\n",
       "      <th>39474</th>\n",
       "      <td>2</td>\n",
       "      <td>2.0</td>\n",
       "      <td>1.0</td>\n",
       "    </tr>\n",
       "    <tr>\n",
       "      <th>40006</th>\n",
       "      <td>1</td>\n",
       "      <td>1.0</td>\n",
       "      <td>1.0</td>\n",
       "    </tr>\n",
       "    <tr>\n",
       "      <th>...</th>\n",
       "      <td>...</td>\n",
       "      <td>...</td>\n",
       "      <td>...</td>\n",
       "    </tr>\n",
       "    <tr>\n",
       "      <th>29652</th>\n",
       "      <td>2</td>\n",
       "      <td>0.0</td>\n",
       "      <td>0.0</td>\n",
       "    </tr>\n",
       "    <tr>\n",
       "      <th>24305</th>\n",
       "      <td>2</td>\n",
       "      <td>0.0</td>\n",
       "      <td>0.0</td>\n",
       "    </tr>\n",
       "    <tr>\n",
       "      <th>34239</th>\n",
       "      <td>2</td>\n",
       "      <td>0.0</td>\n",
       "      <td>0.0</td>\n",
       "    </tr>\n",
       "    <tr>\n",
       "      <th>17057</th>\n",
       "      <td>2</td>\n",
       "      <td>0.0</td>\n",
       "      <td>0.0</td>\n",
       "    </tr>\n",
       "    <tr>\n",
       "      <th>38373</th>\n",
       "      <td>1</td>\n",
       "      <td>0.0</td>\n",
       "      <td>0.0</td>\n",
       "    </tr>\n",
       "  </tbody>\n",
       "</table>\n",
       "<p>43995 rows × 3 columns</p>\n",
       "</div>"
      ],
      "text/plain": [
       "            order_id  order_id_reorder  reorder_ratio\n",
       "product_id                                           \n",
       "37955              4               4.0            1.0\n",
       "48992              2               2.0            1.0\n",
       "2560               1               1.0            1.0\n",
       "39474              2               2.0            1.0\n",
       "40006              1               1.0            1.0\n",
       "...              ...               ...            ...\n",
       "29652              2               0.0            0.0\n",
       "24305              2               0.0            0.0\n",
       "34239              2               0.0            0.0\n",
       "17057              2               0.0            0.0\n",
       "38373              1               0.0            0.0\n",
       "\n",
       "[43995 rows x 3 columns]"
      ]
     },
     "execution_count": 78,
     "metadata": {},
     "output_type": "execute_result"
    }
   ],
   "source": [
    "# Proporción de veces que se vuelve a ordenar cada producto.\n",
    "\n",
    "# Creando los dos dataframes para unirlos.\n",
    "df_products_order = pd.DataFrame(df_products_order)\n",
    "df_products_reordered = pd.DataFrame(df_products_reordered)\n",
    "\n",
    "# Uniendo y llenando los valores nulos\n",
    "df_products_ratio = df_products_order.merge(df_products_reordered, how='left', on='product_id', suffixes=['', '_reorder'])\n",
    "df_products_ratio['order_id_reorder'].fillna(0, inplace=True)\n",
    "\n",
    "# Creando una columna para visualizar el ratio y ordenarlo de mayor a menor.\n",
    "df_products_ratio['reorder_ratio'] = df_products_ratio['order_id_reorder'] / df_products_ratio['order_id']\n",
    "df_products_ratio.sort_values('reorder_ratio', ascending=False)"
   ]
  },
  {
   "cell_type": "code",
   "execution_count": 79,
   "id": "103e7fe1",
   "metadata": {
    "id": "103e7fe1",
    "trusted": false
   },
   "outputs": [
    {
     "data": {
      "text/html": [
       "<div>\n",
       "<style scoped>\n",
       "    .dataframe tbody tr th:only-of-type {\n",
       "        vertical-align: middle;\n",
       "    }\n",
       "\n",
       "    .dataframe tbody tr th {\n",
       "        vertical-align: top;\n",
       "    }\n",
       "\n",
       "    .dataframe thead th {\n",
       "        text-align: right;\n",
       "    }\n",
       "</style>\n",
       "<table border=\"1\" class=\"dataframe\">\n",
       "  <thead>\n",
       "    <tr style=\"text-align: right;\">\n",
       "      <th></th>\n",
       "      <th>product_name</th>\n",
       "      <th>product_id</th>\n",
       "      <th>number of orders</th>\n",
       "      <th>reorder_ratio</th>\n",
       "    </tr>\n",
       "  </thead>\n",
       "  <tbody>\n",
       "    <tr>\n",
       "      <th>1</th>\n",
       "      <td>banana</td>\n",
       "      <td>24852</td>\n",
       "      <td>41783</td>\n",
       "      <td>0.845262</td>\n",
       "    </tr>\n",
       "    <tr>\n",
       "      <th>2</th>\n",
       "      <td>bag of organic bananas</td>\n",
       "      <td>13176</td>\n",
       "      <td>33478</td>\n",
       "      <td>0.834260</td>\n",
       "    </tr>\n",
       "    <tr>\n",
       "      <th>3</th>\n",
       "      <td>organic strawberries</td>\n",
       "      <td>21137</td>\n",
       "      <td>21601</td>\n",
       "      <td>0.773259</td>\n",
       "    </tr>\n",
       "    <tr>\n",
       "      <th>4</th>\n",
       "      <td>organic baby spinach</td>\n",
       "      <td>21903</td>\n",
       "      <td>19606</td>\n",
       "      <td>0.772803</td>\n",
       "    </tr>\n",
       "    <tr>\n",
       "      <th>5</th>\n",
       "      <td>organic hass avocado</td>\n",
       "      <td>47209</td>\n",
       "      <td>17762</td>\n",
       "      <td>0.795005</td>\n",
       "    </tr>\n",
       "    <tr>\n",
       "      <th>6</th>\n",
       "      <td>organic avocado</td>\n",
       "      <td>47766</td>\n",
       "      <td>14042</td>\n",
       "      <td>0.758371</td>\n",
       "    </tr>\n",
       "    <tr>\n",
       "      <th>7</th>\n",
       "      <td>organic whole milk</td>\n",
       "      <td>27845</td>\n",
       "      <td>12147</td>\n",
       "      <td>0.826214</td>\n",
       "    </tr>\n",
       "    <tr>\n",
       "      <th>8</th>\n",
       "      <td>large lemon</td>\n",
       "      <td>47626</td>\n",
       "      <td>11317</td>\n",
       "      <td>0.703881</td>\n",
       "    </tr>\n",
       "    <tr>\n",
       "      <th>9</th>\n",
       "      <td>organic raspberries</td>\n",
       "      <td>27966</td>\n",
       "      <td>11054</td>\n",
       "      <td>0.767532</td>\n",
       "    </tr>\n",
       "    <tr>\n",
       "      <th>10</th>\n",
       "      <td>strawberries</td>\n",
       "      <td>16797</td>\n",
       "      <td>10453</td>\n",
       "      <td>0.697750</td>\n",
       "    </tr>\n",
       "    <tr>\n",
       "      <th>11</th>\n",
       "      <td>limes</td>\n",
       "      <td>26209</td>\n",
       "      <td>9908</td>\n",
       "      <td>0.674978</td>\n",
       "    </tr>\n",
       "    <tr>\n",
       "      <th>12</th>\n",
       "      <td>organic yellow onion</td>\n",
       "      <td>22935</td>\n",
       "      <td>8334</td>\n",
       "      <td>0.701692</td>\n",
       "    </tr>\n",
       "    <tr>\n",
       "      <th>13</th>\n",
       "      <td>organic garlic</td>\n",
       "      <td>24964</td>\n",
       "      <td>7782</td>\n",
       "      <td>0.678288</td>\n",
       "    </tr>\n",
       "    <tr>\n",
       "      <th>14</th>\n",
       "      <td>organic zucchini</td>\n",
       "      <td>45007</td>\n",
       "      <td>7497</td>\n",
       "      <td>0.690141</td>\n",
       "    </tr>\n",
       "    <tr>\n",
       "      <th>15</th>\n",
       "      <td>cucumber kirby</td>\n",
       "      <td>49683</td>\n",
       "      <td>7194</td>\n",
       "      <td>0.697228</td>\n",
       "    </tr>\n",
       "    <tr>\n",
       "      <th>16</th>\n",
       "      <td>organic fuji apple</td>\n",
       "      <td>28204</td>\n",
       "      <td>6709</td>\n",
       "      <td>0.716391</td>\n",
       "    </tr>\n",
       "    <tr>\n",
       "      <th>17</th>\n",
       "      <td>apple honeycrisp organic</td>\n",
       "      <td>8277</td>\n",
       "      <td>6631</td>\n",
       "      <td>0.736942</td>\n",
       "    </tr>\n",
       "    <tr>\n",
       "      <th>18</th>\n",
       "      <td>organic blueberries</td>\n",
       "      <td>39275</td>\n",
       "      <td>6546</td>\n",
       "      <td>0.631366</td>\n",
       "    </tr>\n",
       "    <tr>\n",
       "      <th>19</th>\n",
       "      <td>organic half &amp; half</td>\n",
       "      <td>49235</td>\n",
       "      <td>6298</td>\n",
       "      <td>0.782360</td>\n",
       "    </tr>\n",
       "    <tr>\n",
       "      <th>20</th>\n",
       "      <td>organic lemon</td>\n",
       "      <td>5876</td>\n",
       "      <td>6294</td>\n",
       "      <td>0.686369</td>\n",
       "    </tr>\n",
       "  </tbody>\n",
       "</table>\n",
       "</div>"
      ],
      "text/plain": [
       "                product_name  product_id  number of orders  reorder_ratio\n",
       "1                     banana       24852             41783       0.845262\n",
       "2     bag of organic bananas       13176             33478       0.834260\n",
       "3       organic strawberries       21137             21601       0.773259\n",
       "4       organic baby spinach       21903             19606       0.772803\n",
       "5       organic hass avocado       47209             17762       0.795005\n",
       "6            organic avocado       47766             14042       0.758371\n",
       "7         organic whole milk       27845             12147       0.826214\n",
       "8                large lemon       47626             11317       0.703881\n",
       "9        organic raspberries       27966             11054       0.767532\n",
       "10              strawberries       16797             10453       0.697750\n",
       "11                     limes       26209              9908       0.674978\n",
       "12      organic yellow onion       22935              8334       0.701692\n",
       "13            organic garlic       24964              7782       0.678288\n",
       "14          organic zucchini       45007              7497       0.690141\n",
       "15            cucumber kirby       49683              7194       0.697228\n",
       "16        organic fuji apple       28204              6709       0.716391\n",
       "17  apple honeycrisp organic        8277              6631       0.736942\n",
       "18       organic blueberries       39275              6546       0.631366\n",
       "19       organic half & half       49235              6298       0.782360\n",
       "20             organic lemon        5876              6294       0.686369"
      ]
     },
     "execution_count": 79,
     "metadata": {},
     "output_type": "execute_result"
    }
   ],
   "source": [
    "# Explorando la proporcion de re ordenamiento de un producto para el top 20 de productos.\n",
    "top_20_products = top_20_products.merge(df_products_ratio[['reorder_ratio']], how='left', left_on='product_id', right_index=True)\n",
    "top_20_products"
   ]
  },
  {
   "cell_type": "markdown",
   "id": "I10dEIAyldcO",
   "metadata": {
    "id": "I10dEIAyldcO"
   },
   "source": [
    "Podemos observar que el top de productos tiene una proporción de reordenamiento muy buena y esto tiene sentido, ya que muchos de los productos en este top también aparecen en el top de productos que más veces se vuelven a ordenar."
   ]
  },
  {
   "cell_type": "markdown",
   "id": "subject-boxing",
   "metadata": {
    "id": "subject-boxing"
   },
   "source": [
    "### 3.11. Para cada cliente, ¿qué proporción de los productos que pidió ya los había pedido?"
   ]
  },
  {
   "cell_type": "code",
   "execution_count": 80,
   "id": "medical-couple",
   "metadata": {
    "id": "medical-couple",
    "scrolled": false,
    "trusted": false
   },
   "outputs": [
    {
     "data": {
      "text/html": [
       "<div>\n",
       "<style scoped>\n",
       "    .dataframe tbody tr th:only-of-type {\n",
       "        vertical-align: middle;\n",
       "    }\n",
       "\n",
       "    .dataframe tbody tr th {\n",
       "        vertical-align: top;\n",
       "    }\n",
       "\n",
       "    .dataframe thead th {\n",
       "        text-align: right;\n",
       "    }\n",
       "</style>\n",
       "<table border=\"1\" class=\"dataframe\">\n",
       "  <thead>\n",
       "    <tr style=\"text-align: right;\">\n",
       "      <th></th>\n",
       "      <th>total_products</th>\n",
       "      <th>products_reordered</th>\n",
       "      <th>reorder_ratio</th>\n",
       "    </tr>\n",
       "    <tr>\n",
       "      <th>user_id</th>\n",
       "      <th></th>\n",
       "      <th></th>\n",
       "      <th></th>\n",
       "    </tr>\n",
       "  </thead>\n",
       "  <tbody>\n",
       "    <tr>\n",
       "      <th>2</th>\n",
       "      <td>21</td>\n",
       "      <td>0.0</td>\n",
       "      <td>0.000000</td>\n",
       "    </tr>\n",
       "    <tr>\n",
       "      <th>4</th>\n",
       "      <td>1</td>\n",
       "      <td>0.0</td>\n",
       "      <td>0.000000</td>\n",
       "    </tr>\n",
       "    <tr>\n",
       "      <th>5</th>\n",
       "      <td>9</td>\n",
       "      <td>6.0</td>\n",
       "      <td>0.666667</td>\n",
       "    </tr>\n",
       "    <tr>\n",
       "      <th>6</th>\n",
       "      <td>4</td>\n",
       "      <td>0.0</td>\n",
       "      <td>0.000000</td>\n",
       "    </tr>\n",
       "    <tr>\n",
       "      <th>7</th>\n",
       "      <td>11</td>\n",
       "      <td>10.0</td>\n",
       "      <td>0.909091</td>\n",
       "    </tr>\n",
       "    <tr>\n",
       "      <th>...</th>\n",
       "      <td>...</td>\n",
       "      <td>...</td>\n",
       "      <td>...</td>\n",
       "    </tr>\n",
       "    <tr>\n",
       "      <th>206203</th>\n",
       "      <td>20</td>\n",
       "      <td>5.0</td>\n",
       "      <td>0.250000</td>\n",
       "    </tr>\n",
       "    <tr>\n",
       "      <th>206206</th>\n",
       "      <td>17</td>\n",
       "      <td>12.0</td>\n",
       "      <td>0.705882</td>\n",
       "    </tr>\n",
       "    <tr>\n",
       "      <th>206207</th>\n",
       "      <td>31</td>\n",
       "      <td>26.0</td>\n",
       "      <td>0.838710</td>\n",
       "    </tr>\n",
       "    <tr>\n",
       "      <th>206208</th>\n",
       "      <td>104</td>\n",
       "      <td>74.0</td>\n",
       "      <td>0.711538</td>\n",
       "    </tr>\n",
       "    <tr>\n",
       "      <th>206209</th>\n",
       "      <td>21</td>\n",
       "      <td>7.0</td>\n",
       "      <td>0.333333</td>\n",
       "    </tr>\n",
       "  </tbody>\n",
       "</table>\n",
       "<p>148361 rows × 3 columns</p>\n",
       "</div>"
      ],
      "text/plain": [
       "         total_products  products_reordered  reorder_ratio\n",
       "user_id                                                   \n",
       "2                    21                 0.0       0.000000\n",
       "4                     1                 0.0       0.000000\n",
       "5                     9                 6.0       0.666667\n",
       "6                     4                 0.0       0.000000\n",
       "7                    11                10.0       0.909091\n",
       "...                 ...                 ...            ...\n",
       "206203               20                 5.0       0.250000\n",
       "206206               17                12.0       0.705882\n",
       "206207               31                26.0       0.838710\n",
       "206208              104                74.0       0.711538\n",
       "206209               21                 7.0       0.333333\n",
       "\n",
       "[148361 rows x 3 columns]"
      ]
     },
     "execution_count": 80,
     "metadata": {},
     "output_type": "execute_result"
    }
   ],
   "source": [
    "# Proporción de productos que se pidieron de nuevo por cada cliente.\n",
    "# Creando el dataframe de productos por usuarios.\n",
    "df_sample_orders_users = df_sample_orders.merge(df_instacart[['order_id','user_id']], how='left', on='order_id')\n",
    "products_users = df_sample_orders_users.groupby('user_id')['product_id'].count()\n",
    "df_products_users = pd.DataFrame(products_users)\n",
    "\n",
    "# Creando el dataframe de productos por usuarios con productos que se volvieron a ordenar.\n",
    "df_sample_reorders_users = df_sample_orders_users[df_sample_orders_users['reordered'] == 1]\n",
    "products_users_reorder = df_sample_reorders_users.groupby('user_id')['product_id'].count()\n",
    "df_products_users_reorder = pd.DataFrame(products_users_reorder)\n",
    "\n",
    "# Juntando ambos dataframes para encontrar la proporcion\n",
    "client_ratio = df_products_users.merge(df_products_users_reorder, how='left', left_index=True, right_index=True)\n",
    "client_ratio.columns = ['total_products', 'products_reordered']\n",
    "client_ratio['products_reordered'].fillna(0, inplace=True)\n",
    "client_ratio['reorder_ratio'] = client_ratio['products_reordered'] / client_ratio['total_products']\n",
    "client_ratio"
   ]
  },
  {
   "cell_type": "code",
   "execution_count": 81,
   "id": "deff4818",
   "metadata": {
    "trusted": false
   },
   "outputs": [
    {
     "data": {
      "image/png": "[encoded data removed]",
      "text/plain": [
       "<Figure size 640x480 with 1 Axes>"
      ]
     },
     "metadata": {},
     "output_type": "display_data"
    }
   ],
   "source": [
    "# Visualizamos\n",
    "products_by_orders_plot = client_ratio['reorder_ratio'].plot(title='Proporción de productos re ordenados por usuarios',\n",
    "                                xlabel='Proporcion de productos que se volvieron a ordenar',\n",
    "                                ylabel='Número de usuarios',\n",
    "                                kind='hist',\n",
    "                                ylim=0) # Graficamos el conteo de los valores agrupados en un histograma.\n",
    "\n",
    "plt.grid(axis='y') # Añadimos una cuadricula para hacer la visualización mas sencilla.\n",
    "\n",
    "plt.show()"
   ]
  },
  {
   "cell_type": "markdown",
   "id": "BgJSvXDsleXz",
   "metadata": {
    "id": "BgJSvXDsleXz"
   },
   "source": [
    "Podemos concluir que una gran cantidad de usuarios vuelve a ordenar los mismos productos, en donde de sus órdenes la mayor cantidad de usuarios frecuenta reordenar entre el 50% y el 60% de sus productos. Sin embargo, también hay un grupo de usuarios que no reordenan ningún producto o reordenan muy poco (entre 0% y 10%), lo que nos indica que hay un grupo marcado de usuarios que no repite sus órdenes."
   ]
  },
  {
   "cell_type": "markdown",
   "id": "92d35137",
   "metadata": {
    "id": "92d35137"
   },
   "source": [
    "### 3.12. ¿Cuáles son los 20 principales artículos que la gente pone primero en sus carritos (IDs de los productos, sus nombres, y el número de veces en que fueron el primer artículo en añadirse al carrito)?"
   ]
  },
  {
   "cell_type": "code",
   "execution_count": 82,
   "id": "0ae57274",
   "metadata": {
    "id": "0ae57274",
    "scrolled": true,
    "trusted": false
   },
   "outputs": [
    {
     "name": "stdout",
     "output_type": "stream",
     "text": [
      "Top 20 productos puestos en el carrito de primeras:\n",
      "\n",
      "                   product_name  product_id  times\n",
      "1                        banana       24852  11700\n",
      "2        bag of organic bananas       13176   8245\n",
      "3            organic whole milk       27845   3228\n",
      "4          organic strawberries       21137   2954\n",
      "5          organic hass avocado       47209   2486\n",
      "6          organic baby spinach       21903   2478\n",
      "7               organic avocado       47766   2275\n",
      "8                  spring water       19660   1783\n",
      "9                  strawberries       16797   1730\n",
      "10          organic raspberries       27966   1539\n",
      "11   sparkling water grapefruit       44632   1417\n",
      "12          organic half & half       49235   1379\n",
      "13                  large lemon       47626   1286\n",
      "14                         soda         196   1280\n",
      "15     organic reduced fat milk       38689   1072\n",
      "16                        limes       26209   1016\n",
      "17  organic reduced fat 2% milk        5785   1006\n",
      "18                hass avocados       12341   1005\n",
      "19                  half & half       27086    962\n",
      "20                  raspberries       43352    941\n"
     ]
    }
   ],
   "source": [
    "# Top 20 articulos puestos de primeras en el carrito.\n",
    "# Filtro por todos los articulos incluidos de primeras al carrito.\n",
    "df_first_add = df_sample_orders[df_sample_orders['add_to_cart_order'] == 1]\n",
    "\n",
    "# Se agrupa por cada producto y se organizan de mayor a menor.\n",
    "first_add_product = df_first_add.groupby('product_id')['product_id'].count()\n",
    "first_add_product.sort_values(ascending=False, inplace=True)\n",
    "\n",
    "#Seleccionamos los 20 mas populares\n",
    "top_20_products_fisrt_added = first_add_product[0:20]\n",
    "\n",
    "# Organizamos un dataframe de resultados para el top \n",
    "top_20_list = []\n",
    "\n",
    "for i, product in top_20_products_fisrt_added.items():\n",
    "    row = {'product_name': df_products.query('product_id == @i').iloc[0]['product_name'], 'product_id': i, 'times': product}\n",
    "    top_20_list.append(row)\n",
    "    \n",
    "top_20_products = pd.DataFrame(top_20_list, index=range(1,21))\n",
    "    \n",
    "print('Top 20 productos puestos en el carrito de primeras:\\n')\n",
    "print(top_20_products)"
   ]
  },
  {
   "cell_type": "markdown",
   "id": "28ce9872",
   "metadata": {
    "id": "28ce9872"
   },
   "source": [
    "Nuevamente tenemos a las bananas liderando este top y a los productos orgánicos ocupando múltiples puestos en este análisis."
   ]
  },
  {
   "cell_type": "markdown",
   "id": "uITbFCEoDosC",
   "metadata": {
    "id": "uITbFCEoDosC"
   },
   "source": [
    "# Conclusiones <a id='end'></a>"
   ]
  },
  {
   "cell_type": "markdown",
   "id": "b3bb9904",
   "metadata": {
    "id": "Nk-4GS7mDwqY"
   },
   "source": [
    "Al organizar y limpiar los datos de cada una de las tablas proporcionadas, logramos establecer algunos patrones en las órdenes y los usuarios del negocio.\n",
    "\n",
    "\n",
    "- La visualización de horas más concurridas de órdenes nos muestra cómo a partir de las 7 de la mañana se disparan los pedidos, alcanzan un máximo entre las 10 am y las 4 pm y a partir de esa hora inician a descender paulatinamente. Además, los domingos son los días con más órdenes.\n",
    "\n",
    "- Podemos concluir que un gran grupo de clientes espera de entre 1 a 8 días para realizar su próximo pedido.\n",
    "\n",
    "- Los productos más populares entre los usuarios suelen ser los productos orgánicos, especialmente las frutas y las leches."
   ]
  }
 ],
 "metadata": {
  "ExecuteTimeLog": [
   {
    "duration": 332,
    "start_time": "2024-12-19T14:17:12.145Z"
   },
   {
    "duration": 2228,
    "start_time": "2024-12-19T14:17:13.672Z"
   },
   {
    "duration": 20,
    "start_time": "2024-12-19T14:17:16.934Z"
   },
   {
    "duration": 11,
    "start_time": "2024-12-19T14:17:41.605Z"
   },
   {
    "duration": 123,
    "start_time": "2024-12-19T14:17:52.324Z"
   },
   {
    "duration": 8,
    "start_time": "2024-12-19T14:17:55.602Z"
   },
   {
    "duration": 8,
    "start_time": "2024-12-19T14:17:59.277Z"
   },
   {
    "duration": 917,
    "start_time": "2024-12-19T14:20:40.269Z"
   },
   {
    "duration": 12,
    "start_time": "2024-12-19T14:21:15.965Z"
   },
   {
    "duration": 10,
    "start_time": "2024-12-19T14:21:45.117Z"
   },
   {
    "duration": 24,
    "start_time": "2024-12-19T14:22:07.049Z"
   },
   {
    "duration": 8,
    "start_time": "2024-12-19T14:22:27.016Z"
   },
   {
    "duration": 8,
    "start_time": "2024-12-19T14:22:33.027Z"
   },
   {
    "duration": 10,
    "start_time": "2024-12-19T14:23:23.611Z"
   },
   {
    "duration": 9,
    "start_time": "2024-12-19T14:23:45.807Z"
   },
   {
    "duration": 9,
    "start_time": "2024-12-19T14:24:49.589Z"
   },
   {
    "duration": 23,
    "start_time": "2024-12-19T14:24:55.363Z"
   },
   {
    "duration": 332,
    "start_time": "2024-12-19T14:27:07.855Z"
   },
   {
    "duration": 2126,
    "start_time": "2024-12-19T14:27:08.189Z"
   },
   {
    "duration": 20,
    "start_time": "2024-12-19T14:27:10.317Z"
   },
   {
    "duration": 8,
    "start_time": "2024-12-19T14:27:10.340Z"
   },
   {
    "duration": 136,
    "start_time": "2024-12-19T14:27:10.350Z"
   },
   {
    "duration": 8,
    "start_time": "2024-12-19T14:27:10.488Z"
   },
   {
    "duration": 7,
    "start_time": "2024-12-19T14:27:10.498Z"
   },
   {
    "duration": 916,
    "start_time": "2024-12-19T14:27:10.507Z"
   },
   {
    "duration": 10,
    "start_time": "2024-12-19T14:27:11.424Z"
   },
   {
    "duration": 9,
    "start_time": "2024-12-19T14:27:11.437Z"
   },
   {
    "duration": 22,
    "start_time": "2024-12-19T14:27:11.448Z"
   },
   {
    "duration": 8,
    "start_time": "2024-12-19T14:27:11.472Z"
   },
   {
    "duration": 8,
    "start_time": "2024-12-19T14:27:11.481Z"
   },
   {
    "duration": 2,
    "start_time": "2024-12-19T14:27:11.492Z"
   },
   {
    "duration": 2,
    "start_time": "2024-12-19T14:27:11.532Z"
   },
   {
    "duration": 2,
    "start_time": "2024-12-19T14:27:11.536Z"
   },
   {
    "duration": 2,
    "start_time": "2024-12-19T14:27:11.540Z"
   },
   {
    "duration": 2,
    "start_time": "2024-12-19T14:27:11.544Z"
   },
   {
    "duration": 2,
    "start_time": "2024-12-19T14:27:11.549Z"
   },
   {
    "duration": 2,
    "start_time": "2024-12-19T14:27:11.553Z"
   },
   {
    "duration": 2,
    "start_time": "2024-12-19T14:27:11.557Z"
   },
   {
    "duration": 3,
    "start_time": "2024-12-19T14:27:11.561Z"
   },
   {
    "duration": 2,
    "start_time": "2024-12-19T14:27:11.566Z"
   },
   {
    "duration": 2,
    "start_time": "2024-12-19T14:27:11.570Z"
   },
   {
    "duration": 2,
    "start_time": "2024-12-19T14:27:11.574Z"
   },
   {
    "duration": 2,
    "start_time": "2024-12-19T14:27:11.578Z"
   },
   {
    "duration": 51,
    "start_time": "2024-12-19T14:27:11.582Z"
   },
   {
    "duration": 3,
    "start_time": "2024-12-19T14:27:11.637Z"
   },
   {
    "duration": 2,
    "start_time": "2024-12-19T14:27:11.641Z"
   },
   {
    "duration": 2,
    "start_time": "2024-12-19T14:27:11.645Z"
   },
   {
    "duration": 3,
    "start_time": "2024-12-19T14:27:11.649Z"
   },
   {
    "duration": 3,
    "start_time": "2024-12-19T14:27:11.653Z"
   },
   {
    "duration": 2,
    "start_time": "2024-12-19T14:27:11.658Z"
   },
   {
    "duration": 2,
    "start_time": "2024-12-19T14:27:11.662Z"
   },
   {
    "duration": 3,
    "start_time": "2024-12-19T14:27:11.665Z"
   },
   {
    "duration": 3,
    "start_time": "2024-12-19T14:27:11.670Z"
   },
   {
    "duration": 3,
    "start_time": "2024-12-19T14:27:11.674Z"
   },
   {
    "duration": 3,
    "start_time": "2024-12-19T14:27:11.678Z"
   },
   {
    "duration": 3,
    "start_time": "2024-12-19T14:27:11.682Z"
   },
   {
    "duration": 3,
    "start_time": "2024-12-19T14:27:11.732Z"
   },
   {
    "duration": 10,
    "start_time": "2024-12-19T14:41:50.150Z"
   },
   {
    "duration": 10,
    "start_time": "2024-12-19T14:42:40.630Z"
   },
   {
    "duration": 7,
    "start_time": "2024-12-19T14:43:06.081Z"
   },
   {
    "duration": 5,
    "start_time": "2024-12-19T14:43:44.084Z"
   },
   {
    "duration": 5,
    "start_time": "2024-12-19T14:45:50.556Z"
   },
   {
    "duration": 308,
    "start_time": "2024-12-19T14:47:58.099Z"
   },
   {
    "duration": 2251,
    "start_time": "2024-12-19T14:47:58.409Z"
   },
   {
    "duration": 23,
    "start_time": "2024-12-19T14:48:00.662Z"
   },
   {
    "duration": 10,
    "start_time": "2024-12-19T14:48:00.688Z"
   },
   {
    "duration": 150,
    "start_time": "2024-12-19T14:48:00.701Z"
   },
   {
    "duration": 9,
    "start_time": "2024-12-19T14:48:00.855Z"
   },
   {
    "duration": 7,
    "start_time": "2024-12-19T14:48:00.866Z"
   },
   {
    "duration": 1017,
    "start_time": "2024-12-19T14:48:00.875Z"
   },
   {
    "duration": 10,
    "start_time": "2024-12-19T14:48:01.894Z"
   },
   {
    "duration": 10,
    "start_time": "2024-12-19T14:48:01.909Z"
   },
   {
    "duration": 16,
    "start_time": "2024-12-19T14:48:01.931Z"
   },
   {
    "duration": 13,
    "start_time": "2024-12-19T14:48:01.951Z"
   },
   {
    "duration": 31,
    "start_time": "2024-12-19T14:48:01.967Z"
   },
   {
    "duration": 10,
    "start_time": "2024-12-19T14:48:02.001Z"
   },
   {
    "duration": 11,
    "start_time": "2024-12-19T14:48:02.032Z"
   },
   {
    "duration": 7,
    "start_time": "2024-12-19T14:48:02.045Z"
   },
   {
    "duration": 9,
    "start_time": "2024-12-19T14:48:02.054Z"
   },
   {
    "duration": 7,
    "start_time": "2024-12-19T14:48:02.065Z"
   },
   {
    "duration": 3,
    "start_time": "2024-12-19T14:48:02.074Z"
   },
   {
    "duration": 3,
    "start_time": "2024-12-19T14:48:02.078Z"
   },
   {
    "duration": 3,
    "start_time": "2024-12-19T14:48:02.082Z"
   },
   {
    "duration": 3,
    "start_time": "2024-12-19T14:48:02.086Z"
   },
   {
    "duration": 42,
    "start_time": "2024-12-19T14:48:02.091Z"
   },
   {
    "duration": 6,
    "start_time": "2024-12-19T14:48:02.137Z"
   },
   {
    "duration": 2,
    "start_time": "2024-12-19T14:48:02.145Z"
   },
   {
    "duration": 3,
    "start_time": "2024-12-19T14:48:02.149Z"
   },
   {
    "duration": 3,
    "start_time": "2024-12-19T14:48:02.153Z"
   },
   {
    "duration": 2,
    "start_time": "2024-12-19T14:48:02.160Z"
   },
   {
    "duration": 2,
    "start_time": "2024-12-19T14:48:02.164Z"
   },
   {
    "duration": 3,
    "start_time": "2024-12-19T14:48:02.168Z"
   },
   {
    "duration": 3,
    "start_time": "2024-12-19T14:48:02.173Z"
   },
   {
    "duration": 3,
    "start_time": "2024-12-19T14:48:02.177Z"
   },
   {
    "duration": 5,
    "start_time": "2024-12-19T14:48:02.181Z"
   },
   {
    "duration": 3,
    "start_time": "2024-12-19T14:48:02.231Z"
   },
   {
    "duration": 2,
    "start_time": "2024-12-19T14:48:02.236Z"
   },
   {
    "duration": 2,
    "start_time": "2024-12-19T14:48:02.239Z"
   },
   {
    "duration": 3,
    "start_time": "2024-12-19T14:48:02.243Z"
   },
   {
    "duration": 3,
    "start_time": "2024-12-19T14:48:02.247Z"
   },
   {
    "duration": 2,
    "start_time": "2024-12-19T14:48:02.252Z"
   },
   {
    "duration": 2,
    "start_time": "2024-12-19T14:48:02.256Z"
   },
   {
    "duration": 3,
    "start_time": "2024-12-19T14:48:02.259Z"
   },
   {
    "duration": 3,
    "start_time": "2024-12-19T14:48:02.263Z"
   },
   {
    "duration": 3,
    "start_time": "2024-12-19T14:48:02.267Z"
   },
   {
    "duration": 2,
    "start_time": "2024-12-19T14:48:02.271Z"
   },
   {
    "duration": 3,
    "start_time": "2024-12-19T14:48:02.275Z"
   },
   {
    "duration": 2,
    "start_time": "2024-12-19T14:48:02.332Z"
   },
   {
    "duration": 2,
    "start_time": "2024-12-19T14:56:49.209Z"
   },
   {
    "duration": 691,
    "start_time": "2024-12-19T15:22:41.494Z"
   },
   {
    "duration": 5,
    "start_time": "2024-12-19T16:21:01.217Z"
   },
   {
    "duration": 437,
    "start_time": "2024-12-19T16:22:41.816Z"
   },
   {
    "duration": 7,
    "start_time": "2024-12-19T16:23:05.519Z"
   },
   {
    "duration": 16,
    "start_time": "2024-12-19T16:32:11.138Z"
   },
   {
    "duration": 215,
    "start_time": "2024-12-19T16:32:18.817Z"
   },
   {
    "duration": 2,
    "start_time": "2024-12-19T16:32:46.315Z"
   },
   {
    "duration": 41,
    "start_time": "2024-12-19T16:32:52.558Z"
   },
   {
    "duration": 39,
    "start_time": "2024-12-19T16:33:25.989Z"
   },
   {
    "duration": 5,
    "start_time": "2024-12-19T16:34:31.591Z"
   },
   {
    "duration": 51,
    "start_time": "2024-12-19T16:35:31.882Z"
   },
   {
    "duration": 50,
    "start_time": "2024-12-19T16:35:37.848Z"
   },
   {
    "duration": 7,
    "start_time": "2024-12-19T16:36:26.082Z"
   },
   {
    "duration": 9,
    "start_time": "2024-12-19T16:39:07.478Z"
   },
   {
    "duration": 10,
    "start_time": "2024-12-19T16:39:12.567Z"
   },
   {
    "duration": 319,
    "start_time": "2024-12-19T16:42:18.886Z"
   },
   {
    "duration": 2200,
    "start_time": "2024-12-19T16:42:19.208Z"
   },
   {
    "duration": 26,
    "start_time": "2024-12-19T16:42:21.410Z"
   },
   {
    "duration": 11,
    "start_time": "2024-12-19T16:42:21.438Z"
   },
   {
    "duration": 134,
    "start_time": "2024-12-19T16:42:21.452Z"
   },
   {
    "duration": 7,
    "start_time": "2024-12-19T16:42:21.588Z"
   },
   {
    "duration": 9,
    "start_time": "2024-12-19T16:42:21.597Z"
   },
   {
    "duration": 941,
    "start_time": "2024-12-19T16:42:21.607Z"
   },
   {
    "duration": 9,
    "start_time": "2024-12-19T16:42:22.550Z"
   },
   {
    "duration": 11,
    "start_time": "2024-12-19T16:42:22.563Z"
   },
   {
    "duration": 10,
    "start_time": "2024-12-19T16:42:22.577Z"
   },
   {
    "duration": 6,
    "start_time": "2024-12-19T16:42:22.588Z"
   },
   {
    "duration": 47,
    "start_time": "2024-12-19T16:42:22.596Z"
   },
   {
    "duration": 6,
    "start_time": "2024-12-19T16:42:22.646Z"
   },
   {
    "duration": 8,
    "start_time": "2024-12-19T16:42:22.654Z"
   },
   {
    "duration": 5,
    "start_time": "2024-12-19T16:42:22.663Z"
   },
   {
    "duration": 7,
    "start_time": "2024-12-19T16:42:22.670Z"
   },
   {
    "duration": 5,
    "start_time": "2024-12-19T16:42:22.679Z"
   },
   {
    "duration": 7,
    "start_time": "2024-12-19T16:42:22.685Z"
   },
   {
    "duration": 41,
    "start_time": "2024-12-19T16:42:22.694Z"
   },
   {
    "duration": 7,
    "start_time": "2024-12-19T16:42:22.737Z"
   },
   {
    "duration": 3,
    "start_time": "2024-12-19T16:42:22.747Z"
   },
   {
    "duration": 2,
    "start_time": "2024-12-19T16:42:22.752Z"
   },
   {
    "duration": 3,
    "start_time": "2024-12-19T16:42:22.756Z"
   },
   {
    "duration": 3,
    "start_time": "2024-12-19T16:42:22.760Z"
   },
   {
    "duration": 3,
    "start_time": "2024-12-19T16:42:22.764Z"
   },
   {
    "duration": 2,
    "start_time": "2024-12-19T16:42:22.769Z"
   },
   {
    "duration": 2,
    "start_time": "2024-12-19T16:42:22.775Z"
   },
   {
    "duration": 3,
    "start_time": "2024-12-19T16:42:22.779Z"
   },
   {
    "duration": 2,
    "start_time": "2024-12-19T16:42:22.783Z"
   },
   {
    "duration": 46,
    "start_time": "2024-12-19T16:42:22.787Z"
   },
   {
    "duration": 3,
    "start_time": "2024-12-19T16:42:22.834Z"
   },
   {
    "duration": 2,
    "start_time": "2024-12-19T16:42:22.839Z"
   },
   {
    "duration": 3,
    "start_time": "2024-12-19T16:42:22.842Z"
   },
   {
    "duration": 3,
    "start_time": "2024-12-19T16:42:22.846Z"
   },
   {
    "duration": 3,
    "start_time": "2024-12-19T16:42:22.850Z"
   },
   {
    "duration": 3,
    "start_time": "2024-12-19T16:42:22.854Z"
   },
   {
    "duration": 3,
    "start_time": "2024-12-19T16:42:22.858Z"
   },
   {
    "duration": 2,
    "start_time": "2024-12-19T16:42:22.863Z"
   },
   {
    "duration": 3,
    "start_time": "2024-12-19T16:42:22.866Z"
   },
   {
    "duration": 3,
    "start_time": "2024-12-19T16:42:22.870Z"
   },
   {
    "duration": 4,
    "start_time": "2024-12-19T16:42:22.874Z"
   },
   {
    "duration": 52,
    "start_time": "2024-12-19T16:42:22.880Z"
   },
   {
    "duration": 2,
    "start_time": "2024-12-19T16:42:22.934Z"
   },
   {
    "duration": 2,
    "start_time": "2024-12-19T16:42:22.938Z"
   },
   {
    "duration": 2,
    "start_time": "2024-12-19T16:42:22.942Z"
   },
   {
    "duration": 2,
    "start_time": "2024-12-19T16:42:22.946Z"
   },
   {
    "duration": 2,
    "start_time": "2024-12-19T16:42:22.950Z"
   },
   {
    "duration": 5,
    "start_time": "2024-12-19T16:42:42.972Z"
   },
   {
    "duration": 11,
    "start_time": "2024-12-19T16:42:53.419Z"
   },
   {
    "duration": 19,
    "start_time": "2024-12-19T16:43:25.679Z"
   },
   {
    "duration": 163,
    "start_time": "2024-12-19T17:23:48.028Z"
   },
   {
    "duration": 323,
    "start_time": "2024-12-19T17:24:05.313Z"
   },
   {
    "duration": 2117,
    "start_time": "2024-12-19T17:24:05.638Z"
   },
   {
    "duration": 21,
    "start_time": "2024-12-19T17:24:07.756Z"
   },
   {
    "duration": 9,
    "start_time": "2024-12-19T17:24:07.780Z"
   },
   {
    "duration": 133,
    "start_time": "2024-12-19T17:24:07.791Z"
   },
   {
    "duration": 7,
    "start_time": "2024-12-19T17:24:07.927Z"
   },
   {
    "duration": 7,
    "start_time": "2024-12-19T17:24:07.936Z"
   },
   {
    "duration": 931,
    "start_time": "2024-12-19T17:24:07.944Z"
   },
   {
    "duration": 9,
    "start_time": "2024-12-19T17:24:08.877Z"
   },
   {
    "duration": 10,
    "start_time": "2024-12-19T17:24:08.889Z"
   },
   {
    "duration": 9,
    "start_time": "2024-12-19T17:24:08.912Z"
   },
   {
    "duration": 6,
    "start_time": "2024-12-19T17:24:08.922Z"
   },
   {
    "duration": 22,
    "start_time": "2024-12-19T17:24:08.930Z"
   },
   {
    "duration": 6,
    "start_time": "2024-12-19T17:24:08.954Z"
   },
   {
    "duration": 7,
    "start_time": "2024-12-19T17:24:08.962Z"
   },
   {
    "duration": 41,
    "start_time": "2024-12-19T17:24:08.972Z"
   },
   {
    "duration": 8,
    "start_time": "2024-12-19T17:24:09.015Z"
   },
   {
    "duration": 6,
    "start_time": "2024-12-19T17:24:09.025Z"
   },
   {
    "duration": 8,
    "start_time": "2024-12-19T17:24:09.032Z"
   },
   {
    "duration": 9,
    "start_time": "2024-12-19T17:24:09.043Z"
   },
   {
    "duration": 5,
    "start_time": "2024-12-19T17:24:09.054Z"
   },
   {
    "duration": 2,
    "start_time": "2024-12-19T17:24:09.061Z"
   },
   {
    "duration": 3,
    "start_time": "2024-12-19T17:24:09.064Z"
   },
   {
    "duration": 3,
    "start_time": "2024-12-19T17:24:09.068Z"
   },
   {
    "duration": 41,
    "start_time": "2024-12-19T17:24:09.073Z"
   },
   {
    "duration": 3,
    "start_time": "2024-12-19T17:24:09.116Z"
   },
   {
    "duration": 3,
    "start_time": "2024-12-19T17:24:09.120Z"
   },
   {
    "duration": 2,
    "start_time": "2024-12-19T17:24:09.128Z"
   },
   {
    "duration": 2,
    "start_time": "2024-12-19T17:24:09.132Z"
   },
   {
    "duration": 2,
    "start_time": "2024-12-19T17:24:09.136Z"
   },
   {
    "duration": 3,
    "start_time": "2024-12-19T17:24:09.140Z"
   },
   {
    "duration": 4,
    "start_time": "2024-12-19T17:24:09.144Z"
   },
   {
    "duration": 3,
    "start_time": "2024-12-19T17:24:09.149Z"
   },
   {
    "duration": 3,
    "start_time": "2024-12-19T17:24:09.154Z"
   },
   {
    "duration": 3,
    "start_time": "2024-12-19T17:24:09.158Z"
   },
   {
    "duration": 3,
    "start_time": "2024-12-19T17:24:09.163Z"
   },
   {
    "duration": 46,
    "start_time": "2024-12-19T17:24:09.167Z"
   },
   {
    "duration": 3,
    "start_time": "2024-12-19T17:24:09.215Z"
   },
   {
    "duration": 4,
    "start_time": "2024-12-19T17:24:09.219Z"
   },
   {
    "duration": 3,
    "start_time": "2024-12-19T17:24:09.224Z"
   },
   {
    "duration": 3,
    "start_time": "2024-12-19T17:24:09.229Z"
   },
   {
    "duration": 3,
    "start_time": "2024-12-19T17:24:09.233Z"
   },
   {
    "duration": 4,
    "start_time": "2024-12-19T17:24:09.237Z"
   },
   {
    "duration": 3,
    "start_time": "2024-12-19T17:24:09.242Z"
   },
   {
    "duration": 4,
    "start_time": "2024-12-19T17:24:09.247Z"
   },
   {
    "duration": 3,
    "start_time": "2024-12-19T17:24:09.252Z"
   },
   {
    "duration": 4,
    "start_time": "2024-12-19T17:24:09.256Z"
   },
   {
    "duration": 3,
    "start_time": "2024-12-19T17:24:09.261Z"
   },
   {
    "duration": 170,
    "start_time": "2024-12-19T17:24:42.159Z"
   },
   {
    "duration": 7,
    "start_time": "2024-12-19T17:24:47.587Z"
   },
   {
    "duration": 7,
    "start_time": "2024-12-19T17:33:27.691Z"
   },
   {
    "duration": 304,
    "start_time": "2024-12-19T17:34:01.872Z"
   },
   {
    "duration": 1981,
    "start_time": "2024-12-19T17:34:02.178Z"
   },
   {
    "duration": 20,
    "start_time": "2024-12-19T17:34:04.161Z"
   },
   {
    "duration": 8,
    "start_time": "2024-12-19T17:34:04.184Z"
   },
   {
    "duration": 135,
    "start_time": "2024-12-19T17:34:04.193Z"
   },
   {
    "duration": 7,
    "start_time": "2024-12-19T17:34:04.330Z"
   },
   {
    "duration": 7,
    "start_time": "2024-12-19T17:34:04.339Z"
   },
   {
    "duration": 941,
    "start_time": "2024-12-19T17:34:04.348Z"
   },
   {
    "duration": 11,
    "start_time": "2024-12-19T17:34:05.291Z"
   },
   {
    "duration": 19,
    "start_time": "2024-12-19T17:34:05.306Z"
   },
   {
    "duration": 9,
    "start_time": "2024-12-19T17:34:05.327Z"
   },
   {
    "duration": 6,
    "start_time": "2024-12-19T17:34:05.337Z"
   },
   {
    "duration": 22,
    "start_time": "2024-12-19T17:34:05.345Z"
   },
   {
    "duration": 6,
    "start_time": "2024-12-19T17:34:05.369Z"
   },
   {
    "duration": 36,
    "start_time": "2024-12-19T17:34:05.376Z"
   },
   {
    "duration": 6,
    "start_time": "2024-12-19T17:34:05.414Z"
   },
   {
    "duration": 8,
    "start_time": "2024-12-19T17:34:05.421Z"
   },
   {
    "duration": 6,
    "start_time": "2024-12-19T17:34:05.430Z"
   },
   {
    "duration": 8,
    "start_time": "2024-12-19T17:34:05.437Z"
   },
   {
    "duration": 11,
    "start_time": "2024-12-19T17:34:05.446Z"
   },
   {
    "duration": 7,
    "start_time": "2024-12-19T17:34:05.459Z"
   },
   {
    "duration": 49,
    "start_time": "2024-12-19T17:34:05.468Z"
   },
   {
    "duration": 3,
    "start_time": "2024-12-19T17:34:05.518Z"
   },
   {
    "duration": 4,
    "start_time": "2024-12-19T17:34:05.522Z"
   },
   {
    "duration": 3,
    "start_time": "2024-12-19T17:34:05.527Z"
   },
   {
    "duration": 3,
    "start_time": "2024-12-19T17:34:05.532Z"
   },
   {
    "duration": 4,
    "start_time": "2024-12-19T17:34:05.536Z"
   },
   {
    "duration": 2,
    "start_time": "2024-12-19T17:34:05.544Z"
   },
   {
    "duration": 2,
    "start_time": "2024-12-19T17:34:05.548Z"
   },
   {
    "duration": 3,
    "start_time": "2024-12-19T17:34:05.551Z"
   },
   {
    "duration": 3,
    "start_time": "2024-12-19T17:34:05.556Z"
   },
   {
    "duration": 3,
    "start_time": "2024-12-19T17:34:05.560Z"
   },
   {
    "duration": 46,
    "start_time": "2024-12-19T17:34:05.566Z"
   },
   {
    "duration": 4,
    "start_time": "2024-12-19T17:34:05.613Z"
   },
   {
    "duration": 3,
    "start_time": "2024-12-19T17:34:05.618Z"
   },
   {
    "duration": 4,
    "start_time": "2024-12-19T17:34:05.622Z"
   },
   {
    "duration": 3,
    "start_time": "2024-12-19T17:34:05.627Z"
   },
   {
    "duration": 3,
    "start_time": "2024-12-19T17:34:05.632Z"
   },
   {
    "duration": 4,
    "start_time": "2024-12-19T17:34:05.636Z"
   },
   {
    "duration": 3,
    "start_time": "2024-12-19T17:34:05.641Z"
   },
   {
    "duration": 3,
    "start_time": "2024-12-19T17:34:05.646Z"
   },
   {
    "duration": 4,
    "start_time": "2024-12-19T17:34:05.650Z"
   },
   {
    "duration": 3,
    "start_time": "2024-12-19T17:34:05.655Z"
   },
   {
    "duration": 3,
    "start_time": "2024-12-19T17:34:05.660Z"
   },
   {
    "duration": 2,
    "start_time": "2024-12-19T17:34:05.665Z"
   },
   {
    "duration": 43,
    "start_time": "2024-12-19T17:34:05.669Z"
   },
   {
    "duration": 3,
    "start_time": "2024-12-19T17:34:05.713Z"
   },
   {
    "duration": 2,
    "start_time": "2024-12-19T17:34:05.718Z"
   },
   {
    "duration": 4,
    "start_time": "2024-12-19T17:34:05.722Z"
   },
   {
    "duration": 3,
    "start_time": "2024-12-19T17:34:40.520Z"
   },
   {
    "duration": 4,
    "start_time": "2024-12-19T17:59:02.647Z"
   },
   {
    "duration": 523,
    "start_time": "2024-12-19T17:59:10.069Z"
   },
   {
    "duration": 32,
    "start_time": "2024-12-19T17:59:26.132Z"
   },
   {
    "duration": 37,
    "start_time": "2024-12-19T18:00:51.723Z"
   },
   {
    "duration": 19,
    "start_time": "2024-12-19T18:01:37.505Z"
   },
   {
    "duration": 28,
    "start_time": "2024-12-19T18:02:49.705Z"
   },
   {
    "duration": 3,
    "start_time": "2024-12-19T18:03:28.358Z"
   },
   {
    "duration": 4,
    "start_time": "2024-12-19T18:03:41.356Z"
   },
   {
    "duration": 291,
    "start_time": "2024-12-19T18:04:49.509Z"
   },
   {
    "duration": 2009,
    "start_time": "2024-12-19T18:04:49.803Z"
   },
   {
    "duration": 21,
    "start_time": "2024-12-19T18:04:51.814Z"
   },
   {
    "duration": 10,
    "start_time": "2024-12-19T18:04:51.837Z"
   },
   {
    "duration": 134,
    "start_time": "2024-12-19T18:04:51.848Z"
   },
   {
    "duration": 7,
    "start_time": "2024-12-19T18:04:51.984Z"
   },
   {
    "duration": 21,
    "start_time": "2024-12-19T18:04:51.992Z"
   },
   {
    "duration": 938,
    "start_time": "2024-12-19T18:04:52.015Z"
   },
   {
    "duration": 10,
    "start_time": "2024-12-19T18:04:52.955Z"
   },
   {
    "duration": 9,
    "start_time": "2024-12-19T18:04:52.969Z"
   },
   {
    "duration": 8,
    "start_time": "2024-12-19T18:04:52.980Z"
   },
   {
    "duration": 22,
    "start_time": "2024-12-19T18:04:52.990Z"
   },
   {
    "duration": 23,
    "start_time": "2024-12-19T18:04:53.014Z"
   },
   {
    "duration": 7,
    "start_time": "2024-12-19T18:04:53.038Z"
   },
   {
    "duration": 7,
    "start_time": "2024-12-19T18:04:53.047Z"
   },
   {
    "duration": 5,
    "start_time": "2024-12-19T18:04:53.056Z"
   },
   {
    "duration": 8,
    "start_time": "2024-12-19T18:04:53.062Z"
   },
   {
    "duration": 43,
    "start_time": "2024-12-19T18:04:53.071Z"
   },
   {
    "duration": 6,
    "start_time": "2024-12-19T18:04:53.116Z"
   },
   {
    "duration": 9,
    "start_time": "2024-12-19T18:04:53.124Z"
   },
   {
    "duration": 7,
    "start_time": "2024-12-19T18:04:53.135Z"
   },
   {
    "duration": 11,
    "start_time": "2024-12-19T18:04:53.143Z"
   },
   {
    "duration": 3,
    "start_time": "2024-12-19T18:04:53.156Z"
   },
   {
    "duration": 69,
    "start_time": "2024-12-19T18:04:53.161Z"
   },
   {
    "duration": 49,
    "start_time": "2024-12-19T18:04:53.231Z"
   },
   {
    "duration": 32,
    "start_time": "2024-12-19T18:04:53.281Z"
   },
   {
    "duration": 27,
    "start_time": "2024-12-19T18:04:53.315Z"
   },
   {
    "duration": 5,
    "start_time": "2024-12-19T18:04:53.346Z"
   },
   {
    "duration": 2,
    "start_time": "2024-12-19T18:04:53.353Z"
   },
   {
    "duration": 3,
    "start_time": "2024-12-19T18:04:53.357Z"
   },
   {
    "duration": 5,
    "start_time": "2024-12-19T18:04:53.361Z"
   },
   {
    "duration": 3,
    "start_time": "2024-12-19T18:04:53.367Z"
   },
   {
    "duration": 2,
    "start_time": "2024-12-19T18:04:53.372Z"
   },
   {
    "duration": 3,
    "start_time": "2024-12-19T18:04:53.376Z"
   },
   {
    "duration": 34,
    "start_time": "2024-12-19T18:04:53.380Z"
   },
   {
    "duration": 3,
    "start_time": "2024-12-19T18:04:53.416Z"
   },
   {
    "duration": 3,
    "start_time": "2024-12-19T18:04:53.421Z"
   },
   {
    "duration": 3,
    "start_time": "2024-12-19T18:04:53.425Z"
   },
   {
    "duration": 4,
    "start_time": "2024-12-19T18:04:53.429Z"
   },
   {
    "duration": 3,
    "start_time": "2024-12-19T18:04:53.434Z"
   },
   {
    "duration": 4,
    "start_time": "2024-12-19T18:04:53.438Z"
   },
   {
    "duration": 3,
    "start_time": "2024-12-19T18:04:53.443Z"
   },
   {
    "duration": 3,
    "start_time": "2024-12-19T18:04:53.448Z"
   },
   {
    "duration": 2,
    "start_time": "2024-12-19T18:04:53.453Z"
   },
   {
    "duration": 3,
    "start_time": "2024-12-19T18:04:53.458Z"
   },
   {
    "duration": 3,
    "start_time": "2024-12-19T18:04:53.463Z"
   },
   {
    "duration": 3,
    "start_time": "2024-12-19T18:04:53.467Z"
   },
   {
    "duration": 41,
    "start_time": "2024-12-19T18:04:53.472Z"
   },
   {
    "duration": 4,
    "start_time": "2024-12-19T18:04:53.514Z"
   },
   {
    "duration": 3,
    "start_time": "2024-12-19T18:04:53.519Z"
   },
   {
    "duration": 3,
    "start_time": "2024-12-19T18:04:53.524Z"
   },
   {
    "duration": 2,
    "start_time": "2024-12-19T18:04:53.529Z"
   },
   {
    "duration": 3,
    "start_time": "2024-12-19T18:04:53.533Z"
   },
   {
    "duration": 3,
    "start_time": "2024-12-19T18:04:53.538Z"
   },
   {
    "duration": 3,
    "start_time": "2024-12-19T18:04:53.542Z"
   },
   {
    "duration": 235,
    "start_time": "2024-12-19T18:08:36.695Z"
   },
   {
    "duration": 464,
    "start_time": "2024-12-19T18:09:16.270Z"
   },
   {
    "duration": 44,
    "start_time": "2024-12-19T18:09:37.349Z"
   },
   {
    "duration": 45,
    "start_time": "2024-12-19T18:09:49.242Z"
   },
   {
    "duration": 29,
    "start_time": "2024-12-19T18:11:32.860Z"
   },
   {
    "duration": 10,
    "start_time": "2024-12-19T18:12:34.385Z"
   },
   {
    "duration": 14,
    "start_time": "2024-12-19T18:12:57.961Z"
   },
   {
    "duration": 10,
    "start_time": "2024-12-19T18:13:02.857Z"
   },
   {
    "duration": 14,
    "start_time": "2024-12-19T18:13:47.294Z"
   },
   {
    "duration": 8,
    "start_time": "2024-12-19T18:13:56.037Z"
   },
   {
    "duration": 393,
    "start_time": "2024-12-19T18:13:59.755Z"
   },
   {
    "duration": 5,
    "start_time": "2024-12-19T18:14:06.509Z"
   },
   {
    "duration": 9,
    "start_time": "2024-12-19T18:14:55.585Z"
   },
   {
    "duration": 37,
    "start_time": "2024-12-19T18:14:59.538Z"
   },
   {
    "duration": 4,
    "start_time": "2024-12-19T18:15:05.899Z"
   },
   {
    "duration": 4,
    "start_time": "2024-12-19T18:19:19.929Z"
   },
   {
    "duration": 192,
    "start_time": "2024-12-19T18:22:08.105Z"
   },
   {
    "duration": 11,
    "start_time": "2024-12-19T18:24:18.620Z"
   },
   {
    "duration": 66,
    "start_time": "2024-12-19T18:26:48.976Z"
   },
   {
    "duration": 64,
    "start_time": "2024-12-19T18:27:23.028Z"
   },
   {
    "duration": 64,
    "start_time": "2024-12-19T18:27:47.757Z"
   },
   {
    "duration": 61,
    "start_time": "2024-12-19T18:28:09.758Z"
   },
   {
    "duration": 64,
    "start_time": "2024-12-19T18:28:32.885Z"
   },
   {
    "duration": 60,
    "start_time": "2024-12-19T18:28:51.488Z"
   },
   {
    "duration": 70,
    "start_time": "2024-12-19T18:29:04.345Z"
   },
   {
    "duration": 74,
    "start_time": "2024-12-19T18:29:30.401Z"
   },
   {
    "duration": 62,
    "start_time": "2024-12-19T18:30:09.231Z"
   },
   {
    "duration": 66,
    "start_time": "2024-12-19T18:30:39.597Z"
   },
   {
    "duration": 6,
    "start_time": "2024-12-19T18:32:49.195Z"
   },
   {
    "duration": 12,
    "start_time": "2024-12-19T18:32:56.614Z"
   },
   {
    "duration": 4,
    "start_time": "2024-12-19T18:33:46.871Z"
   },
   {
    "duration": 4,
    "start_time": "2024-12-19T18:41:07.867Z"
   },
   {
    "duration": 12,
    "start_time": "2024-12-19T18:42:18.260Z"
   },
   {
    "duration": 12,
    "start_time": "2024-12-19T18:42:20.464Z"
   },
   {
    "duration": 38,
    "start_time": "2024-12-19T18:51:02.213Z"
   },
   {
    "duration": 38,
    "start_time": "2024-12-19T18:51:12.331Z"
   },
   {
    "duration": 20,
    "start_time": "2024-12-19T18:51:35.077Z"
   },
   {
    "duration": 22,
    "start_time": "2024-12-19T18:52:59.249Z"
   },
   {
    "duration": 12,
    "start_time": "2024-12-19T18:53:31.171Z"
   },
   {
    "duration": 7,
    "start_time": "2024-12-19T18:54:54.584Z"
   },
   {
    "duration": 7,
    "start_time": "2024-12-19T18:56:02.030Z"
   },
   {
    "duration": 310,
    "start_time": "2024-12-19T20:08:12.009Z"
   },
   {
    "duration": 2113,
    "start_time": "2024-12-19T20:08:12.321Z"
   },
   {
    "duration": 20,
    "start_time": "2024-12-19T20:08:14.436Z"
   },
   {
    "duration": 9,
    "start_time": "2024-12-19T20:08:14.458Z"
   },
   {
    "duration": 142,
    "start_time": "2024-12-19T20:08:14.470Z"
   },
   {
    "duration": 8,
    "start_time": "2024-12-19T20:08:14.614Z"
   },
   {
    "duration": 7,
    "start_time": "2024-12-19T20:08:14.624Z"
   },
   {
    "duration": 933,
    "start_time": "2024-12-19T20:08:14.633Z"
   },
   {
    "duration": 9,
    "start_time": "2024-12-19T20:08:15.568Z"
   },
   {
    "duration": 9,
    "start_time": "2024-12-19T20:08:15.580Z"
   },
   {
    "duration": 22,
    "start_time": "2024-12-19T20:08:15.591Z"
   },
   {
    "duration": 6,
    "start_time": "2024-12-19T20:08:15.614Z"
   },
   {
    "duration": 22,
    "start_time": "2024-12-19T20:08:15.622Z"
   },
   {
    "duration": 6,
    "start_time": "2024-12-19T20:08:15.647Z"
   },
   {
    "duration": 7,
    "start_time": "2024-12-19T20:08:15.655Z"
   },
   {
    "duration": 6,
    "start_time": "2024-12-19T20:08:15.663Z"
   },
   {
    "duration": 44,
    "start_time": "2024-12-19T20:08:15.671Z"
   },
   {
    "duration": 6,
    "start_time": "2024-12-19T20:08:15.717Z"
   },
   {
    "duration": 7,
    "start_time": "2024-12-19T20:08:15.724Z"
   },
   {
    "duration": 10,
    "start_time": "2024-12-19T20:08:15.732Z"
   },
   {
    "duration": 7,
    "start_time": "2024-12-19T20:08:15.743Z"
   },
   {
    "duration": 11,
    "start_time": "2024-12-19T20:08:15.751Z"
   },
   {
    "duration": 4,
    "start_time": "2024-12-19T20:08:15.764Z"
   },
   {
    "duration": 69,
    "start_time": "2024-12-19T20:08:15.770Z"
   },
   {
    "duration": 33,
    "start_time": "2024-12-19T20:08:15.841Z"
   },
   {
    "duration": 38,
    "start_time": "2024-12-19T20:08:15.876Z"
   },
   {
    "duration": 28,
    "start_time": "2024-12-19T20:08:15.916Z"
   },
   {
    "duration": 3,
    "start_time": "2024-12-19T20:08:15.949Z"
   },
   {
    "duration": 215,
    "start_time": "2024-12-19T20:08:15.954Z"
   },
   {
    "duration": 12,
    "start_time": "2024-12-19T20:08:16.170Z"
   },
   {
    "duration": 4,
    "start_time": "2024-12-19T20:08:16.184Z"
   },
   {
    "duration": 40,
    "start_time": "2024-12-19T20:08:16.189Z"
   },
   {
    "duration": 4,
    "start_time": "2024-12-19T20:08:16.230Z"
   },
   {
    "duration": 4,
    "start_time": "2024-12-19T20:08:16.236Z"
   },
   {
    "duration": 5,
    "start_time": "2024-12-19T20:08:16.243Z"
   },
   {
    "duration": 6,
    "start_time": "2024-12-19T20:08:16.249Z"
   },
   {
    "duration": 188,
    "start_time": "2024-12-19T20:08:16.257Z"
   },
   {
    "duration": 3,
    "start_time": "2024-12-19T20:08:16.447Z"
   },
   {
    "duration": 2,
    "start_time": "2024-12-19T20:08:16.453Z"
   },
   {
    "duration": 4,
    "start_time": "2024-12-19T20:08:16.456Z"
   },
   {
    "duration": 3,
    "start_time": "2024-12-19T20:08:16.462Z"
   },
   {
    "duration": 3,
    "start_time": "2024-12-19T20:08:16.466Z"
   },
   {
    "duration": 3,
    "start_time": "2024-12-19T20:08:16.470Z"
   },
   {
    "duration": 4,
    "start_time": "2024-12-19T20:08:16.474Z"
   },
   {
    "duration": 3,
    "start_time": "2024-12-19T20:08:16.479Z"
   },
   {
    "duration": 2,
    "start_time": "2024-12-19T20:08:16.512Z"
   },
   {
    "duration": 4,
    "start_time": "2024-12-19T20:08:16.515Z"
   },
   {
    "duration": 4,
    "start_time": "2024-12-19T20:08:16.520Z"
   },
   {
    "duration": 4,
    "start_time": "2024-12-19T20:08:16.525Z"
   },
   {
    "duration": 2,
    "start_time": "2024-12-19T20:08:16.531Z"
   },
   {
    "duration": 3,
    "start_time": "2024-12-19T20:08:16.535Z"
   },
   {
    "duration": 3,
    "start_time": "2024-12-19T20:08:16.540Z"
   },
   {
    "duration": 3,
    "start_time": "2024-12-19T20:08:16.545Z"
   },
   {
    "duration": 4,
    "start_time": "2024-12-19T20:08:16.549Z"
   },
   {
    "duration": 4,
    "start_time": "2024-12-19T20:08:16.554Z"
   },
   {
    "duration": 3,
    "start_time": "2024-12-19T20:08:16.559Z"
   },
   {
    "duration": 3,
    "start_time": "2024-12-19T20:08:16.564Z"
   },
   {
    "duration": 3,
    "start_time": "2024-12-19T20:08:16.568Z"
   },
   {
    "duration": 41,
    "start_time": "2024-12-19T20:08:16.573Z"
   },
   {
    "duration": 4,
    "start_time": "2024-12-19T20:08:16.615Z"
   },
   {
    "duration": 4,
    "start_time": "2024-12-19T20:08:16.620Z"
   },
   {
    "duration": 3,
    "start_time": "2024-12-19T20:08:16.625Z"
   },
   {
    "duration": 3,
    "start_time": "2024-12-19T20:08:16.630Z"
   },
   {
    "duration": 4,
    "start_time": "2024-12-19T20:08:16.634Z"
   },
   {
    "duration": 4,
    "start_time": "2024-12-19T20:09:19.806Z"
   },
   {
    "duration": 11,
    "start_time": "2024-12-19T20:09:24.797Z"
   },
   {
    "duration": 87,
    "start_time": "2024-12-19T20:15:08.343Z"
   },
   {
    "duration": 85,
    "start_time": "2024-12-19T20:15:39.705Z"
   },
   {
    "duration": 302,
    "start_time": "2024-12-20T01:49:09.886Z"
   },
   {
    "duration": 2264,
    "start_time": "2024-12-20T01:49:10.190Z"
   },
   {
    "duration": 20,
    "start_time": "2024-12-20T01:49:12.456Z"
   },
   {
    "duration": 7,
    "start_time": "2024-12-20T01:49:12.479Z"
   },
   {
    "duration": 132,
    "start_time": "2024-12-20T01:49:12.488Z"
   },
   {
    "duration": 7,
    "start_time": "2024-12-20T01:49:12.622Z"
   },
   {
    "duration": 7,
    "start_time": "2024-12-20T01:49:12.631Z"
   },
   {
    "duration": 942,
    "start_time": "2024-12-20T01:49:12.641Z"
   },
   {
    "duration": 11,
    "start_time": "2024-12-20T01:49:13.585Z"
   },
   {
    "duration": 10,
    "start_time": "2024-12-20T01:49:13.609Z"
   },
   {
    "duration": 10,
    "start_time": "2024-12-20T01:49:13.620Z"
   },
   {
    "duration": 6,
    "start_time": "2024-12-20T01:49:13.631Z"
   },
   {
    "duration": 23,
    "start_time": "2024-12-20T01:49:13.639Z"
   },
   {
    "duration": 7,
    "start_time": "2024-12-20T01:49:13.664Z"
   },
   {
    "duration": 39,
    "start_time": "2024-12-20T01:49:13.673Z"
   },
   {
    "duration": 5,
    "start_time": "2024-12-20T01:49:13.714Z"
   },
   {
    "duration": 7,
    "start_time": "2024-12-20T01:49:13.721Z"
   },
   {
    "duration": 7,
    "start_time": "2024-12-20T01:49:13.729Z"
   },
   {
    "duration": 8,
    "start_time": "2024-12-20T01:49:13.737Z"
   },
   {
    "duration": 10,
    "start_time": "2024-12-20T01:49:13.747Z"
   },
   {
    "duration": 8,
    "start_time": "2024-12-20T01:49:13.759Z"
   },
   {
    "duration": 47,
    "start_time": "2024-12-20T01:49:13.769Z"
   },
   {
    "duration": 4,
    "start_time": "2024-12-20T01:49:13.818Z"
   },
   {
    "duration": 31,
    "start_time": "2024-12-20T01:49:13.824Z"
   },
   {
    "duration": 61,
    "start_time": "2024-12-20T01:49:13.857Z"
   },
   {
    "duration": 18,
    "start_time": "2024-12-20T01:49:13.921Z"
   },
   {
    "duration": 30,
    "start_time": "2024-12-20T01:49:13.941Z"
   },
   {
    "duration": 3,
    "start_time": "2024-12-20T01:49:13.976Z"
   },
   {
    "duration": 209,
    "start_time": "2024-12-20T01:49:13.980Z"
   },
   {
    "duration": 19,
    "start_time": "2024-12-20T01:49:14.191Z"
   },
   {
    "duration": 3,
    "start_time": "2024-12-20T01:49:14.212Z"
   },
   {
    "duration": 23,
    "start_time": "2024-12-20T01:49:14.217Z"
   },
   {
    "duration": 12,
    "start_time": "2024-12-20T01:49:14.241Z"
   },
   {
    "duration": 4,
    "start_time": "2024-12-20T01:49:14.254Z"
   },
   {
    "duration": 6,
    "start_time": "2024-12-20T01:49:14.260Z"
   },
   {
    "duration": 43,
    "start_time": "2024-12-20T01:49:14.267Z"
   },
   {
    "duration": 171,
    "start_time": "2024-12-20T01:49:14.312Z"
   },
   {
    "duration": 2,
    "start_time": "2024-12-20T01:49:14.485Z"
   },
   {
    "duration": 3,
    "start_time": "2024-12-20T01:49:14.489Z"
   },
   {
    "duration": 3,
    "start_time": "2024-12-20T01:49:14.494Z"
   },
   {
    "duration": 2,
    "start_time": "2024-12-20T01:49:14.510Z"
   },
   {
    "duration": 3,
    "start_time": "2024-12-20T01:49:14.514Z"
   },
   {
    "duration": 4,
    "start_time": "2024-12-20T01:49:14.518Z"
   },
   {
    "duration": 3,
    "start_time": "2024-12-20T01:49:14.523Z"
   },
   {
    "duration": 3,
    "start_time": "2024-12-20T01:49:14.527Z"
   },
   {
    "duration": 2,
    "start_time": "2024-12-20T01:49:14.532Z"
   },
   {
    "duration": 3,
    "start_time": "2024-12-20T01:49:14.536Z"
   },
   {
    "duration": 3,
    "start_time": "2024-12-20T01:49:14.540Z"
   },
   {
    "duration": 3,
    "start_time": "2024-12-20T01:49:14.544Z"
   },
   {
    "duration": 3,
    "start_time": "2024-12-20T01:49:14.549Z"
   },
   {
    "duration": 3,
    "start_time": "2024-12-20T01:49:14.553Z"
   },
   {
    "duration": 2,
    "start_time": "2024-12-20T01:49:14.558Z"
   },
   {
    "duration": 48,
    "start_time": "2024-12-20T01:49:14.562Z"
   },
   {
    "duration": 4,
    "start_time": "2024-12-20T01:49:14.611Z"
   },
   {
    "duration": 3,
    "start_time": "2024-12-20T01:49:14.617Z"
   },
   {
    "duration": 2,
    "start_time": "2024-12-20T01:49:14.621Z"
   },
   {
    "duration": 3,
    "start_time": "2024-12-20T01:49:14.625Z"
   },
   {
    "duration": 3,
    "start_time": "2024-12-20T01:49:14.629Z"
   },
   {
    "duration": 4,
    "start_time": "2024-12-20T01:49:14.633Z"
   },
   {
    "duration": 3,
    "start_time": "2024-12-20T01:49:14.638Z"
   },
   {
    "duration": 2,
    "start_time": "2024-12-20T01:49:14.643Z"
   },
   {
    "duration": 3,
    "start_time": "2024-12-20T01:49:14.647Z"
   },
   {
    "duration": 3,
    "start_time": "2024-12-20T01:49:14.651Z"
   },
   {
    "duration": 3,
    "start_time": "2024-12-20T01:49:14.656Z"
   },
   {
    "duration": 5,
    "start_time": "2024-12-20T01:57:19.655Z"
   },
   {
    "duration": 12,
    "start_time": "2024-12-20T01:57:26.278Z"
   },
   {
    "duration": 10,
    "start_time": "2024-12-20T01:57:56.738Z"
   },
   {
    "duration": 14,
    "start_time": "2024-12-20T02:00:28.340Z"
   },
   {
    "duration": 2067,
    "start_time": "2024-12-20T02:02:07.966Z"
   },
   {
    "duration": 2106,
    "start_time": "2024-12-20T02:02:10.359Z"
   },
   {
    "duration": 11,
    "start_time": "2024-12-20T02:06:11.757Z"
   },
   {
    "duration": 2152,
    "start_time": "2024-12-20T02:17:36.644Z"
   },
   {
    "duration": 2132,
    "start_time": "2024-12-20T02:19:37.906Z"
   },
   {
    "duration": 2104,
    "start_time": "2024-12-20T02:21:07.988Z"
   },
   {
    "duration": 2110,
    "start_time": "2024-12-20T02:22:44.094Z"
   },
   {
    "duration": 2102,
    "start_time": "2024-12-20T02:25:24.523Z"
   },
   {
    "duration": 2132,
    "start_time": "2024-12-20T02:25:45.799Z"
   },
   {
    "duration": 2102,
    "start_time": "2024-12-20T02:27:10.187Z"
   },
   {
    "duration": 2093,
    "start_time": "2024-12-20T02:27:53.673Z"
   },
   {
    "duration": 2104,
    "start_time": "2024-12-20T02:28:09.279Z"
   },
   {
    "duration": 2109,
    "start_time": "2024-12-20T02:28:27.849Z"
   },
   {
    "duration": 2106,
    "start_time": "2024-12-20T02:28:54.831Z"
   },
   {
    "duration": 2091,
    "start_time": "2024-12-20T02:29:01.021Z"
   },
   {
    "duration": 2411,
    "start_time": "2024-12-20T02:29:22.780Z"
   },
   {
    "duration": 2089,
    "start_time": "2024-12-20T02:29:42.530Z"
   },
   {
    "duration": 2058,
    "start_time": "2024-12-20T02:30:03.822Z"
   },
   {
    "duration": 41,
    "start_time": "2024-12-20T02:41:02.602Z"
   },
   {
    "duration": 47,
    "start_time": "2024-12-20T02:42:27.252Z"
   },
   {
    "duration": 13,
    "start_time": "2024-12-20T02:43:28.394Z"
   },
   {
    "duration": 11,
    "start_time": "2024-12-20T02:44:33.747Z"
   },
   {
    "duration": 13,
    "start_time": "2024-12-20T02:47:46.182Z"
   },
   {
    "duration": 12,
    "start_time": "2024-12-20T02:48:01.017Z"
   },
   {
    "duration": 11,
    "start_time": "2024-12-20T02:48:10.728Z"
   },
   {
    "duration": 10,
    "start_time": "2024-12-20T02:48:54.069Z"
   },
   {
    "duration": 6,
    "start_time": "2024-12-20T02:50:52.268Z"
   },
   {
    "duration": 330,
    "start_time": "2024-12-29T02:59:03.843Z"
   },
   {
    "duration": 2260,
    "start_time": "2024-12-29T02:59:04.176Z"
   },
   {
    "duration": 21,
    "start_time": "2024-12-29T02:59:06.437Z"
   },
   {
    "duration": 8,
    "start_time": "2024-12-29T02:59:06.460Z"
   },
   {
    "duration": 136,
    "start_time": "2024-12-29T02:59:06.470Z"
   },
   {
    "duration": 9,
    "start_time": "2024-12-29T02:59:06.607Z"
   },
   {
    "duration": 7,
    "start_time": "2024-12-29T02:59:06.618Z"
   },
   {
    "duration": 933,
    "start_time": "2024-12-29T02:59:06.627Z"
   },
   {
    "duration": 9,
    "start_time": "2024-12-29T02:59:07.562Z"
   },
   {
    "duration": 9,
    "start_time": "2024-12-29T02:59:07.573Z"
   },
   {
    "duration": 28,
    "start_time": "2024-12-29T02:59:07.583Z"
   },
   {
    "duration": 6,
    "start_time": "2024-12-29T02:59:07.612Z"
   },
   {
    "duration": 22,
    "start_time": "2024-12-29T02:59:07.620Z"
   },
   {
    "duration": 6,
    "start_time": "2024-12-29T02:59:07.646Z"
   },
   {
    "duration": 8,
    "start_time": "2024-12-29T02:59:07.653Z"
   },
   {
    "duration": 5,
    "start_time": "2024-12-29T02:59:07.663Z"
   },
   {
    "duration": 42,
    "start_time": "2024-12-29T02:59:07.669Z"
   },
   {
    "duration": 5,
    "start_time": "2024-12-29T02:59:07.713Z"
   },
   {
    "duration": 7,
    "start_time": "2024-12-29T02:59:07.719Z"
   },
   {
    "duration": 9,
    "start_time": "2024-12-29T02:59:07.728Z"
   },
   {
    "duration": 7,
    "start_time": "2024-12-29T02:59:07.739Z"
   },
   {
    "duration": 12,
    "start_time": "2024-12-29T02:59:07.747Z"
   },
   {
    "duration": 4,
    "start_time": "2024-12-29T02:59:07.760Z"
   },
   {
    "duration": 32,
    "start_time": "2024-12-29T02:59:07.806Z"
   },
   {
    "duration": 35,
    "start_time": "2024-12-29T02:59:07.840Z"
   },
   {
    "duration": 38,
    "start_time": "2024-12-29T02:59:07.877Z"
   },
   {
    "duration": 29,
    "start_time": "2024-12-29T02:59:07.917Z"
   },
   {
    "duration": 5,
    "start_time": "2024-12-29T02:59:07.948Z"
   },
   {
    "duration": 202,
    "start_time": "2024-12-29T02:59:07.954Z"
   },
   {
    "duration": 11,
    "start_time": "2024-12-29T02:59:08.159Z"
   },
   {
    "duration": 4,
    "start_time": "2024-12-29T02:59:08.171Z"
   },
   {
    "duration": 37,
    "start_time": "2024-12-29T02:59:08.176Z"
   },
   {
    "duration": 12,
    "start_time": "2024-12-29T02:59:08.214Z"
   },
   {
    "duration": 3,
    "start_time": "2024-12-29T02:59:08.228Z"
   },
   {
    "duration": 5,
    "start_time": "2024-12-29T02:59:08.233Z"
   },
   {
    "duration": 5,
    "start_time": "2024-12-29T02:59:08.240Z"
   },
   {
    "duration": 189,
    "start_time": "2024-12-29T02:59:08.247Z"
   },
   {
    "duration": 8,
    "start_time": "2024-12-29T02:59:08.438Z"
   },
   {
    "duration": 2118,
    "start_time": "2024-12-29T02:59:08.448Z"
   },
   {
    "duration": 11,
    "start_time": "2024-12-29T02:59:10.568Z"
   },
   {
    "duration": 58,
    "start_time": "2024-12-29T02:59:10.584Z"
   },
   {
    "duration": 10,
    "start_time": "2024-12-29T02:59:10.644Z"
   },
   {
    "duration": 10,
    "start_time": "2024-12-29T02:59:10.655Z"
   },
   {
    "duration": 10,
    "start_time": "2024-12-29T02:59:10.666Z"
   },
   {
    "duration": 28,
    "start_time": "2024-12-29T02:59:10.678Z"
   },
   {
    "duration": 5,
    "start_time": "2024-12-29T02:59:10.708Z"
   },
   {
    "duration": 0,
    "start_time": "2024-12-29T02:59:10.714Z"
   },
   {
    "duration": 0,
    "start_time": "2024-12-29T02:59:10.715Z"
   },
   {
    "duration": 0,
    "start_time": "2024-12-29T02:59:10.717Z"
   },
   {
    "duration": 0,
    "start_time": "2024-12-29T02:59:10.719Z"
   },
   {
    "duration": 0,
    "start_time": "2024-12-29T02:59:10.720Z"
   },
   {
    "duration": 0,
    "start_time": "2024-12-29T02:59:10.721Z"
   },
   {
    "duration": 0,
    "start_time": "2024-12-29T02:59:10.722Z"
   },
   {
    "duration": 0,
    "start_time": "2024-12-29T02:59:10.724Z"
   },
   {
    "duration": 0,
    "start_time": "2024-12-29T02:59:10.725Z"
   },
   {
    "duration": 0,
    "start_time": "2024-12-29T02:59:10.726Z"
   },
   {
    "duration": 0,
    "start_time": "2024-12-29T02:59:10.727Z"
   },
   {
    "duration": 0,
    "start_time": "2024-12-29T02:59:10.728Z"
   },
   {
    "duration": 0,
    "start_time": "2024-12-29T02:59:10.729Z"
   },
   {
    "duration": 0,
    "start_time": "2024-12-29T02:59:10.730Z"
   },
   {
    "duration": 0,
    "start_time": "2024-12-29T02:59:10.731Z"
   },
   {
    "duration": 0,
    "start_time": "2024-12-29T02:59:10.732Z"
   },
   {
    "duration": 0,
    "start_time": "2024-12-29T02:59:10.733Z"
   },
   {
    "duration": 0,
    "start_time": "2024-12-29T02:59:10.734Z"
   },
   {
    "duration": 0,
    "start_time": "2024-12-29T02:59:10.735Z"
   },
   {
    "duration": 0,
    "start_time": "2024-12-29T02:59:10.737Z"
   },
   {
    "duration": 0,
    "start_time": "2024-12-29T02:59:10.738Z"
   },
   {
    "duration": 0,
    "start_time": "2024-12-29T02:59:10.739Z"
   },
   {
    "duration": 0,
    "start_time": "2024-12-29T02:59:10.741Z"
   },
   {
    "duration": 0,
    "start_time": "2024-12-29T02:59:10.742Z"
   },
   {
    "duration": 0,
    "start_time": "2024-12-29T02:59:10.744Z"
   },
   {
    "duration": 0,
    "start_time": "2024-12-29T02:59:10.745Z"
   },
   {
    "duration": 0,
    "start_time": "2024-12-29T02:59:10.746Z"
   },
   {
    "duration": 3,
    "start_time": "2024-12-29T03:20:45.042Z"
   },
   {
    "duration": 6,
    "start_time": "2024-12-29T03:21:45.424Z"
   },
   {
    "duration": 9,
    "start_time": "2024-12-29T03:21:48.242Z"
   },
   {
    "duration": 3,
    "start_time": "2024-12-29T03:28:52.845Z"
   },
   {
    "duration": 399,
    "start_time": "2024-12-29T03:28:54.210Z"
   },
   {
    "duration": 3,
    "start_time": "2024-12-29T03:30:12.920Z"
   },
   {
    "duration": 44,
    "start_time": "2024-12-29T03:30:14.496Z"
   },
   {
    "duration": 6,
    "start_time": "2024-12-29T03:31:40.411Z"
   },
   {
    "duration": 3,
    "start_time": "2024-12-29T03:31:54.052Z"
   },
   {
    "duration": 45,
    "start_time": "2024-12-29T03:31:54.679Z"
   },
   {
    "duration": 3,
    "start_time": "2024-12-29T03:33:47.552Z"
   },
   {
    "duration": 44,
    "start_time": "2024-12-29T03:33:49.831Z"
   },
   {
    "duration": 9,
    "start_time": "2024-12-29T03:34:12.927Z"
   },
   {
    "duration": 3,
    "start_time": "2024-12-29T03:35:21.871Z"
   },
   {
    "duration": 10,
    "start_time": "2024-12-29T03:35:23.492Z"
   },
   {
    "duration": 3,
    "start_time": "2024-12-29T03:36:44.347Z"
   },
   {
    "duration": 9,
    "start_time": "2024-12-29T03:36:44.870Z"
   },
   {
    "duration": 3,
    "start_time": "2024-12-29T03:37:04.607Z"
   },
   {
    "duration": 45,
    "start_time": "2024-12-29T03:37:05.391Z"
   },
   {
    "duration": 4,
    "start_time": "2024-12-29T03:37:28.283Z"
   },
   {
    "duration": 10,
    "start_time": "2024-12-29T03:37:28.842Z"
   },
   {
    "duration": 3,
    "start_time": "2024-12-29T03:38:37.425Z"
   },
   {
    "duration": 12,
    "start_time": "2024-12-29T03:38:37.719Z"
   },
   {
    "duration": 3,
    "start_time": "2024-12-29T03:39:44.914Z"
   },
   {
    "duration": 3,
    "start_time": "2024-12-29T03:39:45.517Z"
   },
   {
    "duration": 3,
    "start_time": "2024-12-29T03:39:48.857Z"
   },
   {
    "duration": 10,
    "start_time": "2024-12-29T03:39:49.759Z"
   },
   {
    "duration": 3,
    "start_time": "2024-12-29T03:41:57.346Z"
   },
   {
    "duration": 96,
    "start_time": "2024-12-29T03:41:57.644Z"
   },
   {
    "duration": 3,
    "start_time": "2024-12-29T03:42:37.725Z"
   },
   {
    "duration": 14,
    "start_time": "2024-12-29T03:42:38.242Z"
   },
   {
    "duration": 3,
    "start_time": "2024-12-29T03:43:07.559Z"
   },
   {
    "duration": 11,
    "start_time": "2024-12-29T03:43:08.049Z"
   },
   {
    "duration": 10,
    "start_time": "2024-12-29T03:43:10.982Z"
   },
   {
    "duration": 3,
    "start_time": "2024-12-29T03:44:53.356Z"
   },
   {
    "duration": 11,
    "start_time": "2024-12-29T03:44:54.590Z"
   },
   {
    "duration": 10,
    "start_time": "2024-12-29T03:45:00.077Z"
   },
   {
    "duration": 307,
    "start_time": "2024-12-29T13:37:16.368Z"
   },
   {
    "duration": 2474,
    "start_time": "2024-12-29T13:37:16.687Z"
   },
   {
    "duration": 23,
    "start_time": "2024-12-29T13:37:19.163Z"
   },
   {
    "duration": 9,
    "start_time": "2024-12-29T13:37:19.189Z"
   },
   {
    "duration": 135,
    "start_time": "2024-12-29T13:37:19.199Z"
   },
   {
    "duration": 6,
    "start_time": "2024-12-29T13:37:19.336Z"
   },
   {
    "duration": 7,
    "start_time": "2024-12-29T13:37:19.344Z"
   },
   {
    "duration": 969,
    "start_time": "2024-12-29T13:37:19.353Z"
   },
   {
    "duration": 10,
    "start_time": "2024-12-29T13:37:20.324Z"
   },
   {
    "duration": 10,
    "start_time": "2024-12-29T13:37:20.338Z"
   },
   {
    "duration": 9,
    "start_time": "2024-12-29T13:37:20.349Z"
   },
   {
    "duration": 28,
    "start_time": "2024-12-29T13:37:20.360Z"
   },
   {
    "duration": 23,
    "start_time": "2024-12-29T13:37:20.390Z"
   },
   {
    "duration": 7,
    "start_time": "2024-12-29T13:37:20.415Z"
   },
   {
    "duration": 7,
    "start_time": "2024-12-29T13:37:20.424Z"
   },
   {
    "duration": 5,
    "start_time": "2024-12-29T13:37:20.433Z"
   },
   {
    "duration": 8,
    "start_time": "2024-12-29T13:37:20.440Z"
   },
   {
    "duration": 43,
    "start_time": "2024-12-29T13:37:20.449Z"
   },
   {
    "duration": 8,
    "start_time": "2024-12-29T13:37:20.493Z"
   },
   {
    "duration": 10,
    "start_time": "2024-12-29T13:37:20.503Z"
   },
   {
    "duration": 8,
    "start_time": "2024-12-29T13:37:20.515Z"
   },
   {
    "duration": 12,
    "start_time": "2024-12-29T13:37:20.525Z"
   },
   {
    "duration": 3,
    "start_time": "2024-12-29T13:37:20.539Z"
   },
   {
    "duration": 74,
    "start_time": "2024-12-29T13:37:20.544Z"
   },
   {
    "duration": 42,
    "start_time": "2024-12-29T13:37:20.620Z"
   },
   {
    "duration": 37,
    "start_time": "2024-12-29T13:37:20.663Z"
   },
   {
    "duration": 28,
    "start_time": "2024-12-29T13:37:20.702Z"
   },
   {
    "duration": 4,
    "start_time": "2024-12-29T13:37:20.737Z"
   },
   {
    "duration": 213,
    "start_time": "2024-12-29T13:37:20.743Z"
   },
   {
    "duration": 11,
    "start_time": "2024-12-29T13:37:20.958Z"
   },
   {
    "duration": 19,
    "start_time": "2024-12-29T13:37:20.970Z"
   },
   {
    "duration": 20,
    "start_time": "2024-12-29T13:37:20.990Z"
   },
   {
    "duration": 19,
    "start_time": "2024-12-29T13:37:21.012Z"
   },
   {
    "duration": 4,
    "start_time": "2024-12-29T13:37:21.033Z"
   },
   {
    "duration": 6,
    "start_time": "2024-12-29T13:37:21.039Z"
   },
   {
    "duration": 6,
    "start_time": "2024-12-29T13:37:21.047Z"
   },
   {
    "duration": 201,
    "start_time": "2024-12-29T13:37:21.054Z"
   },
   {
    "duration": 11,
    "start_time": "2024-12-29T13:37:21.257Z"
   },
   {
    "duration": 2143,
    "start_time": "2024-12-29T13:37:21.269Z"
   },
   {
    "duration": 10,
    "start_time": "2024-12-29T13:37:23.414Z"
   },
   {
    "duration": 42,
    "start_time": "2024-12-29T13:37:23.426Z"
   },
   {
    "duration": 29,
    "start_time": "2024-12-29T13:37:23.469Z"
   },
   {
    "duration": 9,
    "start_time": "2024-12-29T13:37:23.501Z"
   },
   {
    "duration": 9,
    "start_time": "2024-12-29T13:37:23.511Z"
   },
   {
    "duration": 6,
    "start_time": "2024-12-29T13:37:23.522Z"
   },
   {
    "duration": 3,
    "start_time": "2024-12-29T13:37:23.530Z"
   },
   {
    "duration": 13,
    "start_time": "2024-12-29T13:37:23.534Z"
   },
   {
    "duration": 43,
    "start_time": "2024-12-29T13:37:23.549Z"
   },
   {
    "duration": 4,
    "start_time": "2024-12-29T13:37:23.594Z"
   },
   {
    "duration": 3,
    "start_time": "2024-12-29T13:37:23.599Z"
   },
   {
    "duration": 2,
    "start_time": "2024-12-29T13:37:23.603Z"
   },
   {
    "duration": 2,
    "start_time": "2024-12-29T13:37:23.607Z"
   },
   {
    "duration": 2,
    "start_time": "2024-12-29T13:37:23.611Z"
   },
   {
    "duration": 2,
    "start_time": "2024-12-29T13:37:23.615Z"
   },
   {
    "duration": 2,
    "start_time": "2024-12-29T13:37:23.619Z"
   },
   {
    "duration": 2,
    "start_time": "2024-12-29T13:37:23.623Z"
   },
   {
    "duration": 3,
    "start_time": "2024-12-29T13:37:23.627Z"
   },
   {
    "duration": 2,
    "start_time": "2024-12-29T13:37:23.632Z"
   },
   {
    "duration": 3,
    "start_time": "2024-12-29T13:37:23.635Z"
   },
   {
    "duration": 50,
    "start_time": "2024-12-29T13:37:23.639Z"
   },
   {
    "duration": 3,
    "start_time": "2024-12-29T13:37:23.691Z"
   },
   {
    "duration": 2,
    "start_time": "2024-12-29T13:37:23.696Z"
   },
   {
    "duration": 3,
    "start_time": "2024-12-29T13:37:23.700Z"
   },
   {
    "duration": 2,
    "start_time": "2024-12-29T13:37:23.705Z"
   },
   {
    "duration": 2,
    "start_time": "2024-12-29T13:37:23.709Z"
   },
   {
    "duration": 3,
    "start_time": "2024-12-29T13:37:23.713Z"
   },
   {
    "duration": 2,
    "start_time": "2024-12-29T13:37:23.717Z"
   },
   {
    "duration": 3,
    "start_time": "2024-12-29T13:37:23.721Z"
   },
   {
    "duration": 4,
    "start_time": "2024-12-29T13:37:23.725Z"
   },
   {
    "duration": 2,
    "start_time": "2024-12-29T13:37:23.730Z"
   },
   {
    "duration": 2,
    "start_time": "2024-12-29T13:37:23.734Z"
   },
   {
    "duration": 2,
    "start_time": "2024-12-29T13:37:23.788Z"
   },
   {
    "duration": 3,
    "start_time": "2024-12-29T13:37:23.792Z"
   },
   {
    "duration": 2,
    "start_time": "2024-12-29T13:37:23.798Z"
   },
   {
    "duration": 8,
    "start_time": "2024-12-29T13:37:23.801Z"
   },
   {
    "duration": 3,
    "start_time": "2024-12-29T13:38:29.098Z"
   },
   {
    "duration": 3,
    "start_time": "2024-12-29T13:39:34.631Z"
   },
   {
    "duration": 115,
    "start_time": "2024-12-29T13:39:35.701Z"
   },
   {
    "duration": 4,
    "start_time": "2024-12-29T13:40:07.877Z"
   },
   {
    "duration": 22,
    "start_time": "2024-12-29T13:40:08.698Z"
   },
   {
    "duration": 10,
    "start_time": "2024-12-29T13:40:12.599Z"
   },
   {
    "duration": 13,
    "start_time": "2024-12-29T13:42:04.355Z"
   },
   {
    "duration": 7,
    "start_time": "2024-12-29T13:46:01.740Z"
   },
   {
    "duration": 2,
    "start_time": "2024-12-29T13:46:06.704Z"
   },
   {
    "duration": 19,
    "start_time": "2024-12-29T13:46:08.510Z"
   },
   {
    "duration": 10,
    "start_time": "2024-12-29T13:46:09.745Z"
   },
   {
    "duration": 3,
    "start_time": "2024-12-29T13:46:21.289Z"
   },
   {
    "duration": 17,
    "start_time": "2024-12-29T13:46:27.411Z"
   },
   {
    "duration": 3,
    "start_time": "2024-12-29T13:46:42.145Z"
   },
   {
    "duration": 22,
    "start_time": "2024-12-29T13:46:43.361Z"
   },
   {
    "duration": 3,
    "start_time": "2024-12-29T13:46:54.491Z"
   },
   {
    "duration": 22,
    "start_time": "2024-12-29T13:46:55.300Z"
   },
   {
    "duration": 2,
    "start_time": "2024-12-29T13:47:04.205Z"
   },
   {
    "duration": 8029,
    "start_time": "2024-12-29T13:47:04.800Z"
   },
   {
    "duration": 9,
    "start_time": "2024-12-29T13:47:12.842Z"
   },
   {
    "duration": 3,
    "start_time": "2024-12-29T13:47:20.085Z"
   },
   {
    "duration": 8005,
    "start_time": "2024-12-29T13:47:20.888Z"
   },
   {
    "duration": 10,
    "start_time": "2024-12-29T13:47:32.638Z"
   },
   {
    "duration": 4,
    "start_time": "2024-12-29T13:59:32.522Z"
   },
   {
    "duration": 8073,
    "start_time": "2024-12-29T13:59:33.018Z"
   },
   {
    "duration": 5,
    "start_time": "2024-12-29T14:00:20.790Z"
   },
   {
    "duration": 4,
    "start_time": "2024-12-29T14:00:39.777Z"
   },
   {
    "duration": 4,
    "start_time": "2024-12-29T14:00:58.127Z"
   },
   {
    "duration": 3,
    "start_time": "2024-12-29T14:01:46.448Z"
   },
   {
    "duration": 9,
    "start_time": "2024-12-29T14:01:48.409Z"
   },
   {
    "duration": 9,
    "start_time": "2024-12-29T14:01:49.937Z"
   },
   {
    "duration": 489,
    "start_time": "2024-12-29T14:02:25.754Z"
   },
   {
    "duration": 13,
    "start_time": "2024-12-29T14:02:33.695Z"
   },
   {
    "duration": 12,
    "start_time": "2024-12-29T14:03:21.961Z"
   },
   {
    "duration": 298,
    "start_time": "2024-12-29T14:03:34.081Z"
   },
   {
    "duration": 2262,
    "start_time": "2024-12-29T14:03:34.386Z"
   },
   {
    "duration": 20,
    "start_time": "2024-12-29T14:03:36.650Z"
   },
   {
    "duration": 17,
    "start_time": "2024-12-29T14:03:36.673Z"
   },
   {
    "duration": 124,
    "start_time": "2024-12-29T14:03:36.692Z"
   },
   {
    "duration": 6,
    "start_time": "2024-12-29T14:03:36.818Z"
   },
   {
    "duration": 7,
    "start_time": "2024-12-29T14:03:36.826Z"
   },
   {
    "duration": 959,
    "start_time": "2024-12-29T14:03:36.835Z"
   },
   {
    "duration": 11,
    "start_time": "2024-12-29T14:03:37.795Z"
   },
   {
    "duration": 9,
    "start_time": "2024-12-29T14:03:37.809Z"
   },
   {
    "duration": 9,
    "start_time": "2024-12-29T14:03:37.820Z"
   },
   {
    "duration": 6,
    "start_time": "2024-12-29T14:03:37.831Z"
   },
   {
    "duration": 54,
    "start_time": "2024-12-29T14:03:37.839Z"
   },
   {
    "duration": 6,
    "start_time": "2024-12-29T14:03:37.895Z"
   },
   {
    "duration": 8,
    "start_time": "2024-12-29T14:03:37.904Z"
   },
   {
    "duration": 5,
    "start_time": "2024-12-29T14:03:37.913Z"
   },
   {
    "duration": 8,
    "start_time": "2024-12-29T14:03:37.919Z"
   },
   {
    "duration": 6,
    "start_time": "2024-12-29T14:03:37.928Z"
   },
   {
    "duration": 7,
    "start_time": "2024-12-29T14:03:37.935Z"
   },
   {
    "duration": 46,
    "start_time": "2024-12-29T14:03:37.944Z"
   },
   {
    "duration": 8,
    "start_time": "2024-12-29T14:03:37.993Z"
   },
   {
    "duration": 13,
    "start_time": "2024-12-29T14:03:38.003Z"
   },
   {
    "duration": 6,
    "start_time": "2024-12-29T14:03:38.018Z"
   },
   {
    "duration": 65,
    "start_time": "2024-12-29T14:03:38.025Z"
   },
   {
    "duration": 39,
    "start_time": "2024-12-29T14:03:38.093Z"
   },
   {
    "duration": 23,
    "start_time": "2024-12-29T14:03:38.134Z"
   },
   {
    "duration": 44,
    "start_time": "2024-12-29T14:03:38.159Z"
   },
   {
    "duration": 3,
    "start_time": "2024-12-29T14:03:38.209Z"
   },
   {
    "duration": 194,
    "start_time": "2024-12-29T14:03:38.214Z"
   },
   {
    "duration": 11,
    "start_time": "2024-12-29T14:03:38.410Z"
   },
   {
    "duration": 4,
    "start_time": "2024-12-29T14:03:38.422Z"
   },
   {
    "duration": 20,
    "start_time": "2024-12-29T14:03:38.428Z"
   },
   {
    "duration": 36,
    "start_time": "2024-12-29T14:03:38.450Z"
   },
   {
    "duration": 3,
    "start_time": "2024-12-29T14:03:38.488Z"
   },
   {
    "duration": 6,
    "start_time": "2024-12-29T14:03:38.493Z"
   },
   {
    "duration": 5,
    "start_time": "2024-12-29T14:03:38.500Z"
   },
   {
    "duration": 182,
    "start_time": "2024-12-29T14:03:38.507Z"
   },
   {
    "duration": 8,
    "start_time": "2024-12-29T14:03:38.691Z"
   },
   {
    "duration": 2106,
    "start_time": "2024-12-29T14:03:38.701Z"
   },
   {
    "duration": 10,
    "start_time": "2024-12-29T14:03:40.809Z"
   },
   {
    "duration": 42,
    "start_time": "2024-12-29T14:03:40.820Z"
   },
   {
    "duration": 27,
    "start_time": "2024-12-29T14:03:40.863Z"
   },
   {
    "duration": 9,
    "start_time": "2024-12-29T14:03:40.892Z"
   },
   {
    "duration": 9,
    "start_time": "2024-12-29T14:03:40.902Z"
   },
   {
    "duration": 5,
    "start_time": "2024-12-29T14:03:40.912Z"
   },
   {
    "duration": 3,
    "start_time": "2024-12-29T14:03:40.919Z"
   },
   {
    "duration": 819,
    "start_time": "2024-12-29T14:03:40.923Z"
   },
   {
    "duration": 0,
    "start_time": "2024-12-29T14:03:41.744Z"
   },
   {
    "duration": 0,
    "start_time": "2024-12-29T14:03:41.745Z"
   },
   {
    "duration": 0,
    "start_time": "2024-12-29T14:03:41.746Z"
   },
   {
    "duration": 0,
    "start_time": "2024-12-29T14:03:41.747Z"
   },
   {
    "duration": 0,
    "start_time": "2024-12-29T14:03:41.748Z"
   },
   {
    "duration": 0,
    "start_time": "2024-12-29T14:03:41.749Z"
   },
   {
    "duration": 0,
    "start_time": "2024-12-29T14:03:41.750Z"
   },
   {
    "duration": 0,
    "start_time": "2024-12-29T14:03:41.751Z"
   },
   {
    "duration": 0,
    "start_time": "2024-12-29T14:03:41.752Z"
   },
   {
    "duration": 0,
    "start_time": "2024-12-29T14:03:41.753Z"
   },
   {
    "duration": 0,
    "start_time": "2024-12-29T14:03:41.754Z"
   },
   {
    "duration": 0,
    "start_time": "2024-12-29T14:03:41.756Z"
   },
   {
    "duration": 0,
    "start_time": "2024-12-29T14:03:41.758Z"
   },
   {
    "duration": 0,
    "start_time": "2024-12-29T14:03:41.759Z"
   },
   {
    "duration": 0,
    "start_time": "2024-12-29T14:03:41.760Z"
   },
   {
    "duration": 0,
    "start_time": "2024-12-29T14:03:41.761Z"
   },
   {
    "duration": 0,
    "start_time": "2024-12-29T14:03:41.786Z"
   },
   {
    "duration": 0,
    "start_time": "2024-12-29T14:03:41.788Z"
   },
   {
    "duration": 0,
    "start_time": "2024-12-29T14:03:41.789Z"
   },
   {
    "duration": 0,
    "start_time": "2024-12-29T14:03:41.790Z"
   },
   {
    "duration": 0,
    "start_time": "2024-12-29T14:03:41.791Z"
   },
   {
    "duration": 0,
    "start_time": "2024-12-29T14:03:41.792Z"
   },
   {
    "duration": 0,
    "start_time": "2024-12-29T14:03:41.793Z"
   },
   {
    "duration": 0,
    "start_time": "2024-12-29T14:03:41.795Z"
   },
   {
    "duration": 0,
    "start_time": "2024-12-29T14:03:41.796Z"
   },
   {
    "duration": 0,
    "start_time": "2024-12-29T14:03:41.797Z"
   },
   {
    "duration": 0,
    "start_time": "2024-12-29T14:03:41.798Z"
   },
   {
    "duration": 0,
    "start_time": "2024-12-29T14:03:41.798Z"
   },
   {
    "duration": 3,
    "start_time": "2024-12-29T14:05:44.646Z"
   },
   {
    "duration": 5,
    "start_time": "2024-12-29T14:05:54.056Z"
   },
   {
    "duration": 3,
    "start_time": "2024-12-29T14:06:03.094Z"
   },
   {
    "duration": 22,
    "start_time": "2024-12-29T14:06:04.406Z"
   },
   {
    "duration": 3,
    "start_time": "2024-12-29T14:06:11.924Z"
   },
   {
    "duration": 8091,
    "start_time": "2024-12-29T14:06:12.559Z"
   },
   {
    "duration": 13,
    "start_time": "2024-12-29T14:06:20.652Z"
   },
   {
    "duration": 3,
    "start_time": "2024-12-29T14:07:11.770Z"
   },
   {
    "duration": 8223,
    "start_time": "2024-12-29T14:07:13.104Z"
   },
   {
    "duration": 13,
    "start_time": "2024-12-29T14:07:22.479Z"
   },
   {
    "duration": 3,
    "start_time": "2024-12-29T14:11:17.117Z"
   },
   {
    "duration": 22,
    "start_time": "2024-12-29T14:11:18.707Z"
   },
   {
    "duration": 13,
    "start_time": "2024-12-29T14:11:21.641Z"
   },
   {
    "duration": 5,
    "start_time": "2024-12-29T14:13:57.815Z"
   },
   {
    "duration": 1299,
    "start_time": "2024-12-29T14:15:37.545Z"
   },
   {
    "duration": 4,
    "start_time": "2024-12-29T14:19:20.369Z"
   },
   {
    "duration": 4,
    "start_time": "2024-12-29T14:19:43.275Z"
   },
   {
    "duration": 4,
    "start_time": "2024-12-29T14:19:48.672Z"
   },
   {
    "duration": 6,
    "start_time": "2024-12-29T14:20:03.591Z"
   },
   {
    "duration": 46,
    "start_time": "2024-12-29T14:20:20.913Z"
   },
   {
    "duration": 4,
    "start_time": "2024-12-29T14:20:36.632Z"
   },
   {
    "duration": 4,
    "start_time": "2024-12-29T14:22:04.713Z"
   },
   {
    "duration": 4,
    "start_time": "2024-12-29T14:22:36.208Z"
   },
   {
    "duration": 44,
    "start_time": "2024-12-29T14:24:15.487Z"
   },
   {
    "duration": 17,
    "start_time": "2024-12-29T14:24:22.825Z"
   },
   {
    "duration": 43,
    "start_time": "2024-12-29T14:24:57.164Z"
   },
   {
    "duration": 19,
    "start_time": "2024-12-29T14:25:04.379Z"
   },
   {
    "duration": 13,
    "start_time": "2024-12-29T14:25:13.247Z"
   },
   {
    "duration": 1029,
    "start_time": "2024-12-29T14:26:24.252Z"
   },
   {
    "duration": 6,
    "start_time": "2024-12-29T14:26:27.737Z"
   },
   {
    "duration": 1080,
    "start_time": "2024-12-29T14:26:53.094Z"
   },
   {
    "duration": 6,
    "start_time": "2024-12-29T14:26:57.233Z"
   },
   {
    "duration": 4,
    "start_time": "2024-12-29T14:28:20.377Z"
   },
   {
    "duration": 11,
    "start_time": "2024-12-29T14:28:25.886Z"
   },
   {
    "duration": 41,
    "start_time": "2024-12-29T14:29:37.416Z"
   },
   {
    "duration": 10,
    "start_time": "2024-12-29T14:29:46.984Z"
   },
   {
    "duration": 11,
    "start_time": "2024-12-29T14:30:59.470Z"
   },
   {
    "duration": 7,
    "start_time": "2024-12-29T14:31:32.804Z"
   },
   {
    "duration": 6,
    "start_time": "2024-12-29T14:32:01.123Z"
   },
   {
    "duration": 6,
    "start_time": "2024-12-29T14:32:17.684Z"
   },
   {
    "duration": 6,
    "start_time": "2024-12-29T14:32:32.617Z"
   },
   {
    "duration": 6,
    "start_time": "2024-12-29T14:32:36.285Z"
   },
   {
    "duration": 10,
    "start_time": "2024-12-29T14:32:43.919Z"
   },
   {
    "duration": 40,
    "start_time": "2024-12-29T14:33:46.405Z"
   },
   {
    "duration": 10,
    "start_time": "2024-12-29T14:33:58.694Z"
   },
   {
    "duration": 298,
    "start_time": "2024-12-29T14:34:58.448Z"
   },
   {
    "duration": 2205,
    "start_time": "2024-12-29T14:34:58.748Z"
   },
   {
    "duration": 21,
    "start_time": "2024-12-29T14:35:00.955Z"
   },
   {
    "duration": 14,
    "start_time": "2024-12-29T14:35:00.977Z"
   },
   {
    "duration": 126,
    "start_time": "2024-12-29T14:35:00.994Z"
   },
   {
    "duration": 7,
    "start_time": "2024-12-29T14:35:01.122Z"
   },
   {
    "duration": 6,
    "start_time": "2024-12-29T14:35:01.131Z"
   },
   {
    "duration": 966,
    "start_time": "2024-12-29T14:35:01.139Z"
   },
   {
    "duration": 10,
    "start_time": "2024-12-29T14:35:02.107Z"
   },
   {
    "duration": 10,
    "start_time": "2024-12-29T14:35:02.119Z"
   },
   {
    "duration": 9,
    "start_time": "2024-12-29T14:35:02.130Z"
   },
   {
    "duration": 5,
    "start_time": "2024-12-29T14:35:02.141Z"
   },
   {
    "duration": 48,
    "start_time": "2024-12-29T14:35:02.148Z"
   },
   {
    "duration": 6,
    "start_time": "2024-12-29T14:35:02.201Z"
   },
   {
    "duration": 8,
    "start_time": "2024-12-29T14:35:02.209Z"
   },
   {
    "duration": 5,
    "start_time": "2024-12-29T14:35:02.219Z"
   },
   {
    "duration": 8,
    "start_time": "2024-12-29T14:35:02.226Z"
   },
   {
    "duration": 5,
    "start_time": "2024-12-29T14:35:02.237Z"
   },
   {
    "duration": 43,
    "start_time": "2024-12-29T14:35:02.244Z"
   },
   {
    "duration": 10,
    "start_time": "2024-12-29T14:35:02.288Z"
   },
   {
    "duration": 8,
    "start_time": "2024-12-29T14:35:02.299Z"
   },
   {
    "duration": 15,
    "start_time": "2024-12-29T14:35:02.309Z"
   },
   {
    "duration": 4,
    "start_time": "2024-12-29T14:35:02.326Z"
   },
   {
    "duration": 64,
    "start_time": "2024-12-29T14:35:02.332Z"
   },
   {
    "duration": 37,
    "start_time": "2024-12-29T14:35:02.398Z"
   },
   {
    "duration": 19,
    "start_time": "2024-12-29T14:35:02.436Z"
   },
   {
    "duration": 49,
    "start_time": "2024-12-29T14:35:02.457Z"
   },
   {
    "duration": 5,
    "start_time": "2024-12-29T14:35:02.508Z"
   },
   {
    "duration": 202,
    "start_time": "2024-12-29T14:35:02.515Z"
   },
   {
    "duration": 11,
    "start_time": "2024-12-29T14:35:02.719Z"
   },
   {
    "duration": 3,
    "start_time": "2024-12-29T14:35:02.732Z"
   },
   {
    "duration": 22,
    "start_time": "2024-12-29T14:35:02.737Z"
   },
   {
    "duration": 33,
    "start_time": "2024-12-29T14:35:02.761Z"
   },
   {
    "duration": 4,
    "start_time": "2024-12-29T14:35:02.795Z"
   },
   {
    "duration": 6,
    "start_time": "2024-12-29T14:35:02.800Z"
   },
   {
    "duration": 6,
    "start_time": "2024-12-29T14:35:02.807Z"
   },
   {
    "duration": 194,
    "start_time": "2024-12-29T14:35:02.815Z"
   },
   {
    "duration": 9,
    "start_time": "2024-12-29T14:35:03.011Z"
   },
   {
    "duration": 2169,
    "start_time": "2024-12-29T14:35:03.022Z"
   },
   {
    "duration": 10,
    "start_time": "2024-12-29T14:35:05.194Z"
   },
   {
    "duration": 44,
    "start_time": "2024-12-29T14:35:05.209Z"
   },
   {
    "duration": 41,
    "start_time": "2024-12-29T14:35:05.254Z"
   },
   {
    "duration": 6,
    "start_time": "2024-12-29T14:35:05.297Z"
   },
   {
    "duration": 10,
    "start_time": "2024-12-29T14:35:05.304Z"
   },
   {
    "duration": 5,
    "start_time": "2024-12-29T14:35:05.316Z"
   },
   {
    "duration": 3,
    "start_time": "2024-12-29T14:35:05.323Z"
   },
   {
    "duration": 5,
    "start_time": "2024-12-29T14:35:05.328Z"
   },
   {
    "duration": 1035,
    "start_time": "2024-12-29T14:35:05.334Z"
   },
   {
    "duration": 6,
    "start_time": "2024-12-29T14:35:06.371Z"
   },
   {
    "duration": 12,
    "start_time": "2024-12-29T14:35:06.386Z"
   },
   {
    "duration": 14,
    "start_time": "2024-12-29T14:35:06.401Z"
   },
   {
    "duration": 2,
    "start_time": "2024-12-29T14:35:06.416Z"
   },
   {
    "duration": 3,
    "start_time": "2024-12-29T14:35:06.420Z"
   },
   {
    "duration": 2,
    "start_time": "2024-12-29T14:35:06.425Z"
   },
   {
    "duration": 2,
    "start_time": "2024-12-29T14:35:06.429Z"
   },
   {
    "duration": 2,
    "start_time": "2024-12-29T14:35:06.433Z"
   },
   {
    "duration": 4,
    "start_time": "2024-12-29T14:35:06.436Z"
   },
   {
    "duration": 2,
    "start_time": "2024-12-29T14:35:06.441Z"
   },
   {
    "duration": 42,
    "start_time": "2024-12-29T14:35:06.445Z"
   },
   {
    "duration": 2,
    "start_time": "2024-12-29T14:35:06.489Z"
   },
   {
    "duration": 2,
    "start_time": "2024-12-29T14:35:06.493Z"
   },
   {
    "duration": 2,
    "start_time": "2024-12-29T14:35:06.497Z"
   },
   {
    "duration": 2,
    "start_time": "2024-12-29T14:35:06.501Z"
   },
   {
    "duration": 2,
    "start_time": "2024-12-29T14:35:06.505Z"
   },
   {
    "duration": 2,
    "start_time": "2024-12-29T14:35:06.509Z"
   },
   {
    "duration": 2,
    "start_time": "2024-12-29T14:35:06.513Z"
   },
   {
    "duration": 3,
    "start_time": "2024-12-29T14:35:06.517Z"
   },
   {
    "duration": 2,
    "start_time": "2024-12-29T14:35:06.521Z"
   },
   {
    "duration": 2,
    "start_time": "2024-12-29T14:35:06.525Z"
   },
   {
    "duration": 3,
    "start_time": "2024-12-29T14:35:06.529Z"
   },
   {
    "duration": 54,
    "start_time": "2024-12-29T14:35:06.533Z"
   },
   {
    "duration": 3,
    "start_time": "2024-12-29T14:35:06.589Z"
   },
   {
    "duration": 2,
    "start_time": "2024-12-29T14:35:06.593Z"
   },
   {
    "duration": 2,
    "start_time": "2024-12-29T14:35:06.598Z"
   },
   {
    "duration": 2,
    "start_time": "2024-12-29T14:35:06.602Z"
   },
   {
    "duration": 2,
    "start_time": "2024-12-29T14:35:06.606Z"
   },
   {
    "duration": 2,
    "start_time": "2024-12-29T14:35:06.610Z"
   },
   {
    "duration": 2,
    "start_time": "2024-12-29T14:35:06.614Z"
   },
   {
    "duration": 965,
    "start_time": "2024-12-29T14:36:02.072Z"
   },
   {
    "duration": 7,
    "start_time": "2024-12-29T14:36:04.323Z"
   },
   {
    "duration": 1356,
    "start_time": "2024-12-29T14:36:32.807Z"
   },
   {
    "duration": 7,
    "start_time": "2024-12-29T14:36:36.416Z"
   },
   {
    "duration": 13,
    "start_time": "2024-12-29T14:36:44.679Z"
   },
   {
    "duration": 6,
    "start_time": "2024-12-29T14:36:50.515Z"
   },
   {
    "duration": 6,
    "start_time": "2024-12-29T14:39:52.279Z"
   },
   {
    "duration": 359,
    "start_time": "2025-01-01T20:48:48.152Z"
   },
   {
    "duration": 2547,
    "start_time": "2025-01-01T20:48:48.513Z"
   },
   {
    "duration": 22,
    "start_time": "2025-01-01T20:48:51.061Z"
   },
   {
    "duration": 9,
    "start_time": "2025-01-01T20:48:51.086Z"
   },
   {
    "duration": 135,
    "start_time": "2025-01-01T20:48:51.096Z"
   },
   {
    "duration": 8,
    "start_time": "2025-01-01T20:48:51.233Z"
   },
   {
    "duration": 8,
    "start_time": "2025-01-01T20:48:51.242Z"
   },
   {
    "duration": 939,
    "start_time": "2025-01-01T20:48:51.251Z"
   },
   {
    "duration": 9,
    "start_time": "2025-01-01T20:48:52.192Z"
   },
   {
    "duration": 9,
    "start_time": "2025-01-01T20:48:52.204Z"
   },
   {
    "duration": 21,
    "start_time": "2025-01-01T20:48:52.214Z"
   },
   {
    "duration": 7,
    "start_time": "2025-01-01T20:48:52.237Z"
   },
   {
    "duration": 24,
    "start_time": "2025-01-01T20:48:52.246Z"
   },
   {
    "duration": 6,
    "start_time": "2025-01-01T20:48:52.272Z"
   },
   {
    "duration": 9,
    "start_time": "2025-01-01T20:48:52.280Z"
   },
   {
    "duration": 6,
    "start_time": "2025-01-01T20:48:52.290Z"
   },
   {
    "duration": 42,
    "start_time": "2025-01-01T20:48:52.297Z"
   },
   {
    "duration": 6,
    "start_time": "2025-01-01T20:48:52.341Z"
   },
   {
    "duration": 7,
    "start_time": "2025-01-01T20:48:52.349Z"
   },
   {
    "duration": 11,
    "start_time": "2025-01-01T20:48:52.357Z"
   },
   {
    "duration": 8,
    "start_time": "2025-01-01T20:48:52.369Z"
   },
   {
    "duration": 12,
    "start_time": "2025-01-01T20:48:52.379Z"
   },
   {
    "duration": 5,
    "start_time": "2025-01-01T20:48:52.432Z"
   },
   {
    "duration": 32,
    "start_time": "2025-01-01T20:48:52.438Z"
   },
   {
    "duration": 37,
    "start_time": "2025-01-01T20:48:52.472Z"
   },
   {
    "duration": 19,
    "start_time": "2025-01-01T20:48:52.531Z"
   },
   {
    "duration": 30,
    "start_time": "2025-01-01T20:48:52.552Z"
   },
   {
    "duration": 4,
    "start_time": "2025-01-01T20:48:52.587Z"
   },
   {
    "duration": 214,
    "start_time": "2025-01-01T20:48:52.592Z"
   },
   {
    "duration": 12,
    "start_time": "2025-01-01T20:48:52.808Z"
   },
   {
    "duration": 4,
    "start_time": "2025-01-01T20:48:52.830Z"
   },
   {
    "duration": 22,
    "start_time": "2025-01-01T20:48:52.836Z"
   },
   {
    "duration": 10,
    "start_time": "2025-01-01T20:48:52.860Z"
   },
   {
    "duration": 3,
    "start_time": "2025-01-01T20:48:52.872Z"
   },
   {
    "duration": 5,
    "start_time": "2025-01-01T20:48:52.877Z"
   },
   {
    "duration": 6,
    "start_time": "2025-01-01T20:48:52.884Z"
   },
   {
    "duration": 203,
    "start_time": "2025-01-01T20:48:52.892Z"
   },
   {
    "duration": 8,
    "start_time": "2025-01-01T20:48:53.097Z"
   },
   {
    "duration": 2087,
    "start_time": "2025-01-01T20:48:53.107Z"
   },
   {
    "duration": 10,
    "start_time": "2025-01-01T20:48:55.196Z"
   },
   {
    "duration": 50,
    "start_time": "2025-01-01T20:48:55.208Z"
   },
   {
    "duration": 11,
    "start_time": "2025-01-01T20:48:55.259Z"
   },
   {
    "duration": 5,
    "start_time": "2025-01-01T20:48:55.272Z"
   },
   {
    "duration": 10,
    "start_time": "2025-01-01T20:48:55.279Z"
   },
   {
    "duration": 6,
    "start_time": "2025-01-01T20:48:55.291Z"
   },
   {
    "duration": 35,
    "start_time": "2025-01-01T20:48:55.299Z"
   },
   {
    "duration": 1423,
    "start_time": "2025-01-01T20:48:55.335Z"
   },
   {
    "duration": 6,
    "start_time": "2025-01-01T20:48:56.759Z"
   },
   {
    "duration": 12,
    "start_time": "2025-01-01T20:48:56.767Z"
   },
   {
    "duration": 2,
    "start_time": "2025-01-01T20:48:56.781Z"
   },
   {
    "duration": 3,
    "start_time": "2025-01-01T20:48:56.785Z"
   },
   {
    "duration": 3,
    "start_time": "2025-01-01T20:48:56.790Z"
   },
   {
    "duration": 3,
    "start_time": "2025-01-01T20:48:56.794Z"
   },
   {
    "duration": 34,
    "start_time": "2025-01-01T20:48:56.798Z"
   },
   {
    "duration": 3,
    "start_time": "2025-01-01T20:48:56.834Z"
   },
   {
    "duration": 3,
    "start_time": "2025-01-01T20:48:56.838Z"
   },
   {
    "duration": 2,
    "start_time": "2025-01-01T20:48:56.843Z"
   },
   {
    "duration": 4,
    "start_time": "2025-01-01T20:48:56.846Z"
   },
   {
    "duration": 2,
    "start_time": "2025-01-01T20:48:56.853Z"
   },
   {
    "duration": 3,
    "start_time": "2025-01-01T20:48:56.856Z"
   },
   {
    "duration": 3,
    "start_time": "2025-01-01T20:48:56.860Z"
   },
   {
    "duration": 3,
    "start_time": "2025-01-01T20:48:56.865Z"
   },
   {
    "duration": 3,
    "start_time": "2025-01-01T20:48:56.869Z"
   },
   {
    "duration": 2,
    "start_time": "2025-01-01T20:48:56.874Z"
   },
   {
    "duration": 2,
    "start_time": "2025-01-01T20:48:56.878Z"
   },
   {
    "duration": 3,
    "start_time": "2025-01-01T20:48:56.881Z"
   },
   {
    "duration": 2,
    "start_time": "2025-01-01T20:48:56.932Z"
   },
   {
    "duration": 3,
    "start_time": "2025-01-01T20:48:56.936Z"
   },
   {
    "duration": 3,
    "start_time": "2025-01-01T20:48:56.940Z"
   },
   {
    "duration": 2,
    "start_time": "2025-01-01T20:48:56.945Z"
   },
   {
    "duration": 4,
    "start_time": "2025-01-01T20:48:56.948Z"
   },
   {
    "duration": 3,
    "start_time": "2025-01-01T20:48:56.953Z"
   },
   {
    "duration": 3,
    "start_time": "2025-01-01T20:48:56.957Z"
   },
   {
    "duration": 4,
    "start_time": "2025-01-01T20:48:56.961Z"
   },
   {
    "duration": 3,
    "start_time": "2025-01-01T20:48:56.966Z"
   },
   {
    "duration": 3,
    "start_time": "2025-01-01T20:48:56.970Z"
   },
   {
    "duration": 7,
    "start_time": "2025-01-01T20:50:07.145Z"
   },
   {
    "duration": 13,
    "start_time": "2025-01-01T20:50:20.587Z"
   },
   {
    "duration": 7,
    "start_time": "2025-01-01T20:50:24.224Z"
   },
   {
    "duration": 7,
    "start_time": "2025-01-01T20:51:04.069Z"
   },
   {
    "duration": 4,
    "start_time": "2025-01-01T20:51:14.260Z"
   },
   {
    "duration": 3,
    "start_time": "2025-01-01T20:51:21.243Z"
   },
   {
    "duration": 7,
    "start_time": "2025-01-01T20:51:35.238Z"
   },
   {
    "duration": 85,
    "start_time": "2025-01-01T20:54:20.221Z"
   },
   {
    "duration": 84,
    "start_time": "2025-01-01T20:54:32.652Z"
   },
   {
    "duration": 181,
    "start_time": "2025-01-01T20:54:40.196Z"
   },
   {
    "duration": 88,
    "start_time": "2025-01-01T20:54:48.578Z"
   },
   {
    "duration": 204,
    "start_time": "2025-01-01T20:55:33.780Z"
   },
   {
    "duration": 96,
    "start_time": "2025-01-01T20:55:44.972Z"
   },
   {
    "duration": 96,
    "start_time": "2025-01-01T20:56:06.177Z"
   },
   {
    "duration": 93,
    "start_time": "2025-01-01T20:56:09.785Z"
   },
   {
    "duration": 10,
    "start_time": "2025-01-01T21:01:45.750Z"
   },
   {
    "duration": 11,
    "start_time": "2025-01-01T21:02:37.096Z"
   },
   {
    "duration": 11,
    "start_time": "2025-01-01T21:02:48.004Z"
   },
   {
    "duration": 11,
    "start_time": "2025-01-01T21:02:51.391Z"
   },
   {
    "duration": 11,
    "start_time": "2025-01-01T21:03:46.410Z"
   },
   {
    "duration": 10,
    "start_time": "2025-01-01T21:04:06.598Z"
   },
   {
    "duration": 11,
    "start_time": "2025-01-01T21:07:09.747Z"
   },
   {
    "duration": 95,
    "start_time": "2025-01-01T21:09:36.151Z"
   },
   {
    "duration": 109,
    "start_time": "2025-01-01T21:09:40.426Z"
   },
   {
    "duration": 110,
    "start_time": "2025-01-01T21:09:43.377Z"
   },
   {
    "duration": 29,
    "start_time": "2025-01-01T21:10:57.596Z"
   },
   {
    "duration": 24,
    "start_time": "2025-01-01T21:11:10.111Z"
   },
   {
    "duration": 7,
    "start_time": "2025-01-01T21:12:56.993Z"
   },
   {
    "duration": 15,
    "start_time": "2025-01-01T21:14:11.430Z"
   },
   {
    "duration": 6,
    "start_time": "2025-01-01T21:14:49.287Z"
   },
   {
    "duration": 16,
    "start_time": "2025-01-01T21:17:24.155Z"
   },
   {
    "duration": 17,
    "start_time": "2025-01-01T21:17:33.818Z"
   },
   {
    "duration": 15,
    "start_time": "2025-01-01T21:18:05.174Z"
   },
   {
    "duration": 16,
    "start_time": "2025-01-01T21:19:03.431Z"
   },
   {
    "duration": 7,
    "start_time": "2025-01-01T21:19:31.245Z"
   },
   {
    "duration": 17,
    "start_time": "2025-01-01T21:19:38.675Z"
   },
   {
    "duration": 6,
    "start_time": "2025-01-01T21:25:45.691Z"
   },
   {
    "duration": 6,
    "start_time": "2025-01-01T21:26:08.936Z"
   },
   {
    "duration": 6,
    "start_time": "2025-01-01T21:29:11.221Z"
   },
   {
    "duration": 6,
    "start_time": "2025-01-01T21:30:11.476Z"
   },
   {
    "duration": 890,
    "start_time": "2025-01-01T21:31:22.641Z"
   },
   {
    "duration": 158,
    "start_time": "2025-01-01T21:31:42.791Z"
   },
   {
    "duration": 709,
    "start_time": "2025-01-01T21:32:30.056Z"
   },
   {
    "duration": 322,
    "start_time": "2025-01-01T21:32:39.955Z"
   },
   {
    "duration": 1046,
    "start_time": "2025-01-01T21:32:59.890Z"
   },
   {
    "duration": 1144,
    "start_time": "2025-01-01T21:33:15.757Z"
   },
   {
    "duration": 800,
    "start_time": "2025-01-01T21:34:00.634Z"
   },
   {
    "duration": 921,
    "start_time": "2025-01-01T21:36:23.070Z"
   },
   {
    "duration": 1055,
    "start_time": "2025-01-01T21:36:41.811Z"
   },
   {
    "duration": 921,
    "start_time": "2025-01-01T21:36:51.111Z"
   },
   {
    "duration": 896,
    "start_time": "2025-01-01T21:38:01.451Z"
   },
   {
    "duration": 804,
    "start_time": "2025-01-01T21:40:19.795Z"
   },
   {
    "duration": 7,
    "start_time": "2025-01-01T21:47:27.256Z"
   },
   {
    "duration": 6,
    "start_time": "2025-01-01T21:47:34.096Z"
   },
   {
    "duration": 6,
    "start_time": "2025-01-01T21:48:34.379Z"
   },
   {
    "duration": 4,
    "start_time": "2025-01-01T21:49:08.693Z"
   },
   {
    "duration": 4,
    "start_time": "2025-01-01T21:49:11.436Z"
   },
   {
    "duration": 13,
    "start_time": "2025-01-01T21:49:15.259Z"
   },
   {
    "duration": 13,
    "start_time": "2025-01-01T21:49:17.211Z"
   },
   {
    "duration": 12,
    "start_time": "2025-01-01T21:49:28.750Z"
   },
   {
    "duration": 8,
    "start_time": "2025-01-01T21:49:33.649Z"
   },
   {
    "duration": 6,
    "start_time": "2025-01-01T21:51:04.491Z"
   },
   {
    "duration": 2609,
    "start_time": "2025-01-01T22:00:10.657Z"
   },
   {
    "duration": 376,
    "start_time": "2025-01-01T22:03:02.445Z"
   },
   {
    "duration": 2594,
    "start_time": "2025-01-01T22:03:02.824Z"
   },
   {
    "duration": 22,
    "start_time": "2025-01-01T22:03:05.420Z"
   },
   {
    "duration": 9,
    "start_time": "2025-01-01T22:03:05.444Z"
   },
   {
    "duration": 138,
    "start_time": "2025-01-01T22:03:05.454Z"
   },
   {
    "duration": 9,
    "start_time": "2025-01-01T22:03:05.593Z"
   },
   {
    "duration": 9,
    "start_time": "2025-01-01T22:03:05.603Z"
   },
   {
    "duration": 949,
    "start_time": "2025-01-01T22:03:05.614Z"
   },
   {
    "duration": 10,
    "start_time": "2025-01-01T22:03:06.566Z"
   },
   {
    "duration": 11,
    "start_time": "2025-01-01T22:03:06.580Z"
   },
   {
    "duration": 10,
    "start_time": "2025-01-01T22:03:06.592Z"
   },
   {
    "duration": 6,
    "start_time": "2025-01-01T22:03:06.603Z"
   },
   {
    "duration": 43,
    "start_time": "2025-01-01T22:03:06.611Z"
   },
   {
    "duration": 6,
    "start_time": "2025-01-01T22:03:06.655Z"
   },
   {
    "duration": 8,
    "start_time": "2025-01-01T22:03:06.663Z"
   },
   {
    "duration": 6,
    "start_time": "2025-01-01T22:03:06.673Z"
   },
   {
    "duration": 8,
    "start_time": "2025-01-01T22:03:06.681Z"
   },
   {
    "duration": 41,
    "start_time": "2025-01-01T22:03:06.691Z"
   },
   {
    "duration": 7,
    "start_time": "2025-01-01T22:03:06.734Z"
   },
   {
    "duration": 11,
    "start_time": "2025-01-01T22:03:06.742Z"
   },
   {
    "duration": 7,
    "start_time": "2025-01-01T22:03:06.755Z"
   },
   {
    "duration": 16,
    "start_time": "2025-01-01T22:03:06.764Z"
   },
   {
    "duration": 4,
    "start_time": "2025-01-01T22:03:06.781Z"
   },
   {
    "duration": 66,
    "start_time": "2025-01-01T22:03:06.787Z"
   },
   {
    "duration": 39,
    "start_time": "2025-01-01T22:03:06.854Z"
   },
   {
    "duration": 38,
    "start_time": "2025-01-01T22:03:06.894Z"
   },
   {
    "duration": 30,
    "start_time": "2025-01-01T22:03:06.934Z"
   },
   {
    "duration": 4,
    "start_time": "2025-01-01T22:03:06.968Z"
   },
   {
    "duration": 201,
    "start_time": "2025-01-01T22:03:06.973Z"
   },
   {
    "duration": 11,
    "start_time": "2025-01-01T22:03:07.175Z"
   },
   {
    "duration": 4,
    "start_time": "2025-01-01T22:03:07.188Z"
   },
   {
    "duration": 38,
    "start_time": "2025-01-01T22:03:07.194Z"
   },
   {
    "duration": 12,
    "start_time": "2025-01-01T22:03:07.234Z"
   },
   {
    "duration": 4,
    "start_time": "2025-01-01T22:03:07.247Z"
   },
   {
    "duration": 6,
    "start_time": "2025-01-01T22:03:07.253Z"
   },
   {
    "duration": 6,
    "start_time": "2025-01-01T22:03:07.261Z"
   },
   {
    "duration": 188,
    "start_time": "2025-01-01T22:03:07.270Z"
   },
   {
    "duration": 9,
    "start_time": "2025-01-01T22:03:07.460Z"
   },
   {
    "duration": 2096,
    "start_time": "2025-01-01T22:03:07.471Z"
   },
   {
    "duration": 11,
    "start_time": "2025-01-01T22:03:09.568Z"
   },
   {
    "duration": 54,
    "start_time": "2025-01-01T22:03:09.581Z"
   },
   {
    "duration": 12,
    "start_time": "2025-01-01T22:03:09.636Z"
   },
   {
    "duration": 6,
    "start_time": "2025-01-01T22:03:09.649Z"
   },
   {
    "duration": 9,
    "start_time": "2025-01-01T22:03:09.657Z"
   },
   {
    "duration": 6,
    "start_time": "2025-01-01T22:03:09.668Z"
   },
   {
    "duration": 3,
    "start_time": "2025-01-01T22:03:09.676Z"
   },
   {
    "duration": 1523,
    "start_time": "2025-01-01T22:03:09.682Z"
   },
   {
    "duration": 8,
    "start_time": "2025-01-01T22:03:11.206Z"
   },
   {
    "duration": 25,
    "start_time": "2025-01-01T22:03:11.216Z"
   },
   {
    "duration": 98,
    "start_time": "2025-01-01T22:03:11.243Z"
   },
   {
    "duration": 11,
    "start_time": "2025-01-01T22:03:11.342Z"
   },
   {
    "duration": 112,
    "start_time": "2025-01-01T22:03:11.354Z"
   },
   {
    "duration": 105,
    "start_time": "2025-01-01T22:03:11.467Z"
   },
   {
    "duration": 33,
    "start_time": "2025-01-01T22:03:11.574Z"
   },
   {
    "duration": 29,
    "start_time": "2025-01-01T22:03:11.609Z"
   },
   {
    "duration": 6,
    "start_time": "2025-01-01T22:03:11.640Z"
   },
   {
    "duration": 19,
    "start_time": "2025-01-01T22:03:11.648Z"
   },
   {
    "duration": 18,
    "start_time": "2025-01-01T22:03:11.669Z"
   },
   {
    "duration": 6,
    "start_time": "2025-01-01T22:03:11.689Z"
   },
   {
    "duration": 37,
    "start_time": "2025-01-01T22:03:11.697Z"
   },
   {
    "duration": 7,
    "start_time": "2025-01-01T22:03:11.735Z"
   },
   {
    "duration": 6,
    "start_time": "2025-01-01T22:03:11.743Z"
   },
   {
    "duration": 854,
    "start_time": "2025-01-01T22:03:11.750Z"
   },
   {
    "duration": 876,
    "start_time": "2025-01-01T22:03:12.606Z"
   },
   {
    "duration": 6,
    "start_time": "2025-01-01T22:03:13.483Z"
   },
   {
    "duration": 5,
    "start_time": "2025-01-01T22:03:13.490Z"
   },
   {
    "duration": 477,
    "start_time": "2025-01-01T22:03:52.554Z"
   },
   {
    "duration": 2392,
    "start_time": "2025-01-01T22:03:53.033Z"
   },
   {
    "duration": 21,
    "start_time": "2025-01-01T22:03:55.427Z"
   },
   {
    "duration": 8,
    "start_time": "2025-01-01T22:03:55.451Z"
   },
   {
    "duration": 133,
    "start_time": "2025-01-01T22:03:55.461Z"
   },
   {
    "duration": 7,
    "start_time": "2025-01-01T22:03:55.596Z"
   },
   {
    "duration": 6,
    "start_time": "2025-01-01T22:03:55.606Z"
   },
   {
    "duration": 933,
    "start_time": "2025-01-01T22:03:55.614Z"
   },
   {
    "duration": 11,
    "start_time": "2025-01-01T22:03:56.549Z"
   },
   {
    "duration": 11,
    "start_time": "2025-01-01T22:03:56.563Z"
   },
   {
    "duration": 10,
    "start_time": "2025-01-01T22:03:56.575Z"
   },
   {
    "duration": 7,
    "start_time": "2025-01-01T22:03:56.587Z"
   },
   {
    "duration": 57,
    "start_time": "2025-01-01T22:03:56.595Z"
   },
   {
    "duration": 6,
    "start_time": "2025-01-01T22:03:56.654Z"
   },
   {
    "duration": 8,
    "start_time": "2025-01-01T22:03:56.662Z"
   },
   {
    "duration": 6,
    "start_time": "2025-01-01T22:03:56.672Z"
   },
   {
    "duration": 7,
    "start_time": "2025-01-01T22:03:56.680Z"
   },
   {
    "duration": 6,
    "start_time": "2025-01-01T22:03:56.689Z"
   },
   {
    "duration": 40,
    "start_time": "2025-01-01T22:03:56.697Z"
   },
   {
    "duration": 10,
    "start_time": "2025-01-01T22:03:56.739Z"
   },
   {
    "duration": 8,
    "start_time": "2025-01-01T22:03:56.750Z"
   },
   {
    "duration": 12,
    "start_time": "2025-01-01T22:03:56.760Z"
   },
   {
    "duration": 4,
    "start_time": "2025-01-01T22:03:56.774Z"
   },
   {
    "duration": 68,
    "start_time": "2025-01-01T22:03:56.780Z"
   },
   {
    "duration": 38,
    "start_time": "2025-01-01T22:03:56.849Z"
   },
   {
    "duration": 19,
    "start_time": "2025-01-01T22:03:56.888Z"
   },
   {
    "duration": 48,
    "start_time": "2025-01-01T22:03:56.909Z"
   },
   {
    "duration": 4,
    "start_time": "2025-01-01T22:03:56.964Z"
   },
   {
    "duration": 211,
    "start_time": "2025-01-01T22:03:56.970Z"
   },
   {
    "duration": 11,
    "start_time": "2025-01-01T22:03:57.183Z"
   },
   {
    "duration": 3,
    "start_time": "2025-01-01T22:03:57.196Z"
   },
   {
    "duration": 41,
    "start_time": "2025-01-01T22:03:57.201Z"
   },
   {
    "duration": 12,
    "start_time": "2025-01-01T22:03:57.245Z"
   },
   {
    "duration": 3,
    "start_time": "2025-01-01T22:03:57.260Z"
   },
   {
    "duration": 5,
    "start_time": "2025-01-01T22:03:57.266Z"
   },
   {
    "duration": 6,
    "start_time": "2025-01-01T22:03:57.273Z"
   },
   {
    "duration": 199,
    "start_time": "2025-01-01T22:03:57.281Z"
   },
   {
    "duration": 10,
    "start_time": "2025-01-01T22:03:57.481Z"
   },
   {
    "duration": 2171,
    "start_time": "2025-01-01T22:03:57.492Z"
   },
   {
    "duration": 10,
    "start_time": "2025-01-01T22:03:59.665Z"
   },
   {
    "duration": 58,
    "start_time": "2025-01-01T22:03:59.676Z"
   },
   {
    "duration": 12,
    "start_time": "2025-01-01T22:03:59.736Z"
   },
   {
    "duration": 5,
    "start_time": "2025-01-01T22:03:59.749Z"
   },
   {
    "duration": 9,
    "start_time": "2025-01-01T22:03:59.756Z"
   },
   {
    "duration": 5,
    "start_time": "2025-01-01T22:03:59.766Z"
   },
   {
    "duration": 4,
    "start_time": "2025-01-01T22:03:59.773Z"
   },
   {
    "duration": 1505,
    "start_time": "2025-01-01T22:03:59.779Z"
   },
   {
    "duration": 7,
    "start_time": "2025-01-01T22:04:01.286Z"
   },
   {
    "duration": 12,
    "start_time": "2025-01-01T22:04:01.295Z"
   },
   {
    "duration": 125,
    "start_time": "2025-01-01T22:04:01.309Z"
   },
   {
    "duration": 10,
    "start_time": "2025-01-01T22:04:01.435Z"
   },
   {
    "duration": 108,
    "start_time": "2025-01-01T22:04:01.446Z"
   },
   {
    "duration": 98,
    "start_time": "2025-01-01T22:04:01.556Z"
   },
   {
    "duration": 32,
    "start_time": "2025-01-01T22:04:01.656Z"
   },
   {
    "duration": 15,
    "start_time": "2025-01-01T22:04:01.690Z"
   },
   {
    "duration": 25,
    "start_time": "2025-01-01T22:04:01.707Z"
   },
   {
    "duration": 18,
    "start_time": "2025-01-01T22:04:01.734Z"
   },
   {
    "duration": 19,
    "start_time": "2025-01-01T22:04:01.753Z"
   },
   {
    "duration": 6,
    "start_time": "2025-01-01T22:04:01.774Z"
   },
   {
    "duration": 6,
    "start_time": "2025-01-01T22:04:01.781Z"
   },
   {
    "duration": 6,
    "start_time": "2025-01-01T22:04:01.788Z"
   },
   {
    "duration": 39,
    "start_time": "2025-01-01T22:04:01.796Z"
   },
   {
    "duration": 819,
    "start_time": "2025-01-01T22:04:01.837Z"
   },
   {
    "duration": 813,
    "start_time": "2025-01-01T22:04:02.657Z"
   },
   {
    "duration": 6,
    "start_time": "2025-01-01T22:04:03.472Z"
   },
   {
    "duration": 6,
    "start_time": "2025-01-01T22:04:03.480Z"
   },
   {
    "duration": 0,
    "start_time": "2025-01-01T22:04:40.703Z"
   },
   {
    "duration": 8137,
    "start_time": "2025-01-01T22:04:57.896Z"
   },
   {
    "duration": 459,
    "start_time": "2025-01-01T22:08:48.119Z"
   },
   {
    "duration": 2705,
    "start_time": "2025-01-01T22:08:48.580Z"
   },
   {
    "duration": 21,
    "start_time": "2025-01-01T22:08:51.287Z"
   },
   {
    "duration": 8,
    "start_time": "2025-01-01T22:08:51.310Z"
   },
   {
    "duration": 122,
    "start_time": "2025-01-01T22:08:51.332Z"
   },
   {
    "duration": 8,
    "start_time": "2025-01-01T22:08:51.455Z"
   },
   {
    "duration": 7,
    "start_time": "2025-01-01T22:08:51.465Z"
   },
   {
    "duration": 960,
    "start_time": "2025-01-01T22:08:51.474Z"
   },
   {
    "duration": 10,
    "start_time": "2025-01-01T22:08:52.436Z"
   },
   {
    "duration": 9,
    "start_time": "2025-01-01T22:08:52.449Z"
   },
   {
    "duration": 10,
    "start_time": "2025-01-01T22:08:52.460Z"
   },
   {
    "duration": 6,
    "start_time": "2025-01-01T22:08:52.472Z"
   },
   {
    "duration": 25,
    "start_time": "2025-01-01T22:08:52.480Z"
   },
   {
    "duration": 7,
    "start_time": "2025-01-01T22:08:52.534Z"
   },
   {
    "duration": 8,
    "start_time": "2025-01-01T22:08:52.543Z"
   },
   {
    "duration": 6,
    "start_time": "2025-01-01T22:08:52.553Z"
   },
   {
    "duration": 9,
    "start_time": "2025-01-01T22:08:52.561Z"
   },
   {
    "duration": 7,
    "start_time": "2025-01-01T22:08:52.571Z"
   },
   {
    "duration": 8,
    "start_time": "2025-01-01T22:08:52.580Z"
   },
   {
    "duration": 47,
    "start_time": "2025-01-01T22:08:52.590Z"
   },
   {
    "duration": 8,
    "start_time": "2025-01-01T22:08:52.639Z"
   },
   {
    "duration": 12,
    "start_time": "2025-01-01T22:08:52.649Z"
   },
   {
    "duration": 4,
    "start_time": "2025-01-01T22:08:52.663Z"
   },
   {
    "duration": 63,
    "start_time": "2025-01-01T22:08:52.669Z"
   },
   {
    "duration": 39,
    "start_time": "2025-01-01T22:08:52.734Z"
   },
   {
    "duration": 20,
    "start_time": "2025-01-01T22:08:52.774Z"
   },
   {
    "duration": 49,
    "start_time": "2025-01-01T22:08:52.796Z"
   },
   {
    "duration": 4,
    "start_time": "2025-01-01T22:08:52.847Z"
   },
   {
    "duration": 195,
    "start_time": "2025-01-01T22:08:52.853Z"
   },
   {
    "duration": 11,
    "start_time": "2025-01-01T22:08:53.050Z"
   },
   {
    "duration": 6,
    "start_time": "2025-01-01T22:08:53.063Z"
   },
   {
    "duration": 23,
    "start_time": "2025-01-01T22:08:53.071Z"
   },
   {
    "duration": 35,
    "start_time": "2025-01-01T22:08:53.096Z"
   },
   {
    "duration": 4,
    "start_time": "2025-01-01T22:08:53.133Z"
   },
   {
    "duration": 6,
    "start_time": "2025-01-01T22:08:53.138Z"
   },
   {
    "duration": 6,
    "start_time": "2025-01-01T22:08:53.147Z"
   },
   {
    "duration": 198,
    "start_time": "2025-01-01T22:08:53.154Z"
   },
   {
    "duration": 9,
    "start_time": "2025-01-01T22:08:53.354Z"
   },
   {
    "duration": 2247,
    "start_time": "2025-01-01T22:08:53.365Z"
   },
   {
    "duration": 18,
    "start_time": "2025-01-01T22:08:55.614Z"
   },
   {
    "duration": 41,
    "start_time": "2025-01-01T22:08:55.637Z"
   },
   {
    "duration": 10,
    "start_time": "2025-01-01T22:08:55.682Z"
   },
   {
    "duration": 5,
    "start_time": "2025-01-01T22:08:55.694Z"
   },
   {
    "duration": 35,
    "start_time": "2025-01-01T22:08:55.701Z"
   },
   {
    "duration": 6,
    "start_time": "2025-01-01T22:08:55.738Z"
   },
   {
    "duration": 3,
    "start_time": "2025-01-01T22:08:55.746Z"
   },
   {
    "duration": 1522,
    "start_time": "2025-01-01T22:08:55.751Z"
   },
   {
    "duration": 6,
    "start_time": "2025-01-01T22:08:57.275Z"
   },
   {
    "duration": 12,
    "start_time": "2025-01-01T22:08:57.283Z"
   },
   {
    "duration": 112,
    "start_time": "2025-01-01T22:08:57.297Z"
   },
   {
    "duration": 21,
    "start_time": "2025-01-01T22:08:57.411Z"
   },
   {
    "duration": 115,
    "start_time": "2025-01-01T22:08:57.434Z"
   },
   {
    "duration": 103,
    "start_time": "2025-01-01T22:08:57.551Z"
   },
   {
    "duration": 36,
    "start_time": "2025-01-01T22:08:57.658Z"
   },
   {
    "duration": 14,
    "start_time": "2025-01-01T22:08:57.696Z"
   },
   {
    "duration": 20,
    "start_time": "2025-01-01T22:08:57.712Z"
   },
   {
    "duration": 18,
    "start_time": "2025-01-01T22:08:57.734Z"
   },
   {
    "duration": 17,
    "start_time": "2025-01-01T22:08:57.754Z"
   },
   {
    "duration": 6,
    "start_time": "2025-01-01T22:08:57.773Z"
   },
   {
    "duration": 7,
    "start_time": "2025-01-01T22:08:57.782Z"
   },
   {
    "duration": 6,
    "start_time": "2025-01-01T22:08:57.790Z"
   },
   {
    "duration": 38,
    "start_time": "2025-01-01T22:08:57.798Z"
   },
   {
    "duration": 824,
    "start_time": "2025-01-01T22:08:57.839Z"
   },
   {
    "duration": 818,
    "start_time": "2025-01-01T22:08:58.665Z"
   },
   {
    "duration": 6,
    "start_time": "2025-01-01T22:08:59.485Z"
   },
   {
    "duration": 5,
    "start_time": "2025-01-01T22:08:59.494Z"
   },
   {
    "duration": 462,
    "start_time": "2025-01-01T22:10:53.513Z"
   },
   {
    "duration": 2703,
    "start_time": "2025-01-01T22:10:53.978Z"
   },
   {
    "duration": 20,
    "start_time": "2025-01-01T22:10:56.683Z"
   },
   {
    "duration": 9,
    "start_time": "2025-01-01T22:10:56.707Z"
   },
   {
    "duration": 134,
    "start_time": "2025-01-01T22:10:56.719Z"
   },
   {
    "duration": 7,
    "start_time": "2025-01-01T22:10:56.855Z"
   },
   {
    "duration": 8,
    "start_time": "2025-01-01T22:10:56.863Z"
   },
   {
    "duration": 954,
    "start_time": "2025-01-01T22:10:56.872Z"
   },
   {
    "duration": 17,
    "start_time": "2025-01-01T22:10:57.827Z"
   },
   {
    "duration": 10,
    "start_time": "2025-01-01T22:10:57.846Z"
   },
   {
    "duration": 10,
    "start_time": "2025-01-01T22:10:57.857Z"
   },
   {
    "duration": 5,
    "start_time": "2025-01-01T22:10:57.869Z"
   },
   {
    "duration": 23,
    "start_time": "2025-01-01T22:10:57.876Z"
   },
   {
    "duration": 31,
    "start_time": "2025-01-01T22:10:57.903Z"
   },
   {
    "duration": 10,
    "start_time": "2025-01-01T22:10:57.936Z"
   },
   {
    "duration": 6,
    "start_time": "2025-01-01T22:10:57.949Z"
   },
   {
    "duration": 8,
    "start_time": "2025-01-01T22:10:57.957Z"
   },
   {
    "duration": 5,
    "start_time": "2025-01-01T22:10:57.966Z"
   },
   {
    "duration": 10,
    "start_time": "2025-01-01T22:10:57.973Z"
   },
   {
    "duration": 46,
    "start_time": "2025-01-01T22:10:57.985Z"
   },
   {
    "duration": 9,
    "start_time": "2025-01-01T22:10:58.033Z"
   },
   {
    "duration": 12,
    "start_time": "2025-01-01T22:10:58.043Z"
   },
   {
    "duration": 5,
    "start_time": "2025-01-01T22:10:58.057Z"
   },
   {
    "duration": 34,
    "start_time": "2025-01-01T22:10:58.063Z"
   },
   {
    "duration": 68,
    "start_time": "2025-01-01T22:10:58.099Z"
   },
   {
    "duration": 18,
    "start_time": "2025-01-01T22:10:58.169Z"
   },
   {
    "duration": 46,
    "start_time": "2025-01-01T22:10:58.189Z"
   },
   {
    "duration": 5,
    "start_time": "2025-01-01T22:10:58.237Z"
   },
   {
    "duration": 199,
    "start_time": "2025-01-01T22:10:58.244Z"
   },
   {
    "duration": 12,
    "start_time": "2025-01-01T22:10:58.444Z"
   },
   {
    "duration": 5,
    "start_time": "2025-01-01T22:10:58.457Z"
   },
   {
    "duration": 24,
    "start_time": "2025-01-01T22:10:58.465Z"
   },
   {
    "duration": 11,
    "start_time": "2025-01-01T22:10:58.491Z"
   },
   {
    "duration": 32,
    "start_time": "2025-01-01T22:10:58.504Z"
   },
   {
    "duration": 6,
    "start_time": "2025-01-01T22:10:58.538Z"
   },
   {
    "duration": 6,
    "start_time": "2025-01-01T22:10:58.546Z"
   },
   {
    "duration": 193,
    "start_time": "2025-01-01T22:10:58.553Z"
   },
   {
    "duration": 10,
    "start_time": "2025-01-01T22:10:58.748Z"
   },
   {
    "duration": 2104,
    "start_time": "2025-01-01T22:10:58.759Z"
   },
   {
    "duration": 10,
    "start_time": "2025-01-01T22:11:00.865Z"
   },
   {
    "duration": 52,
    "start_time": "2025-01-01T22:11:00.880Z"
   },
   {
    "duration": 11,
    "start_time": "2025-01-01T22:11:00.934Z"
   },
   {
    "duration": 5,
    "start_time": "2025-01-01T22:11:00.947Z"
   },
   {
    "duration": 9,
    "start_time": "2025-01-01T22:11:00.953Z"
   },
   {
    "duration": 7,
    "start_time": "2025-01-01T22:11:00.963Z"
   },
   {
    "duration": 3,
    "start_time": "2025-01-01T22:11:00.972Z"
   },
   {
    "duration": 1516,
    "start_time": "2025-01-01T22:11:00.977Z"
   },
   {
    "duration": 7,
    "start_time": "2025-01-01T22:11:02.495Z"
   },
   {
    "duration": 28,
    "start_time": "2025-01-01T22:11:02.504Z"
   },
   {
    "duration": 103,
    "start_time": "2025-01-01T22:11:02.534Z"
   },
   {
    "duration": 10,
    "start_time": "2025-01-01T22:11:02.639Z"
   },
   {
    "duration": 117,
    "start_time": "2025-01-01T22:11:02.650Z"
   },
   {
    "duration": 93,
    "start_time": "2025-01-01T22:11:02.769Z"
   },
   {
    "duration": 32,
    "start_time": "2025-01-01T22:11:02.863Z"
   },
   {
    "duration": 16,
    "start_time": "2025-01-01T22:11:02.896Z"
   },
   {
    "duration": 22,
    "start_time": "2025-01-01T22:11:02.913Z"
   },
   {
    "duration": 16,
    "start_time": "2025-01-01T22:11:02.937Z"
   },
   {
    "duration": 16,
    "start_time": "2025-01-01T22:11:02.955Z"
   },
   {
    "duration": 6,
    "start_time": "2025-01-01T22:11:02.972Z"
   },
   {
    "duration": 6,
    "start_time": "2025-01-01T22:11:02.980Z"
   },
   {
    "duration": 5,
    "start_time": "2025-01-01T22:11:02.988Z"
   },
   {
    "duration": 38,
    "start_time": "2025-01-01T22:11:02.994Z"
   },
   {
    "duration": 803,
    "start_time": "2025-01-01T22:11:03.034Z"
   },
   {
    "duration": 848,
    "start_time": "2025-01-01T22:11:03.839Z"
   },
   {
    "duration": 6,
    "start_time": "2025-01-01T22:11:04.689Z"
   },
   {
    "duration": 5,
    "start_time": "2025-01-01T22:11:04.696Z"
   },
   {
    "duration": 9339,
    "start_time": "2025-01-01T22:11:04.703Z"
   },
   {
    "duration": 6984,
    "start_time": "2025-01-01T22:11:48.650Z"
   },
   {
    "duration": 6014,
    "start_time": "2025-01-01T22:12:09.322Z"
   },
   {
    "duration": 159,
    "start_time": "2025-01-01T22:15:33.657Z"
   },
   {
    "duration": 491,
    "start_time": "2025-01-01T22:15:44.765Z"
   },
   {
    "duration": 2557,
    "start_time": "2025-01-01T22:15:45.259Z"
   },
   {
    "duration": 23,
    "start_time": "2025-01-01T22:15:47.818Z"
   },
   {
    "duration": 9,
    "start_time": "2025-01-01T22:15:47.843Z"
   },
   {
    "duration": 138,
    "start_time": "2025-01-01T22:15:47.855Z"
   },
   {
    "duration": 7,
    "start_time": "2025-01-01T22:15:47.995Z"
   },
   {
    "duration": 8,
    "start_time": "2025-01-01T22:15:48.004Z"
   },
   {
    "duration": 965,
    "start_time": "2025-01-01T22:15:48.013Z"
   },
   {
    "duration": 11,
    "start_time": "2025-01-01T22:15:48.980Z"
   },
   {
    "duration": 9,
    "start_time": "2025-01-01T22:15:48.992Z"
   },
   {
    "duration": 10,
    "start_time": "2025-01-01T22:15:49.003Z"
   },
   {
    "duration": 21,
    "start_time": "2025-01-01T22:15:49.014Z"
   },
   {
    "duration": 24,
    "start_time": "2025-01-01T22:15:49.036Z"
   },
   {
    "duration": 6,
    "start_time": "2025-01-01T22:15:49.064Z"
   },
   {
    "duration": 8,
    "start_time": "2025-01-01T22:15:49.072Z"
   },
   {
    "duration": 5,
    "start_time": "2025-01-01T22:15:49.081Z"
   },
   {
    "duration": 8,
    "start_time": "2025-01-01T22:15:49.088Z"
   },
   {
    "duration": 40,
    "start_time": "2025-01-01T22:15:49.097Z"
   },
   {
    "duration": 7,
    "start_time": "2025-01-01T22:15:49.139Z"
   },
   {
    "duration": 10,
    "start_time": "2025-01-01T22:15:49.148Z"
   },
   {
    "duration": 7,
    "start_time": "2025-01-01T22:15:49.159Z"
   },
   {
    "duration": 13,
    "start_time": "2025-01-01T22:15:49.168Z"
   },
   {
    "duration": 4,
    "start_time": "2025-01-01T22:15:49.183Z"
   },
   {
    "duration": 74,
    "start_time": "2025-01-01T22:15:49.188Z"
   },
   {
    "duration": 39,
    "start_time": "2025-01-01T22:15:49.264Z"
   },
   {
    "duration": 37,
    "start_time": "2025-01-01T22:15:49.304Z"
   },
   {
    "duration": 31,
    "start_time": "2025-01-01T22:15:49.343Z"
   },
   {
    "duration": 5,
    "start_time": "2025-01-01T22:15:49.377Z"
   },
   {
    "duration": 208,
    "start_time": "2025-01-01T22:15:49.383Z"
   },
   {
    "duration": 11,
    "start_time": "2025-01-01T22:15:49.593Z"
   },
   {
    "duration": 4,
    "start_time": "2025-01-01T22:15:49.606Z"
   },
   {
    "duration": 39,
    "start_time": "2025-01-01T22:15:49.611Z"
   },
   {
    "duration": 11,
    "start_time": "2025-01-01T22:15:49.652Z"
   },
   {
    "duration": 3,
    "start_time": "2025-01-01T22:15:49.665Z"
   },
   {
    "duration": 6,
    "start_time": "2025-01-01T22:15:49.670Z"
   },
   {
    "duration": 6,
    "start_time": "2025-01-01T22:15:49.677Z"
   },
   {
    "duration": 215,
    "start_time": "2025-01-01T22:15:49.686Z"
   },
   {
    "duration": 8,
    "start_time": "2025-01-01T22:15:49.903Z"
   },
   {
    "duration": 2239,
    "start_time": "2025-01-01T22:15:49.913Z"
   },
   {
    "duration": 11,
    "start_time": "2025-01-01T22:15:52.154Z"
   },
   {
    "duration": 44,
    "start_time": "2025-01-01T22:15:52.169Z"
   },
   {
    "duration": 11,
    "start_time": "2025-01-01T22:15:52.231Z"
   },
   {
    "duration": 5,
    "start_time": "2025-01-01T22:15:52.244Z"
   },
   {
    "duration": 10,
    "start_time": "2025-01-01T22:15:52.251Z"
   },
   {
    "duration": 6,
    "start_time": "2025-01-01T22:15:52.262Z"
   },
   {
    "duration": 6,
    "start_time": "2025-01-01T22:15:52.269Z"
   },
   {
    "duration": 1564,
    "start_time": "2025-01-01T22:15:52.276Z"
   },
   {
    "duration": 7,
    "start_time": "2025-01-01T22:15:53.842Z"
   },
   {
    "duration": 13,
    "start_time": "2025-01-01T22:15:53.850Z"
   },
   {
    "duration": 110,
    "start_time": "2025-01-01T22:15:53.864Z"
   },
   {
    "duration": 11,
    "start_time": "2025-01-01T22:15:53.976Z"
   },
   {
    "duration": 107,
    "start_time": "2025-01-01T22:15:53.990Z"
   },
   {
    "duration": 105,
    "start_time": "2025-01-01T22:15:54.098Z"
   },
   {
    "duration": 38,
    "start_time": "2025-01-01T22:15:54.204Z"
   },
   {
    "duration": 15,
    "start_time": "2025-01-01T22:15:54.244Z"
   },
   {
    "duration": 7,
    "start_time": "2025-01-01T22:15:54.261Z"
   },
   {
    "duration": 17,
    "start_time": "2025-01-01T22:15:54.270Z"
   },
   {
    "duration": 16,
    "start_time": "2025-01-01T22:15:54.289Z"
   },
   {
    "duration": 6,
    "start_time": "2025-01-01T22:15:54.331Z"
   },
   {
    "duration": 5,
    "start_time": "2025-01-01T22:15:54.340Z"
   },
   {
    "duration": 5,
    "start_time": "2025-01-01T22:15:54.347Z"
   },
   {
    "duration": 6,
    "start_time": "2025-01-01T22:15:54.353Z"
   },
   {
    "duration": 852,
    "start_time": "2025-01-01T22:15:54.361Z"
   },
   {
    "duration": 856,
    "start_time": "2025-01-01T22:15:55.214Z"
   },
   {
    "duration": 6,
    "start_time": "2025-01-01T22:15:56.072Z"
   },
   {
    "duration": 5,
    "start_time": "2025-01-01T22:15:56.080Z"
   },
   {
    "duration": 176,
    "start_time": "2025-01-01T22:23:40.332Z"
   },
   {
    "duration": 481,
    "start_time": "2025-01-01T22:23:46.954Z"
   },
   {
    "duration": 2615,
    "start_time": "2025-01-01T22:23:47.438Z"
   },
   {
    "duration": 22,
    "start_time": "2025-01-01T22:23:50.055Z"
   },
   {
    "duration": 12,
    "start_time": "2025-01-01T22:23:50.079Z"
   },
   {
    "duration": 140,
    "start_time": "2025-01-01T22:23:50.093Z"
   },
   {
    "duration": 7,
    "start_time": "2025-01-01T22:23:50.235Z"
   },
   {
    "duration": 8,
    "start_time": "2025-01-01T22:23:50.245Z"
   },
   {
    "duration": 917,
    "start_time": "2025-01-01T22:23:50.256Z"
   },
   {
    "duration": 10,
    "start_time": "2025-01-01T22:23:51.175Z"
   },
   {
    "duration": 10,
    "start_time": "2025-01-01T22:23:51.189Z"
   },
   {
    "duration": 9,
    "start_time": "2025-01-01T22:23:51.200Z"
   },
   {
    "duration": 25,
    "start_time": "2025-01-01T22:23:51.211Z"
   },
   {
    "duration": 23,
    "start_time": "2025-01-01T22:23:51.238Z"
   },
   {
    "duration": 6,
    "start_time": "2025-01-01T22:23:51.263Z"
   },
   {
    "duration": 9,
    "start_time": "2025-01-01T22:23:51.271Z"
   },
   {
    "duration": 6,
    "start_time": "2025-01-01T22:23:51.281Z"
   },
   {
    "duration": 42,
    "start_time": "2025-01-01T22:23:51.289Z"
   },
   {
    "duration": 6,
    "start_time": "2025-01-01T22:23:51.333Z"
   },
   {
    "duration": 7,
    "start_time": "2025-01-01T22:23:51.341Z"
   },
   {
    "duration": 11,
    "start_time": "2025-01-01T22:23:51.349Z"
   },
   {
    "duration": 7,
    "start_time": "2025-01-01T22:23:51.361Z"
   },
   {
    "duration": 12,
    "start_time": "2025-01-01T22:23:51.371Z"
   },
   {
    "duration": 4,
    "start_time": "2025-01-01T22:23:51.385Z"
   },
   {
    "duration": 71,
    "start_time": "2025-01-01T22:23:51.391Z"
   },
   {
    "duration": 38,
    "start_time": "2025-01-01T22:23:51.463Z"
   },
   {
    "duration": 37,
    "start_time": "2025-01-01T22:23:51.504Z"
   },
   {
    "duration": 30,
    "start_time": "2025-01-01T22:23:51.543Z"
   },
   {
    "duration": 4,
    "start_time": "2025-01-01T22:23:51.578Z"
   },
   {
    "duration": 215,
    "start_time": "2025-01-01T22:23:51.585Z"
   },
   {
    "duration": 10,
    "start_time": "2025-01-01T22:23:51.802Z"
   },
   {
    "duration": 3,
    "start_time": "2025-01-01T22:23:51.814Z"
   },
   {
    "duration": 34,
    "start_time": "2025-01-01T22:23:51.819Z"
   },
   {
    "duration": 12,
    "start_time": "2025-01-01T22:23:51.855Z"
   },
   {
    "duration": 4,
    "start_time": "2025-01-01T22:23:51.868Z"
   },
   {
    "duration": 7,
    "start_time": "2025-01-01T22:23:51.873Z"
   },
   {
    "duration": 6,
    "start_time": "2025-01-01T22:23:51.881Z"
   },
   {
    "duration": 216,
    "start_time": "2025-01-01T22:23:51.889Z"
   },
   {
    "duration": 10,
    "start_time": "2025-01-01T22:23:52.106Z"
   },
   {
    "duration": 2083,
    "start_time": "2025-01-01T22:23:52.118Z"
   },
   {
    "duration": 12,
    "start_time": "2025-01-01T22:23:54.202Z"
   },
   {
    "duration": 54,
    "start_time": "2025-01-01T22:23:54.215Z"
   },
   {
    "duration": 11,
    "start_time": "2025-01-01T22:23:54.271Z"
   },
   {
    "duration": 6,
    "start_time": "2025-01-01T22:23:54.284Z"
   },
   {
    "duration": 10,
    "start_time": "2025-01-01T22:23:54.292Z"
   },
   {
    "duration": 30,
    "start_time": "2025-01-01T22:23:54.304Z"
   },
   {
    "duration": 3,
    "start_time": "2025-01-01T22:23:54.336Z"
   },
   {
    "duration": 1418,
    "start_time": "2025-01-01T22:23:54.341Z"
   },
   {
    "duration": 6,
    "start_time": "2025-01-01T22:23:55.761Z"
   },
   {
    "duration": 13,
    "start_time": "2025-01-01T22:23:55.769Z"
   },
   {
    "duration": 115,
    "start_time": "2025-01-01T22:23:55.783Z"
   },
   {
    "duration": 11,
    "start_time": "2025-01-01T22:23:55.900Z"
   },
   {
    "duration": 104,
    "start_time": "2025-01-01T22:23:55.913Z"
   },
   {
    "duration": 101,
    "start_time": "2025-01-01T22:23:56.018Z"
   },
   {
    "duration": 31,
    "start_time": "2025-01-01T22:23:56.121Z"
   },
   {
    "duration": 14,
    "start_time": "2025-01-01T22:23:56.154Z"
   },
   {
    "duration": 7,
    "start_time": "2025-01-01T22:23:56.169Z"
   },
   {
    "duration": 21,
    "start_time": "2025-01-01T22:23:56.178Z"
   },
   {
    "duration": 43,
    "start_time": "2025-01-01T22:23:56.201Z"
   },
   {
    "duration": 5,
    "start_time": "2025-01-01T22:23:56.246Z"
   },
   {
    "duration": 6,
    "start_time": "2025-01-01T22:23:56.253Z"
   },
   {
    "duration": 6,
    "start_time": "2025-01-01T22:23:56.261Z"
   },
   {
    "duration": 5,
    "start_time": "2025-01-01T22:23:56.269Z"
   },
   {
    "duration": 825,
    "start_time": "2025-01-01T22:23:56.276Z"
   },
   {
    "duration": 817,
    "start_time": "2025-01-01T22:23:57.102Z"
   },
   {
    "duration": 6,
    "start_time": "2025-01-01T22:23:57.921Z"
   },
   {
    "duration": 7,
    "start_time": "2025-01-01T22:23:57.932Z"
   },
   {
    "duration": 456,
    "start_time": "2025-01-01T22:48:33.617Z"
   },
   {
    "duration": 2462,
    "start_time": "2025-01-01T22:48:34.075Z"
   },
   {
    "duration": 21,
    "start_time": "2025-01-01T22:48:36.538Z"
   },
   {
    "duration": 10,
    "start_time": "2025-01-01T22:48:36.562Z"
   },
   {
    "duration": 134,
    "start_time": "2025-01-01T22:48:36.573Z"
   },
   {
    "duration": 7,
    "start_time": "2025-01-01T22:48:36.709Z"
   },
   {
    "duration": 18,
    "start_time": "2025-01-01T22:48:36.718Z"
   },
   {
    "duration": 918,
    "start_time": "2025-01-01T22:48:36.737Z"
   },
   {
    "duration": 12,
    "start_time": "2025-01-01T22:48:37.657Z"
   },
   {
    "duration": 12,
    "start_time": "2025-01-01T22:48:37.674Z"
   },
   {
    "duration": 10,
    "start_time": "2025-01-01T22:48:37.688Z"
   },
   {
    "duration": 7,
    "start_time": "2025-01-01T22:48:37.699Z"
   },
   {
    "duration": 45,
    "start_time": "2025-01-01T22:48:37.708Z"
   },
   {
    "duration": 6,
    "start_time": "2025-01-01T22:48:37.756Z"
   },
   {
    "duration": 8,
    "start_time": "2025-01-01T22:48:37.764Z"
   },
   {
    "duration": 7,
    "start_time": "2025-01-01T22:48:37.774Z"
   },
   {
    "duration": 9,
    "start_time": "2025-01-01T22:48:37.782Z"
   },
   {
    "duration": 5,
    "start_time": "2025-01-01T22:48:37.793Z"
   },
   {
    "duration": 9,
    "start_time": "2025-01-01T22:48:37.832Z"
   },
   {
    "duration": 12,
    "start_time": "2025-01-01T22:48:37.843Z"
   },
   {
    "duration": 7,
    "start_time": "2025-01-01T22:48:37.856Z"
   },
   {
    "duration": 12,
    "start_time": "2025-01-01T22:48:37.865Z"
   },
   {
    "duration": 4,
    "start_time": "2025-01-01T22:48:37.879Z"
   },
   {
    "duration": 70,
    "start_time": "2025-01-01T22:48:37.885Z"
   },
   {
    "duration": 40,
    "start_time": "2025-01-01T22:48:37.957Z"
   },
   {
    "duration": 32,
    "start_time": "2025-01-01T22:48:38.000Z"
   },
   {
    "duration": 31,
    "start_time": "2025-01-01T22:48:38.035Z"
   },
   {
    "duration": 4,
    "start_time": "2025-01-01T22:48:38.071Z"
   },
   {
    "duration": 215,
    "start_time": "2025-01-01T22:48:38.077Z"
   },
   {
    "duration": 11,
    "start_time": "2025-01-01T22:48:38.294Z"
   },
   {
    "duration": 4,
    "start_time": "2025-01-01T22:48:38.307Z"
   },
   {
    "duration": 25,
    "start_time": "2025-01-01T22:48:38.333Z"
   },
   {
    "duration": 11,
    "start_time": "2025-01-01T22:48:38.360Z"
   },
   {
    "duration": 4,
    "start_time": "2025-01-01T22:48:38.373Z"
   },
   {
    "duration": 6,
    "start_time": "2025-01-01T22:48:38.378Z"
   },
   {
    "duration": 6,
    "start_time": "2025-01-01T22:48:38.386Z"
   },
   {
    "duration": 207,
    "start_time": "2025-01-01T22:48:38.393Z"
   },
   {
    "duration": 8,
    "start_time": "2025-01-01T22:48:38.602Z"
   },
   {
    "duration": 2088,
    "start_time": "2025-01-01T22:48:38.612Z"
   },
   {
    "duration": 10,
    "start_time": "2025-01-01T22:48:40.702Z"
   },
   {
    "duration": 51,
    "start_time": "2025-01-01T22:48:40.714Z"
   },
   {
    "duration": 12,
    "start_time": "2025-01-01T22:48:40.768Z"
   },
   {
    "duration": 6,
    "start_time": "2025-01-01T22:48:40.781Z"
   },
   {
    "duration": 11,
    "start_time": "2025-01-01T22:48:40.790Z"
   },
   {
    "duration": 33,
    "start_time": "2025-01-01T22:48:40.803Z"
   },
   {
    "duration": 3,
    "start_time": "2025-01-01T22:48:40.838Z"
   },
   {
    "duration": 1432,
    "start_time": "2025-01-01T22:48:40.843Z"
   },
   {
    "duration": 7,
    "start_time": "2025-01-01T22:48:42.277Z"
   },
   {
    "duration": 13,
    "start_time": "2025-01-01T22:48:42.286Z"
   },
   {
    "duration": 118,
    "start_time": "2025-01-01T22:48:42.301Z"
   },
   {
    "duration": 19,
    "start_time": "2025-01-01T22:48:42.421Z"
   },
   {
    "duration": 104,
    "start_time": "2025-01-01T22:48:42.441Z"
   },
   {
    "duration": 105,
    "start_time": "2025-01-01T22:48:42.547Z"
   },
   {
    "duration": 32,
    "start_time": "2025-01-01T22:48:42.653Z"
   },
   {
    "duration": 15,
    "start_time": "2025-01-01T22:48:42.687Z"
   },
   {
    "duration": 27,
    "start_time": "2025-01-01T22:48:42.704Z"
   },
   {
    "duration": 18,
    "start_time": "2025-01-01T22:48:42.733Z"
   },
   {
    "duration": 17,
    "start_time": "2025-01-01T22:48:42.753Z"
   },
   {
    "duration": 5,
    "start_time": "2025-01-01T22:48:42.771Z"
   },
   {
    "duration": 6,
    "start_time": "2025-01-01T22:48:42.778Z"
   },
   {
    "duration": 6,
    "start_time": "2025-01-01T22:48:42.785Z"
   },
   {
    "duration": 4,
    "start_time": "2025-01-01T22:48:42.792Z"
   },
   {
    "duration": 883,
    "start_time": "2025-01-01T22:48:42.798Z"
   },
   {
    "duration": 949,
    "start_time": "2025-01-01T22:48:43.683Z"
   },
   {
    "duration": 6,
    "start_time": "2025-01-01T22:48:44.635Z"
   },
   {
    "duration": 5,
    "start_time": "2025-01-01T22:48:44.643Z"
   },
   {
    "duration": 100682,
    "start_time": "2025-01-01T22:48:44.650Z"
   },
   {
    "duration": 0,
    "start_time": "2025-01-01T22:50:25.335Z"
   },
   {
    "duration": 160,
    "start_time": "2025-01-05T21:44:20.550Z"
   },
   {
    "duration": 2182,
    "start_time": "2025-01-05T21:44:32.349Z"
   },
   {
    "duration": 2392,
    "start_time": "2025-01-05T21:44:34.533Z"
   },
   {
    "duration": 22,
    "start_time": "2025-01-05T21:44:36.927Z"
   },
   {
    "duration": 9,
    "start_time": "2025-01-05T21:44:36.952Z"
   },
   {
    "duration": 128,
    "start_time": "2025-01-05T21:44:36.963Z"
   },
   {
    "duration": 8,
    "start_time": "2025-01-05T21:44:37.092Z"
   },
   {
    "duration": 8,
    "start_time": "2025-01-05T21:44:37.111Z"
   },
   {
    "duration": 952,
    "start_time": "2025-01-05T21:44:37.120Z"
   },
   {
    "duration": 9,
    "start_time": "2025-01-05T21:44:38.074Z"
   },
   {
    "duration": 9,
    "start_time": "2025-01-05T21:44:38.086Z"
   },
   {
    "duration": 22,
    "start_time": "2025-01-05T21:44:38.096Z"
   },
   {
    "duration": 6,
    "start_time": "2025-01-05T21:44:38.119Z"
   },
   {
    "duration": 24,
    "start_time": "2025-01-05T21:44:38.126Z"
   },
   {
    "duration": 7,
    "start_time": "2025-01-05T21:44:38.151Z"
   },
   {
    "duration": 8,
    "start_time": "2025-01-05T21:44:38.159Z"
   },
   {
    "duration": 6,
    "start_time": "2025-01-05T21:44:38.168Z"
   },
   {
    "duration": 36,
    "start_time": "2025-01-05T21:44:38.176Z"
   },
   {
    "duration": 6,
    "start_time": "2025-01-05T21:44:38.214Z"
   },
   {
    "duration": 8,
    "start_time": "2025-01-05T21:44:38.221Z"
   },
   {
    "duration": 11,
    "start_time": "2025-01-05T21:44:38.230Z"
   },
   {
    "duration": 7,
    "start_time": "2025-01-05T21:44:38.242Z"
   },
   {
    "duration": 12,
    "start_time": "2025-01-05T21:44:38.251Z"
   },
   {
    "duration": 46,
    "start_time": "2025-01-05T21:44:38.265Z"
   },
   {
    "duration": 33,
    "start_time": "2025-01-05T21:44:38.313Z"
   },
   {
    "duration": 36,
    "start_time": "2025-01-05T21:44:38.348Z"
   },
   {
    "duration": 33,
    "start_time": "2025-01-05T21:44:38.386Z"
   },
   {
    "duration": 28,
    "start_time": "2025-01-05T21:44:38.421Z"
   },
   {
    "duration": 3,
    "start_time": "2025-01-05T21:44:38.455Z"
   },
   {
    "duration": 197,
    "start_time": "2025-01-05T21:44:38.460Z"
   },
   {
    "duration": 11,
    "start_time": "2025-01-05T21:44:38.659Z"
   },
   {
    "duration": 3,
    "start_time": "2025-01-05T21:44:38.672Z"
   },
   {
    "duration": 47,
    "start_time": "2025-01-05T21:44:38.677Z"
   },
   {
    "duration": 11,
    "start_time": "2025-01-05T21:44:38.726Z"
   },
   {
    "duration": 4,
    "start_time": "2025-01-05T21:44:38.739Z"
   },
   {
    "duration": 6,
    "start_time": "2025-01-05T21:44:38.745Z"
   },
   {
    "duration": 6,
    "start_time": "2025-01-05T21:44:38.752Z"
   },
   {
    "duration": 199,
    "start_time": "2025-01-05T21:44:38.760Z"
   },
   {
    "duration": 9,
    "start_time": "2025-01-05T21:44:38.961Z"
   },
   {
    "duration": 2058,
    "start_time": "2025-01-05T21:44:38.972Z"
   },
   {
    "duration": 10,
    "start_time": "2025-01-05T21:44:41.031Z"
   },
   {
    "duration": 41,
    "start_time": "2025-01-05T21:44:41.043Z"
   },
   {
    "duration": 27,
    "start_time": "2025-01-05T21:44:41.086Z"
   },
   {
    "duration": 6,
    "start_time": "2025-01-05T21:44:41.115Z"
   },
   {
    "duration": 10,
    "start_time": "2025-01-05T21:44:41.122Z"
   },
   {
    "duration": 5,
    "start_time": "2025-01-05T21:44:41.134Z"
   },
   {
    "duration": 4,
    "start_time": "2025-01-05T21:44:41.141Z"
   },
   {
    "duration": 1348,
    "start_time": "2025-01-05T21:44:41.146Z"
   },
   {
    "duration": 6,
    "start_time": "2025-01-05T21:44:42.496Z"
   },
   {
    "duration": 20,
    "start_time": "2025-01-05T21:44:42.503Z"
   },
   {
    "duration": 110,
    "start_time": "2025-01-05T21:44:42.525Z"
   },
   {
    "duration": 10,
    "start_time": "2025-01-05T21:44:42.636Z"
   },
   {
    "duration": 106,
    "start_time": "2025-01-05T21:44:42.648Z"
   },
   {
    "duration": 99,
    "start_time": "2025-01-05T21:44:42.756Z"
   },
   {
    "duration": 31,
    "start_time": "2025-01-05T21:44:42.858Z"
   },
   {
    "duration": 27,
    "start_time": "2025-01-05T21:44:42.891Z"
   },
   {
    "duration": 5,
    "start_time": "2025-01-05T21:44:42.920Z"
   },
   {
    "duration": 16,
    "start_time": "2025-01-05T21:44:42.927Z"
   },
   {
    "duration": 18,
    "start_time": "2025-01-05T21:44:42.945Z"
   },
   {
    "duration": 5,
    "start_time": "2025-01-05T21:44:42.964Z"
   },
   {
    "duration": 6,
    "start_time": "2025-01-05T21:44:42.971Z"
   },
   {
    "duration": 8,
    "start_time": "2025-01-05T21:44:43.011Z"
   },
   {
    "duration": 5,
    "start_time": "2025-01-05T21:44:43.021Z"
   },
   {
    "duration": 777,
    "start_time": "2025-01-05T21:44:43.028Z"
   },
   {
    "duration": 801,
    "start_time": "2025-01-05T21:44:43.811Z"
   },
   {
    "duration": 5,
    "start_time": "2025-01-05T21:44:44.614Z"
   },
   {
    "duration": 6,
    "start_time": "2025-01-05T21:44:44.621Z"
   },
   {
    "duration": 274,
    "start_time": "2025-01-05T21:44:44.628Z"
   },
   {
    "duration": 1015,
    "start_time": "2025-01-05T21:45:37.166Z"
   },
   {
    "duration": 1620,
    "start_time": "2025-01-05T21:47:35.539Z"
   },
   {
    "duration": 1454,
    "start_time": "2025-01-05T21:47:43.980Z"
   },
   {
    "duration": 1081,
    "start_time": "2025-01-05T21:50:42.736Z"
   },
   {
    "duration": 992,
    "start_time": "2025-01-05T21:51:12.986Z"
   },
   {
    "duration": 104,
    "start_time": "2025-01-05T21:52:20.250Z"
   },
   {
    "duration": 690,
    "start_time": "2025-01-05T21:52:26.604Z"
   },
   {
    "duration": 310,
    "start_time": "2025-01-05T21:53:58.171Z"
   },
   {
    "duration": 129,
    "start_time": "2025-01-05T21:54:06.287Z"
   },
   {
    "duration": 13,
    "start_time": "2025-01-05T21:54:47.306Z"
   },
   {
    "duration": 17,
    "start_time": "2025-01-05T21:57:23.164Z"
   },
   {
    "duration": 18,
    "start_time": "2025-01-05T21:57:27.159Z"
   },
   {
    "duration": 1037,
    "start_time": "2025-01-05T21:58:22.759Z"
   },
   {
    "duration": 1021,
    "start_time": "2025-01-05T21:59:18.996Z"
   },
   {
    "duration": 26,
    "start_time": "2025-01-05T22:01:03.221Z"
   },
   {
    "duration": 22,
    "start_time": "2025-01-05T22:01:12.405Z"
   },
   {
    "duration": 214,
    "start_time": "2025-01-05T22:01:24.259Z"
   },
   {
    "duration": 28,
    "start_time": "2025-01-05T22:01:32.499Z"
   },
   {
    "duration": 20,
    "start_time": "2025-01-05T22:01:59.041Z"
   },
   {
    "duration": 13,
    "start_time": "2025-01-05T22:02:09.401Z"
   },
   {
    "duration": 13,
    "start_time": "2025-01-05T22:02:18.509Z"
   },
   {
    "duration": 13,
    "start_time": "2025-01-05T22:02:28.164Z"
   },
   {
    "duration": 15,
    "start_time": "2025-01-05T22:02:42.767Z"
   },
   {
    "duration": 12,
    "start_time": "2025-01-05T22:03:05.125Z"
   },
   {
    "duration": 15,
    "start_time": "2025-01-05T22:03:13.689Z"
   },
   {
    "duration": 148,
    "start_time": "2025-01-05T22:03:38.436Z"
   },
   {
    "duration": 149,
    "start_time": "2025-01-05T22:03:59.254Z"
   },
   {
    "duration": 180,
    "start_time": "2025-01-05T22:04:25.206Z"
   },
   {
    "duration": 160,
    "start_time": "2025-01-05T22:05:06.708Z"
   },
   {
    "duration": 168,
    "start_time": "2025-01-05T22:06:39.829Z"
   },
   {
    "duration": 160,
    "start_time": "2025-01-05T22:07:03.164Z"
   },
   {
    "duration": 162,
    "start_time": "2025-01-05T22:07:14.990Z"
   },
   {
    "duration": 161,
    "start_time": "2025-01-05T22:07:23.856Z"
   },
   {
    "duration": 5,
    "start_time": "2025-01-05T22:08:18.053Z"
   },
   {
    "duration": 167,
    "start_time": "2025-01-05T22:08:41.860Z"
   },
   {
    "duration": 166,
    "start_time": "2025-01-05T22:08:48.364Z"
   },
   {
    "duration": 160,
    "start_time": "2025-01-05T22:08:57.632Z"
   },
   {
    "duration": 179,
    "start_time": "2025-01-05T22:09:13.792Z"
   },
   {
    "duration": 4,
    "start_time": "2025-01-05T22:11:26.915Z"
   },
   {
    "duration": 176,
    "start_time": "2025-01-05T22:12:01.573Z"
   },
   {
    "duration": 387,
    "start_time": "2025-01-05T22:15:32.995Z"
   },
   {
    "duration": 5,
    "start_time": "2025-01-05T22:15:44.873Z"
   },
   {
    "duration": 193,
    "start_time": "2025-01-05T22:15:52.374Z"
   },
   {
    "duration": 4,
    "start_time": "2025-01-05T22:15:58.205Z"
   },
   {
    "duration": 123,
    "start_time": "2025-01-05T22:18:04.242Z"
   },
   {
    "duration": 155,
    "start_time": "2025-01-05T22:18:46.096Z"
   },
   {
    "duration": 378,
    "start_time": "2025-01-05T22:19:22.398Z"
   },
   {
    "duration": 124,
    "start_time": "2025-01-05T22:20:03.575Z"
   },
   {
    "duration": 124,
    "start_time": "2025-01-05T22:21:21.211Z"
   },
   {
    "duration": 131,
    "start_time": "2025-01-05T22:21:45.643Z"
   },
   {
    "duration": 146,
    "start_time": "2025-01-05T22:23:14.861Z"
   },
   {
    "duration": 122,
    "start_time": "2025-01-05T22:23:40.337Z"
   },
   {
    "duration": 123,
    "start_time": "2025-01-05T22:25:00.616Z"
   },
   {
    "duration": 126,
    "start_time": "2025-01-05T22:25:25.181Z"
   },
   {
    "duration": 126,
    "start_time": "2025-01-05T22:25:56.479Z"
   },
   {
    "duration": 137,
    "start_time": "2025-01-05T22:27:18.034Z"
   },
   {
    "duration": 142,
    "start_time": "2025-01-05T22:27:23.376Z"
   },
   {
    "duration": 167,
    "start_time": "2025-01-05T22:27:38.914Z"
   },
   {
    "duration": 359,
    "start_time": "2025-01-05T22:28:30.237Z"
   },
   {
    "duration": 184,
    "start_time": "2025-01-05T22:30:10.821Z"
   },
   {
    "duration": 6,
    "start_time": "2025-01-05T22:30:18.804Z"
   },
   {
    "duration": 176,
    "start_time": "2025-01-05T22:30:30.794Z"
   },
   {
    "duration": 198,
    "start_time": "2025-01-05T22:32:15.618Z"
   },
   {
    "duration": 197,
    "start_time": "2025-01-05T22:33:10.114Z"
   },
   {
    "duration": 181,
    "start_time": "2025-01-05T22:34:05.489Z"
   },
   {
    "duration": 191,
    "start_time": "2025-01-05T22:37:35.055Z"
   },
   {
    "duration": 150,
    "start_time": "2025-01-05T22:42:16.595Z"
   },
   {
    "duration": 40,
    "start_time": "2025-01-05T22:43:11.904Z"
   },
   {
    "duration": 96,
    "start_time": "2025-01-05T22:43:30.522Z"
   },
   {
    "duration": 64,
    "start_time": "2025-01-05T22:44:22.475Z"
   },
   {
    "duration": 56,
    "start_time": "2025-01-05T22:44:52.286Z"
   },
   {
    "duration": 204,
    "start_time": "2025-01-05T22:46:24.853Z"
   },
   {
    "duration": 190,
    "start_time": "2025-01-05T22:46:55.341Z"
   },
   {
    "duration": 2215,
    "start_time": "2025-01-06T00:03:23.722Z"
   },
   {
    "duration": 2360,
    "start_time": "2025-01-06T00:03:25.939Z"
   },
   {
    "duration": 22,
    "start_time": "2025-01-06T00:03:28.301Z"
   },
   {
    "duration": 8,
    "start_time": "2025-01-06T00:03:28.326Z"
   },
   {
    "duration": 137,
    "start_time": "2025-01-06T00:03:28.336Z"
   },
   {
    "duration": 8,
    "start_time": "2025-01-06T00:03:28.475Z"
   },
   {
    "duration": 8,
    "start_time": "2025-01-06T00:03:28.485Z"
   },
   {
    "duration": 943,
    "start_time": "2025-01-06T00:03:28.494Z"
   },
   {
    "duration": 11,
    "start_time": "2025-01-06T00:03:29.439Z"
   },
   {
    "duration": 9,
    "start_time": "2025-01-06T00:03:29.453Z"
   },
   {
    "duration": 10,
    "start_time": "2025-01-06T00:03:29.463Z"
   },
   {
    "duration": 6,
    "start_time": "2025-01-06T00:03:29.474Z"
   },
   {
    "duration": 57,
    "start_time": "2025-01-06T00:03:29.483Z"
   },
   {
    "duration": 7,
    "start_time": "2025-01-06T00:03:29.542Z"
   },
   {
    "duration": 8,
    "start_time": "2025-01-06T00:03:29.550Z"
   },
   {
    "duration": 5,
    "start_time": "2025-01-06T00:03:29.560Z"
   },
   {
    "duration": 7,
    "start_time": "2025-01-06T00:03:29.567Z"
   },
   {
    "duration": 7,
    "start_time": "2025-01-06T00:03:29.575Z"
   },
   {
    "duration": 7,
    "start_time": "2025-01-06T00:03:29.612Z"
   },
   {
    "duration": 10,
    "start_time": "2025-01-06T00:03:29.621Z"
   },
   {
    "duration": 7,
    "start_time": "2025-01-06T00:03:29.633Z"
   },
   {
    "duration": 12,
    "start_time": "2025-01-06T00:03:29.642Z"
   },
   {
    "duration": 4,
    "start_time": "2025-01-06T00:03:29.656Z"
   },
   {
    "duration": 68,
    "start_time": "2025-01-06T00:03:29.662Z"
   },
   {
    "duration": 38,
    "start_time": "2025-01-06T00:03:29.731Z"
   },
   {
    "duration": 19,
    "start_time": "2025-01-06T00:03:29.771Z"
   },
   {
    "duration": 45,
    "start_time": "2025-01-06T00:03:29.791Z"
   },
   {
    "duration": 3,
    "start_time": "2025-01-06T00:03:29.840Z"
   },
   {
    "duration": 207,
    "start_time": "2025-01-06T00:03:29.846Z"
   },
   {
    "duration": 12,
    "start_time": "2025-01-06T00:03:30.054Z"
   },
   {
    "duration": 3,
    "start_time": "2025-01-06T00:03:30.069Z"
   },
   {
    "duration": 43,
    "start_time": "2025-01-06T00:03:30.074Z"
   },
   {
    "duration": 12,
    "start_time": "2025-01-06T00:03:30.119Z"
   },
   {
    "duration": 3,
    "start_time": "2025-01-06T00:03:30.132Z"
   },
   {
    "duration": 6,
    "start_time": "2025-01-06T00:03:30.137Z"
   },
   {
    "duration": 5,
    "start_time": "2025-01-06T00:03:30.145Z"
   },
   {
    "duration": 200,
    "start_time": "2025-01-06T00:03:30.152Z"
   },
   {
    "duration": 9,
    "start_time": "2025-01-06T00:03:30.354Z"
   },
   {
    "duration": 2221,
    "start_time": "2025-01-06T00:03:30.364Z"
   },
   {
    "duration": 10,
    "start_time": "2025-01-06T00:03:32.587Z"
   },
   {
    "duration": 51,
    "start_time": "2025-01-06T00:03:32.601Z"
   },
   {
    "duration": 12,
    "start_time": "2025-01-06T00:03:32.653Z"
   },
   {
    "duration": 5,
    "start_time": "2025-01-06T00:03:32.667Z"
   },
   {
    "duration": 10,
    "start_time": "2025-01-06T00:03:32.674Z"
   },
   {
    "duration": 6,
    "start_time": "2025-01-06T00:03:32.712Z"
   },
   {
    "duration": 3,
    "start_time": "2025-01-06T00:03:32.720Z"
   },
   {
    "duration": 1410,
    "start_time": "2025-01-06T00:03:32.725Z"
   },
   {
    "duration": 6,
    "start_time": "2025-01-06T00:03:34.137Z"
   },
   {
    "duration": 13,
    "start_time": "2025-01-06T00:03:34.144Z"
   },
   {
    "duration": 113,
    "start_time": "2025-01-06T00:03:34.159Z"
   },
   {
    "duration": 10,
    "start_time": "2025-01-06T00:03:34.274Z"
   },
   {
    "duration": 106,
    "start_time": "2025-01-06T00:03:34.286Z"
   },
   {
    "duration": 96,
    "start_time": "2025-01-06T00:03:34.393Z"
   },
   {
    "duration": 38,
    "start_time": "2025-01-06T00:03:34.491Z"
   },
   {
    "duration": 14,
    "start_time": "2025-01-06T00:03:34.531Z"
   },
   {
    "duration": 5,
    "start_time": "2025-01-06T00:03:34.547Z"
   },
   {
    "duration": 16,
    "start_time": "2025-01-06T00:03:34.553Z"
   },
   {
    "duration": 42,
    "start_time": "2025-01-06T00:03:34.570Z"
   },
   {
    "duration": 5,
    "start_time": "2025-01-06T00:03:34.614Z"
   },
   {
    "duration": 5,
    "start_time": "2025-01-06T00:03:34.622Z"
   },
   {
    "duration": 6,
    "start_time": "2025-01-06T00:03:34.629Z"
   },
   {
    "duration": 6,
    "start_time": "2025-01-06T00:03:34.637Z"
   },
   {
    "duration": 834,
    "start_time": "2025-01-06T00:03:34.645Z"
   },
   {
    "duration": 825,
    "start_time": "2025-01-06T00:03:35.481Z"
   },
   {
    "duration": 9,
    "start_time": "2025-01-06T00:03:36.307Z"
   },
   {
    "duration": 6,
    "start_time": "2025-01-06T00:03:36.317Z"
   },
   {
    "duration": 268,
    "start_time": "2025-01-06T00:03:36.325Z"
   },
   {
    "duration": 125,
    "start_time": "2025-01-06T00:06:40.892Z"
   },
   {
    "duration": 123,
    "start_time": "2025-01-06T00:07:12.038Z"
   },
   {
    "duration": 120,
    "start_time": "2025-01-06T00:07:26.095Z"
   },
   {
    "duration": 121,
    "start_time": "2025-01-06T00:10:09.249Z"
   },
   {
    "duration": 226,
    "start_time": "2025-01-06T00:11:36.451Z"
   },
   {
    "duration": 126,
    "start_time": "2025-01-06T00:32:06.907Z"
   },
   {
    "duration": 186,
    "start_time": "2025-01-06T00:33:47.819Z"
   },
   {
    "duration": 200,
    "start_time": "2025-01-06T00:33:59.367Z"
   },
   {
    "duration": 119,
    "start_time": "2025-01-06T00:34:25.408Z"
   },
   {
    "duration": 118,
    "start_time": "2025-01-06T01:01:24.516Z"
   },
   {
    "duration": 117,
    "start_time": "2025-01-06T01:01:40.926Z"
   },
   {
    "duration": 117,
    "start_time": "2025-01-06T01:01:50.935Z"
   },
   {
    "duration": 113,
    "start_time": "2025-01-06T01:09:06.720Z"
   },
   {
    "duration": 689,
    "start_time": "2025-01-06T01:11:32.396Z"
   },
   {
    "duration": 214,
    "start_time": "2025-01-06T01:11:57.790Z"
   },
   {
    "duration": 213,
    "start_time": "2025-01-06T01:39:19.872Z"
   },
   {
    "duration": 205,
    "start_time": "2025-01-06T01:40:03.762Z"
   },
   {
    "duration": 611,
    "start_time": "2025-01-06T01:40:14.127Z"
   },
   {
    "duration": 209,
    "start_time": "2025-01-06T01:41:48.109Z"
   },
   {
    "duration": 206,
    "start_time": "2025-01-06T01:41:58.597Z"
   },
   {
    "duration": 210,
    "start_time": "2025-01-06T01:42:04.654Z"
   },
   {
    "duration": 200,
    "start_time": "2025-01-06T01:42:21.711Z"
   },
   {
    "duration": 195,
    "start_time": "2025-01-06T01:42:28.988Z"
   },
   {
    "duration": 205,
    "start_time": "2025-01-06T01:43:19.790Z"
   },
   {
    "duration": 223,
    "start_time": "2025-01-06T01:43:37.198Z"
   },
   {
    "duration": 600,
    "start_time": "2025-01-06T01:43:48.886Z"
   },
   {
    "duration": 233,
    "start_time": "2025-01-06T01:44:07.199Z"
   },
   {
    "duration": 209,
    "start_time": "2025-01-06T01:44:12.065Z"
   },
   {
    "duration": 210,
    "start_time": "2025-01-06T01:44:19.654Z"
   },
   {
    "duration": 340,
    "start_time": "2025-01-06T01:44:46.409Z"
   },
   {
    "duration": 200,
    "start_time": "2025-01-06T01:45:59.354Z"
   },
   {
    "duration": 200,
    "start_time": "2025-01-06T01:46:11.111Z"
   },
   {
    "duration": 193,
    "start_time": "2025-01-06T01:46:21.177Z"
   },
   {
    "duration": 195,
    "start_time": "2025-01-06T01:46:58.524Z"
   },
   {
    "duration": 3,
    "start_time": "2025-01-06T01:47:39.822Z"
   },
   {
    "duration": 4,
    "start_time": "2025-01-06T01:47:48.207Z"
   },
   {
    "duration": 5,
    "start_time": "2025-01-06T01:48:01.489Z"
   },
   {
    "duration": 6,
    "start_time": "2025-01-06T01:49:09.849Z"
   },
   {
    "duration": 5,
    "start_time": "2025-01-06T01:49:28.432Z"
   },
   {
    "duration": 6,
    "start_time": "2025-01-06T01:52:41.692Z"
   },
   {
    "duration": 17,
    "start_time": "2025-01-06T01:52:59.632Z"
   },
   {
    "duration": 7,
    "start_time": "2025-01-06T01:53:12.797Z"
   },
   {
    "duration": 5,
    "start_time": "2025-01-06T01:53:23.048Z"
   },
   {
    "duration": 15,
    "start_time": "2025-01-06T01:53:41.803Z"
   },
   {
    "duration": 4,
    "start_time": "2025-01-06T01:54:03.903Z"
   },
   {
    "duration": 44,
    "start_time": "2025-01-06T01:54:17.950Z"
   },
   {
    "duration": 47,
    "start_time": "2025-01-06T01:54:39.274Z"
   },
   {
    "duration": 476,
    "start_time": "2025-01-06T01:54:47.977Z"
   },
   {
    "duration": 6,
    "start_time": "2025-01-06T01:54:56.702Z"
   },
   {
    "duration": 8,
    "start_time": "2025-01-06T01:55:14.699Z"
   },
   {
    "duration": 18,
    "start_time": "2025-01-06T01:55:18.292Z"
   },
   {
    "duration": 6,
    "start_time": "2025-01-06T01:55:32.899Z"
   },
   {
    "duration": 16,
    "start_time": "2025-01-06T01:55:43.264Z"
   },
   {
    "duration": 5,
    "start_time": "2025-01-06T01:55:49.627Z"
   },
   {
    "duration": 5,
    "start_time": "2025-01-06T01:56:48.996Z"
   },
   {
    "duration": 210,
    "start_time": "2025-01-06T01:58:35.719Z"
   },
   {
    "duration": 192,
    "start_time": "2025-01-06T01:58:56.548Z"
   },
   {
    "duration": 132,
    "start_time": "2025-01-06T01:59:06.057Z"
   },
   {
    "duration": 220,
    "start_time": "2025-01-06T01:59:09.979Z"
   },
   {
    "duration": 458,
    "start_time": "2025-01-06T02:04:51.442Z"
   },
   {
    "duration": 2243,
    "start_time": "2025-01-06T02:04:51.902Z"
   },
   {
    "duration": 21,
    "start_time": "2025-01-06T02:04:54.146Z"
   },
   {
    "duration": 8,
    "start_time": "2025-01-06T02:04:54.169Z"
   },
   {
    "duration": 134,
    "start_time": "2025-01-06T02:04:54.179Z"
   },
   {
    "duration": 8,
    "start_time": "2025-01-06T02:04:54.314Z"
   },
   {
    "duration": 7,
    "start_time": "2025-01-06T02:04:54.324Z"
   },
   {
    "duration": 946,
    "start_time": "2025-01-06T02:04:54.333Z"
   },
   {
    "duration": 11,
    "start_time": "2025-01-06T02:04:55.281Z"
   },
   {
    "duration": 18,
    "start_time": "2025-01-06T02:04:55.295Z"
   },
   {
    "duration": 11,
    "start_time": "2025-01-06T02:04:55.315Z"
   },
   {
    "duration": 6,
    "start_time": "2025-01-06T02:04:55.328Z"
   },
   {
    "duration": 23,
    "start_time": "2025-01-06T02:04:55.336Z"
   },
   {
    "duration": 7,
    "start_time": "2025-01-06T02:04:55.361Z"
   },
   {
    "duration": 9,
    "start_time": "2025-01-06T02:04:55.370Z"
   },
   {
    "duration": 7,
    "start_time": "2025-01-06T02:04:55.412Z"
   },
   {
    "duration": 9,
    "start_time": "2025-01-06T02:04:55.420Z"
   },
   {
    "duration": 7,
    "start_time": "2025-01-06T02:04:55.431Z"
   },
   {
    "duration": 7,
    "start_time": "2025-01-06T02:04:55.440Z"
   },
   {
    "duration": 10,
    "start_time": "2025-01-06T02:04:55.448Z"
   },
   {
    "duration": 7,
    "start_time": "2025-01-06T02:04:55.460Z"
   },
   {
    "duration": 48,
    "start_time": "2025-01-06T02:04:55.469Z"
   },
   {
    "duration": 4,
    "start_time": "2025-01-06T02:04:55.518Z"
   },
   {
    "duration": 32,
    "start_time": "2025-01-06T02:04:55.524Z"
   },
   {
    "duration": 55,
    "start_time": "2025-01-06T02:04:55.558Z"
   },
   {
    "duration": 19,
    "start_time": "2025-01-06T02:04:55.614Z"
   },
   {
    "duration": 28,
    "start_time": "2025-01-06T02:04:55.634Z"
   },
   {
    "duration": 4,
    "start_time": "2025-01-06T02:04:55.667Z"
   },
   {
    "duration": 221,
    "start_time": "2025-01-06T02:04:55.673Z"
   },
   {
    "duration": 17,
    "start_time": "2025-01-06T02:04:55.896Z"
   },
   {
    "duration": 4,
    "start_time": "2025-01-06T02:04:55.915Z"
   },
   {
    "duration": 22,
    "start_time": "2025-01-06T02:04:55.921Z"
   },
   {
    "duration": 10,
    "start_time": "2025-01-06T02:04:55.944Z"
   },
   {
    "duration": 4,
    "start_time": "2025-01-06T02:04:55.956Z"
   },
   {
    "duration": 6,
    "start_time": "2025-01-06T02:04:55.962Z"
   },
   {
    "duration": 42,
    "start_time": "2025-01-06T02:04:55.970Z"
   },
   {
    "duration": 179,
    "start_time": "2025-01-06T02:04:56.014Z"
   },
   {
    "duration": 17,
    "start_time": "2025-01-06T02:04:56.195Z"
   },
   {
    "duration": 2073,
    "start_time": "2025-01-06T02:04:56.213Z"
   },
   {
    "duration": 10,
    "start_time": "2025-01-06T02:04:58.288Z"
   },
   {
    "duration": 42,
    "start_time": "2025-01-06T02:04:58.312Z"
   },
   {
    "duration": 11,
    "start_time": "2025-01-06T02:04:58.356Z"
   },
   {
    "duration": 5,
    "start_time": "2025-01-06T02:04:58.369Z"
   },
   {
    "duration": 38,
    "start_time": "2025-01-06T02:04:58.376Z"
   },
   {
    "duration": 5,
    "start_time": "2025-01-06T02:04:58.418Z"
   },
   {
    "duration": 4,
    "start_time": "2025-01-06T02:04:58.425Z"
   },
   {
    "duration": 1465,
    "start_time": "2025-01-06T02:04:58.430Z"
   },
   {
    "duration": 16,
    "start_time": "2025-01-06T02:04:59.896Z"
   },
   {
    "duration": 12,
    "start_time": "2025-01-06T02:04:59.914Z"
   },
   {
    "duration": 110,
    "start_time": "2025-01-06T02:04:59.927Z"
   },
   {
    "duration": 11,
    "start_time": "2025-01-06T02:05:00.039Z"
   },
   {
    "duration": 108,
    "start_time": "2025-01-06T02:05:00.052Z"
   },
   {
    "duration": 106,
    "start_time": "2025-01-06T02:05:00.162Z"
   },
   {
    "duration": 31,
    "start_time": "2025-01-06T02:05:00.270Z"
   },
   {
    "duration": 21,
    "start_time": "2025-01-06T02:05:00.303Z"
   },
   {
    "duration": 6,
    "start_time": "2025-01-06T02:05:00.326Z"
   },
   {
    "duration": 17,
    "start_time": "2025-01-06T02:05:00.333Z"
   },
   {
    "duration": 16,
    "start_time": "2025-01-06T02:05:00.352Z"
   },
   {
    "duration": 5,
    "start_time": "2025-01-06T02:05:00.370Z"
   },
   {
    "duration": 6,
    "start_time": "2025-01-06T02:05:00.412Z"
   },
   {
    "duration": 5,
    "start_time": "2025-01-06T02:05:00.420Z"
   },
   {
    "duration": 6,
    "start_time": "2025-01-06T02:05:00.427Z"
   },
   {
    "duration": 793,
    "start_time": "2025-01-06T02:05:00.434Z"
   },
   {
    "duration": 816,
    "start_time": "2025-01-06T02:05:01.229Z"
   },
   {
    "duration": 6,
    "start_time": "2025-01-06T02:05:02.047Z"
   },
   {
    "duration": 5,
    "start_time": "2025-01-06T02:05:02.055Z"
   },
   {
    "duration": 226,
    "start_time": "2025-01-06T02:05:02.061Z"
   },
   {
    "duration": 124,
    "start_time": "2025-01-06T02:05:02.289Z"
   },
   {
    "duration": 216,
    "start_time": "2025-01-06T02:05:02.415Z"
   },
   {
    "duration": 6,
    "start_time": "2025-01-06T02:05:02.634Z"
   },
   {
    "duration": 205,
    "start_time": "2025-01-06T02:06:22.576Z"
   },
   {
    "duration": 2128,
    "start_time": "2025-02-03T04:47:43.462Z"
   },
   {
    "duration": 2172,
    "start_time": "2025-02-03T04:47:45.592Z"
   },
   {
    "duration": 21,
    "start_time": "2025-02-03T04:47:47.766Z"
   },
   {
    "duration": 8,
    "start_time": "2025-02-03T04:47:47.789Z"
   },
   {
    "duration": 137,
    "start_time": "2025-02-03T04:47:47.799Z"
   },
   {
    "duration": 7,
    "start_time": "2025-02-03T04:47:47.939Z"
   },
   {
    "duration": 8,
    "start_time": "2025-02-03T04:47:47.948Z"
   },
   {
    "duration": 939,
    "start_time": "2025-02-03T04:47:47.957Z"
   },
   {
    "duration": 9,
    "start_time": "2025-02-03T04:47:48.898Z"
   },
   {
    "duration": 17,
    "start_time": "2025-02-03T04:47:48.910Z"
   },
   {
    "duration": 9,
    "start_time": "2025-02-03T04:47:48.929Z"
   },
   {
    "duration": 6,
    "start_time": "2025-02-03T04:47:48.940Z"
   },
   {
    "duration": 24,
    "start_time": "2025-02-03T04:47:48.948Z"
   },
   {
    "duration": 7,
    "start_time": "2025-02-03T04:47:48.974Z"
   },
   {
    "duration": 41,
    "start_time": "2025-02-03T04:47:48.983Z"
   },
   {
    "duration": 6,
    "start_time": "2025-02-03T04:47:49.026Z"
   },
   {
    "duration": 8,
    "start_time": "2025-02-03T04:47:49.034Z"
   },
   {
    "duration": 8,
    "start_time": "2025-02-03T04:47:49.043Z"
   },
   {
    "duration": 7,
    "start_time": "2025-02-03T04:47:49.052Z"
   },
   {
    "duration": 10,
    "start_time": "2025-02-03T04:47:49.060Z"
   },
   {
    "duration": 8,
    "start_time": "2025-02-03T04:47:49.072Z"
   },
   {
    "duration": 50,
    "start_time": "2025-02-03T04:47:49.082Z"
   },
   {
    "duration": 4,
    "start_time": "2025-02-03T04:47:49.133Z"
   },
   {
    "duration": 32,
    "start_time": "2025-02-03T04:47:49.138Z"
   },
   {
    "duration": 56,
    "start_time": "2025-02-03T04:47:49.172Z"
   },
   {
    "duration": 17,
    "start_time": "2025-02-03T04:47:49.230Z"
   },
   {
    "duration": 30,
    "start_time": "2025-02-03T04:47:49.249Z"
   },
   {
    "duration": 4,
    "start_time": "2025-02-03T04:47:49.284Z"
   },
   {
    "duration": 215,
    "start_time": "2025-02-03T04:47:49.290Z"
   },
   {
    "duration": 20,
    "start_time": "2025-02-03T04:47:49.507Z"
   },
   {
    "duration": 4,
    "start_time": "2025-02-03T04:47:49.528Z"
   },
   {
    "duration": 21,
    "start_time": "2025-02-03T04:47:49.533Z"
   },
   {
    "duration": 10,
    "start_time": "2025-02-03T04:47:49.556Z"
   },
   {
    "duration": 4,
    "start_time": "2025-02-03T04:47:49.568Z"
   },
   {
    "duration": 5,
    "start_time": "2025-02-03T04:47:49.573Z"
   },
   {
    "duration": 5,
    "start_time": "2025-02-03T04:47:49.580Z"
   },
   {
    "duration": 211,
    "start_time": "2025-02-03T04:47:49.587Z"
   },
   {
    "duration": 8,
    "start_time": "2025-02-03T04:47:49.800Z"
   },
   {
    "duration": 2101,
    "start_time": "2025-02-03T04:47:49.810Z"
   },
   {
    "duration": 21,
    "start_time": "2025-02-03T04:47:51.913Z"
   },
   {
    "duration": 42,
    "start_time": "2025-02-03T04:47:51.936Z"
   },
   {
    "duration": 11,
    "start_time": "2025-02-03T04:47:51.980Z"
   },
   {
    "duration": 5,
    "start_time": "2025-02-03T04:47:51.992Z"
   },
   {
    "duration": 33,
    "start_time": "2025-02-03T04:47:51.999Z"
   },
   {
    "duration": 6,
    "start_time": "2025-02-03T04:47:52.033Z"
   },
   {
    "duration": 3,
    "start_time": "2025-02-03T04:47:52.040Z"
   },
   {
    "duration": 1412,
    "start_time": "2025-02-03T04:47:52.045Z"
   },
   {
    "duration": 8,
    "start_time": "2025-02-03T04:47:53.459Z"
   },
   {
    "duration": 12,
    "start_time": "2025-02-03T04:47:53.468Z"
   },
   {
    "duration": 111,
    "start_time": "2025-02-03T04:47:53.482Z"
   },
   {
    "duration": 10,
    "start_time": "2025-02-03T04:47:53.595Z"
   },
   {
    "duration": 102,
    "start_time": "2025-02-03T04:47:53.606Z"
   },
   {
    "duration": 92,
    "start_time": "2025-02-03T04:47:53.710Z"
   },
   {
    "duration": 37,
    "start_time": "2025-02-03T04:47:53.803Z"
   },
   {
    "duration": 17,
    "start_time": "2025-02-03T04:47:53.841Z"
   },
   {
    "duration": 5,
    "start_time": "2025-02-03T04:47:53.860Z"
   },
   {
    "duration": 18,
    "start_time": "2025-02-03T04:47:53.871Z"
   },
   {
    "duration": 36,
    "start_time": "2025-02-03T04:47:53.891Z"
   },
   {
    "duration": 6,
    "start_time": "2025-02-03T04:47:53.929Z"
   },
   {
    "duration": 5,
    "start_time": "2025-02-03T04:47:53.937Z"
   },
   {
    "duration": 7,
    "start_time": "2025-02-03T04:47:53.944Z"
   },
   {
    "duration": 5,
    "start_time": "2025-02-03T04:47:53.953Z"
   },
   {
    "duration": 803,
    "start_time": "2025-02-03T04:47:53.959Z"
   },
   {
    "duration": 870,
    "start_time": "2025-02-03T04:47:54.764Z"
   },
   {
    "duration": 6,
    "start_time": "2025-02-03T04:47:55.638Z"
   },
   {
    "duration": 6,
    "start_time": "2025-02-03T04:47:55.646Z"
   },
   {
    "duration": 231,
    "start_time": "2025-02-03T04:47:55.654Z"
   },
   {
    "duration": 166,
    "start_time": "2025-02-03T04:47:55.887Z"
   },
   {
    "duration": 232,
    "start_time": "2025-02-03T04:47:56.055Z"
   },
   {
    "duration": 5,
    "start_time": "2025-02-03T04:47:56.289Z"
   },
   {
    "duration": 210,
    "start_time": "2025-02-03T04:51:47.196Z"
   },
   {
    "duration": 5,
    "start_time": "2025-02-03T04:53:26.583Z"
   },
   {
    "duration": 8,
    "start_time": "2025-02-03T04:53:43.804Z"
   },
   {
    "duration": 9,
    "start_time": "2025-02-03T04:53:45.591Z"
   },
   {
    "duration": 9,
    "start_time": "2025-02-03T04:53:49.680Z"
   },
   {
    "duration": 8,
    "start_time": "2025-02-03T04:54:23.700Z"
   },
   {
    "duration": 10,
    "start_time": "2025-02-03T04:55:49.055Z"
   },
   {
    "duration": 14,
    "start_time": "2025-02-03T04:55:56.465Z"
   },
   {
    "duration": 16,
    "start_time": "2025-02-03T04:56:14.775Z"
   },
   {
    "duration": 11,
    "start_time": "2025-02-03T04:56:30.805Z"
   },
   {
    "duration": 16,
    "start_time": "2025-02-03T04:56:53.710Z"
   },
   {
    "duration": 10,
    "start_time": "2025-02-03T04:58:47.720Z"
   },
   {
    "duration": 13,
    "start_time": "2025-02-03T04:58:53.485Z"
   },
   {
    "duration": 9,
    "start_time": "2025-02-03T04:59:04.236Z"
   },
   {
    "duration": 26,
    "start_time": "2025-02-03T04:59:31.810Z"
   },
   {
    "duration": 23,
    "start_time": "2025-02-03T04:59:41.995Z"
   },
   {
    "duration": 16,
    "start_time": "2025-02-03T04:59:51.326Z"
   },
   {
    "duration": 389,
    "start_time": "2025-02-03T05:01:04.097Z"
   },
   {
    "duration": 195,
    "start_time": "2025-02-03T05:06:19.462Z"
   },
   {
    "duration": 200,
    "start_time": "2025-02-03T05:06:33.579Z"
   },
   {
    "duration": 2324,
    "start_time": "2025-02-03T05:08:54.668Z"
   },
   {
    "duration": 21,
    "start_time": "2025-02-03T05:08:56.994Z"
   },
   {
    "duration": 12,
    "start_time": "2025-02-03T05:08:57.017Z"
   },
   {
    "duration": 131,
    "start_time": "2025-02-03T05:08:57.032Z"
   },
   {
    "duration": 8,
    "start_time": "2025-02-03T05:08:57.165Z"
   },
   {
    "duration": 8,
    "start_time": "2025-02-03T05:08:57.176Z"
   },
   {
    "duration": 1040,
    "start_time": "2025-02-03T05:08:57.186Z"
   },
   {
    "duration": 14,
    "start_time": "2025-02-03T05:08:58.228Z"
   },
   {
    "duration": 8,
    "start_time": "2025-02-03T05:08:58.245Z"
   },
   {
    "duration": 10,
    "start_time": "2025-02-03T05:08:58.254Z"
   },
   {
    "duration": 6,
    "start_time": "2025-02-03T05:08:58.267Z"
   },
   {
    "duration": 21,
    "start_time": "2025-02-03T05:08:58.275Z"
   },
   {
    "duration": 8,
    "start_time": "2025-02-03T05:08:58.298Z"
   },
   {
    "duration": 9,
    "start_time": "2025-02-03T05:08:58.325Z"
   },
   {
    "duration": 11,
    "start_time": "2025-02-03T05:08:58.335Z"
   },
   {
    "duration": 9,
    "start_time": "2025-02-03T05:08:58.347Z"
   },
   {
    "duration": 6,
    "start_time": "2025-02-03T05:08:58.358Z"
   },
   {
    "duration": 9,
    "start_time": "2025-02-03T05:08:58.366Z"
   },
   {
    "duration": 10,
    "start_time": "2025-02-03T05:08:58.377Z"
   },
   {
    "duration": 7,
    "start_time": "2025-02-03T05:08:58.389Z"
   },
   {
    "duration": 14,
    "start_time": "2025-02-03T05:08:58.425Z"
   },
   {
    "duration": 5,
    "start_time": "2025-02-03T05:08:58.441Z"
   },
   {
    "duration": 32,
    "start_time": "2025-02-03T05:08:58.448Z"
   },
   {
    "duration": 53,
    "start_time": "2025-02-03T05:08:58.482Z"
   },
   {
    "duration": 22,
    "start_time": "2025-02-03T05:08:58.538Z"
   },
   {
    "duration": 36,
    "start_time": "2025-02-03T05:08:58.562Z"
   },
   {
    "duration": 4,
    "start_time": "2025-02-03T05:08:58.599Z"
   },
   {
    "duration": 216,
    "start_time": "2025-02-03T05:08:58.604Z"
   },
   {
    "duration": 13,
    "start_time": "2025-02-03T05:08:58.824Z"
   },
   {
    "duration": 4,
    "start_time": "2025-02-03T05:08:58.839Z"
   },
   {
    "duration": 29,
    "start_time": "2025-02-03T05:08:58.846Z"
   },
   {
    "duration": 14,
    "start_time": "2025-02-03T05:08:58.877Z"
   },
   {
    "duration": 4,
    "start_time": "2025-02-03T05:08:58.893Z"
   },
   {
    "duration": 31,
    "start_time": "2025-02-03T05:08:58.899Z"
   },
   {
    "duration": 7,
    "start_time": "2025-02-03T05:08:58.933Z"
   },
   {
    "duration": 95,
    "start_time": "2025-02-03T05:08:58.942Z"
   },
   {
    "duration": 9,
    "start_time": "2025-02-03T05:08:59.041Z"
   },
   {
    "duration": 2193,
    "start_time": "2025-02-03T05:08:59.052Z"
   },
   {
    "duration": 12,
    "start_time": "2025-02-03T05:09:01.247Z"
   },
   {
    "duration": 43,
    "start_time": "2025-02-03T05:09:01.261Z"
   },
   {
    "duration": 28,
    "start_time": "2025-02-03T05:09:01.306Z"
   },
   {
    "duration": 8,
    "start_time": "2025-02-03T05:09:01.336Z"
   },
   {
    "duration": 11,
    "start_time": "2025-02-03T05:09:01.346Z"
   },
   {
    "duration": 7,
    "start_time": "2025-02-03T05:09:01.359Z"
   },
   {
    "duration": 3,
    "start_time": "2025-02-03T05:09:01.368Z"
   },
   {
    "duration": 1510,
    "start_time": "2025-02-03T05:09:01.373Z"
   },
   {
    "duration": 8,
    "start_time": "2025-02-03T05:09:02.885Z"
   },
   {
    "duration": 12,
    "start_time": "2025-02-03T05:09:02.895Z"
   },
   {
    "duration": 114,
    "start_time": "2025-02-03T05:09:02.925Z"
   },
   {
    "duration": 11,
    "start_time": "2025-02-03T05:09:03.048Z"
   },
   {
    "duration": 119,
    "start_time": "2025-02-03T05:09:03.060Z"
   },
   {
    "duration": 111,
    "start_time": "2025-02-03T05:09:03.181Z"
   },
   {
    "duration": 42,
    "start_time": "2025-02-03T05:09:03.294Z"
   },
   {
    "duration": 16,
    "start_time": "2025-02-03T05:09:03.338Z"
   },
   {
    "duration": 7,
    "start_time": "2025-02-03T05:09:03.357Z"
   },
   {
    "duration": 23,
    "start_time": "2025-02-03T05:09:03.365Z"
   },
   {
    "duration": 41,
    "start_time": "2025-02-03T05:09:03.390Z"
   },
   {
    "duration": 7,
    "start_time": "2025-02-03T05:09:03.433Z"
   },
   {
    "duration": 5,
    "start_time": "2025-02-03T05:09:03.444Z"
   },
   {
    "duration": 5,
    "start_time": "2025-02-03T05:09:03.451Z"
   },
   {
    "duration": 5,
    "start_time": "2025-02-03T05:09:03.458Z"
   },
   {
    "duration": 846,
    "start_time": "2025-02-03T05:09:03.465Z"
   },
   {
    "duration": 826,
    "start_time": "2025-02-03T05:09:04.313Z"
   },
   {
    "duration": 5,
    "start_time": "2025-02-03T05:09:05.141Z"
   },
   {
    "duration": 6,
    "start_time": "2025-02-03T05:09:05.148Z"
   },
   {
    "duration": 226,
    "start_time": "2025-02-03T05:09:05.155Z"
   },
   {
    "duration": 158,
    "start_time": "2025-02-03T05:09:05.383Z"
   },
   {
    "duration": 246,
    "start_time": "2025-02-03T05:09:05.543Z"
   },
   {
    "duration": 8,
    "start_time": "2025-02-03T05:09:05.792Z"
   },
   {
    "duration": 242,
    "start_time": "2025-02-03T05:09:05.802Z"
   },
   {
    "duration": 185,
    "start_time": "2025-02-03T05:11:47.205Z"
   },
   {
    "duration": 185,
    "start_time": "2025-02-03T05:12:00.985Z"
   },
   {
    "duration": 54873,
    "start_time": "2025-02-03T05:14:16.869Z"
   },
   {
    "duration": 65506,
    "start_time": "2025-02-03T05:15:47.496Z"
   },
   {
    "duration": 10,
    "start_time": "2025-02-03T05:19:07.275Z"
   },
   {
    "duration": 7,
    "start_time": "2025-02-03T05:19:22.959Z"
   },
   {
    "duration": 7,
    "start_time": "2025-02-03T05:19:28.300Z"
   },
   {
    "duration": 8,
    "start_time": "2025-02-03T05:19:43.019Z"
   },
   {
    "duration": 9,
    "start_time": "2025-02-03T05:19:50.840Z"
   },
   {
    "duration": 8,
    "start_time": "2025-02-03T05:19:54.539Z"
   },
   {
    "duration": 21,
    "start_time": "2025-02-03T05:20:51.089Z"
   },
   {
    "duration": 13,
    "start_time": "2025-02-03T05:22:27.600Z"
   },
   {
    "duration": 12,
    "start_time": "2025-02-03T05:22:43.630Z"
   },
   {
    "duration": 11,
    "start_time": "2025-02-03T05:23:16.521Z"
   },
   {
    "duration": 379,
    "start_time": "2025-02-03T05:23:56.727Z"
   },
   {
    "duration": 59,
    "start_time": "2025-02-03T05:24:08.810Z"
   },
   {
    "duration": 11,
    "start_time": "2025-02-03T05:24:17.587Z"
   },
   {
    "duration": 6,
    "start_time": "2025-02-03T05:25:19.786Z"
   },
   {
    "duration": 59,
    "start_time": "2025-02-03T05:25:25.311Z"
   },
   {
    "duration": 12,
    "start_time": "2025-02-03T05:25:41.714Z"
   },
   {
    "duration": 11,
    "start_time": "2025-02-03T05:25:50.367Z"
   },
   {
    "duration": 31,
    "start_time": "2025-02-03T05:26:53.064Z"
   },
   {
    "duration": 32,
    "start_time": "2025-02-03T05:27:09.920Z"
   },
   {
    "duration": 11,
    "start_time": "2025-02-03T05:27:19.342Z"
   },
   {
    "duration": 11,
    "start_time": "2025-02-03T05:27:41.647Z"
   },
   {
    "duration": 13,
    "start_time": "2025-02-03T05:27:50.771Z"
   },
   {
    "duration": 13,
    "start_time": "2025-02-03T05:28:08.747Z"
   },
   {
    "duration": 32,
    "start_time": "2025-02-03T05:28:28.489Z"
   },
   {
    "duration": 29,
    "start_time": "2025-02-03T05:28:52.182Z"
   },
   {
    "duration": 15,
    "start_time": "2025-02-03T05:29:01.582Z"
   },
   {
    "duration": 14,
    "start_time": "2025-02-03T05:29:06.463Z"
   },
   {
    "duration": 197,
    "start_time": "2025-02-03T05:29:33.591Z"
   },
   {
    "duration": 245,
    "start_time": "2025-02-03T05:30:15.634Z"
   },
   {
    "duration": 442,
    "start_time": "2025-02-03T05:35:09.721Z"
   },
   {
    "duration": 2130,
    "start_time": "2025-02-03T05:35:10.167Z"
   },
   {
    "duration": 25,
    "start_time": "2025-02-03T05:35:12.299Z"
   },
   {
    "duration": 8,
    "start_time": "2025-02-03T05:35:12.327Z"
   },
   {
    "duration": 135,
    "start_time": "2025-02-03T05:35:12.337Z"
   },
   {
    "duration": 7,
    "start_time": "2025-02-03T05:35:12.474Z"
   },
   {
    "duration": 7,
    "start_time": "2025-02-03T05:35:12.483Z"
   },
   {
    "duration": 935,
    "start_time": "2025-02-03T05:35:12.491Z"
   },
   {
    "duration": 11,
    "start_time": "2025-02-03T05:35:13.428Z"
   },
   {
    "duration": 9,
    "start_time": "2025-02-03T05:35:13.441Z"
   },
   {
    "duration": 10,
    "start_time": "2025-02-03T05:35:13.451Z"
   },
   {
    "duration": 6,
    "start_time": "2025-02-03T05:35:13.462Z"
   },
   {
    "duration": 23,
    "start_time": "2025-02-03T05:35:13.470Z"
   },
   {
    "duration": 7,
    "start_time": "2025-02-03T05:35:13.523Z"
   },
   {
    "duration": 8,
    "start_time": "2025-02-03T05:35:13.532Z"
   },
   {
    "duration": 6,
    "start_time": "2025-02-03T05:35:13.541Z"
   },
   {
    "duration": 7,
    "start_time": "2025-02-03T05:35:13.549Z"
   },
   {
    "duration": 7,
    "start_time": "2025-02-03T05:35:13.557Z"
   },
   {
    "duration": 9,
    "start_time": "2025-02-03T05:35:13.565Z"
   },
   {
    "duration": 11,
    "start_time": "2025-02-03T05:35:13.575Z"
   },
   {
    "duration": 40,
    "start_time": "2025-02-03T05:35:13.587Z"
   },
   {
    "duration": 12,
    "start_time": "2025-02-03T05:35:13.629Z"
   },
   {
    "duration": 3,
    "start_time": "2025-02-03T05:35:13.643Z"
   },
   {
    "duration": 32,
    "start_time": "2025-02-03T05:35:13.648Z"
   },
   {
    "duration": 71,
    "start_time": "2025-02-03T05:35:13.682Z"
   },
   {
    "duration": 18,
    "start_time": "2025-02-03T05:35:13.755Z"
   },
   {
    "duration": 29,
    "start_time": "2025-02-03T05:35:13.775Z"
   },
   {
    "duration": 20,
    "start_time": "2025-02-03T05:35:13.806Z"
   },
   {
    "duration": 202,
    "start_time": "2025-02-03T05:35:13.828Z"
   },
   {
    "duration": 11,
    "start_time": "2025-02-03T05:35:14.031Z"
   },
   {
    "duration": 4,
    "start_time": "2025-02-03T05:35:14.044Z"
   },
   {
    "duration": 20,
    "start_time": "2025-02-03T05:35:14.050Z"
   },
   {
    "duration": 10,
    "start_time": "2025-02-03T05:35:14.073Z"
   },
   {
    "duration": 3,
    "start_time": "2025-02-03T05:35:14.085Z"
   },
   {
    "duration": 35,
    "start_time": "2025-02-03T05:35:14.090Z"
   },
   {
    "duration": 7,
    "start_time": "2025-02-03T05:35:14.127Z"
   },
   {
    "duration": 200,
    "start_time": "2025-02-03T05:35:14.135Z"
   },
   {
    "duration": 9,
    "start_time": "2025-02-03T05:35:14.336Z"
   },
   {
    "duration": 2079,
    "start_time": "2025-02-03T05:35:14.346Z"
   },
   {
    "duration": 11,
    "start_time": "2025-02-03T05:35:16.427Z"
   },
   {
    "duration": 41,
    "start_time": "2025-02-03T05:35:16.443Z"
   },
   {
    "duration": 11,
    "start_time": "2025-02-03T05:35:16.486Z"
   },
   {
    "duration": 27,
    "start_time": "2025-02-03T05:35:16.498Z"
   },
   {
    "duration": 10,
    "start_time": "2025-02-03T05:35:16.526Z"
   },
   {
    "duration": 6,
    "start_time": "2025-02-03T05:35:16.537Z"
   },
   {
    "duration": 3,
    "start_time": "2025-02-03T05:35:16.545Z"
   },
   {
    "duration": 1467,
    "start_time": "2025-02-03T05:35:16.550Z"
   },
   {
    "duration": 8,
    "start_time": "2025-02-03T05:35:18.019Z"
   },
   {
    "duration": 13,
    "start_time": "2025-02-03T05:35:18.031Z"
   },
   {
    "duration": 112,
    "start_time": "2025-02-03T05:35:18.046Z"
   },
   {
    "duration": 10,
    "start_time": "2025-02-03T05:35:18.160Z"
   },
   {
    "duration": 106,
    "start_time": "2025-02-03T05:35:18.172Z"
   },
   {
    "duration": 97,
    "start_time": "2025-02-03T05:35:18.281Z"
   },
   {
    "duration": 30,
    "start_time": "2025-02-03T05:35:18.379Z"
   },
   {
    "duration": 15,
    "start_time": "2025-02-03T05:35:18.423Z"
   },
   {
    "duration": 6,
    "start_time": "2025-02-03T05:35:18.439Z"
   },
   {
    "duration": 16,
    "start_time": "2025-02-03T05:35:18.447Z"
   },
   {
    "duration": 16,
    "start_time": "2025-02-03T05:35:18.464Z"
   },
   {
    "duration": 5,
    "start_time": "2025-02-03T05:35:18.482Z"
   },
   {
    "duration": 38,
    "start_time": "2025-02-03T05:35:18.489Z"
   },
   {
    "duration": 5,
    "start_time": "2025-02-03T05:35:18.528Z"
   },
   {
    "duration": 6,
    "start_time": "2025-02-03T05:35:18.535Z"
   },
   {
    "duration": 788,
    "start_time": "2025-02-03T05:35:18.542Z"
   },
   {
    "duration": 854,
    "start_time": "2025-02-03T05:35:19.333Z"
   },
   {
    "duration": 6,
    "start_time": "2025-02-03T05:35:20.189Z"
   },
   {
    "duration": 5,
    "start_time": "2025-02-03T05:35:20.196Z"
   },
   {
    "duration": 219,
    "start_time": "2025-02-03T05:35:20.203Z"
   },
   {
    "duration": 121,
    "start_time": "2025-02-03T05:35:20.424Z"
   },
   {
    "duration": 219,
    "start_time": "2025-02-03T05:35:20.546Z"
   },
   {
    "duration": 4,
    "start_time": "2025-02-03T05:35:20.767Z"
   },
   {
    "duration": 254,
    "start_time": "2025-02-03T05:35:20.773Z"
   },
   {
    "duration": 10,
    "start_time": "2025-02-03T05:47:54.826Z"
   },
   {
    "duration": 6217,
    "start_time": "2025-02-03T05:49:04.243Z"
   },
   {
    "duration": 87,
    "start_time": "2025-02-03T05:49:22.379Z"
   },
   {
    "duration": 31,
    "start_time": "2025-02-03T05:49:39.861Z"
   },
   {
    "duration": 75,
    "start_time": "2025-02-03T05:49:53.184Z"
   },
   {
    "duration": 87,
    "start_time": "2025-02-03T05:50:16.518Z"
   },
   {
    "duration": 85,
    "start_time": "2025-02-03T05:50:19.496Z"
   },
   {
    "duration": 81,
    "start_time": "2025-02-03T05:50:23.145Z"
   },
   {
    "duration": 75,
    "start_time": "2025-02-03T05:50:30.927Z"
   },
   {
    "duration": 77,
    "start_time": "2025-02-03T05:50:36.929Z"
   },
   {
    "duration": 424,
    "start_time": "2025-02-03T05:51:28.261Z"
   },
   {
    "duration": 82,
    "start_time": "2025-02-03T05:51:41.670Z"
   },
   {
    "duration": 78,
    "start_time": "2025-02-03T05:51:55.490Z"
   },
   {
    "duration": 79,
    "start_time": "2025-02-03T05:52:47.040Z"
   },
   {
    "duration": 75,
    "start_time": "2025-02-03T05:53:53.707Z"
   },
   {
    "duration": 6,
    "start_time": "2025-02-03T05:54:34.386Z"
   },
   {
    "duration": 239,
    "start_time": "2025-02-03T05:54:39.035Z"
   },
   {
    "duration": 232,
    "start_time": "2025-02-03T05:58:14.150Z"
   },
   {
    "duration": 234,
    "start_time": "2025-02-03T05:59:25.222Z"
   },
   {
    "duration": 235,
    "start_time": "2025-02-03T05:59:50.920Z"
   },
   {
    "duration": 10,
    "start_time": "2025-02-03T06:09:28.690Z"
   },
   {
    "duration": 378,
    "start_time": "2025-02-03T06:10:53.133Z"
   },
   {
    "duration": 383,
    "start_time": "2025-02-03T06:12:03.886Z"
   },
   {
    "duration": 398,
    "start_time": "2025-02-03T06:12:24.665Z"
   },
   {
    "duration": 450,
    "start_time": "2025-02-03T06:15:36.911Z"
   },
   {
    "duration": 358,
    "start_time": "2025-02-03T06:15:42.763Z"
   },
   {
    "duration": 354,
    "start_time": "2025-02-03T06:15:50.157Z"
   },
   {
    "duration": 423,
    "start_time": "2025-02-03T06:15:59.937Z"
   },
   {
    "duration": 343,
    "start_time": "2025-02-03T06:16:13.517Z"
   },
   {
    "duration": 359,
    "start_time": "2025-02-03T06:16:36.161Z"
   },
   {
    "duration": 424,
    "start_time": "2025-02-03T06:16:49.283Z"
   },
   {
    "duration": 372,
    "start_time": "2025-02-03T06:17:38.935Z"
   },
   {
    "duration": 350,
    "start_time": "2025-02-03T06:18:10.133Z"
   },
   {
    "duration": 358,
    "start_time": "2025-02-03T06:18:28.010Z"
   },
   {
    "duration": 354,
    "start_time": "2025-02-03T06:18:32.506Z"
   },
   {
    "duration": 335,
    "start_time": "2025-02-03T06:18:58.801Z"
   },
   {
    "duration": 353,
    "start_time": "2025-02-03T06:23:10.361Z"
   },
   {
    "duration": 350,
    "start_time": "2025-02-03T06:23:20.896Z"
   },
   {
    "duration": 368,
    "start_time": "2025-02-03T06:25:45.558Z"
   },
   {
    "duration": 363,
    "start_time": "2025-02-03T06:26:22.164Z"
   },
   {
    "duration": 369,
    "start_time": "2025-02-03T06:26:36.578Z"
   },
   {
    "duration": 339,
    "start_time": "2025-02-03T06:26:54.436Z"
   },
   {
    "duration": 354,
    "start_time": "2025-02-03T06:27:42.177Z"
   },
   {
    "duration": 380,
    "start_time": "2025-02-03T06:27:51.131Z"
   },
   {
    "duration": 360,
    "start_time": "2025-02-03T06:27:59.826Z"
   },
   {
    "duration": 351,
    "start_time": "2025-02-03T06:28:03.037Z"
   },
   {
    "duration": 356,
    "start_time": "2025-02-03T06:28:20.303Z"
   },
   {
    "duration": 360,
    "start_time": "2025-02-03T06:28:33.765Z"
   },
   {
    "duration": 394,
    "start_time": "2025-02-03T06:28:53.666Z"
   },
   {
    "duration": 409,
    "start_time": "2025-02-03T06:29:11.077Z"
   },
   {
    "duration": 365,
    "start_time": "2025-02-03T06:30:22.220Z"
   },
   {
    "duration": 360,
    "start_time": "2025-02-03T06:30:32.511Z"
   },
   {
    "duration": 365,
    "start_time": "2025-02-03T06:31:27.702Z"
   },
   {
    "duration": 372,
    "start_time": "2025-02-03T06:31:35.897Z"
   },
   {
    "duration": 398,
    "start_time": "2025-02-03T06:32:02.577Z"
   },
   {
    "duration": 348,
    "start_time": "2025-02-03T06:32:16.996Z"
   },
   {
    "duration": 359,
    "start_time": "2025-02-03T06:32:32.611Z"
   },
   {
    "duration": 357,
    "start_time": "2025-02-03T06:33:06.728Z"
   },
   {
    "duration": 543,
    "start_time": "2025-02-03T06:37:35.426Z"
   },
   {
    "duration": 368,
    "start_time": "2025-02-03T06:38:55.772Z"
   },
   {
    "duration": 346,
    "start_time": "2025-02-03T06:39:26.707Z"
   },
   {
    "duration": 900,
    "start_time": "2025-02-03T06:39:50.754Z"
   },
   {
    "duration": 368,
    "start_time": "2025-02-03T06:40:15.533Z"
   },
   {
    "duration": 361,
    "start_time": "2025-02-03T06:40:29.431Z"
   },
   {
    "duration": 400,
    "start_time": "2025-02-03T06:40:38.847Z"
   },
   {
    "duration": 444,
    "start_time": "2025-02-03T06:41:10.298Z"
   },
   {
    "duration": 359,
    "start_time": "2025-02-03T06:42:04.319Z"
   },
   {
    "duration": 351,
    "start_time": "2025-02-03T06:46:55.534Z"
   },
   {
    "duration": 2212,
    "start_time": "2025-02-10T07:07:41.686Z"
   },
   {
    "duration": 2602,
    "start_time": "2025-02-10T07:07:43.900Z"
   },
   {
    "duration": 21,
    "start_time": "2025-02-10T07:07:46.504Z"
   },
   {
    "duration": 10,
    "start_time": "2025-02-10T07:07:46.526Z"
   },
   {
    "duration": 133,
    "start_time": "2025-02-10T07:07:46.539Z"
   },
   {
    "duration": 7,
    "start_time": "2025-02-10T07:07:46.674Z"
   },
   {
    "duration": 8,
    "start_time": "2025-02-10T07:07:46.683Z"
   },
   {
    "duration": 960,
    "start_time": "2025-02-10T07:07:46.692Z"
   },
   {
    "duration": 10,
    "start_time": "2025-02-10T07:07:47.654Z"
   },
   {
    "duration": 9,
    "start_time": "2025-02-10T07:07:47.666Z"
   },
   {
    "duration": 9,
    "start_time": "2025-02-10T07:07:47.676Z"
   },
   {
    "duration": 5,
    "start_time": "2025-02-10T07:07:47.687Z"
   },
   {
    "duration": 49,
    "start_time": "2025-02-10T07:07:47.694Z"
   },
   {
    "duration": 7,
    "start_time": "2025-02-10T07:07:47.747Z"
   },
   {
    "duration": 9,
    "start_time": "2025-02-10T07:07:47.755Z"
   },
   {
    "duration": 6,
    "start_time": "2025-02-10T07:07:47.766Z"
   },
   {
    "duration": 8,
    "start_time": "2025-02-10T07:07:47.773Z"
   },
   {
    "duration": 6,
    "start_time": "2025-02-10T07:07:47.783Z"
   },
   {
    "duration": 10,
    "start_time": "2025-02-10T07:07:47.824Z"
   },
   {
    "duration": 12,
    "start_time": "2025-02-10T07:07:47.836Z"
   },
   {
    "duration": 9,
    "start_time": "2025-02-10T07:07:47.850Z"
   },
   {
    "duration": 14,
    "start_time": "2025-02-10T07:07:47.861Z"
   },
   {
    "duration": 4,
    "start_time": "2025-02-10T07:07:47.876Z"
   },
   {
    "duration": 72,
    "start_time": "2025-02-10T07:07:47.882Z"
   },
   {
    "duration": 40,
    "start_time": "2025-02-10T07:07:47.956Z"
   },
   {
    "duration": 43,
    "start_time": "2025-02-10T07:07:47.998Z"
   },
   {
    "duration": 29,
    "start_time": "2025-02-10T07:07:48.043Z"
   },
   {
    "duration": 5,
    "start_time": "2025-02-10T07:07:48.074Z"
   },
   {
    "duration": 204,
    "start_time": "2025-02-10T07:07:48.081Z"
   },
   {
    "duration": 11,
    "start_time": "2025-02-10T07:07:48.287Z"
   },
   {
    "duration": 4,
    "start_time": "2025-02-10T07:07:48.300Z"
   },
   {
    "duration": 25,
    "start_time": "2025-02-10T07:07:48.325Z"
   },
   {
    "duration": 11,
    "start_time": "2025-02-10T07:07:48.352Z"
   },
   {
    "duration": 4,
    "start_time": "2025-02-10T07:07:48.364Z"
   },
   {
    "duration": 6,
    "start_time": "2025-02-10T07:07:48.370Z"
   },
   {
    "duration": 6,
    "start_time": "2025-02-10T07:07:48.378Z"
   },
   {
    "duration": 213,
    "start_time": "2025-02-10T07:07:48.386Z"
   },
   {
    "duration": 10,
    "start_time": "2025-02-10T07:07:48.601Z"
   },
   {
    "duration": 2133,
    "start_time": "2025-02-10T07:07:48.623Z"
   },
   {
    "duration": 11,
    "start_time": "2025-02-10T07:07:50.759Z"
   },
   {
    "duration": 55,
    "start_time": "2025-02-10T07:07:50.774Z"
   },
   {
    "duration": 12,
    "start_time": "2025-02-10T07:07:50.831Z"
   },
   {
    "duration": 5,
    "start_time": "2025-02-10T07:07:50.845Z"
   },
   {
    "duration": 10,
    "start_time": "2025-02-10T07:07:50.852Z"
   },
   {
    "duration": 6,
    "start_time": "2025-02-10T07:07:50.864Z"
   },
   {
    "duration": 3,
    "start_time": "2025-02-10T07:07:50.871Z"
   },
   {
    "duration": 1481,
    "start_time": "2025-02-10T07:07:50.876Z"
   },
   {
    "duration": 6,
    "start_time": "2025-02-10T07:07:52.359Z"
   },
   {
    "duration": 12,
    "start_time": "2025-02-10T07:07:52.367Z"
   },
   {
    "duration": 108,
    "start_time": "2025-02-10T07:07:52.380Z"
   },
   {
    "duration": 10,
    "start_time": "2025-02-10T07:07:52.490Z"
   },
   {
    "duration": 101,
    "start_time": "2025-02-10T07:07:52.502Z"
   },
   {
    "duration": 100,
    "start_time": "2025-02-10T07:07:52.605Z"
   },
   {
    "duration": 39,
    "start_time": "2025-02-10T07:07:52.707Z"
   },
   {
    "duration": 14,
    "start_time": "2025-02-10T07:07:52.748Z"
   },
   {
    "duration": 5,
    "start_time": "2025-02-10T07:07:52.764Z"
   },
   {
    "duration": 16,
    "start_time": "2025-02-10T07:07:52.770Z"
   },
   {
    "duration": 37,
    "start_time": "2025-02-10T07:07:52.788Z"
   },
   {
    "duration": 6,
    "start_time": "2025-02-10T07:07:52.826Z"
   },
   {
    "duration": 6,
    "start_time": "2025-02-10T07:07:52.833Z"
   },
   {
    "duration": 5,
    "start_time": "2025-02-10T07:07:52.841Z"
   },
   {
    "duration": 5,
    "start_time": "2025-02-10T07:07:52.847Z"
   },
   {
    "duration": 814,
    "start_time": "2025-02-10T07:07:52.854Z"
   },
   {
    "duration": 839,
    "start_time": "2025-02-10T07:07:53.670Z"
   },
   {
    "duration": 5,
    "start_time": "2025-02-10T07:07:54.511Z"
   },
   {
    "duration": 5,
    "start_time": "2025-02-10T07:07:54.525Z"
   },
   {
    "duration": 253,
    "start_time": "2025-02-10T07:07:54.532Z"
   },
   {
    "duration": 116,
    "start_time": "2025-02-10T07:07:54.787Z"
   },
   {
    "duration": 219,
    "start_time": "2025-02-10T07:07:54.905Z"
   },
   {
    "duration": 6,
    "start_time": "2025-02-10T07:07:55.126Z"
   },
   {
    "duration": 246,
    "start_time": "2025-02-10T07:07:55.134Z"
   },
   {
    "duration": 249,
    "start_time": "2025-02-10T07:07:55.382Z"
   },
   {
    "duration": 433,
    "start_time": "2025-02-10T07:07:55.632Z"
   },
   {
    "duration": 190,
    "start_time": "2025-02-10T07:10:01.586Z"
   },
   {
    "duration": 233,
    "start_time": "2025-02-10T07:11:44.764Z"
   },
   {
    "duration": 254,
    "start_time": "2025-02-10T07:11:49.122Z"
   },
   {
    "duration": 202,
    "start_time": "2025-02-10T07:12:10.797Z"
   },
   {
    "duration": 216,
    "start_time": "2025-02-10T07:13:53.027Z"
   },
   {
    "duration": 496,
    "start_time": "2025-02-10T07:15:06.308Z"
   },
   {
    "duration": 210,
    "start_time": "2025-02-10T07:15:17.286Z"
   },
   {
    "duration": 880,
    "start_time": "2025-02-10T07:16:15.207Z"
   },
   {
    "duration": 972,
    "start_time": "2025-02-10T07:17:26.326Z"
   },
   {
    "duration": 696,
    "start_time": "2025-02-10T07:17:48.144Z"
   },
   {
    "duration": 382,
    "start_time": "2025-02-10T07:18:16.657Z"
   },
   {
    "duration": 890,
    "start_time": "2025-02-10T07:18:28.343Z"
   },
   {
    "duration": 1009,
    "start_time": "2025-02-10T07:18:51.816Z"
   },
   {
    "duration": 917,
    "start_time": "2025-02-10T07:19:13.659Z"
   },
   {
    "duration": 886,
    "start_time": "2025-02-10T07:20:08.419Z"
   },
   {
    "duration": 4,
    "start_time": "2025-02-10T07:21:31.055Z"
   },
   {
    "duration": 4,
    "start_time": "2025-02-10T07:21:49.441Z"
   },
   {
    "duration": 549,
    "start_time": "2025-02-10T07:22:21.315Z"
   },
   {
    "duration": 485,
    "start_time": "2025-02-10T07:22:37.242Z"
   },
   {
    "duration": 621,
    "start_time": "2025-02-10T07:29:23.052Z"
   },
   {
    "duration": 53,
    "start_time": "2025-02-10T07:29:42.031Z"
   },
   {
    "duration": 10561,
    "start_time": "2025-02-10T07:31:48.048Z"
   },
   {
    "duration": 103,
    "start_time": "2025-02-10T07:33:05.296Z"
   },
   {
    "duration": 96,
    "start_time": "2025-02-10T07:34:33.178Z"
   },
   {
    "duration": 103,
    "start_time": "2025-02-10T07:34:58.902Z"
   },
   {
    "duration": 7,
    "start_time": "2025-02-10T07:36:16.805Z"
   },
   {
    "duration": 96,
    "start_time": "2025-02-10T07:36:22.433Z"
   },
   {
    "duration": 2,
    "start_time": "2025-02-10T07:41:05.864Z"
   },
   {
    "duration": 5,
    "start_time": "2025-02-10T07:42:49.586Z"
   },
   {
    "duration": 5,
    "start_time": "2025-02-10T07:43:25.331Z"
   },
   {
    "duration": 3,
    "start_time": "2025-02-10T07:43:36.319Z"
   },
   {
    "duration": 4,
    "start_time": "2025-02-10T07:43:45.116Z"
   },
   {
    "duration": 11,
    "start_time": "2025-02-10T07:45:40.200Z"
   },
   {
    "duration": 12,
    "start_time": "2025-02-10T07:47:14.839Z"
   },
   {
    "duration": 9,
    "start_time": "2025-02-10T07:47:21.338Z"
   },
   {
    "duration": 12,
    "start_time": "2025-02-10T07:47:31.591Z"
   },
   {
    "duration": 14,
    "start_time": "2025-02-10T07:48:46.462Z"
   },
   {
    "duration": 13,
    "start_time": "2025-02-10T07:49:34.309Z"
   },
   {
    "duration": 14,
    "start_time": "2025-02-10T07:49:40.107Z"
   },
   {
    "duration": 6,
    "start_time": "2025-02-10T07:51:26.471Z"
   },
   {
    "duration": 465,
    "start_time": "2025-02-10T07:51:42.136Z"
   },
   {
    "duration": 2078,
    "start_time": "2025-02-10T07:51:42.603Z"
   },
   {
    "duration": 20,
    "start_time": "2025-02-10T07:51:44.682Z"
   },
   {
    "duration": 9,
    "start_time": "2025-02-10T07:51:44.704Z"
   },
   {
    "duration": 131,
    "start_time": "2025-02-10T07:51:44.714Z"
   },
   {
    "duration": 7,
    "start_time": "2025-02-10T07:51:44.846Z"
   },
   {
    "duration": 7,
    "start_time": "2025-02-10T07:51:44.855Z"
   },
   {
    "duration": 937,
    "start_time": "2025-02-10T07:51:44.864Z"
   },
   {
    "duration": 9,
    "start_time": "2025-02-10T07:51:45.803Z"
   },
   {
    "duration": 14,
    "start_time": "2025-02-10T07:51:45.815Z"
   },
   {
    "duration": 9,
    "start_time": "2025-02-10T07:51:45.831Z"
   },
   {
    "duration": 6,
    "start_time": "2025-02-10T07:51:45.842Z"
   },
   {
    "duration": 23,
    "start_time": "2025-02-10T07:51:45.849Z"
   },
   {
    "duration": 6,
    "start_time": "2025-02-10T07:51:45.874Z"
   },
   {
    "duration": 7,
    "start_time": "2025-02-10T07:51:45.882Z"
   },
   {
    "duration": 38,
    "start_time": "2025-02-10T07:51:45.890Z"
   },
   {
    "duration": 7,
    "start_time": "2025-02-10T07:51:45.930Z"
   },
   {
    "duration": 6,
    "start_time": "2025-02-10T07:51:45.938Z"
   },
   {
    "duration": 7,
    "start_time": "2025-02-10T07:51:45.946Z"
   },
   {
    "duration": 10,
    "start_time": "2025-02-10T07:51:45.955Z"
   },
   {
    "duration": 8,
    "start_time": "2025-02-10T07:51:45.967Z"
   },
   {
    "duration": 49,
    "start_time": "2025-02-10T07:51:45.976Z"
   },
   {
    "duration": 4,
    "start_time": "2025-02-10T07:51:46.027Z"
   },
   {
    "duration": 32,
    "start_time": "2025-02-10T07:51:46.032Z"
   },
   {
    "duration": 37,
    "start_time": "2025-02-10T07:51:46.066Z"
   },
   {
    "duration": 19,
    "start_time": "2025-02-10T07:51:46.124Z"
   },
   {
    "duration": 29,
    "start_time": "2025-02-10T07:51:46.144Z"
   },
   {
    "duration": 3,
    "start_time": "2025-02-10T07:51:46.179Z"
   },
   {
    "duration": 223,
    "start_time": "2025-02-10T07:51:46.184Z"
   },
   {
    "duration": 19,
    "start_time": "2025-02-10T07:51:46.409Z"
   },
   {
    "duration": 4,
    "start_time": "2025-02-10T07:51:46.430Z"
   },
   {
    "duration": 22,
    "start_time": "2025-02-10T07:51:46.436Z"
   },
   {
    "duration": 11,
    "start_time": "2025-02-10T07:51:46.459Z"
   },
   {
    "duration": 4,
    "start_time": "2025-02-10T07:51:46.472Z"
   },
   {
    "duration": 7,
    "start_time": "2025-02-10T07:51:46.477Z"
   },
   {
    "duration": 40,
    "start_time": "2025-02-10T07:51:46.485Z"
   },
   {
    "duration": 179,
    "start_time": "2025-02-10T07:51:46.526Z"
   },
   {
    "duration": 9,
    "start_time": "2025-02-10T07:51:46.706Z"
   },
   {
    "duration": 2113,
    "start_time": "2025-02-10T07:51:46.723Z"
   },
   {
    "duration": 11,
    "start_time": "2025-02-10T07:51:48.838Z"
   },
   {
    "duration": 42,
    "start_time": "2025-02-10T07:51:48.850Z"
   },
   {
    "duration": 31,
    "start_time": "2025-02-10T07:51:48.894Z"
   },
   {
    "duration": 6,
    "start_time": "2025-02-10T07:51:48.926Z"
   },
   {
    "duration": 9,
    "start_time": "2025-02-10T07:51:48.933Z"
   },
   {
    "duration": 5,
    "start_time": "2025-02-10T07:51:48.944Z"
   },
   {
    "duration": 3,
    "start_time": "2025-02-10T07:51:48.950Z"
   },
   {
    "duration": 1345,
    "start_time": "2025-02-10T07:51:48.955Z"
   },
   {
    "duration": 7,
    "start_time": "2025-02-10T07:51:50.301Z"
   },
   {
    "duration": 23,
    "start_time": "2025-02-10T07:51:50.309Z"
   },
   {
    "duration": 100,
    "start_time": "2025-02-10T07:51:50.333Z"
   },
   {
    "duration": 10,
    "start_time": "2025-02-10T07:51:50.435Z"
   },
   {
    "duration": 109,
    "start_time": "2025-02-10T07:51:50.447Z"
   },
   {
    "duration": 94,
    "start_time": "2025-02-10T07:51:50.558Z"
   },
   {
    "duration": 28,
    "start_time": "2025-02-10T07:51:50.654Z"
   },
   {
    "duration": 14,
    "start_time": "2025-02-10T07:51:50.684Z"
   },
   {
    "duration": 27,
    "start_time": "2025-02-10T07:51:50.700Z"
   },
   {
    "duration": 16,
    "start_time": "2025-02-10T07:51:50.728Z"
   },
   {
    "duration": 15,
    "start_time": "2025-02-10T07:51:50.746Z"
   },
   {
    "duration": 5,
    "start_time": "2025-02-10T07:51:50.763Z"
   },
   {
    "duration": 6,
    "start_time": "2025-02-10T07:51:50.769Z"
   },
   {
    "duration": 5,
    "start_time": "2025-02-10T07:51:50.776Z"
   },
   {
    "duration": 4,
    "start_time": "2025-02-10T07:51:50.783Z"
   },
   {
    "duration": 753,
    "start_time": "2025-02-10T07:51:50.824Z"
   },
   {
    "duration": 833,
    "start_time": "2025-02-10T07:51:51.579Z"
   },
   {
    "duration": 11,
    "start_time": "2025-02-10T07:51:52.414Z"
   },
   {
    "duration": 5,
    "start_time": "2025-02-10T07:51:52.426Z"
   },
   {
    "duration": 225,
    "start_time": "2025-02-10T07:51:52.432Z"
   },
   {
    "duration": 119,
    "start_time": "2025-02-10T07:51:52.659Z"
   },
   {
    "duration": 218,
    "start_time": "2025-02-10T07:51:52.780Z"
   },
   {
    "duration": 4,
    "start_time": "2025-02-10T07:51:53.000Z"
   },
   {
    "duration": 239,
    "start_time": "2025-02-10T07:51:53.005Z"
   },
   {
    "duration": 244,
    "start_time": "2025-02-10T07:51:53.246Z"
   },
   {
    "duration": 418,
    "start_time": "2025-02-10T07:51:53.491Z"
   },
   {
    "duration": 496,
    "start_time": "2025-02-10T07:51:53.911Z"
   },
   {
    "duration": 148,
    "start_time": "2025-02-10T07:51:54.409Z"
   },
   {
    "duration": 15,
    "start_time": "2025-02-10T07:51:54.558Z"
   },
   {
    "duration": 6,
    "start_time": "2025-02-10T07:51:54.574Z"
   },
   {
    "duration": 10,
    "start_time": "2025-02-10T07:53:46.687Z"
   },
   {
    "duration": 17,
    "start_time": "2025-02-10T07:53:53.815Z"
   },
   {
    "duration": 18,
    "start_time": "2025-02-10T08:32:53.531Z"
   },
   {
    "duration": 20,
    "start_time": "2025-02-10T08:36:31.285Z"
   },
   {
    "duration": 18,
    "start_time": "2025-02-10T08:36:43.190Z"
   },
   {
    "duration": 22,
    "start_time": "2025-02-10T08:37:25.342Z"
   },
   {
    "duration": 19,
    "start_time": "2025-02-10T08:37:42.252Z"
   },
   {
    "duration": 19,
    "start_time": "2025-02-10T08:37:52.458Z"
   },
   {
    "duration": 20,
    "start_time": "2025-02-10T08:38:07.885Z"
   },
   {
    "duration": 20,
    "start_time": "2025-02-10T08:38:19.005Z"
   },
   {
    "duration": 19,
    "start_time": "2025-02-10T08:38:32.051Z"
   },
   {
    "duration": 228,
    "start_time": "2025-02-10T08:44:50.974Z"
   },
   {
    "duration": 32,
    "start_time": "2025-02-10T08:45:21.235Z"
   },
   {
    "duration": 5,
    "start_time": "2025-02-10T08:47:23.260Z"
   },
   {
    "duration": 7,
    "start_time": "2025-02-10T08:47:26.710Z"
   },
   {
    "duration": 440,
    "start_time": "2025-02-10T08:49:46.210Z"
   },
   {
    "duration": 2163,
    "start_time": "2025-02-10T08:49:46.652Z"
   },
   {
    "duration": 24,
    "start_time": "2025-02-10T08:49:48.817Z"
   },
   {
    "duration": 8,
    "start_time": "2025-02-10T08:49:48.843Z"
   },
   {
    "duration": 128,
    "start_time": "2025-02-10T08:49:48.853Z"
   },
   {
    "duration": 7,
    "start_time": "2025-02-10T08:49:48.983Z"
   },
   {
    "duration": 7,
    "start_time": "2025-02-10T08:49:48.992Z"
   },
   {
    "duration": 927,
    "start_time": "2025-02-10T08:49:49.001Z"
   },
   {
    "duration": 10,
    "start_time": "2025-02-10T08:49:49.930Z"
   },
   {
    "duration": 9,
    "start_time": "2025-02-10T08:49:49.943Z"
   },
   {
    "duration": 9,
    "start_time": "2025-02-10T08:49:49.953Z"
   },
   {
    "duration": 6,
    "start_time": "2025-02-10T08:49:49.963Z"
   },
   {
    "duration": 22,
    "start_time": "2025-02-10T08:49:49.971Z"
   },
   {
    "duration": 6,
    "start_time": "2025-02-10T08:49:50.024Z"
   },
   {
    "duration": 7,
    "start_time": "2025-02-10T08:49:50.033Z"
   },
   {
    "duration": 5,
    "start_time": "2025-02-10T08:49:50.043Z"
   },
   {
    "duration": 7,
    "start_time": "2025-02-10T08:49:50.049Z"
   },
   {
    "duration": 6,
    "start_time": "2025-02-10T08:49:50.058Z"
   },
   {
    "duration": 8,
    "start_time": "2025-02-10T08:49:50.065Z"
   },
   {
    "duration": 10,
    "start_time": "2025-02-10T08:49:50.074Z"
   },
   {
    "duration": 44,
    "start_time": "2025-02-10T08:49:50.086Z"
   },
   {
    "duration": 11,
    "start_time": "2025-02-10T08:49:50.132Z"
   },
   {
    "duration": 4,
    "start_time": "2025-02-10T08:49:50.146Z"
   },
   {
    "duration": 32,
    "start_time": "2025-02-10T08:49:50.151Z"
   },
   {
    "duration": 66,
    "start_time": "2025-02-10T08:49:50.185Z"
   },
   {
    "duration": 19,
    "start_time": "2025-02-10T08:49:50.253Z"
   },
   {
    "duration": 29,
    "start_time": "2025-02-10T08:49:50.274Z"
   },
   {
    "duration": 4,
    "start_time": "2025-02-10T08:49:50.324Z"
   },
   {
    "duration": 186,
    "start_time": "2025-02-10T08:49:50.330Z"
   },
   {
    "duration": 15,
    "start_time": "2025-02-10T08:49:50.518Z"
   },
   {
    "duration": 4,
    "start_time": "2025-02-10T08:49:50.535Z"
   },
   {
    "duration": 21,
    "start_time": "2025-02-10T08:49:50.540Z"
   },
   {
    "duration": 11,
    "start_time": "2025-02-10T08:49:50.562Z"
   },
   {
    "duration": 4,
    "start_time": "2025-02-10T08:49:50.574Z"
   },
   {
    "duration": 5,
    "start_time": "2025-02-10T08:49:50.580Z"
   },
   {
    "duration": 41,
    "start_time": "2025-02-10T08:49:50.586Z"
   },
   {
    "duration": 175,
    "start_time": "2025-02-10T08:49:50.629Z"
   },
   {
    "duration": 9,
    "start_time": "2025-02-10T08:49:50.805Z"
   },
   {
    "duration": 2139,
    "start_time": "2025-02-10T08:49:50.825Z"
   },
   {
    "duration": 10,
    "start_time": "2025-02-10T08:49:52.966Z"
   },
   {
    "duration": 54,
    "start_time": "2025-02-10T08:49:52.977Z"
   },
   {
    "duration": 11,
    "start_time": "2025-02-10T08:49:53.032Z"
   },
   {
    "duration": 5,
    "start_time": "2025-02-10T08:49:53.044Z"
   },
   {
    "duration": 9,
    "start_time": "2025-02-10T08:49:53.051Z"
   },
   {
    "duration": 6,
    "start_time": "2025-02-10T08:49:53.061Z"
   },
   {
    "duration": 3,
    "start_time": "2025-02-10T08:49:53.068Z"
   },
   {
    "duration": 1386,
    "start_time": "2025-02-10T08:49:53.072Z"
   },
   {
    "duration": 7,
    "start_time": "2025-02-10T08:49:54.460Z"
   },
   {
    "duration": 12,
    "start_time": "2025-02-10T08:49:54.468Z"
   },
   {
    "duration": 113,
    "start_time": "2025-02-10T08:49:54.482Z"
   },
   {
    "duration": 10,
    "start_time": "2025-02-10T08:49:54.598Z"
   },
   {
    "duration": 99,
    "start_time": "2025-02-10T08:49:54.610Z"
   },
   {
    "duration": 101,
    "start_time": "2025-02-10T08:49:54.711Z"
   },
   {
    "duration": 35,
    "start_time": "2025-02-10T08:49:54.814Z"
   },
   {
    "duration": 14,
    "start_time": "2025-02-10T08:49:54.851Z"
   },
   {
    "duration": 5,
    "start_time": "2025-02-10T08:49:54.867Z"
   },
   {
    "duration": 16,
    "start_time": "2025-02-10T08:49:54.873Z"
   },
   {
    "duration": 40,
    "start_time": "2025-02-10T08:49:54.891Z"
   },
   {
    "duration": 6,
    "start_time": "2025-02-10T08:49:54.932Z"
   },
   {
    "duration": 5,
    "start_time": "2025-02-10T08:49:54.939Z"
   },
   {
    "duration": 5,
    "start_time": "2025-02-10T08:49:54.946Z"
   },
   {
    "duration": 6,
    "start_time": "2025-02-10T08:49:54.952Z"
   },
   {
    "duration": 798,
    "start_time": "2025-02-10T08:49:54.960Z"
   },
   {
    "duration": 815,
    "start_time": "2025-02-10T08:49:55.760Z"
   },
   {
    "duration": 5,
    "start_time": "2025-02-10T08:49:56.577Z"
   },
   {
    "duration": 6,
    "start_time": "2025-02-10T08:49:56.584Z"
   },
   {
    "duration": 218,
    "start_time": "2025-02-10T08:49:56.591Z"
   },
   {
    "duration": 120,
    "start_time": "2025-02-10T08:49:56.811Z"
   },
   {
    "duration": 215,
    "start_time": "2025-02-10T08:49:56.933Z"
   },
   {
    "duration": 5,
    "start_time": "2025-02-10T08:49:57.149Z"
   },
   {
    "duration": 252,
    "start_time": "2025-02-10T08:49:57.155Z"
   },
   {
    "duration": 254,
    "start_time": "2025-02-10T08:49:57.409Z"
   },
   {
    "duration": 437,
    "start_time": "2025-02-10T08:49:57.665Z"
   },
   {
    "duration": 641,
    "start_time": "2025-02-10T08:49:58.104Z"
   },
   {
    "duration": 152,
    "start_time": "2025-02-10T08:49:58.747Z"
   },
   {
    "duration": 28,
    "start_time": "2025-02-10T08:49:58.901Z"
   },
   {
    "duration": 12,
    "start_time": "2025-02-10T08:49:58.930Z"
   },
   {
    "duration": 5,
    "start_time": "2025-02-10T08:51:55.997Z"
   },
   {
    "duration": 4,
    "start_time": "2025-02-10T08:51:59.774Z"
   },
   {
    "duration": 6,
    "start_time": "2025-02-10T09:02:23.503Z"
   },
   {
    "duration": 8,
    "start_time": "2025-02-10T09:03:07.450Z"
   },
   {
    "duration": 106,
    "start_time": "2025-02-10T09:04:53.460Z"
   },
   {
    "duration": 12,
    "start_time": "2025-02-10T09:04:57.709Z"
   },
   {
    "duration": 9,
    "start_time": "2025-02-10T09:05:20.756Z"
   },
   {
    "duration": 23,
    "start_time": "2025-02-10T09:06:05.427Z"
   },
   {
    "duration": 14,
    "start_time": "2025-02-10T09:07:18.736Z"
   },
   {
    "duration": 15,
    "start_time": "2025-02-10T09:07:31.873Z"
   },
   {
    "duration": 312,
    "start_time": "2025-02-10T09:08:06.323Z"
   },
   {
    "duration": 525,
    "start_time": "2025-02-10T09:34:51.091Z"
   },
   {
    "duration": 10,
    "start_time": "2025-02-10T09:34:54.703Z"
   },
   {
    "duration": 10,
    "start_time": "2025-02-10T09:35:02.468Z"
   },
   {
    "duration": 512,
    "start_time": "2025-02-10T09:36:50.964Z"
   },
   {
    "duration": 787,
    "start_time": "2025-02-10T09:40:39.981Z"
   },
   {
    "duration": 533,
    "start_time": "2025-02-10T09:40:54.605Z"
   },
   {
    "duration": 11,
    "start_time": "2025-02-10T09:41:03.837Z"
   },
   {
    "duration": 11,
    "start_time": "2025-02-10T09:41:10.735Z"
   },
   {
    "duration": 9,
    "start_time": "2025-02-10T09:41:15.725Z"
   },
   {
    "duration": 586,
    "start_time": "2025-02-10T09:41:42.732Z"
   },
   {
    "duration": 636,
    "start_time": "2025-02-10T09:42:21.955Z"
   },
   {
    "duration": 7,
    "start_time": "2025-02-10T09:42:24.734Z"
   },
   {
    "duration": 534,
    "start_time": "2025-02-10T09:43:03.199Z"
   },
   {
    "duration": 8,
    "start_time": "2025-02-10T09:43:07.384Z"
   },
   {
    "duration": 554,
    "start_time": "2025-02-10T09:44:14.760Z"
   },
   {
    "duration": 7,
    "start_time": "2025-02-10T09:44:17.106Z"
   },
   {
    "duration": 569,
    "start_time": "2025-02-10T09:45:03.716Z"
   },
   {
    "duration": 7,
    "start_time": "2025-02-10T09:45:07.204Z"
   },
   {
    "duration": 949,
    "start_time": "2025-02-10T09:45:46.941Z"
   },
   {
    "duration": 4,
    "start_time": "2025-02-10T09:46:29.743Z"
   },
   {
    "duration": 3,
    "start_time": "2025-02-10T09:46:40.116Z"
   },
   {
    "duration": 648,
    "start_time": "2025-02-10T09:46:50.622Z"
   },
   {
    "duration": 9,
    "start_time": "2025-02-10T09:46:55.508Z"
   },
   {
    "duration": 21,
    "start_time": "2025-02-10T09:47:28.519Z"
   },
   {
    "duration": 21,
    "start_time": "2025-02-10T09:47:36.106Z"
   },
   {
    "duration": 20,
    "start_time": "2025-02-10T09:47:40.412Z"
   },
   {
    "duration": 9,
    "start_time": "2025-02-10T09:48:38.537Z"
   },
   {
    "duration": 530,
    "start_time": "2025-02-10T09:50:32.865Z"
   },
   {
    "duration": 112,
    "start_time": "2025-02-10T09:53:09.985Z"
   },
   {
    "duration": 198,
    "start_time": "2025-02-10T09:54:31.204Z"
   },
   {
    "duration": 114,
    "start_time": "2025-02-10T09:54:45.196Z"
   },
   {
    "duration": 4,
    "start_time": "2025-02-10T09:58:32.756Z"
   },
   {
    "duration": 14,
    "start_time": "2025-02-10T09:58:36.920Z"
   },
   {
    "duration": 150,
    "start_time": "2025-02-10T09:58:49.671Z"
   },
   {
    "duration": 112,
    "start_time": "2025-02-10T09:59:04.809Z"
   },
   {
    "duration": 10,
    "start_time": "2025-02-10T10:02:11.696Z"
   },
   {
    "duration": 25,
    "start_time": "2025-02-10T10:06:27.319Z"
   },
   {
    "duration": 28,
    "start_time": "2025-02-10T10:07:10.001Z"
   },
   {
    "duration": 36,
    "start_time": "2025-02-10T10:08:32.633Z"
   },
   {
    "duration": 56,
    "start_time": "2025-02-10T10:34:13.761Z"
   },
   {
    "duration": 8,
    "start_time": "2025-02-10T10:35:13.348Z"
   },
   {
    "duration": 31,
    "start_time": "2025-02-10T10:36:12.521Z"
   },
   {
    "duration": 5,
    "start_time": "2025-02-10T10:36:22.029Z"
   },
   {
    "duration": 27,
    "start_time": "2025-02-10T10:39:05.932Z"
   },
   {
    "duration": 4,
    "start_time": "2025-02-10T10:39:15.298Z"
   },
   {
    "duration": 50,
    "start_time": "2025-02-10T10:40:04.455Z"
   },
   {
    "duration": 52,
    "start_time": "2025-02-10T10:40:56.004Z"
   },
   {
    "duration": 412,
    "start_time": "2025-02-10T10:43:49.405Z"
   },
   {
    "duration": 2126,
    "start_time": "2025-02-10T10:43:49.824Z"
   },
   {
    "duration": 20,
    "start_time": "2025-02-10T10:43:51.952Z"
   },
   {
    "duration": 10,
    "start_time": "2025-02-10T10:43:51.974Z"
   },
   {
    "duration": 133,
    "start_time": "2025-02-10T10:43:51.986Z"
   },
   {
    "duration": 7,
    "start_time": "2025-02-10T10:43:52.124Z"
   },
   {
    "duration": 7,
    "start_time": "2025-02-10T10:43:52.133Z"
   },
   {
    "duration": 944,
    "start_time": "2025-02-10T10:43:52.142Z"
   },
   {
    "duration": 11,
    "start_time": "2025-02-10T10:43:53.087Z"
   },
   {
    "duration": 9,
    "start_time": "2025-02-10T10:43:53.102Z"
   },
   {
    "duration": 17,
    "start_time": "2025-02-10T10:43:53.112Z"
   },
   {
    "duration": 5,
    "start_time": "2025-02-10T10:43:53.131Z"
   },
   {
    "duration": 22,
    "start_time": "2025-02-10T10:43:53.138Z"
   },
   {
    "duration": 5,
    "start_time": "2025-02-10T10:43:53.162Z"
   },
   {
    "duration": 7,
    "start_time": "2025-02-10T10:43:53.169Z"
   },
   {
    "duration": 6,
    "start_time": "2025-02-10T10:43:53.177Z"
   },
   {
    "duration": 45,
    "start_time": "2025-02-10T10:43:53.184Z"
   },
   {
    "duration": 6,
    "start_time": "2025-02-10T10:43:53.230Z"
   },
   {
    "duration": 8,
    "start_time": "2025-02-10T10:43:53.237Z"
   },
   {
    "duration": 11,
    "start_time": "2025-02-10T10:43:53.246Z"
   },
   {
    "duration": 7,
    "start_time": "2025-02-10T10:43:53.258Z"
   },
   {
    "duration": 12,
    "start_time": "2025-02-10T10:43:53.266Z"
   },
   {
    "duration": 5,
    "start_time": "2025-02-10T10:43:53.280Z"
   },
   {
    "duration": 32,
    "start_time": "2025-02-10T10:43:53.324Z"
   },
   {
    "duration": 36,
    "start_time": "2025-02-10T10:43:53.358Z"
   },
   {
    "duration": 40,
    "start_time": "2025-02-10T10:43:53.395Z"
   },
   {
    "duration": 29,
    "start_time": "2025-02-10T10:43:53.436Z"
   },
   {
    "duration": 4,
    "start_time": "2025-02-10T10:43:53.470Z"
   },
   {
    "duration": 195,
    "start_time": "2025-02-10T10:43:53.475Z"
   },
   {
    "duration": 12,
    "start_time": "2025-02-10T10:43:53.672Z"
   },
   {
    "duration": 4,
    "start_time": "2025-02-10T10:43:53.685Z"
   },
   {
    "duration": 39,
    "start_time": "2025-02-10T10:43:53.691Z"
   },
   {
    "duration": 10,
    "start_time": "2025-02-10T10:43:53.732Z"
   },
   {
    "duration": 3,
    "start_time": "2025-02-10T10:43:53.743Z"
   },
   {
    "duration": 6,
    "start_time": "2025-02-10T10:43:53.748Z"
   },
   {
    "duration": 6,
    "start_time": "2025-02-10T10:43:53.755Z"
   },
   {
    "duration": 202,
    "start_time": "2025-02-10T10:43:53.762Z"
   },
   {
    "duration": 9,
    "start_time": "2025-02-10T10:43:53.965Z"
   },
   {
    "duration": 2067,
    "start_time": "2025-02-10T10:43:53.976Z"
   },
   {
    "duration": 10,
    "start_time": "2025-02-10T10:43:56.045Z"
   },
   {
    "duration": 41,
    "start_time": "2025-02-10T10:43:56.056Z"
   },
   {
    "duration": 27,
    "start_time": "2025-02-10T10:43:56.099Z"
   },
   {
    "duration": 6,
    "start_time": "2025-02-10T10:43:56.127Z"
   },
   {
    "duration": 9,
    "start_time": "2025-02-10T10:43:56.135Z"
   },
   {
    "duration": 5,
    "start_time": "2025-02-10T10:43:56.145Z"
   },
   {
    "duration": 3,
    "start_time": "2025-02-10T10:43:56.152Z"
   },
   {
    "duration": 1391,
    "start_time": "2025-02-10T10:43:56.156Z"
   },
   {
    "duration": 7,
    "start_time": "2025-02-10T10:43:57.549Z"
   },
   {
    "duration": 12,
    "start_time": "2025-02-10T10:43:57.557Z"
   },
   {
    "duration": 111,
    "start_time": "2025-02-10T10:43:57.571Z"
   },
   {
    "duration": 10,
    "start_time": "2025-02-10T10:43:57.684Z"
   },
   {
    "duration": 107,
    "start_time": "2025-02-10T10:43:57.695Z"
   },
   {
    "duration": 104,
    "start_time": "2025-02-10T10:43:57.804Z"
   },
   {
    "duration": 42,
    "start_time": "2025-02-10T10:43:57.909Z"
   },
   {
    "duration": 15,
    "start_time": "2025-02-10T10:43:57.952Z"
   },
   {
    "duration": 5,
    "start_time": "2025-02-10T10:43:57.968Z"
   },
   {
    "duration": 16,
    "start_time": "2025-02-10T10:43:57.975Z"
   },
   {
    "duration": 42,
    "start_time": "2025-02-10T10:43:57.992Z"
   },
   {
    "duration": 6,
    "start_time": "2025-02-10T10:43:58.036Z"
   },
   {
    "duration": 7,
    "start_time": "2025-02-10T10:43:58.043Z"
   },
   {
    "duration": 5,
    "start_time": "2025-02-10T10:43:58.051Z"
   },
   {
    "duration": 5,
    "start_time": "2025-02-10T10:43:58.058Z"
   },
   {
    "duration": 867,
    "start_time": "2025-02-10T10:43:58.064Z"
   },
   {
    "duration": 794,
    "start_time": "2025-02-10T10:43:58.933Z"
   },
   {
    "duration": 5,
    "start_time": "2025-02-10T10:43:59.729Z"
   },
   {
    "duration": 6,
    "start_time": "2025-02-10T10:43:59.736Z"
   },
   {
    "duration": 219,
    "start_time": "2025-02-10T10:43:59.743Z"
   },
   {
    "duration": 118,
    "start_time": "2025-02-10T10:43:59.964Z"
   },
   {
    "duration": 206,
    "start_time": "2025-02-10T10:44:00.084Z"
   },
   {
    "duration": 5,
    "start_time": "2025-02-10T10:44:00.291Z"
   },
   {
    "duration": 247,
    "start_time": "2025-02-10T10:44:00.298Z"
   },
   {
    "duration": 255,
    "start_time": "2025-02-10T10:44:00.547Z"
   },
   {
    "duration": 431,
    "start_time": "2025-02-10T10:44:00.803Z"
   },
   {
    "duration": 547,
    "start_time": "2025-02-10T10:44:01.236Z"
   },
   {
    "duration": 157,
    "start_time": "2025-02-10T10:44:01.784Z"
   },
   {
    "duration": 20,
    "start_time": "2025-02-10T10:44:01.943Z"
   },
   {
    "duration": 9,
    "start_time": "2025-02-10T10:44:01.964Z"
   },
   {
    "duration": 703,
    "start_time": "2025-02-10T10:44:01.975Z"
   },
   {
    "duration": 124,
    "start_time": "2025-02-10T10:44:02.680Z"
   },
   {
    "duration": 59,
    "start_time": "2025-02-10T10:44:02.806Z"
   },
   {
    "duration": 440,
    "start_time": "2025-02-10T11:19:00.670Z"
   },
   {
    "duration": 2163,
    "start_time": "2025-02-10T11:19:01.112Z"
   },
   {
    "duration": 20,
    "start_time": "2025-02-10T11:19:03.277Z"
   },
   {
    "duration": 9,
    "start_time": "2025-02-10T11:19:03.299Z"
   },
   {
    "duration": 134,
    "start_time": "2025-02-10T11:19:03.310Z"
   },
   {
    "duration": 7,
    "start_time": "2025-02-10T11:19:03.446Z"
   },
   {
    "duration": 7,
    "start_time": "2025-02-10T11:19:05.793Z"
   },
   {
    "duration": 927,
    "start_time": "2025-02-10T11:19:10.452Z"
   },
   {
    "duration": 11,
    "start_time": "2025-02-10T11:19:11.381Z"
   },
   {
    "duration": 9,
    "start_time": "2025-02-10T11:19:11.393Z"
   },
   {
    "duration": 9,
    "start_time": "2025-02-10T11:19:11.404Z"
   },
   {
    "duration": 6,
    "start_time": "2025-02-10T11:19:11.505Z"
   },
   {
    "duration": 23,
    "start_time": "2025-02-10T11:19:13.138Z"
   },
   {
    "duration": 6,
    "start_time": "2025-02-10T11:19:15.598Z"
   },
   {
    "duration": 9,
    "start_time": "2025-02-10T11:19:17.997Z"
   },
   {
    "duration": 7,
    "start_time": "2025-02-10T11:19:18.222Z"
   },
   {
    "duration": 9,
    "start_time": "2025-02-10T11:19:19.905Z"
   },
   {
    "duration": 6,
    "start_time": "2025-02-10T11:19:20.119Z"
   },
   {
    "duration": 8,
    "start_time": "2025-02-10T11:19:35.759Z"
   },
   {
    "duration": 12,
    "start_time": "2025-02-10T11:19:36.419Z"
   },
   {
    "duration": 8,
    "start_time": "2025-02-10T11:19:39.686Z"
   },
   {
    "duration": 11,
    "start_time": "2025-02-10T11:19:44.198Z"
   },
   {
    "duration": 4,
    "start_time": "2025-02-10T11:19:45.046Z"
   },
   {
    "duration": 32,
    "start_time": "2025-02-10T11:19:50.089Z"
   },
   {
    "duration": 36,
    "start_time": "2025-02-10T11:19:50.289Z"
   },
   {
    "duration": 17,
    "start_time": "2025-02-10T11:19:50.516Z"
   },
   {
    "duration": 28,
    "start_time": "2025-02-10T11:19:50.784Z"
   },
   {
    "duration": 4,
    "start_time": "2025-02-10T11:19:51.378Z"
   },
   {
    "duration": 189,
    "start_time": "2025-02-10T11:19:55.226Z"
   },
   {
    "duration": 11,
    "start_time": "2025-02-10T11:19:56.792Z"
   },
   {
    "duration": 4,
    "start_time": "2025-02-10T11:19:58.500Z"
   },
   {
    "duration": 95,
    "start_time": "2025-02-10T11:20:01.376Z"
   },
   {
    "duration": 11,
    "start_time": "2025-02-10T11:20:02.247Z"
   },
   {
    "duration": 5,
    "start_time": "2025-02-10T11:20:02.965Z"
   },
   {
    "duration": 6,
    "start_time": "2025-02-10T11:20:03.952Z"
   },
   {
    "duration": 8,
    "start_time": "2025-02-10T11:20:06.394Z"
   },
   {
    "duration": 167,
    "start_time": "2025-02-10T11:20:07.357Z"
   },
   {
    "duration": 11,
    "start_time": "2025-02-10T11:20:10.412Z"
   },
   {
    "duration": 2143,
    "start_time": "2025-02-10T11:20:29.909Z"
   },
   {
    "duration": 9,
    "start_time": "2025-02-10T11:20:32.055Z"
   },
   {
    "duration": 44,
    "start_time": "2025-02-10T11:20:33.835Z"
   },
   {
    "duration": 12,
    "start_time": "2025-02-10T11:20:35.636Z"
   },
   {
    "duration": 6,
    "start_time": "2025-02-10T11:20:37.947Z"
   },
   {
    "duration": 9,
    "start_time": "2025-02-10T11:20:38.170Z"
   },
   {
    "duration": 7,
    "start_time": "2025-02-10T11:20:40.334Z"
   },
   {
    "duration": 3,
    "start_time": "2025-02-10T11:20:53.900Z"
   },
   {
    "duration": 1396,
    "start_time": "2025-02-10T11:20:54.152Z"
   },
   {
    "duration": 7,
    "start_time": "2025-02-10T11:20:55.550Z"
   },
   {
    "duration": 13,
    "start_time": "2025-02-10T11:20:59.636Z"
   },
   {
    "duration": 97,
    "start_time": "2025-02-10T11:23:32.863Z"
   },
   {
    "duration": 11,
    "start_time": "2025-02-10T11:23:37.775Z"
   },
   {
    "duration": 95,
    "start_time": "2025-02-10T11:23:40.775Z"
   },
   {
    "duration": 92,
    "start_time": "2025-02-10T11:23:41.038Z"
   },
   {
    "duration": 30,
    "start_time": "2025-02-10T11:23:41.562Z"
   },
   {
    "duration": 4,
    "start_time": "2025-02-10T11:24:55.085Z"
   },
   {
    "duration": 9,
    "start_time": "2025-02-10T11:25:27.528Z"
   },
   {
    "duration": 16,
    "start_time": "2025-02-10T11:25:40.314Z"
   },
   {
    "duration": 6,
    "start_time": "2025-02-10T11:25:40.788Z"
   },
   {
    "duration": 18,
    "start_time": "2025-02-10T11:25:41.466Z"
   },
   {
    "duration": 17,
    "start_time": "2025-02-10T11:25:44.075Z"
   },
   {
    "duration": 5,
    "start_time": "2025-02-10T11:26:05.545Z"
   },
   {
    "duration": 5,
    "start_time": "2025-02-10T11:26:05.817Z"
   },
   {
    "duration": 6,
    "start_time": "2025-02-10T11:26:06.514Z"
   },
   {
    "duration": 6,
    "start_time": "2025-02-10T11:26:06.717Z"
   },
   {
    "duration": 723,
    "start_time": "2025-02-10T11:26:09.096Z"
   },
   {
    "duration": 789,
    "start_time": "2025-02-10T11:26:09.822Z"
   },
   {
    "duration": 6,
    "start_time": "2025-02-10T11:26:20.911Z"
   },
   {
    "duration": 6,
    "start_time": "2025-02-10T11:26:25.708Z"
   },
   {
    "duration": 209,
    "start_time": "2025-02-10T11:26:45.052Z"
   },
   {
    "duration": 111,
    "start_time": "2025-02-10T11:26:54.471Z"
   },
   {
    "duration": 203,
    "start_time": "2025-02-10T11:27:03.362Z"
   },
   {
    "duration": 4,
    "start_time": "2025-02-10T11:27:06.092Z"
   },
   {
    "duration": 246,
    "start_time": "2025-02-10T11:28:07.143Z"
   },
   {
    "duration": 230,
    "start_time": "2025-02-10T11:28:16.075Z"
   },
   {
    "duration": 407,
    "start_time": "2025-02-10T11:28:24.230Z"
   },
   {
    "duration": 485,
    "start_time": "2025-02-10T11:28:34.984Z"
   },
   {
    "duration": 99,
    "start_time": "2025-02-10T11:28:45.501Z"
   },
   {
    "duration": 21,
    "start_time": "2025-02-10T11:28:58.390Z"
   },
   {
    "duration": 14,
    "start_time": "2025-02-10T11:29:00.745Z"
   },
   {
    "duration": 623,
    "start_time": "2025-02-10T11:29:16.078Z"
   },
   {
    "duration": 113,
    "start_time": "2025-02-10T11:29:17.275Z"
   },
   {
    "duration": 50,
    "start_time": "2025-02-10T11:29:20.388Z"
   }
  ],
  "colab": {
   "provenance": []
  },
  "kernelspec": {
   "display_name": "Python 3 (ipykernel)",
   "language": "python",
   "name": "python3"
  },
  "language_info": {
   "codemirror_mode": {
    "name": "ipython",
    "version": 3
   },
   "file_extension": ".py",
   "mimetype": "text/x-python",
   "name": "python",
   "nbconvert_exporter": "python",
   "pygments_lexer": "ipython3",
   "version": "3.9.19"
  },
  "toc": {
   "base_numbering": 1,
   "nav_menu": {},
   "number_sections": true,
   "sideBar": true,
   "skip_h1_title": true,
   "title_cell": "Table of Contents",
   "title_sidebar": "Contents",
   "toc_cell": false,
   "toc_position": {},
   "toc_section_display": true,
   "toc_window_display": false
  },
  "vscode": {
   "interpreter": {
    "hash": "01a7be9ec63e704a62cefc5fe7a4756944464ee731be31632bdf42a4cb4688cf"
   }
  }
 },
 "nbformat": 4,
 "nbformat_minor": 5
}
